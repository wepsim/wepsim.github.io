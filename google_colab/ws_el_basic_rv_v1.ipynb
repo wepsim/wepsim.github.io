{
  "nbformat": 4,
  "nbformat_minor": 0,
  "metadata": {
    "colab": {
      "provenance": [],
      "collapsed_sections": [
        "dlfv9PEWBam7"
      ],
      "cell_execution_strategy": "setup"
    },
    "kernelspec": {
      "name": "python3",
      "display_name": "Python 3"
    },
    "language_info": {
      "name": "python"
    }
  },
  "cells": [
    {
      "cell_type": "code",
      "source": [
        "# @title Please initialize book to start { vertical-output: true, display-mode: \"form\" }\n",
        "#\n",
        "# Copyright 2015-2024 Felix Garcia Carballeira, Alejandro Calderon Mateos, Javier Prieto Cepeda, Saul Alonso Monsalve, Juan Banga Pardo\n",
        "#\n",
        "# This file is part of WepSIM.\n",
        "#\n",
        "# WepSIM is free software: you can redistribute it and/or modify\n",
        "# it under the terms of the GNU Lesser General Public License as published by\n",
        "# the Free Software Foundation, either version 3 of the License, or\n",
        "# (at your option) any later version.\n",
        "#\n",
        "# WepSIM is distributed in the hope that it will be useful,\n",
        "# but WITHOUT ANY WARRANTY; without even the implied warranty of\n",
        "# MERCHANTABILITY or FITNESS FOR A PARTICULAR PURPOSE.  See the\n",
        "# GNU Lesser General Public License for more details.\n",
        "#\n",
        "# You should have received a copy of the GNU Lesser General Public License\n",
        "# along with WepSIM.  If not, see <http://www.gnu.org/licenses/>.\n",
        "#\n",
        "!echo \"(1/3) Installing pre-requisites...\"\n",
        "!npm install  terser jq jshint yargs clear inquirer >& /dev/null\n",
        "!echo \"(2/3) Downloading WepSIM...\"\n",
        "![ ! -f wepsim-2.3.1.zip ] && wget https://github.com/acaldero/wepsim/releases/download/v2.3.1/wepsim-2.3.1.zip >& /dev/null\n",
        "!rm -fr   wepsim\n",
        "!unzip -o wepsim-2.3.1.zip  >& /dev/null\n",
        "!mv wepsim-2.3.1 wepsim\n",
        "!echo \"(2/3) Done!\"\n",
        "\n",
        "from pathlib import Path\n",
        "import pandas as pd\n",
        "import io\n",
        "from google.colab import data_table\n",
        "\n",
        "def show_results(filename):\n",
        "  df1    = ''\n",
        "  status = 0\n",
        "  try:\n",
        "    df1 = pd.read_csv(filename)\n",
        "    df1.columns = df1.columns.str.strip()\n",
        "    for item in df1.columns[:]:\n",
        "        df1[item].replace(\"\\t\",\"\", inplace=True, regex=True)\n",
        "        df1[item].replace(\"&nbsp;\",\"\", inplace=True, regex=True)\n",
        "    rdf = data_table.DataTable(df1, include_index=False, num_rows_per_page=20)\n",
        "    display(rdf)\n",
        "    status = 1\n",
        "  except:\n",
        "    df1 = Path(filename).read_text()\n",
        "    print(df1)\n",
        "    status = 0\n",
        "  return status, df1\n",
        "\n",
        "\n",
        "# Following code thanks to Rosa Filgueira Vicente (https://colab.research.google.com/github/rosafilgueira/Workflows_Seminar)\n",
        "from google.colab import _message\n",
        "\n",
        "def write_cell_above_to_file(search_term, filename):\n",
        "  cell = get_cell_above(search_term)\n",
        "  code_block = get_cell_code_block(cell)\n",
        "  with open(filename, 'w') as fp:\n",
        "    fp.writelines(code_block)\n",
        "\n",
        "def get_cell_above(search_term):\n",
        "  nb = _message.blocking_request('get_ipynb')\n",
        "  for i, cell in enumerate(nb['ipynb']['cells']):\n",
        "    if search_term in ''.join(cell['source']):\n",
        "      return nb['ipynb']['cells'][i - 1]\n",
        "\n",
        "def get_cell_code_block(cell):\n",
        "  cell_lines = cell['source']\n",
        "  code_block = []\n",
        "  in_block = False\n",
        "  for ln in cell_lines:\n",
        "    if '```' in ln:\n",
        "      in_block = not in_block\n",
        "    else:\n",
        "      if in_block:\n",
        "        code_block.append(ln)\n",
        "  return code_block\n"
      ],
      "metadata": {
        "colab": {
          "base_uri": "https://localhost:8080/"
        },
        "id": "ckdvP8SsEuYa",
        "outputId": "1cede7ce-f018-4d3d-c49b-d9c622950eac"
      },
      "execution_count": 17,
      "outputs": [
        {
          "output_type": "stream",
          "name": "stdout",
          "text": [
            "(1/3) Installing pre-requisites...\n",
            "(2/3) Downloading WepSIM...\n",
            "(2/3) Done!\n"
          ]
        }
      ]
    },
    {
      "cell_type": "markdown",
      "source": [
        "# WepSIM (https://wepsim.github.io/wepsim/)\n"
      ],
      "metadata": {
        "id": "dlfv9PEWBam7"
      }
    },
    {
      "cell_type": "markdown",
      "source": [
        "# <u>Arithmetic instructions</u>"
      ],
      "metadata": {
        "id": "biPhAQ66BiLR"
      }
    },
    {
      "cell_type": "markdown",
      "source": [
        "## a+b: add, addi\n",
        "\n",
        "* Example:\n",
        "  ```\n",
        "  .text\n",
        "  main:\n",
        "      li      a0, 3\n",
        "      li      a1, 2\n",
        "      add     a2, a0, a1   # a2 = 3 + 2\n",
        "      addi    a2, a0, 10   # a2 = 3 + 10\n",
        "  ```\n"
      ],
      "metadata": {
        "id": "addaddi1"
      }
    },
    {
      "cell_type": "code",
      "source": [
        "#@markdown <font size='4'>Run the cell above</font>\n",
        "search_term = 'id:addaddi1'\n",
        "write_cell_above_to_file(search_term, '/tmp/addaddi.asm')\n",
        "\n",
        "!./wepsim/wepsim.sh -a stepbystep -m ep -f ./wepsim/repo/microcode/rv32/ep_base.mc -s /tmp/addaddi.asm > /tmp/result.csv\n",
        "\n",
        "status, df1 = show_results('/tmp/result.csv')\n"
      ],
      "metadata": {
        "id": "aGzG8UmyFoyJ",
        "colab": {
          "base_uri": "https://localhost:8080/",
          "height": 253
        },
        "outputId": "43a34d37-7da4-4152-9f40-2940d643e228",
        "cellView": "form"
      },
      "execution_count": 18,
      "outputs": [
        {
          "output_type": "display_data",
          "data": {
            "text/html": [
              "<div>\n",
              "<style scoped>\n",
              "    .dataframe tbody tr th:only-of-type {\n",
              "        vertical-align: middle;\n",
              "    }\n",
              "\n",
              "    .dataframe tbody tr th {\n",
              "        vertical-align: top;\n",
              "    }\n",
              "\n",
              "    .dataframe thead th {\n",
              "        text-align: right;\n",
              "    }\n",
              "</style>\n",
              "<table border=\"1\" class=\"dataframe\">\n",
              "  <thead>\n",
              "    <tr style=\"text-align: right;\">\n",
              "      <th></th>\n",
              "      <th>pc</th>\n",
              "      <th>instruction</th>\n",
              "      <th>changes_from_zero_or_current_value</th>\n",
              "    </tr>\n",
              "  </thead>\n",
              "  <tbody>\n",
              "    <tr>\n",
              "      <th>0</th>\n",
              "      <td>pc = 0x8000</td>\n",
              "      <td>li a0 3</td>\n",
              "      <td>register PC = 0x8004</td>\n",
              "    </tr>\n",
              "    <tr>\n",
              "      <th>1</th>\n",
              "      <td>pc = 0x8004</td>\n",
              "      <td></td>\n",
              "      <td>register R10 = 0x3; register PC = 0x8008</td>\n",
              "    </tr>\n",
              "    <tr>\n",
              "      <th>2</th>\n",
              "      <td>pc = 0x8008</td>\n",
              "      <td>li a1 2</td>\n",
              "      <td>register PC = 0x800c</td>\n",
              "    </tr>\n",
              "    <tr>\n",
              "      <th>3</th>\n",
              "      <td>pc = 0x800c</td>\n",
              "      <td></td>\n",
              "      <td>register R11 = 0x2; register PC = 0x8010</td>\n",
              "    </tr>\n",
              "    <tr>\n",
              "      <th>4</th>\n",
              "      <td>pc = 0x8010</td>\n",
              "      <td>add a2 a0 a1</td>\n",
              "      <td>register R12 = 0x5; register PC = 0x8014</td>\n",
              "    </tr>\n",
              "    <tr>\n",
              "      <th>5</th>\n",
              "      <td>pc = 0x8014</td>\n",
              "      <td>addi a2 a0 10</td>\n",
              "      <td>register R12 = 0xd; register PC = 0x8018</td>\n",
              "    </tr>\n",
              "  </tbody>\n",
              "</table>\n",
              "</div>"
            ],
            "application/vnd.google.colaboratory.module+javascript": "\n      import \"https://ssl.gstatic.com/colaboratory/data_table/881c4a0d49046431/data_table.js\";\n\n      const table = window.createDataTable({\n        data: [[\"pc = 0x8000\",\n\"li a0 3\",\n\"register PC = 0x8004\"],\n [\"pc = 0x8004\",\n\"\",\n\"register R10 = 0x3; register PC = 0x8008\"],\n [\"pc = 0x8008\",\n\"li a1 2\",\n\"register PC = 0x800c\"],\n [\"pc = 0x800c\",\n\"\",\n\"register R11 = 0x2; register PC = 0x8010\"],\n [\"pc = 0x8010\",\n\"add a2 a0 a1\",\n\"register R12 = 0x5; register PC = 0x8014\"],\n [\"pc = 0x8014\",\n\"addi a2 a0 10\",\n\"register R12 = 0xd; register PC = 0x8018\"]],\n        columns: [[\"string\", \"pc\"], [\"string\", \"instruction\"], [\"string\", \"changes_from_zero_or_current_value\"]],\n        columnOptions: [],\n        rowsPerPage: 20,\n        helpUrl: \"https://colab.research.google.com/notebooks/data_table.ipynb\",\n        suppressOutputScrolling: true,\n        minimumWidth: undefined,\n      });\n\n      function appendQuickchartButton(parentElement) {\n        let quickchartButtonContainerElement = document.createElement('div');\n        quickchartButtonContainerElement.innerHTML = `\n<div id=\"df-2aceabcd-42b2-4b26-8505-c7dc257c6f6f\">\n  <button class=\"colab-df-quickchart\" onclick=\"quickchart('df-2aceabcd-42b2-4b26-8505-c7dc257c6f6f')\"\n            title=\"Suggest charts\"\n            style=\"display:none;\">\n    \n<svg xmlns=\"http://www.w3.org/2000/svg\" height=\"24px\"viewBox=\"0 0 24 24\"\n     width=\"24px\">\n    <g>\n        <path d=\"M19 3H5c-1.1 0-2 .9-2 2v14c0 1.1.9 2 2 2h14c1.1 0 2-.9 2-2V5c0-1.1-.9-2-2-2zM9 17H7v-7h2v7zm4 0h-2V7h2v10zm4 0h-2v-4h2v4z\"/>\n    </g>\n</svg>\n  </button>\n  \n<style>\n  .colab-df-quickchart {\n      --bg-color: #E8F0FE;\n      --fill-color: #1967D2;\n      --hover-bg-color: #E2EBFA;\n      --hover-fill-color: #174EA6;\n      --disabled-fill-color: #AAA;\n      --disabled-bg-color: #DDD;\n  }\n\n  [theme=dark] .colab-df-quickchart {\n      --bg-color: #3B4455;\n      --fill-color: #D2E3FC;\n      --hover-bg-color: #434B5C;\n      --hover-fill-color: #FFFFFF;\n      --disabled-bg-color: #3B4455;\n      --disabled-fill-color: #666;\n  }\n\n  .colab-df-quickchart {\n    background-color: var(--bg-color);\n    border: none;\n    border-radius: 50%;\n    cursor: pointer;\n    display: none;\n    fill: var(--fill-color);\n    height: 32px;\n    padding: 0;\n    width: 32px;\n  }\n\n  .colab-df-quickchart:hover {\n    background-color: var(--hover-bg-color);\n    box-shadow: 0 1px 2px rgba(60, 64, 67, 0.3), 0 1px 3px 1px rgba(60, 64, 67, 0.15);\n    fill: var(--button-hover-fill-color);\n  }\n\n  .colab-df-quickchart-complete:disabled,\n  .colab-df-quickchart-complete:disabled:hover {\n    background-color: var(--disabled-bg-color);\n    fill: var(--disabled-fill-color);\n    box-shadow: none;\n  }\n\n  .colab-df-spinner {\n    border: 2px solid var(--fill-color);\n    border-color: transparent;\n    border-bottom-color: var(--fill-color);\n    animation:\n      spin 1s steps(1) infinite;\n  }\n\n  @keyframes spin {\n    0% {\n      border-color: transparent;\n      border-bottom-color: var(--fill-color);\n      border-left-color: var(--fill-color);\n    }\n    20% {\n      border-color: transparent;\n      border-left-color: var(--fill-color);\n      border-top-color: var(--fill-color);\n    }\n    30% {\n      border-color: transparent;\n      border-left-color: var(--fill-color);\n      border-top-color: var(--fill-color);\n      border-right-color: var(--fill-color);\n    }\n    40% {\n      border-color: transparent;\n      border-right-color: var(--fill-color);\n      border-top-color: var(--fill-color);\n    }\n    60% {\n      border-color: transparent;\n      border-right-color: var(--fill-color);\n    }\n    80% {\n      border-color: transparent;\n      border-right-color: var(--fill-color);\n      border-bottom-color: var(--fill-color);\n    }\n    90% {\n      border-color: transparent;\n      border-bottom-color: var(--fill-color);\n    }\n  }\n</style>\n\n  <script>\n    async function quickchart(key) {\n      const quickchartButtonEl =\n        document.querySelector('#' + key + ' button');\n      quickchartButtonEl.disabled = true;  // To prevent multiple clicks.\n      quickchartButtonEl.classList.add('colab-df-spinner');\n      try {\n        const charts = await google.colab.kernel.invokeFunction(\n            'suggestCharts', [key], {});\n      } catch (error) {\n        console.error('Error during call to suggestCharts:', error);\n      }\n      quickchartButtonEl.classList.remove('colab-df-spinner');\n      quickchartButtonEl.classList.add('colab-df-quickchart-complete');\n    }\n    (() => {\n      let quickchartButtonEl =\n        document.querySelector('#df-2aceabcd-42b2-4b26-8505-c7dc257c6f6f button');\n      quickchartButtonEl.style.display =\n        google.colab.kernel.accessAllowed ? 'block' : 'none';\n    })();\n  </script>\n</div>`;\n        parentElement.appendChild(quickchartButtonContainerElement);\n      }\n\n      appendQuickchartButton(table);\n    ",
            "text/plain": [
              "<google.colab.data_table.DataTable object>"
            ]
          },
          "metadata": {}
        }
      ]
    },
    {
      "cell_type": "markdown",
      "source": [
        "## Subtract: sub\n",
        "\n",
        "* Example:\n",
        "  ```\n",
        "  .text\n",
        "  main:\n",
        "    li      a0, 0\n",
        "    li      a1, 2\n",
        "    sub     a2, a0, a1   # a2 = 0 - 2\n",
        "  ```\n"
      ],
      "metadata": {
        "id": "sub1"
      }
    },
    {
      "cell_type": "code",
      "source": [
        "#@markdown <font size='4'>Run the cell above</font>\n",
        "search_term = 'id:sub1'\n",
        "write_cell_above_to_file(search_term, '/tmp/example.asm')\n",
        "\n",
        "!./wepsim/wepsim.sh -a stepbystep -m ep -f ./wepsim/repo/microcode/rv32/ep_base.mc -s /tmp/example.asm > /tmp/result.csv\n",
        "\n",
        "status, df1 = show_results('/tmp/result.csv')\n"
      ],
      "metadata": {
        "id": "aGzG8UmyFoy2",
        "colab": {
          "base_uri": "https://localhost:8080/",
          "height": 232
        },
        "outputId": "3fe29c94-3f7b-4fa9-c5b3-25b353dfb677",
        "cellView": "form"
      },
      "execution_count": 19,
      "outputs": [
        {
          "output_type": "display_data",
          "data": {
            "text/html": [
              "<div>\n",
              "<style scoped>\n",
              "    .dataframe tbody tr th:only-of-type {\n",
              "        vertical-align: middle;\n",
              "    }\n",
              "\n",
              "    .dataframe tbody tr th {\n",
              "        vertical-align: top;\n",
              "    }\n",
              "\n",
              "    .dataframe thead th {\n",
              "        text-align: right;\n",
              "    }\n",
              "</style>\n",
              "<table border=\"1\" class=\"dataframe\">\n",
              "  <thead>\n",
              "    <tr style=\"text-align: right;\">\n",
              "      <th></th>\n",
              "      <th>pc</th>\n",
              "      <th>instruction</th>\n",
              "      <th>changes_from_zero_or_current_value</th>\n",
              "    </tr>\n",
              "  </thead>\n",
              "  <tbody>\n",
              "    <tr>\n",
              "      <th>0</th>\n",
              "      <td>pc = 0x8000</td>\n",
              "      <td>li a0 0</td>\n",
              "      <td>register PC = 0x8004</td>\n",
              "    </tr>\n",
              "    <tr>\n",
              "      <th>1</th>\n",
              "      <td>pc = 0x8004</td>\n",
              "      <td></td>\n",
              "      <td>register PC = 0x8008; register SR = 0x10000000</td>\n",
              "    </tr>\n",
              "    <tr>\n",
              "      <th>2</th>\n",
              "      <td>pc = 0x8008</td>\n",
              "      <td>li a1 2</td>\n",
              "      <td>register PC = 0x800c</td>\n",
              "    </tr>\n",
              "    <tr>\n",
              "      <th>3</th>\n",
              "      <td>pc = 0x800c</td>\n",
              "      <td></td>\n",
              "      <td>register R11 = 0x2; register PC = 0x8010</td>\n",
              "    </tr>\n",
              "    <tr>\n",
              "      <th>4</th>\n",
              "      <td>pc = 0x8010</td>\n",
              "      <td>sub a2 a0 a1</td>\n",
              "      <td>register R12 = 0xfffffffe; register PC = 0x8014</td>\n",
              "    </tr>\n",
              "  </tbody>\n",
              "</table>\n",
              "</div>"
            ],
            "application/vnd.google.colaboratory.module+javascript": "\n      import \"https://ssl.gstatic.com/colaboratory/data_table/881c4a0d49046431/data_table.js\";\n\n      const table = window.createDataTable({\n        data: [[\"pc = 0x8000\",\n\"li a0 0\",\n\"register PC = 0x8004\"],\n [\"pc = 0x8004\",\n\"\",\n\"register PC = 0x8008; register SR = 0x10000000\"],\n [\"pc = 0x8008\",\n\"li a1 2\",\n\"register PC = 0x800c\"],\n [\"pc = 0x800c\",\n\"\",\n\"register R11 = 0x2; register PC = 0x8010\"],\n [\"pc = 0x8010\",\n\"sub a2 a0 a1\",\n\"register R12 = 0xfffffffe; register PC = 0x8014\"]],\n        columns: [[\"string\", \"pc\"], [\"string\", \"instruction\"], [\"string\", \"changes_from_zero_or_current_value\"]],\n        columnOptions: [],\n        rowsPerPage: 20,\n        helpUrl: \"https://colab.research.google.com/notebooks/data_table.ipynb\",\n        suppressOutputScrolling: true,\n        minimumWidth: undefined,\n      });\n\n      function appendQuickchartButton(parentElement) {\n        let quickchartButtonContainerElement = document.createElement('div');\n        quickchartButtonContainerElement.innerHTML = `\n<div id=\"df-7e064ea2-a054-426c-8ec4-b2bcecccf384\">\n  <button class=\"colab-df-quickchart\" onclick=\"quickchart('df-7e064ea2-a054-426c-8ec4-b2bcecccf384')\"\n            title=\"Suggest charts\"\n            style=\"display:none;\">\n    \n<svg xmlns=\"http://www.w3.org/2000/svg\" height=\"24px\"viewBox=\"0 0 24 24\"\n     width=\"24px\">\n    <g>\n        <path d=\"M19 3H5c-1.1 0-2 .9-2 2v14c0 1.1.9 2 2 2h14c1.1 0 2-.9 2-2V5c0-1.1-.9-2-2-2zM9 17H7v-7h2v7zm4 0h-2V7h2v10zm4 0h-2v-4h2v4z\"/>\n    </g>\n</svg>\n  </button>\n  \n<style>\n  .colab-df-quickchart {\n      --bg-color: #E8F0FE;\n      --fill-color: #1967D2;\n      --hover-bg-color: #E2EBFA;\n      --hover-fill-color: #174EA6;\n      --disabled-fill-color: #AAA;\n      --disabled-bg-color: #DDD;\n  }\n\n  [theme=dark] .colab-df-quickchart {\n      --bg-color: #3B4455;\n      --fill-color: #D2E3FC;\n      --hover-bg-color: #434B5C;\n      --hover-fill-color: #FFFFFF;\n      --disabled-bg-color: #3B4455;\n      --disabled-fill-color: #666;\n  }\n\n  .colab-df-quickchart {\n    background-color: var(--bg-color);\n    border: none;\n    border-radius: 50%;\n    cursor: pointer;\n    display: none;\n    fill: var(--fill-color);\n    height: 32px;\n    padding: 0;\n    width: 32px;\n  }\n\n  .colab-df-quickchart:hover {\n    background-color: var(--hover-bg-color);\n    box-shadow: 0 1px 2px rgba(60, 64, 67, 0.3), 0 1px 3px 1px rgba(60, 64, 67, 0.15);\n    fill: var(--button-hover-fill-color);\n  }\n\n  .colab-df-quickchart-complete:disabled,\n  .colab-df-quickchart-complete:disabled:hover {\n    background-color: var(--disabled-bg-color);\n    fill: var(--disabled-fill-color);\n    box-shadow: none;\n  }\n\n  .colab-df-spinner {\n    border: 2px solid var(--fill-color);\n    border-color: transparent;\n    border-bottom-color: var(--fill-color);\n    animation:\n      spin 1s steps(1) infinite;\n  }\n\n  @keyframes spin {\n    0% {\n      border-color: transparent;\n      border-bottom-color: var(--fill-color);\n      border-left-color: var(--fill-color);\n    }\n    20% {\n      border-color: transparent;\n      border-left-color: var(--fill-color);\n      border-top-color: var(--fill-color);\n    }\n    30% {\n      border-color: transparent;\n      border-left-color: var(--fill-color);\n      border-top-color: var(--fill-color);\n      border-right-color: var(--fill-color);\n    }\n    40% {\n      border-color: transparent;\n      border-right-color: var(--fill-color);\n      border-top-color: var(--fill-color);\n    }\n    60% {\n      border-color: transparent;\n      border-right-color: var(--fill-color);\n    }\n    80% {\n      border-color: transparent;\n      border-right-color: var(--fill-color);\n      border-bottom-color: var(--fill-color);\n    }\n    90% {\n      border-color: transparent;\n      border-bottom-color: var(--fill-color);\n    }\n  }\n</style>\n\n  <script>\n    async function quickchart(key) {\n      const quickchartButtonEl =\n        document.querySelector('#' + key + ' button');\n      quickchartButtonEl.disabled = true;  // To prevent multiple clicks.\n      quickchartButtonEl.classList.add('colab-df-spinner');\n      try {\n        const charts = await google.colab.kernel.invokeFunction(\n            'suggestCharts', [key], {});\n      } catch (error) {\n        console.error('Error during call to suggestCharts:', error);\n      }\n      quickchartButtonEl.classList.remove('colab-df-spinner');\n      quickchartButtonEl.classList.add('colab-df-quickchart-complete');\n    }\n    (() => {\n      let quickchartButtonEl =\n        document.querySelector('#df-7e064ea2-a054-426c-8ec4-b2bcecccf384 button');\n      quickchartButtonEl.style.display =\n        google.colab.kernel.accessAllowed ? 'block' : 'none';\n    })();\n  </script>\n</div>`;\n        parentElement.appendChild(quickchartButtonContainerElement);\n      }\n\n      appendQuickchartButton(table);\n    ",
            "text/plain": [
              "<google.colab.data_table.DataTable object>"
            ]
          },
          "metadata": {}
        }
      ]
    },
    {
      "cell_type": "markdown",
      "source": [
        "## Multiply: mul\n",
        "\n",
        "* Example:\n",
        "  ```\n",
        "  .text\n",
        "  main:\n",
        "    li      a0, 5\n",
        "    li      a1, 2\n",
        "    mul     a2, a0, a1   # a2 = 5 * 2\n",
        "  ```"
      ],
      "metadata": {
        "id": "mul1"
      }
    },
    {
      "cell_type": "code",
      "source": [
        "#@markdown <font size='4'>Run the cell above</font>\n",
        "search_term = 'id:mul1'\n",
        "write_cell_above_to_file(search_term, '/tmp/example.asm')\n",
        "\n",
        "!./wepsim/wepsim.sh -a stepbystep -m ep -f ./wepsim/repo/microcode/rv32/ep_base.mc -s /tmp/example.asm > /tmp/result.csv\n",
        "\n",
        "status, df1 = show_results('/tmp/result.csv')\n"
      ],
      "metadata": {
        "id": "aGzG8UmyFoy3",
        "colab": {
          "base_uri": "https://localhost:8080/",
          "height": 232
        },
        "outputId": "991feff7-3e43-439e-d3a1-18efd4b17a05",
        "cellView": "form"
      },
      "execution_count": 20,
      "outputs": [
        {
          "output_type": "display_data",
          "data": {
            "text/html": [
              "<div>\n",
              "<style scoped>\n",
              "    .dataframe tbody tr th:only-of-type {\n",
              "        vertical-align: middle;\n",
              "    }\n",
              "\n",
              "    .dataframe tbody tr th {\n",
              "        vertical-align: top;\n",
              "    }\n",
              "\n",
              "    .dataframe thead th {\n",
              "        text-align: right;\n",
              "    }\n",
              "</style>\n",
              "<table border=\"1\" class=\"dataframe\">\n",
              "  <thead>\n",
              "    <tr style=\"text-align: right;\">\n",
              "      <th></th>\n",
              "      <th>pc</th>\n",
              "      <th>instruction</th>\n",
              "      <th>changes_from_zero_or_current_value</th>\n",
              "    </tr>\n",
              "  </thead>\n",
              "  <tbody>\n",
              "    <tr>\n",
              "      <th>0</th>\n",
              "      <td>pc = 0x8000</td>\n",
              "      <td>li a0 5</td>\n",
              "      <td>register PC = 0x8004</td>\n",
              "    </tr>\n",
              "    <tr>\n",
              "      <th>1</th>\n",
              "      <td>pc = 0x8004</td>\n",
              "      <td></td>\n",
              "      <td>register R10 = 0x5; register PC = 0x8008</td>\n",
              "    </tr>\n",
              "    <tr>\n",
              "      <th>2</th>\n",
              "      <td>pc = 0x8008</td>\n",
              "      <td>li a1 2</td>\n",
              "      <td>register PC = 0x800c</td>\n",
              "    </tr>\n",
              "    <tr>\n",
              "      <th>3</th>\n",
              "      <td>pc = 0x800c</td>\n",
              "      <td></td>\n",
              "      <td>register R11 = 0x2; register PC = 0x8010</td>\n",
              "    </tr>\n",
              "    <tr>\n",
              "      <th>4</th>\n",
              "      <td>pc = 0x8010</td>\n",
              "      <td>mul a2 a0 a1</td>\n",
              "      <td>register R12 = 0xa; register PC = 0x8014</td>\n",
              "    </tr>\n",
              "  </tbody>\n",
              "</table>\n",
              "</div>"
            ],
            "application/vnd.google.colaboratory.module+javascript": "\n      import \"https://ssl.gstatic.com/colaboratory/data_table/881c4a0d49046431/data_table.js\";\n\n      const table = window.createDataTable({\n        data: [[\"pc = 0x8000\",\n\"li a0 5\",\n\"register PC = 0x8004\"],\n [\"pc = 0x8004\",\n\"\",\n\"register R10 = 0x5; register PC = 0x8008\"],\n [\"pc = 0x8008\",\n\"li a1 2\",\n\"register PC = 0x800c\"],\n [\"pc = 0x800c\",\n\"\",\n\"register R11 = 0x2; register PC = 0x8010\"],\n [\"pc = 0x8010\",\n\"mul a2 a0 a1\",\n\"register R12 = 0xa; register PC = 0x8014\"]],\n        columns: [[\"string\", \"pc\"], [\"string\", \"instruction\"], [\"string\", \"changes_from_zero_or_current_value\"]],\n        columnOptions: [],\n        rowsPerPage: 20,\n        helpUrl: \"https://colab.research.google.com/notebooks/data_table.ipynb\",\n        suppressOutputScrolling: true,\n        minimumWidth: undefined,\n      });\n\n      function appendQuickchartButton(parentElement) {\n        let quickchartButtonContainerElement = document.createElement('div');\n        quickchartButtonContainerElement.innerHTML = `\n<div id=\"df-366ce56b-211b-4ba7-8a2f-77dab675862e\">\n  <button class=\"colab-df-quickchart\" onclick=\"quickchart('df-366ce56b-211b-4ba7-8a2f-77dab675862e')\"\n            title=\"Suggest charts\"\n            style=\"display:none;\">\n    \n<svg xmlns=\"http://www.w3.org/2000/svg\" height=\"24px\"viewBox=\"0 0 24 24\"\n     width=\"24px\">\n    <g>\n        <path d=\"M19 3H5c-1.1 0-2 .9-2 2v14c0 1.1.9 2 2 2h14c1.1 0 2-.9 2-2V5c0-1.1-.9-2-2-2zM9 17H7v-7h2v7zm4 0h-2V7h2v10zm4 0h-2v-4h2v4z\"/>\n    </g>\n</svg>\n  </button>\n  \n<style>\n  .colab-df-quickchart {\n      --bg-color: #E8F0FE;\n      --fill-color: #1967D2;\n      --hover-bg-color: #E2EBFA;\n      --hover-fill-color: #174EA6;\n      --disabled-fill-color: #AAA;\n      --disabled-bg-color: #DDD;\n  }\n\n  [theme=dark] .colab-df-quickchart {\n      --bg-color: #3B4455;\n      --fill-color: #D2E3FC;\n      --hover-bg-color: #434B5C;\n      --hover-fill-color: #FFFFFF;\n      --disabled-bg-color: #3B4455;\n      --disabled-fill-color: #666;\n  }\n\n  .colab-df-quickchart {\n    background-color: var(--bg-color);\n    border: none;\n    border-radius: 50%;\n    cursor: pointer;\n    display: none;\n    fill: var(--fill-color);\n    height: 32px;\n    padding: 0;\n    width: 32px;\n  }\n\n  .colab-df-quickchart:hover {\n    background-color: var(--hover-bg-color);\n    box-shadow: 0 1px 2px rgba(60, 64, 67, 0.3), 0 1px 3px 1px rgba(60, 64, 67, 0.15);\n    fill: var(--button-hover-fill-color);\n  }\n\n  .colab-df-quickchart-complete:disabled,\n  .colab-df-quickchart-complete:disabled:hover {\n    background-color: var(--disabled-bg-color);\n    fill: var(--disabled-fill-color);\n    box-shadow: none;\n  }\n\n  .colab-df-spinner {\n    border: 2px solid var(--fill-color);\n    border-color: transparent;\n    border-bottom-color: var(--fill-color);\n    animation:\n      spin 1s steps(1) infinite;\n  }\n\n  @keyframes spin {\n    0% {\n      border-color: transparent;\n      border-bottom-color: var(--fill-color);\n      border-left-color: var(--fill-color);\n    }\n    20% {\n      border-color: transparent;\n      border-left-color: var(--fill-color);\n      border-top-color: var(--fill-color);\n    }\n    30% {\n      border-color: transparent;\n      border-left-color: var(--fill-color);\n      border-top-color: var(--fill-color);\n      border-right-color: var(--fill-color);\n    }\n    40% {\n      border-color: transparent;\n      border-right-color: var(--fill-color);\n      border-top-color: var(--fill-color);\n    }\n    60% {\n      border-color: transparent;\n      border-right-color: var(--fill-color);\n    }\n    80% {\n      border-color: transparent;\n      border-right-color: var(--fill-color);\n      border-bottom-color: var(--fill-color);\n    }\n    90% {\n      border-color: transparent;\n      border-bottom-color: var(--fill-color);\n    }\n  }\n</style>\n\n  <script>\n    async function quickchart(key) {\n      const quickchartButtonEl =\n        document.querySelector('#' + key + ' button');\n      quickchartButtonEl.disabled = true;  // To prevent multiple clicks.\n      quickchartButtonEl.classList.add('colab-df-spinner');\n      try {\n        const charts = await google.colab.kernel.invokeFunction(\n            'suggestCharts', [key], {});\n      } catch (error) {\n        console.error('Error during call to suggestCharts:', error);\n      }\n      quickchartButtonEl.classList.remove('colab-df-spinner');\n      quickchartButtonEl.classList.add('colab-df-quickchart-complete');\n    }\n    (() => {\n      let quickchartButtonEl =\n        document.querySelector('#df-366ce56b-211b-4ba7-8a2f-77dab675862e button');\n      quickchartButtonEl.style.display =\n        google.colab.kernel.accessAllowed ? 'block' : 'none';\n    })();\n  </script>\n</div>`;\n        parentElement.appendChild(quickchartButtonContainerElement);\n      }\n\n      appendQuickchartButton(table);\n    ",
            "text/plain": [
              "<google.colab.data_table.DataTable object>"
            ]
          },
          "metadata": {}
        }
      ]
    },
    {
      "cell_type": "markdown",
      "source": [
        "## Divide Signed: div\n",
        "\n",
        "* Example:\n",
        "  ```\n",
        "  .text\n",
        "  main:\n",
        "    li      a0, 6\n",
        "    li      a1, 2\n",
        "    div     a2, a0, a1   # a2 = 6 / 2\n",
        "  ```"
      ],
      "metadata": {
        "id": "div1"
      }
    },
    {
      "cell_type": "code",
      "source": [
        "#@markdown <font size='4'>Run the cell above</font>\n",
        "search_term = 'id:div1'\n",
        "write_cell_above_to_file(search_term, '/tmp/example.asm')\n",
        "\n",
        "!./wepsim/wepsim.sh -a stepbystep -m ep -f ./wepsim/repo/microcode/rv32/ep_base.mc -s /tmp/example.asm > /tmp/result.csv\n",
        "\n",
        "status, df1 = show_results('/tmp/result.csv')\n"
      ],
      "metadata": {
        "id": "aGzG8UmyFoy5",
        "colab": {
          "base_uri": "https://localhost:8080/",
          "height": 232
        },
        "outputId": "17ecb2be-1ca0-4171-920c-e491dd1fa15c",
        "cellView": "form"
      },
      "execution_count": 21,
      "outputs": [
        {
          "output_type": "display_data",
          "data": {
            "text/html": [
              "<div>\n",
              "<style scoped>\n",
              "    .dataframe tbody tr th:only-of-type {\n",
              "        vertical-align: middle;\n",
              "    }\n",
              "\n",
              "    .dataframe tbody tr th {\n",
              "        vertical-align: top;\n",
              "    }\n",
              "\n",
              "    .dataframe thead th {\n",
              "        text-align: right;\n",
              "    }\n",
              "</style>\n",
              "<table border=\"1\" class=\"dataframe\">\n",
              "  <thead>\n",
              "    <tr style=\"text-align: right;\">\n",
              "      <th></th>\n",
              "      <th>pc</th>\n",
              "      <th>instruction</th>\n",
              "      <th>changes_from_zero_or_current_value</th>\n",
              "    </tr>\n",
              "  </thead>\n",
              "  <tbody>\n",
              "    <tr>\n",
              "      <th>0</th>\n",
              "      <td>pc = 0x8000</td>\n",
              "      <td>li a0 6</td>\n",
              "      <td>register PC = 0x8004</td>\n",
              "    </tr>\n",
              "    <tr>\n",
              "      <th>1</th>\n",
              "      <td>pc = 0x8004</td>\n",
              "      <td></td>\n",
              "      <td>register R10 = 0x6; register PC = 0x8008</td>\n",
              "    </tr>\n",
              "    <tr>\n",
              "      <th>2</th>\n",
              "      <td>pc = 0x8008</td>\n",
              "      <td>li a1 2</td>\n",
              "      <td>register PC = 0x800c</td>\n",
              "    </tr>\n",
              "    <tr>\n",
              "      <th>3</th>\n",
              "      <td>pc = 0x800c</td>\n",
              "      <td></td>\n",
              "      <td>register R11 = 0x2; register PC = 0x8010</td>\n",
              "    </tr>\n",
              "    <tr>\n",
              "      <th>4</th>\n",
              "      <td>pc = 0x8010</td>\n",
              "      <td>div a2 a0 a1</td>\n",
              "      <td>register R12 = 0x3; register PC = 0x8014</td>\n",
              "    </tr>\n",
              "  </tbody>\n",
              "</table>\n",
              "</div>"
            ],
            "application/vnd.google.colaboratory.module+javascript": "\n      import \"https://ssl.gstatic.com/colaboratory/data_table/881c4a0d49046431/data_table.js\";\n\n      const table = window.createDataTable({\n        data: [[\"pc = 0x8000\",\n\"li a0 6\",\n\"register PC = 0x8004\"],\n [\"pc = 0x8004\",\n\"\",\n\"register R10 = 0x6; register PC = 0x8008\"],\n [\"pc = 0x8008\",\n\"li a1 2\",\n\"register PC = 0x800c\"],\n [\"pc = 0x800c\",\n\"\",\n\"register R11 = 0x2; register PC = 0x8010\"],\n [\"pc = 0x8010\",\n\"div a2 a0 a1\",\n\"register R12 = 0x3; register PC = 0x8014\"]],\n        columns: [[\"string\", \"pc\"], [\"string\", \"instruction\"], [\"string\", \"changes_from_zero_or_current_value\"]],\n        columnOptions: [],\n        rowsPerPage: 20,\n        helpUrl: \"https://colab.research.google.com/notebooks/data_table.ipynb\",\n        suppressOutputScrolling: true,\n        minimumWidth: undefined,\n      });\n\n      function appendQuickchartButton(parentElement) {\n        let quickchartButtonContainerElement = document.createElement('div');\n        quickchartButtonContainerElement.innerHTML = `\n<div id=\"df-2b5158c3-0c7f-4451-8ea9-de00f5921d2f\">\n  <button class=\"colab-df-quickchart\" onclick=\"quickchart('df-2b5158c3-0c7f-4451-8ea9-de00f5921d2f')\"\n            title=\"Suggest charts\"\n            style=\"display:none;\">\n    \n<svg xmlns=\"http://www.w3.org/2000/svg\" height=\"24px\"viewBox=\"0 0 24 24\"\n     width=\"24px\">\n    <g>\n        <path d=\"M19 3H5c-1.1 0-2 .9-2 2v14c0 1.1.9 2 2 2h14c1.1 0 2-.9 2-2V5c0-1.1-.9-2-2-2zM9 17H7v-7h2v7zm4 0h-2V7h2v10zm4 0h-2v-4h2v4z\"/>\n    </g>\n</svg>\n  </button>\n  \n<style>\n  .colab-df-quickchart {\n      --bg-color: #E8F0FE;\n      --fill-color: #1967D2;\n      --hover-bg-color: #E2EBFA;\n      --hover-fill-color: #174EA6;\n      --disabled-fill-color: #AAA;\n      --disabled-bg-color: #DDD;\n  }\n\n  [theme=dark] .colab-df-quickchart {\n      --bg-color: #3B4455;\n      --fill-color: #D2E3FC;\n      --hover-bg-color: #434B5C;\n      --hover-fill-color: #FFFFFF;\n      --disabled-bg-color: #3B4455;\n      --disabled-fill-color: #666;\n  }\n\n  .colab-df-quickchart {\n    background-color: var(--bg-color);\n    border: none;\n    border-radius: 50%;\n    cursor: pointer;\n    display: none;\n    fill: var(--fill-color);\n    height: 32px;\n    padding: 0;\n    width: 32px;\n  }\n\n  .colab-df-quickchart:hover {\n    background-color: var(--hover-bg-color);\n    box-shadow: 0 1px 2px rgba(60, 64, 67, 0.3), 0 1px 3px 1px rgba(60, 64, 67, 0.15);\n    fill: var(--button-hover-fill-color);\n  }\n\n  .colab-df-quickchart-complete:disabled,\n  .colab-df-quickchart-complete:disabled:hover {\n    background-color: var(--disabled-bg-color);\n    fill: var(--disabled-fill-color);\n    box-shadow: none;\n  }\n\n  .colab-df-spinner {\n    border: 2px solid var(--fill-color);\n    border-color: transparent;\n    border-bottom-color: var(--fill-color);\n    animation:\n      spin 1s steps(1) infinite;\n  }\n\n  @keyframes spin {\n    0% {\n      border-color: transparent;\n      border-bottom-color: var(--fill-color);\n      border-left-color: var(--fill-color);\n    }\n    20% {\n      border-color: transparent;\n      border-left-color: var(--fill-color);\n      border-top-color: var(--fill-color);\n    }\n    30% {\n      border-color: transparent;\n      border-left-color: var(--fill-color);\n      border-top-color: var(--fill-color);\n      border-right-color: var(--fill-color);\n    }\n    40% {\n      border-color: transparent;\n      border-right-color: var(--fill-color);\n      border-top-color: var(--fill-color);\n    }\n    60% {\n      border-color: transparent;\n      border-right-color: var(--fill-color);\n    }\n    80% {\n      border-color: transparent;\n      border-right-color: var(--fill-color);\n      border-bottom-color: var(--fill-color);\n    }\n    90% {\n      border-color: transparent;\n      border-bottom-color: var(--fill-color);\n    }\n  }\n</style>\n\n  <script>\n    async function quickchart(key) {\n      const quickchartButtonEl =\n        document.querySelector('#' + key + ' button');\n      quickchartButtonEl.disabled = true;  // To prevent multiple clicks.\n      quickchartButtonEl.classList.add('colab-df-spinner');\n      try {\n        const charts = await google.colab.kernel.invokeFunction(\n            'suggestCharts', [key], {});\n      } catch (error) {\n        console.error('Error during call to suggestCharts:', error);\n      }\n      quickchartButtonEl.classList.remove('colab-df-spinner');\n      quickchartButtonEl.classList.add('colab-df-quickchart-complete');\n    }\n    (() => {\n      let quickchartButtonEl =\n        document.querySelector('#df-2b5158c3-0c7f-4451-8ea9-de00f5921d2f button');\n      quickchartButtonEl.style.display =\n        google.colab.kernel.accessAllowed ? 'block' : 'none';\n    })();\n  </script>\n</div>`;\n        parentElement.appendChild(quickchartButtonContainerElement);\n      }\n\n      appendQuickchartButton(table);\n    ",
            "text/plain": [
              "<google.colab.data_table.DataTable object>"
            ]
          },
          "metadata": {}
        }
      ]
    },
    {
      "cell_type": "markdown",
      "source": [
        "## Remainder Signed: rem\n",
        "\n",
        "* Example:\n",
        "  ```\n",
        "  .text\n",
        "  main:\n",
        "    li      a0, 5\n",
        "    li      a1, 2\n",
        "    rem     a2, a0, a1   # a2 = 5 % 2\n",
        "  ```"
      ],
      "metadata": {
        "id": "rem1"
      }
    },
    {
      "cell_type": "code",
      "source": [
        "#@markdown <font size='4'>Run the cell above</font>\n",
        "search_term = 'id:rem1'\n",
        "write_cell_above_to_file(search_term, '/tmp/example.asm')\n",
        "\n",
        "!./wepsim/wepsim.sh -a stepbystep -m ep -f ./wepsim/repo/microcode/rv32/ep_base.mc -s /tmp/example.asm > /tmp/result.csv\n",
        "\n",
        "status, df1 = show_results('/tmp/result.csv')\n"
      ],
      "metadata": {
        "id": "aGzG8UmyFoy6",
        "colab": {
          "base_uri": "https://localhost:8080/",
          "height": 232
        },
        "outputId": "c3af6e7c-6cae-44ad-ea6f-ebba8f4efb54",
        "cellView": "form"
      },
      "execution_count": 22,
      "outputs": [
        {
          "output_type": "display_data",
          "data": {
            "text/html": [
              "<div>\n",
              "<style scoped>\n",
              "    .dataframe tbody tr th:only-of-type {\n",
              "        vertical-align: middle;\n",
              "    }\n",
              "\n",
              "    .dataframe tbody tr th {\n",
              "        vertical-align: top;\n",
              "    }\n",
              "\n",
              "    .dataframe thead th {\n",
              "        text-align: right;\n",
              "    }\n",
              "</style>\n",
              "<table border=\"1\" class=\"dataframe\">\n",
              "  <thead>\n",
              "    <tr style=\"text-align: right;\">\n",
              "      <th></th>\n",
              "      <th>pc</th>\n",
              "      <th>instruction</th>\n",
              "      <th>changes_from_zero_or_current_value</th>\n",
              "    </tr>\n",
              "  </thead>\n",
              "  <tbody>\n",
              "    <tr>\n",
              "      <th>0</th>\n",
              "      <td>pc = 0x8000</td>\n",
              "      <td>li a0 5</td>\n",
              "      <td>register PC = 0x8004</td>\n",
              "    </tr>\n",
              "    <tr>\n",
              "      <th>1</th>\n",
              "      <td>pc = 0x8004</td>\n",
              "      <td></td>\n",
              "      <td>register R10 = 0x5; register PC = 0x8008</td>\n",
              "    </tr>\n",
              "    <tr>\n",
              "      <th>2</th>\n",
              "      <td>pc = 0x8008</td>\n",
              "      <td>li a1 2</td>\n",
              "      <td>register PC = 0x800c</td>\n",
              "    </tr>\n",
              "    <tr>\n",
              "      <th>3</th>\n",
              "      <td>pc = 0x800c</td>\n",
              "      <td></td>\n",
              "      <td>register R11 = 0x2; register PC = 0x8010</td>\n",
              "    </tr>\n",
              "    <tr>\n",
              "      <th>4</th>\n",
              "      <td>pc = 0x8010</td>\n",
              "      <td>rem a2 a0 a1</td>\n",
              "      <td>register R12 = 0x1; register PC = 0x8014</td>\n",
              "    </tr>\n",
              "  </tbody>\n",
              "</table>\n",
              "</div>"
            ],
            "application/vnd.google.colaboratory.module+javascript": "\n      import \"https://ssl.gstatic.com/colaboratory/data_table/881c4a0d49046431/data_table.js\";\n\n      const table = window.createDataTable({\n        data: [[\"pc = 0x8000\",\n\"li a0 5\",\n\"register PC = 0x8004\"],\n [\"pc = 0x8004\",\n\"\",\n\"register R10 = 0x5; register PC = 0x8008\"],\n [\"pc = 0x8008\",\n\"li a1 2\",\n\"register PC = 0x800c\"],\n [\"pc = 0x800c\",\n\"\",\n\"register R11 = 0x2; register PC = 0x8010\"],\n [\"pc = 0x8010\",\n\"rem a2 a0 a1\",\n\"register R12 = 0x1; register PC = 0x8014\"]],\n        columns: [[\"string\", \"pc\"], [\"string\", \"instruction\"], [\"string\", \"changes_from_zero_or_current_value\"]],\n        columnOptions: [],\n        rowsPerPage: 20,\n        helpUrl: \"https://colab.research.google.com/notebooks/data_table.ipynb\",\n        suppressOutputScrolling: true,\n        minimumWidth: undefined,\n      });\n\n      function appendQuickchartButton(parentElement) {\n        let quickchartButtonContainerElement = document.createElement('div');\n        quickchartButtonContainerElement.innerHTML = `\n<div id=\"df-7c4825c0-2a04-4c1e-8f14-a57363c6ae50\">\n  <button class=\"colab-df-quickchart\" onclick=\"quickchart('df-7c4825c0-2a04-4c1e-8f14-a57363c6ae50')\"\n            title=\"Suggest charts\"\n            style=\"display:none;\">\n    \n<svg xmlns=\"http://www.w3.org/2000/svg\" height=\"24px\"viewBox=\"0 0 24 24\"\n     width=\"24px\">\n    <g>\n        <path d=\"M19 3H5c-1.1 0-2 .9-2 2v14c0 1.1.9 2 2 2h14c1.1 0 2-.9 2-2V5c0-1.1-.9-2-2-2zM9 17H7v-7h2v7zm4 0h-2V7h2v10zm4 0h-2v-4h2v4z\"/>\n    </g>\n</svg>\n  </button>\n  \n<style>\n  .colab-df-quickchart {\n      --bg-color: #E8F0FE;\n      --fill-color: #1967D2;\n      --hover-bg-color: #E2EBFA;\n      --hover-fill-color: #174EA6;\n      --disabled-fill-color: #AAA;\n      --disabled-bg-color: #DDD;\n  }\n\n  [theme=dark] .colab-df-quickchart {\n      --bg-color: #3B4455;\n      --fill-color: #D2E3FC;\n      --hover-bg-color: #434B5C;\n      --hover-fill-color: #FFFFFF;\n      --disabled-bg-color: #3B4455;\n      --disabled-fill-color: #666;\n  }\n\n  .colab-df-quickchart {\n    background-color: var(--bg-color);\n    border: none;\n    border-radius: 50%;\n    cursor: pointer;\n    display: none;\n    fill: var(--fill-color);\n    height: 32px;\n    padding: 0;\n    width: 32px;\n  }\n\n  .colab-df-quickchart:hover {\n    background-color: var(--hover-bg-color);\n    box-shadow: 0 1px 2px rgba(60, 64, 67, 0.3), 0 1px 3px 1px rgba(60, 64, 67, 0.15);\n    fill: var(--button-hover-fill-color);\n  }\n\n  .colab-df-quickchart-complete:disabled,\n  .colab-df-quickchart-complete:disabled:hover {\n    background-color: var(--disabled-bg-color);\n    fill: var(--disabled-fill-color);\n    box-shadow: none;\n  }\n\n  .colab-df-spinner {\n    border: 2px solid var(--fill-color);\n    border-color: transparent;\n    border-bottom-color: var(--fill-color);\n    animation:\n      spin 1s steps(1) infinite;\n  }\n\n  @keyframes spin {\n    0% {\n      border-color: transparent;\n      border-bottom-color: var(--fill-color);\n      border-left-color: var(--fill-color);\n    }\n    20% {\n      border-color: transparent;\n      border-left-color: var(--fill-color);\n      border-top-color: var(--fill-color);\n    }\n    30% {\n      border-color: transparent;\n      border-left-color: var(--fill-color);\n      border-top-color: var(--fill-color);\n      border-right-color: var(--fill-color);\n    }\n    40% {\n      border-color: transparent;\n      border-right-color: var(--fill-color);\n      border-top-color: var(--fill-color);\n    }\n    60% {\n      border-color: transparent;\n      border-right-color: var(--fill-color);\n    }\n    80% {\n      border-color: transparent;\n      border-right-color: var(--fill-color);\n      border-bottom-color: var(--fill-color);\n    }\n    90% {\n      border-color: transparent;\n      border-bottom-color: var(--fill-color);\n    }\n  }\n</style>\n\n  <script>\n    async function quickchart(key) {\n      const quickchartButtonEl =\n        document.querySelector('#' + key + ' button');\n      quickchartButtonEl.disabled = true;  // To prevent multiple clicks.\n      quickchartButtonEl.classList.add('colab-df-spinner');\n      try {\n        const charts = await google.colab.kernel.invokeFunction(\n            'suggestCharts', [key], {});\n      } catch (error) {\n        console.error('Error during call to suggestCharts:', error);\n      }\n      quickchartButtonEl.classList.remove('colab-df-spinner');\n      quickchartButtonEl.classList.add('colab-df-quickchart-complete');\n    }\n    (() => {\n      let quickchartButtonEl =\n        document.querySelector('#df-7c4825c0-2a04-4c1e-8f14-a57363c6ae50 button');\n      quickchartButtonEl.style.display =\n        google.colab.kernel.accessAllowed ? 'block' : 'none';\n    })();\n  </script>\n</div>`;\n        parentElement.appendChild(quickchartButtonContainerElement);\n      }\n\n      appendQuickchartButton(table);\n    ",
            "text/plain": [
              "<google.colab.data_table.DataTable object>"
            ]
          },
          "metadata": {}
        }
      ]
    },
    {
      "cell_type": "markdown",
      "source": [
        "# Logic instructions"
      ],
      "metadata": {
        "id": "xpUuX-N3R2WB"
      }
    },
    {
      "cell_type": "markdown",
      "source": [
        "## Or: or, ori\n",
        "\n",
        "* Example:\n",
        "  ```\n",
        "  .text\n",
        "  main:\n",
        "    li      a0, 0xF875\n",
        "    li      a1, 0x00FF\n",
        "    or      a2, a0, a1    # a2 = 0xF875 | 0x00FF\n",
        "    ori     a3, a0, 0xFF  # a2 = 0xF875 | 0x00FF\n",
        "  ```"
      ],
      "metadata": {
        "id": "or1"
      }
    },
    {
      "cell_type": "code",
      "source": [
        "#@markdown <font size='4'>Run the cell above</font>\n",
        "search_term = 'id:or1'\n",
        "write_cell_above_to_file(search_term, '/tmp/example.asm')\n",
        "\n",
        "!./wepsim/wepsim.sh -a stepbystep -m ep -f ./wepsim/repo/microcode/rv32/ep_base.mc -s /tmp/example.asm > /tmp/result.csv\n",
        "\n",
        "status, df1 = show_results('/tmp/result.csv')\n"
      ],
      "metadata": {
        "id": "aGzG8UmyFoy7",
        "colab": {
          "base_uri": "https://localhost:8080/",
          "height": 253
        },
        "outputId": "e987da66-b9a4-46cc-8b54-1e5acb694f65",
        "cellView": "form"
      },
      "execution_count": 23,
      "outputs": [
        {
          "output_type": "display_data",
          "data": {
            "text/html": [
              "<div>\n",
              "<style scoped>\n",
              "    .dataframe tbody tr th:only-of-type {\n",
              "        vertical-align: middle;\n",
              "    }\n",
              "\n",
              "    .dataframe tbody tr th {\n",
              "        vertical-align: top;\n",
              "    }\n",
              "\n",
              "    .dataframe thead th {\n",
              "        text-align: right;\n",
              "    }\n",
              "</style>\n",
              "<table border=\"1\" class=\"dataframe\">\n",
              "  <thead>\n",
              "    <tr style=\"text-align: right;\">\n",
              "      <th></th>\n",
              "      <th>pc</th>\n",
              "      <th>instruction</th>\n",
              "      <th>changes_from_zero_or_current_value</th>\n",
              "    </tr>\n",
              "  </thead>\n",
              "  <tbody>\n",
              "    <tr>\n",
              "      <th>0</th>\n",
              "      <td>pc = 0x8000</td>\n",
              "      <td>li a0 0xF875</td>\n",
              "      <td>register R10 = 0xf000; register PC = 0x8004</td>\n",
              "    </tr>\n",
              "    <tr>\n",
              "      <th>1</th>\n",
              "      <td>pc = 0x8004</td>\n",
              "      <td></td>\n",
              "      <td>register R10 = 0xf875; register PC = 0x8008</td>\n",
              "    </tr>\n",
              "    <tr>\n",
              "      <th>2</th>\n",
              "      <td>pc = 0x8008</td>\n",
              "      <td>li a1 0x00FF</td>\n",
              "      <td>register PC = 0x800c</td>\n",
              "    </tr>\n",
              "    <tr>\n",
              "      <th>3</th>\n",
              "      <td>pc = 0x800c</td>\n",
              "      <td></td>\n",
              "      <td>register R11 = 0xff; register PC = 0x8010</td>\n",
              "    </tr>\n",
              "    <tr>\n",
              "      <th>4</th>\n",
              "      <td>pc = 0x8010</td>\n",
              "      <td>or a2 a0 a1</td>\n",
              "      <td>register R12 = 0xf8ff; register PC = 0x8014</td>\n",
              "    </tr>\n",
              "    <tr>\n",
              "      <th>5</th>\n",
              "      <td>pc = 0x8014</td>\n",
              "      <td>ori a3 a0 0xFF</td>\n",
              "      <td>register R13 = 0xf8ff; register PC = 0x8018</td>\n",
              "    </tr>\n",
              "  </tbody>\n",
              "</table>\n",
              "</div>"
            ],
            "application/vnd.google.colaboratory.module+javascript": "\n      import \"https://ssl.gstatic.com/colaboratory/data_table/881c4a0d49046431/data_table.js\";\n\n      const table = window.createDataTable({\n        data: [[\"pc = 0x8000\",\n\"li a0 0xF875\",\n\"register R10 = 0xf000; register PC = 0x8004\"],\n [\"pc = 0x8004\",\n\"\",\n\"register R10 = 0xf875; register PC = 0x8008\"],\n [\"pc = 0x8008\",\n\"li a1 0x00FF\",\n\"register PC = 0x800c\"],\n [\"pc = 0x800c\",\n\"\",\n\"register R11 = 0xff; register PC = 0x8010\"],\n [\"pc = 0x8010\",\n\"or a2 a0 a1\",\n\"register R12 = 0xf8ff; register PC = 0x8014\"],\n [\"pc = 0x8014\",\n\"ori a3 a0 0xFF\",\n\"register R13 = 0xf8ff; register PC = 0x8018\"]],\n        columns: [[\"string\", \"pc\"], [\"string\", \"instruction\"], [\"string\", \"changes_from_zero_or_current_value\"]],\n        columnOptions: [],\n        rowsPerPage: 20,\n        helpUrl: \"https://colab.research.google.com/notebooks/data_table.ipynb\",\n        suppressOutputScrolling: true,\n        minimumWidth: undefined,\n      });\n\n      function appendQuickchartButton(parentElement) {\n        let quickchartButtonContainerElement = document.createElement('div');\n        quickchartButtonContainerElement.innerHTML = `\n<div id=\"df-7c00495a-e189-4488-840b-93f8f5a5ac41\">\n  <button class=\"colab-df-quickchart\" onclick=\"quickchart('df-7c00495a-e189-4488-840b-93f8f5a5ac41')\"\n            title=\"Suggest charts\"\n            style=\"display:none;\">\n    \n<svg xmlns=\"http://www.w3.org/2000/svg\" height=\"24px\"viewBox=\"0 0 24 24\"\n     width=\"24px\">\n    <g>\n        <path d=\"M19 3H5c-1.1 0-2 .9-2 2v14c0 1.1.9 2 2 2h14c1.1 0 2-.9 2-2V5c0-1.1-.9-2-2-2zM9 17H7v-7h2v7zm4 0h-2V7h2v10zm4 0h-2v-4h2v4z\"/>\n    </g>\n</svg>\n  </button>\n  \n<style>\n  .colab-df-quickchart {\n      --bg-color: #E8F0FE;\n      --fill-color: #1967D2;\n      --hover-bg-color: #E2EBFA;\n      --hover-fill-color: #174EA6;\n      --disabled-fill-color: #AAA;\n      --disabled-bg-color: #DDD;\n  }\n\n  [theme=dark] .colab-df-quickchart {\n      --bg-color: #3B4455;\n      --fill-color: #D2E3FC;\n      --hover-bg-color: #434B5C;\n      --hover-fill-color: #FFFFFF;\n      --disabled-bg-color: #3B4455;\n      --disabled-fill-color: #666;\n  }\n\n  .colab-df-quickchart {\n    background-color: var(--bg-color);\n    border: none;\n    border-radius: 50%;\n    cursor: pointer;\n    display: none;\n    fill: var(--fill-color);\n    height: 32px;\n    padding: 0;\n    width: 32px;\n  }\n\n  .colab-df-quickchart:hover {\n    background-color: var(--hover-bg-color);\n    box-shadow: 0 1px 2px rgba(60, 64, 67, 0.3), 0 1px 3px 1px rgba(60, 64, 67, 0.15);\n    fill: var(--button-hover-fill-color);\n  }\n\n  .colab-df-quickchart-complete:disabled,\n  .colab-df-quickchart-complete:disabled:hover {\n    background-color: var(--disabled-bg-color);\n    fill: var(--disabled-fill-color);\n    box-shadow: none;\n  }\n\n  .colab-df-spinner {\n    border: 2px solid var(--fill-color);\n    border-color: transparent;\n    border-bottom-color: var(--fill-color);\n    animation:\n      spin 1s steps(1) infinite;\n  }\n\n  @keyframes spin {\n    0% {\n      border-color: transparent;\n      border-bottom-color: var(--fill-color);\n      border-left-color: var(--fill-color);\n    }\n    20% {\n      border-color: transparent;\n      border-left-color: var(--fill-color);\n      border-top-color: var(--fill-color);\n    }\n    30% {\n      border-color: transparent;\n      border-left-color: var(--fill-color);\n      border-top-color: var(--fill-color);\n      border-right-color: var(--fill-color);\n    }\n    40% {\n      border-color: transparent;\n      border-right-color: var(--fill-color);\n      border-top-color: var(--fill-color);\n    }\n    60% {\n      border-color: transparent;\n      border-right-color: var(--fill-color);\n    }\n    80% {\n      border-color: transparent;\n      border-right-color: var(--fill-color);\n      border-bottom-color: var(--fill-color);\n    }\n    90% {\n      border-color: transparent;\n      border-bottom-color: var(--fill-color);\n    }\n  }\n</style>\n\n  <script>\n    async function quickchart(key) {\n      const quickchartButtonEl =\n        document.querySelector('#' + key + ' button');\n      quickchartButtonEl.disabled = true;  // To prevent multiple clicks.\n      quickchartButtonEl.classList.add('colab-df-spinner');\n      try {\n        const charts = await google.colab.kernel.invokeFunction(\n            'suggestCharts', [key], {});\n      } catch (error) {\n        console.error('Error during call to suggestCharts:', error);\n      }\n      quickchartButtonEl.classList.remove('colab-df-spinner');\n      quickchartButtonEl.classList.add('colab-df-quickchart-complete');\n    }\n    (() => {\n      let quickchartButtonEl =\n        document.querySelector('#df-7c00495a-e189-4488-840b-93f8f5a5ac41 button');\n      quickchartButtonEl.style.display =\n        google.colab.kernel.accessAllowed ? 'block' : 'none';\n    })();\n  </script>\n</div>`;\n        parentElement.appendChild(quickchartButtonContainerElement);\n      }\n\n      appendQuickchartButton(table);\n    ",
            "text/plain": [
              "<google.colab.data_table.DataTable object>"
            ]
          },
          "metadata": {}
        }
      ]
    },
    {
      "cell_type": "markdown",
      "source": [
        "## And: and, andi\n",
        "\n",
        "* Example:\n",
        "  ```\n",
        "  .text\n",
        "  main:\n",
        "    li      a0, 0xF875\n",
        "    li      a1, 0x00FF\n",
        "    and     a2, a0, a1    # a2 = 0xF875 & 0x00FF\n",
        "    andi    a3, a0, 0xFF  # a2 = 0xF875 & 0x00FF\n",
        "  ```"
      ],
      "metadata": {
        "id": "and1"
      }
    },
    {
      "cell_type": "code",
      "source": [
        "#@markdown <font size='4'>Run the cell above</font>\n",
        "search_term = 'id:and1'\n",
        "write_cell_above_to_file(search_term, '/tmp/example.asm')\n",
        "\n",
        "!./wepsim/wepsim.sh -a stepbystep -m ep -f ./wepsim/repo/microcode/rv32/ep_base.mc -s /tmp/example.asm > /tmp/result.csv\n",
        "\n",
        "status, df1 = show_results('/tmp/result.csv')\n"
      ],
      "metadata": {
        "id": "aGzG8UmyFoy8",
        "colab": {
          "base_uri": "https://localhost:8080/",
          "height": 253
        },
        "outputId": "753e8797-24cd-437f-915a-e5c5a46d17f9",
        "cellView": "form"
      },
      "execution_count": 24,
      "outputs": [
        {
          "output_type": "display_data",
          "data": {
            "text/html": [
              "<div>\n",
              "<style scoped>\n",
              "    .dataframe tbody tr th:only-of-type {\n",
              "        vertical-align: middle;\n",
              "    }\n",
              "\n",
              "    .dataframe tbody tr th {\n",
              "        vertical-align: top;\n",
              "    }\n",
              "\n",
              "    .dataframe thead th {\n",
              "        text-align: right;\n",
              "    }\n",
              "</style>\n",
              "<table border=\"1\" class=\"dataframe\">\n",
              "  <thead>\n",
              "    <tr style=\"text-align: right;\">\n",
              "      <th></th>\n",
              "      <th>pc</th>\n",
              "      <th>instruction</th>\n",
              "      <th>changes_from_zero_or_current_value</th>\n",
              "    </tr>\n",
              "  </thead>\n",
              "  <tbody>\n",
              "    <tr>\n",
              "      <th>0</th>\n",
              "      <td>pc = 0x8000</td>\n",
              "      <td>li a0 0xF875</td>\n",
              "      <td>register R10 = 0xf000; register PC = 0x8004</td>\n",
              "    </tr>\n",
              "    <tr>\n",
              "      <th>1</th>\n",
              "      <td>pc = 0x8004</td>\n",
              "      <td></td>\n",
              "      <td>register R10 = 0xf875; register PC = 0x8008</td>\n",
              "    </tr>\n",
              "    <tr>\n",
              "      <th>2</th>\n",
              "      <td>pc = 0x8008</td>\n",
              "      <td>li a1 0x00FF</td>\n",
              "      <td>register PC = 0x800c</td>\n",
              "    </tr>\n",
              "    <tr>\n",
              "      <th>3</th>\n",
              "      <td>pc = 0x800c</td>\n",
              "      <td></td>\n",
              "      <td>register R11 = 0xff; register PC = 0x8010</td>\n",
              "    </tr>\n",
              "    <tr>\n",
              "      <th>4</th>\n",
              "      <td>pc = 0x8010</td>\n",
              "      <td>and a2 a0 a1</td>\n",
              "      <td>register R12 = 0x75; register PC = 0x8014</td>\n",
              "    </tr>\n",
              "    <tr>\n",
              "      <th>5</th>\n",
              "      <td>pc = 0x8014</td>\n",
              "      <td>andi a3 a0 0xFF</td>\n",
              "      <td>register R13 = 0xf974; register PC = 0x8018</td>\n",
              "    </tr>\n",
              "  </tbody>\n",
              "</table>\n",
              "</div>"
            ],
            "application/vnd.google.colaboratory.module+javascript": "\n      import \"https://ssl.gstatic.com/colaboratory/data_table/881c4a0d49046431/data_table.js\";\n\n      const table = window.createDataTable({\n        data: [[\"pc = 0x8000\",\n\"li a0 0xF875\",\n\"register R10 = 0xf000; register PC = 0x8004\"],\n [\"pc = 0x8004\",\n\"\",\n\"register R10 = 0xf875; register PC = 0x8008\"],\n [\"pc = 0x8008\",\n\"li a1 0x00FF\",\n\"register PC = 0x800c\"],\n [\"pc = 0x800c\",\n\"\",\n\"register R11 = 0xff; register PC = 0x8010\"],\n [\"pc = 0x8010\",\n\"and a2 a0 a1\",\n\"register R12 = 0x75; register PC = 0x8014\"],\n [\"pc = 0x8014\",\n\"andi a3 a0 0xFF\",\n\"register R13 = 0xf974; register PC = 0x8018\"]],\n        columns: [[\"string\", \"pc\"], [\"string\", \"instruction\"], [\"string\", \"changes_from_zero_or_current_value\"]],\n        columnOptions: [],\n        rowsPerPage: 20,\n        helpUrl: \"https://colab.research.google.com/notebooks/data_table.ipynb\",\n        suppressOutputScrolling: true,\n        minimumWidth: undefined,\n      });\n\n      function appendQuickchartButton(parentElement) {\n        let quickchartButtonContainerElement = document.createElement('div');\n        quickchartButtonContainerElement.innerHTML = `\n<div id=\"df-08c576e7-7135-4ab7-928c-210e8eaedb80\">\n  <button class=\"colab-df-quickchart\" onclick=\"quickchart('df-08c576e7-7135-4ab7-928c-210e8eaedb80')\"\n            title=\"Suggest charts\"\n            style=\"display:none;\">\n    \n<svg xmlns=\"http://www.w3.org/2000/svg\" height=\"24px\"viewBox=\"0 0 24 24\"\n     width=\"24px\">\n    <g>\n        <path d=\"M19 3H5c-1.1 0-2 .9-2 2v14c0 1.1.9 2 2 2h14c1.1 0 2-.9 2-2V5c0-1.1-.9-2-2-2zM9 17H7v-7h2v7zm4 0h-2V7h2v10zm4 0h-2v-4h2v4z\"/>\n    </g>\n</svg>\n  </button>\n  \n<style>\n  .colab-df-quickchart {\n      --bg-color: #E8F0FE;\n      --fill-color: #1967D2;\n      --hover-bg-color: #E2EBFA;\n      --hover-fill-color: #174EA6;\n      --disabled-fill-color: #AAA;\n      --disabled-bg-color: #DDD;\n  }\n\n  [theme=dark] .colab-df-quickchart {\n      --bg-color: #3B4455;\n      --fill-color: #D2E3FC;\n      --hover-bg-color: #434B5C;\n      --hover-fill-color: #FFFFFF;\n      --disabled-bg-color: #3B4455;\n      --disabled-fill-color: #666;\n  }\n\n  .colab-df-quickchart {\n    background-color: var(--bg-color);\n    border: none;\n    border-radius: 50%;\n    cursor: pointer;\n    display: none;\n    fill: var(--fill-color);\n    height: 32px;\n    padding: 0;\n    width: 32px;\n  }\n\n  .colab-df-quickchart:hover {\n    background-color: var(--hover-bg-color);\n    box-shadow: 0 1px 2px rgba(60, 64, 67, 0.3), 0 1px 3px 1px rgba(60, 64, 67, 0.15);\n    fill: var(--button-hover-fill-color);\n  }\n\n  .colab-df-quickchart-complete:disabled,\n  .colab-df-quickchart-complete:disabled:hover {\n    background-color: var(--disabled-bg-color);\n    fill: var(--disabled-fill-color);\n    box-shadow: none;\n  }\n\n  .colab-df-spinner {\n    border: 2px solid var(--fill-color);\n    border-color: transparent;\n    border-bottom-color: var(--fill-color);\n    animation:\n      spin 1s steps(1) infinite;\n  }\n\n  @keyframes spin {\n    0% {\n      border-color: transparent;\n      border-bottom-color: var(--fill-color);\n      border-left-color: var(--fill-color);\n    }\n    20% {\n      border-color: transparent;\n      border-left-color: var(--fill-color);\n      border-top-color: var(--fill-color);\n    }\n    30% {\n      border-color: transparent;\n      border-left-color: var(--fill-color);\n      border-top-color: var(--fill-color);\n      border-right-color: var(--fill-color);\n    }\n    40% {\n      border-color: transparent;\n      border-right-color: var(--fill-color);\n      border-top-color: var(--fill-color);\n    }\n    60% {\n      border-color: transparent;\n      border-right-color: var(--fill-color);\n    }\n    80% {\n      border-color: transparent;\n      border-right-color: var(--fill-color);\n      border-bottom-color: var(--fill-color);\n    }\n    90% {\n      border-color: transparent;\n      border-bottom-color: var(--fill-color);\n    }\n  }\n</style>\n\n  <script>\n    async function quickchart(key) {\n      const quickchartButtonEl =\n        document.querySelector('#' + key + ' button');\n      quickchartButtonEl.disabled = true;  // To prevent multiple clicks.\n      quickchartButtonEl.classList.add('colab-df-spinner');\n      try {\n        const charts = await google.colab.kernel.invokeFunction(\n            'suggestCharts', [key], {});\n      } catch (error) {\n        console.error('Error during call to suggestCharts:', error);\n      }\n      quickchartButtonEl.classList.remove('colab-df-spinner');\n      quickchartButtonEl.classList.add('colab-df-quickchart-complete');\n    }\n    (() => {\n      let quickchartButtonEl =\n        document.querySelector('#df-08c576e7-7135-4ab7-928c-210e8eaedb80 button');\n      quickchartButtonEl.style.display =\n        google.colab.kernel.accessAllowed ? 'block' : 'none';\n    })();\n  </script>\n</div>`;\n        parentElement.appendChild(quickchartButtonContainerElement);\n      }\n\n      appendQuickchartButton(table);\n    ",
            "text/plain": [
              "<google.colab.data_table.DataTable object>"
            ]
          },
          "metadata": {}
        }
      ]
    },
    {
      "cell_type": "markdown",
      "source": [
        "## Xor: xor, xori\n",
        "\n",
        "* Example:\n",
        "  ```\n",
        "  .text\n",
        "  main:\n",
        "    li      a0, 0xF875\n",
        "    li      a1, 0x00FF\n",
        "    xor     a2, a0, a1    # a2 = 0xF875 ^ 0x00FF\n",
        "    xori    a3, a0, 0xFF  # a2 = 0xF875 ^ 0x00FF\n",
        "  ```"
      ],
      "metadata": {
        "id": "xor1"
      }
    },
    {
      "cell_type": "code",
      "source": [
        "#@markdown <font size='4'>Run the cell above</font>\n",
        "search_term = 'id:xor1'\n",
        "write_cell_above_to_file(search_term, '/tmp/example.asm')\n",
        "\n",
        "!./wepsim/wepsim.sh -a stepbystep -m ep -f ./wepsim/repo/microcode/rv32/ep_base.mc -s /tmp/example.asm > /tmp/result.csv\n",
        "\n",
        "status, df1 = show_results('/tmp/result.csv')\n"
      ],
      "metadata": {
        "id": "aGzG8UmyFoy9",
        "colab": {
          "base_uri": "https://localhost:8080/",
          "height": 253
        },
        "outputId": "887a3842-0479-4cb0-a4db-b112005f5458",
        "cellView": "form"
      },
      "execution_count": 25,
      "outputs": [
        {
          "output_type": "display_data",
          "data": {
            "text/html": [
              "<div>\n",
              "<style scoped>\n",
              "    .dataframe tbody tr th:only-of-type {\n",
              "        vertical-align: middle;\n",
              "    }\n",
              "\n",
              "    .dataframe tbody tr th {\n",
              "        vertical-align: top;\n",
              "    }\n",
              "\n",
              "    .dataframe thead th {\n",
              "        text-align: right;\n",
              "    }\n",
              "</style>\n",
              "<table border=\"1\" class=\"dataframe\">\n",
              "  <thead>\n",
              "    <tr style=\"text-align: right;\">\n",
              "      <th></th>\n",
              "      <th>pc</th>\n",
              "      <th>instruction</th>\n",
              "      <th>changes_from_zero_or_current_value</th>\n",
              "    </tr>\n",
              "  </thead>\n",
              "  <tbody>\n",
              "    <tr>\n",
              "      <th>0</th>\n",
              "      <td>pc = 0x8000</td>\n",
              "      <td>li a0 0xF875</td>\n",
              "      <td>register R10 = 0xf000; register PC = 0x8004</td>\n",
              "    </tr>\n",
              "    <tr>\n",
              "      <th>1</th>\n",
              "      <td>pc = 0x8004</td>\n",
              "      <td></td>\n",
              "      <td>register R10 = 0xf875; register PC = 0x8008</td>\n",
              "    </tr>\n",
              "    <tr>\n",
              "      <th>2</th>\n",
              "      <td>pc = 0x8008</td>\n",
              "      <td>li a1 0x00FF</td>\n",
              "      <td>register PC = 0x800c</td>\n",
              "    </tr>\n",
              "    <tr>\n",
              "      <th>3</th>\n",
              "      <td>pc = 0x800c</td>\n",
              "      <td></td>\n",
              "      <td>register R11 = 0xff; register PC = 0x8010</td>\n",
              "    </tr>\n",
              "    <tr>\n",
              "      <th>4</th>\n",
              "      <td>pc = 0x8010</td>\n",
              "      <td>xor a2 a0 a1</td>\n",
              "      <td>register R12 = 0xf88a; register PC = 0x8014</td>\n",
              "    </tr>\n",
              "    <tr>\n",
              "      <th>5</th>\n",
              "      <td>pc = 0x8014</td>\n",
              "      <td>xori a3 a0 0xFF</td>\n",
              "      <td>register R13 = 0xf88a; register PC = 0x8018</td>\n",
              "    </tr>\n",
              "  </tbody>\n",
              "</table>\n",
              "</div>"
            ],
            "application/vnd.google.colaboratory.module+javascript": "\n      import \"https://ssl.gstatic.com/colaboratory/data_table/881c4a0d49046431/data_table.js\";\n\n      const table = window.createDataTable({\n        data: [[\"pc = 0x8000\",\n\"li a0 0xF875\",\n\"register R10 = 0xf000; register PC = 0x8004\"],\n [\"pc = 0x8004\",\n\"\",\n\"register R10 = 0xf875; register PC = 0x8008\"],\n [\"pc = 0x8008\",\n\"li a1 0x00FF\",\n\"register PC = 0x800c\"],\n [\"pc = 0x800c\",\n\"\",\n\"register R11 = 0xff; register PC = 0x8010\"],\n [\"pc = 0x8010\",\n\"xor a2 a0 a1\",\n\"register R12 = 0xf88a; register PC = 0x8014\"],\n [\"pc = 0x8014\",\n\"xori a3 a0 0xFF\",\n\"register R13 = 0xf88a; register PC = 0x8018\"]],\n        columns: [[\"string\", \"pc\"], [\"string\", \"instruction\"], [\"string\", \"changes_from_zero_or_current_value\"]],\n        columnOptions: [],\n        rowsPerPage: 20,\n        helpUrl: \"https://colab.research.google.com/notebooks/data_table.ipynb\",\n        suppressOutputScrolling: true,\n        minimumWidth: undefined,\n      });\n\n      function appendQuickchartButton(parentElement) {\n        let quickchartButtonContainerElement = document.createElement('div');\n        quickchartButtonContainerElement.innerHTML = `\n<div id=\"df-7faadb3f-997a-4d38-bdcb-8c84523ed6bf\">\n  <button class=\"colab-df-quickchart\" onclick=\"quickchart('df-7faadb3f-997a-4d38-bdcb-8c84523ed6bf')\"\n            title=\"Suggest charts\"\n            style=\"display:none;\">\n    \n<svg xmlns=\"http://www.w3.org/2000/svg\" height=\"24px\"viewBox=\"0 0 24 24\"\n     width=\"24px\">\n    <g>\n        <path d=\"M19 3H5c-1.1 0-2 .9-2 2v14c0 1.1.9 2 2 2h14c1.1 0 2-.9 2-2V5c0-1.1-.9-2-2-2zM9 17H7v-7h2v7zm4 0h-2V7h2v10zm4 0h-2v-4h2v4z\"/>\n    </g>\n</svg>\n  </button>\n  \n<style>\n  .colab-df-quickchart {\n      --bg-color: #E8F0FE;\n      --fill-color: #1967D2;\n      --hover-bg-color: #E2EBFA;\n      --hover-fill-color: #174EA6;\n      --disabled-fill-color: #AAA;\n      --disabled-bg-color: #DDD;\n  }\n\n  [theme=dark] .colab-df-quickchart {\n      --bg-color: #3B4455;\n      --fill-color: #D2E3FC;\n      --hover-bg-color: #434B5C;\n      --hover-fill-color: #FFFFFF;\n      --disabled-bg-color: #3B4455;\n      --disabled-fill-color: #666;\n  }\n\n  .colab-df-quickchart {\n    background-color: var(--bg-color);\n    border: none;\n    border-radius: 50%;\n    cursor: pointer;\n    display: none;\n    fill: var(--fill-color);\n    height: 32px;\n    padding: 0;\n    width: 32px;\n  }\n\n  .colab-df-quickchart:hover {\n    background-color: var(--hover-bg-color);\n    box-shadow: 0 1px 2px rgba(60, 64, 67, 0.3), 0 1px 3px 1px rgba(60, 64, 67, 0.15);\n    fill: var(--button-hover-fill-color);\n  }\n\n  .colab-df-quickchart-complete:disabled,\n  .colab-df-quickchart-complete:disabled:hover {\n    background-color: var(--disabled-bg-color);\n    fill: var(--disabled-fill-color);\n    box-shadow: none;\n  }\n\n  .colab-df-spinner {\n    border: 2px solid var(--fill-color);\n    border-color: transparent;\n    border-bottom-color: var(--fill-color);\n    animation:\n      spin 1s steps(1) infinite;\n  }\n\n  @keyframes spin {\n    0% {\n      border-color: transparent;\n      border-bottom-color: var(--fill-color);\n      border-left-color: var(--fill-color);\n    }\n    20% {\n      border-color: transparent;\n      border-left-color: var(--fill-color);\n      border-top-color: var(--fill-color);\n    }\n    30% {\n      border-color: transparent;\n      border-left-color: var(--fill-color);\n      border-top-color: var(--fill-color);\n      border-right-color: var(--fill-color);\n    }\n    40% {\n      border-color: transparent;\n      border-right-color: var(--fill-color);\n      border-top-color: var(--fill-color);\n    }\n    60% {\n      border-color: transparent;\n      border-right-color: var(--fill-color);\n    }\n    80% {\n      border-color: transparent;\n      border-right-color: var(--fill-color);\n      border-bottom-color: var(--fill-color);\n    }\n    90% {\n      border-color: transparent;\n      border-bottom-color: var(--fill-color);\n    }\n  }\n</style>\n\n  <script>\n    async function quickchart(key) {\n      const quickchartButtonEl =\n        document.querySelector('#' + key + ' button');\n      quickchartButtonEl.disabled = true;  // To prevent multiple clicks.\n      quickchartButtonEl.classList.add('colab-df-spinner');\n      try {\n        const charts = await google.colab.kernel.invokeFunction(\n            'suggestCharts', [key], {});\n      } catch (error) {\n        console.error('Error during call to suggestCharts:', error);\n      }\n      quickchartButtonEl.classList.remove('colab-df-spinner');\n      quickchartButtonEl.classList.add('colab-df-quickchart-complete');\n    }\n    (() => {\n      let quickchartButtonEl =\n        document.querySelector('#df-7faadb3f-997a-4d38-bdcb-8c84523ed6bf button');\n      quickchartButtonEl.style.display =\n        google.colab.kernel.accessAllowed ? 'block' : 'none';\n    })();\n  </script>\n</div>`;\n        parentElement.appendChild(quickchartButtonContainerElement);\n      }\n\n      appendQuickchartButton(table);\n    ",
            "text/plain": [
              "<google.colab.data_table.DataTable object>"
            ]
          },
          "metadata": {}
        }
      ]
    },
    {
      "cell_type": "markdown",
      "source": [
        "## Shift Right Logical: srl, srli\n",
        "\n",
        "* Example:\n",
        "  ```\n",
        "  .text\n",
        "  main:\n",
        "    li      a0, 0x010\n",
        "    li      a1, 0x3\n",
        "    srl     a2, a0, a1   # a2 = 0x010 >> 3\n",
        "    srli    a2, a0, 3    # a2 = 0x010 >> 3\n",
        "  ```"
      ],
      "metadata": {
        "id": "srl1"
      }
    },
    {
      "cell_type": "code",
      "source": [
        "#@markdown <font size='4'>Run the cell above</font>\n",
        "search_term = 'id:srl1'\n",
        "write_cell_above_to_file(search_term, '/tmp/example.asm')\n",
        "\n",
        "!./wepsim/wepsim.sh -a stepbystep -m ep -f ./wepsim/repo/microcode/rv32/ep_base.mc -s /tmp/example.asm > /tmp/result.csv\n",
        "\n",
        "status, df1 = show_results('/tmp/result.csv')\n"
      ],
      "metadata": {
        "id": "aGzG8UmyFoyB",
        "colab": {
          "base_uri": "https://localhost:8080/",
          "height": 253
        },
        "outputId": "6b65c206-fb1a-47d4-8757-7556cd6352f4",
        "cellView": "form"
      },
      "execution_count": 26,
      "outputs": [
        {
          "output_type": "display_data",
          "data": {
            "text/html": [
              "<div>\n",
              "<style scoped>\n",
              "    .dataframe tbody tr th:only-of-type {\n",
              "        vertical-align: middle;\n",
              "    }\n",
              "\n",
              "    .dataframe tbody tr th {\n",
              "        vertical-align: top;\n",
              "    }\n",
              "\n",
              "    .dataframe thead th {\n",
              "        text-align: right;\n",
              "    }\n",
              "</style>\n",
              "<table border=\"1\" class=\"dataframe\">\n",
              "  <thead>\n",
              "    <tr style=\"text-align: right;\">\n",
              "      <th></th>\n",
              "      <th>pc</th>\n",
              "      <th>instruction</th>\n",
              "      <th>changes_from_zero_or_current_value</th>\n",
              "    </tr>\n",
              "  </thead>\n",
              "  <tbody>\n",
              "    <tr>\n",
              "      <th>0</th>\n",
              "      <td>pc = 0x8000</td>\n",
              "      <td>li a0 0x010</td>\n",
              "      <td>register PC = 0x8004</td>\n",
              "    </tr>\n",
              "    <tr>\n",
              "      <th>1</th>\n",
              "      <td>pc = 0x8004</td>\n",
              "      <td></td>\n",
              "      <td>register R10 = 0x10; register PC = 0x8008</td>\n",
              "    </tr>\n",
              "    <tr>\n",
              "      <th>2</th>\n",
              "      <td>pc = 0x8008</td>\n",
              "      <td>li a1 0x3</td>\n",
              "      <td>register PC = 0x800c</td>\n",
              "    </tr>\n",
              "    <tr>\n",
              "      <th>3</th>\n",
              "      <td>pc = 0x800c</td>\n",
              "      <td></td>\n",
              "      <td>register R11 = 0x3; register PC = 0x8010</td>\n",
              "    </tr>\n",
              "    <tr>\n",
              "      <th>4</th>\n",
              "      <td>pc = 0x8010</td>\n",
              "      <td>srl a2 a0 a1</td>\n",
              "      <td>register R12 = 0x2; register PC = 0x8014</td>\n",
              "    </tr>\n",
              "    <tr>\n",
              "      <th>5</th>\n",
              "      <td>pc = 0x8014</td>\n",
              "      <td>srli a2 a0 3</td>\n",
              "      <td>register PC = 0x8018</td>\n",
              "    </tr>\n",
              "  </tbody>\n",
              "</table>\n",
              "</div>"
            ],
            "application/vnd.google.colaboratory.module+javascript": "\n      import \"https://ssl.gstatic.com/colaboratory/data_table/881c4a0d49046431/data_table.js\";\n\n      const table = window.createDataTable({\n        data: [[\"pc = 0x8000\",\n\"li a0 0x010\",\n\"register PC = 0x8004\"],\n [\"pc = 0x8004\",\n\"\",\n\"register R10 = 0x10; register PC = 0x8008\"],\n [\"pc = 0x8008\",\n\"li a1 0x3\",\n\"register PC = 0x800c\"],\n [\"pc = 0x800c\",\n\"\",\n\"register R11 = 0x3; register PC = 0x8010\"],\n [\"pc = 0x8010\",\n\"srl a2 a0 a1\",\n\"register R12 = 0x2; register PC = 0x8014\"],\n [\"pc = 0x8014\",\n\"srli a2 a0 3\",\n\"register PC = 0x8018\"]],\n        columns: [[\"string\", \"pc\"], [\"string\", \"instruction\"], [\"string\", \"changes_from_zero_or_current_value\"]],\n        columnOptions: [],\n        rowsPerPage: 20,\n        helpUrl: \"https://colab.research.google.com/notebooks/data_table.ipynb\",\n        suppressOutputScrolling: true,\n        minimumWidth: undefined,\n      });\n\n      function appendQuickchartButton(parentElement) {\n        let quickchartButtonContainerElement = document.createElement('div');\n        quickchartButtonContainerElement.innerHTML = `\n<div id=\"df-1f4d9033-aa98-4ec9-8f5f-bc4422fb96c3\">\n  <button class=\"colab-df-quickchart\" onclick=\"quickchart('df-1f4d9033-aa98-4ec9-8f5f-bc4422fb96c3')\"\n            title=\"Suggest charts\"\n            style=\"display:none;\">\n    \n<svg xmlns=\"http://www.w3.org/2000/svg\" height=\"24px\"viewBox=\"0 0 24 24\"\n     width=\"24px\">\n    <g>\n        <path d=\"M19 3H5c-1.1 0-2 .9-2 2v14c0 1.1.9 2 2 2h14c1.1 0 2-.9 2-2V5c0-1.1-.9-2-2-2zM9 17H7v-7h2v7zm4 0h-2V7h2v10zm4 0h-2v-4h2v4z\"/>\n    </g>\n</svg>\n  </button>\n  \n<style>\n  .colab-df-quickchart {\n      --bg-color: #E8F0FE;\n      --fill-color: #1967D2;\n      --hover-bg-color: #E2EBFA;\n      --hover-fill-color: #174EA6;\n      --disabled-fill-color: #AAA;\n      --disabled-bg-color: #DDD;\n  }\n\n  [theme=dark] .colab-df-quickchart {\n      --bg-color: #3B4455;\n      --fill-color: #D2E3FC;\n      --hover-bg-color: #434B5C;\n      --hover-fill-color: #FFFFFF;\n      --disabled-bg-color: #3B4455;\n      --disabled-fill-color: #666;\n  }\n\n  .colab-df-quickchart {\n    background-color: var(--bg-color);\n    border: none;\n    border-radius: 50%;\n    cursor: pointer;\n    display: none;\n    fill: var(--fill-color);\n    height: 32px;\n    padding: 0;\n    width: 32px;\n  }\n\n  .colab-df-quickchart:hover {\n    background-color: var(--hover-bg-color);\n    box-shadow: 0 1px 2px rgba(60, 64, 67, 0.3), 0 1px 3px 1px rgba(60, 64, 67, 0.15);\n    fill: var(--button-hover-fill-color);\n  }\n\n  .colab-df-quickchart-complete:disabled,\n  .colab-df-quickchart-complete:disabled:hover {\n    background-color: var(--disabled-bg-color);\n    fill: var(--disabled-fill-color);\n    box-shadow: none;\n  }\n\n  .colab-df-spinner {\n    border: 2px solid var(--fill-color);\n    border-color: transparent;\n    border-bottom-color: var(--fill-color);\n    animation:\n      spin 1s steps(1) infinite;\n  }\n\n  @keyframes spin {\n    0% {\n      border-color: transparent;\n      border-bottom-color: var(--fill-color);\n      border-left-color: var(--fill-color);\n    }\n    20% {\n      border-color: transparent;\n      border-left-color: var(--fill-color);\n      border-top-color: var(--fill-color);\n    }\n    30% {\n      border-color: transparent;\n      border-left-color: var(--fill-color);\n      border-top-color: var(--fill-color);\n      border-right-color: var(--fill-color);\n    }\n    40% {\n      border-color: transparent;\n      border-right-color: var(--fill-color);\n      border-top-color: var(--fill-color);\n    }\n    60% {\n      border-color: transparent;\n      border-right-color: var(--fill-color);\n    }\n    80% {\n      border-color: transparent;\n      border-right-color: var(--fill-color);\n      border-bottom-color: var(--fill-color);\n    }\n    90% {\n      border-color: transparent;\n      border-bottom-color: var(--fill-color);\n    }\n  }\n</style>\n\n  <script>\n    async function quickchart(key) {\n      const quickchartButtonEl =\n        document.querySelector('#' + key + ' button');\n      quickchartButtonEl.disabled = true;  // To prevent multiple clicks.\n      quickchartButtonEl.classList.add('colab-df-spinner');\n      try {\n        const charts = await google.colab.kernel.invokeFunction(\n            'suggestCharts', [key], {});\n      } catch (error) {\n        console.error('Error during call to suggestCharts:', error);\n      }\n      quickchartButtonEl.classList.remove('colab-df-spinner');\n      quickchartButtonEl.classList.add('colab-df-quickchart-complete');\n    }\n    (() => {\n      let quickchartButtonEl =\n        document.querySelector('#df-1f4d9033-aa98-4ec9-8f5f-bc4422fb96c3 button');\n      quickchartButtonEl.style.display =\n        google.colab.kernel.accessAllowed ? 'block' : 'none';\n    })();\n  </script>\n</div>`;\n        parentElement.appendChild(quickchartButtonContainerElement);\n      }\n\n      appendQuickchartButton(table);\n    ",
            "text/plain": [
              "<google.colab.data_table.DataTable object>"
            ]
          },
          "metadata": {}
        }
      ]
    },
    {
      "cell_type": "markdown",
      "source": [
        "# Shift instructions"
      ],
      "metadata": {
        "id": "lx-0HxmxSzoC"
      }
    },
    {
      "cell_type": "markdown",
      "source": [
        "## Shift Left Logical: sll, slli\n",
        "\n",
        "* Example:\n",
        "  ```\n",
        "  .text\n",
        "  main:\n",
        "    li      a0, 0x010\n",
        "    li      a1, 0x3\n",
        "    sll     a2, a0, a1   # a2 = 0x010 << 3\n",
        "    slli    a2, a0, 3    # a2 = 0x010 << 3\n",
        "  ```"
      ],
      "metadata": {
        "id": "sll1"
      }
    },
    {
      "cell_type": "code",
      "source": [
        "#@markdown <font size='4'>Run the cell above</font>\n",
        "search_term = 'id:sll1'\n",
        "write_cell_above_to_file(search_term, '/tmp/example.asm')\n",
        "\n",
        "!./wepsim/wepsim.sh -a stepbystep -m ep -f ./wepsim/repo/microcode/rv32/ep_base.mc -s /tmp/example.asm > /tmp/result.csv\n",
        "\n",
        "status, df1 = show_results('/tmp/result.csv')\n"
      ],
      "metadata": {
        "id": "aGzG8UmyFoyC",
        "colab": {
          "base_uri": "https://localhost:8080/",
          "height": 253
        },
        "outputId": "81d713aa-8b99-47df-b44a-8bc283d874f6",
        "cellView": "form"
      },
      "execution_count": 27,
      "outputs": [
        {
          "output_type": "display_data",
          "data": {
            "text/html": [
              "<div>\n",
              "<style scoped>\n",
              "    .dataframe tbody tr th:only-of-type {\n",
              "        vertical-align: middle;\n",
              "    }\n",
              "\n",
              "    .dataframe tbody tr th {\n",
              "        vertical-align: top;\n",
              "    }\n",
              "\n",
              "    .dataframe thead th {\n",
              "        text-align: right;\n",
              "    }\n",
              "</style>\n",
              "<table border=\"1\" class=\"dataframe\">\n",
              "  <thead>\n",
              "    <tr style=\"text-align: right;\">\n",
              "      <th></th>\n",
              "      <th>pc</th>\n",
              "      <th>instruction</th>\n",
              "      <th>changes_from_zero_or_current_value</th>\n",
              "    </tr>\n",
              "  </thead>\n",
              "  <tbody>\n",
              "    <tr>\n",
              "      <th>0</th>\n",
              "      <td>pc = 0x8000</td>\n",
              "      <td>li a0 0x010</td>\n",
              "      <td>register PC = 0x8004</td>\n",
              "    </tr>\n",
              "    <tr>\n",
              "      <th>1</th>\n",
              "      <td>pc = 0x8004</td>\n",
              "      <td></td>\n",
              "      <td>register R10 = 0x10; register PC = 0x8008</td>\n",
              "    </tr>\n",
              "    <tr>\n",
              "      <th>2</th>\n",
              "      <td>pc = 0x8008</td>\n",
              "      <td>li a1 0x3</td>\n",
              "      <td>register PC = 0x800c</td>\n",
              "    </tr>\n",
              "    <tr>\n",
              "      <th>3</th>\n",
              "      <td>pc = 0x800c</td>\n",
              "      <td></td>\n",
              "      <td>register R11 = 0x3; register PC = 0x8010</td>\n",
              "    </tr>\n",
              "    <tr>\n",
              "      <th>4</th>\n",
              "      <td>pc = 0x8010</td>\n",
              "      <td>sll a2 a0 a1</td>\n",
              "      <td>register R12 = 0x80; register PC = 0x8014</td>\n",
              "    </tr>\n",
              "    <tr>\n",
              "      <th>5</th>\n",
              "      <td>pc = 0x8014</td>\n",
              "      <td>slli a2 a0 3</td>\n",
              "      <td>register PC = 0x8018</td>\n",
              "    </tr>\n",
              "  </tbody>\n",
              "</table>\n",
              "</div>"
            ],
            "application/vnd.google.colaboratory.module+javascript": "\n      import \"https://ssl.gstatic.com/colaboratory/data_table/881c4a0d49046431/data_table.js\";\n\n      const table = window.createDataTable({\n        data: [[\"pc = 0x8000\",\n\"li a0 0x010\",\n\"register PC = 0x8004\"],\n [\"pc = 0x8004\",\n\"\",\n\"register R10 = 0x10; register PC = 0x8008\"],\n [\"pc = 0x8008\",\n\"li a1 0x3\",\n\"register PC = 0x800c\"],\n [\"pc = 0x800c\",\n\"\",\n\"register R11 = 0x3; register PC = 0x8010\"],\n [\"pc = 0x8010\",\n\"sll a2 a0 a1\",\n\"register R12 = 0x80; register PC = 0x8014\"],\n [\"pc = 0x8014\",\n\"slli a2 a0 3\",\n\"register PC = 0x8018\"]],\n        columns: [[\"string\", \"pc\"], [\"string\", \"instruction\"], [\"string\", \"changes_from_zero_or_current_value\"]],\n        columnOptions: [],\n        rowsPerPage: 20,\n        helpUrl: \"https://colab.research.google.com/notebooks/data_table.ipynb\",\n        suppressOutputScrolling: true,\n        minimumWidth: undefined,\n      });\n\n      function appendQuickchartButton(parentElement) {\n        let quickchartButtonContainerElement = document.createElement('div');\n        quickchartButtonContainerElement.innerHTML = `\n<div id=\"df-9b4b79e0-a048-4cd1-843d-bb97cec10dea\">\n  <button class=\"colab-df-quickchart\" onclick=\"quickchart('df-9b4b79e0-a048-4cd1-843d-bb97cec10dea')\"\n            title=\"Suggest charts\"\n            style=\"display:none;\">\n    \n<svg xmlns=\"http://www.w3.org/2000/svg\" height=\"24px\"viewBox=\"0 0 24 24\"\n     width=\"24px\">\n    <g>\n        <path d=\"M19 3H5c-1.1 0-2 .9-2 2v14c0 1.1.9 2 2 2h14c1.1 0 2-.9 2-2V5c0-1.1-.9-2-2-2zM9 17H7v-7h2v7zm4 0h-2V7h2v10zm4 0h-2v-4h2v4z\"/>\n    </g>\n</svg>\n  </button>\n  \n<style>\n  .colab-df-quickchart {\n      --bg-color: #E8F0FE;\n      --fill-color: #1967D2;\n      --hover-bg-color: #E2EBFA;\n      --hover-fill-color: #174EA6;\n      --disabled-fill-color: #AAA;\n      --disabled-bg-color: #DDD;\n  }\n\n  [theme=dark] .colab-df-quickchart {\n      --bg-color: #3B4455;\n      --fill-color: #D2E3FC;\n      --hover-bg-color: #434B5C;\n      --hover-fill-color: #FFFFFF;\n      --disabled-bg-color: #3B4455;\n      --disabled-fill-color: #666;\n  }\n\n  .colab-df-quickchart {\n    background-color: var(--bg-color);\n    border: none;\n    border-radius: 50%;\n    cursor: pointer;\n    display: none;\n    fill: var(--fill-color);\n    height: 32px;\n    padding: 0;\n    width: 32px;\n  }\n\n  .colab-df-quickchart:hover {\n    background-color: var(--hover-bg-color);\n    box-shadow: 0 1px 2px rgba(60, 64, 67, 0.3), 0 1px 3px 1px rgba(60, 64, 67, 0.15);\n    fill: var(--button-hover-fill-color);\n  }\n\n  .colab-df-quickchart-complete:disabled,\n  .colab-df-quickchart-complete:disabled:hover {\n    background-color: var(--disabled-bg-color);\n    fill: var(--disabled-fill-color);\n    box-shadow: none;\n  }\n\n  .colab-df-spinner {\n    border: 2px solid var(--fill-color);\n    border-color: transparent;\n    border-bottom-color: var(--fill-color);\n    animation:\n      spin 1s steps(1) infinite;\n  }\n\n  @keyframes spin {\n    0% {\n      border-color: transparent;\n      border-bottom-color: var(--fill-color);\n      border-left-color: var(--fill-color);\n    }\n    20% {\n      border-color: transparent;\n      border-left-color: var(--fill-color);\n      border-top-color: var(--fill-color);\n    }\n    30% {\n      border-color: transparent;\n      border-left-color: var(--fill-color);\n      border-top-color: var(--fill-color);\n      border-right-color: var(--fill-color);\n    }\n    40% {\n      border-color: transparent;\n      border-right-color: var(--fill-color);\n      border-top-color: var(--fill-color);\n    }\n    60% {\n      border-color: transparent;\n      border-right-color: var(--fill-color);\n    }\n    80% {\n      border-color: transparent;\n      border-right-color: var(--fill-color);\n      border-bottom-color: var(--fill-color);\n    }\n    90% {\n      border-color: transparent;\n      border-bottom-color: var(--fill-color);\n    }\n  }\n</style>\n\n  <script>\n    async function quickchart(key) {\n      const quickchartButtonEl =\n        document.querySelector('#' + key + ' button');\n      quickchartButtonEl.disabled = true;  // To prevent multiple clicks.\n      quickchartButtonEl.classList.add('colab-df-spinner');\n      try {\n        const charts = await google.colab.kernel.invokeFunction(\n            'suggestCharts', [key], {});\n      } catch (error) {\n        console.error('Error during call to suggestCharts:', error);\n      }\n      quickchartButtonEl.classList.remove('colab-df-spinner');\n      quickchartButtonEl.classList.add('colab-df-quickchart-complete');\n    }\n    (() => {\n      let quickchartButtonEl =\n        document.querySelector('#df-9b4b79e0-a048-4cd1-843d-bb97cec10dea button');\n      quickchartButtonEl.style.display =\n        google.colab.kernel.accessAllowed ? 'block' : 'none';\n    })();\n  </script>\n</div>`;\n        parentElement.appendChild(quickchartButtonContainerElement);\n      }\n\n      appendQuickchartButton(table);\n    ",
            "text/plain": [
              "<google.colab.data_table.DataTable object>"
            ]
          },
          "metadata": {}
        }
      ]
    },
    {
      "cell_type": "markdown",
      "source": [
        "## Shift Right Arithmetic: sra, srai\n",
        "\n",
        "* Example:\n",
        "  ```\n",
        "  .text\n",
        "  main:\n",
        "    li      a0, 0x010\n",
        "    li      a1, 0x3\n",
        "    sra     a2, a0, a1   # a2 = 0x010 >> 3\n",
        "    srai    a2, a0, 3    # a2 = 0x010 >> 3\n",
        "  ```"
      ],
      "metadata": {
        "id": "sra1"
      }
    },
    {
      "cell_type": "code",
      "source": [
        "#@markdown <font size='4'>Run the cell above</font>\n",
        "search_term = 'id:sra1'\n",
        "write_cell_above_to_file(search_term, '/tmp/example.asm')\n",
        "\n",
        "!./wepsim/wepsim.sh -a stepbystep -m ep -f ./wepsim/repo/microcode/rv32/ep_base.mc -s /tmp/example.asm > /tmp/result.csv\n",
        "\n",
        "status, df1 = show_results('/tmp/result.csv')\n"
      ],
      "metadata": {
        "id": "aGzG8UmyFoyD",
        "colab": {
          "base_uri": "https://localhost:8080/",
          "height": 253
        },
        "outputId": "51b814e4-c74c-4309-e029-17f0fea06286",
        "cellView": "form"
      },
      "execution_count": 28,
      "outputs": [
        {
          "output_type": "display_data",
          "data": {
            "text/html": [
              "<div>\n",
              "<style scoped>\n",
              "    .dataframe tbody tr th:only-of-type {\n",
              "        vertical-align: middle;\n",
              "    }\n",
              "\n",
              "    .dataframe tbody tr th {\n",
              "        vertical-align: top;\n",
              "    }\n",
              "\n",
              "    .dataframe thead th {\n",
              "        text-align: right;\n",
              "    }\n",
              "</style>\n",
              "<table border=\"1\" class=\"dataframe\">\n",
              "  <thead>\n",
              "    <tr style=\"text-align: right;\">\n",
              "      <th></th>\n",
              "      <th>pc</th>\n",
              "      <th>instruction</th>\n",
              "      <th>changes_from_zero_or_current_value</th>\n",
              "    </tr>\n",
              "  </thead>\n",
              "  <tbody>\n",
              "    <tr>\n",
              "      <th>0</th>\n",
              "      <td>pc = 0x8000</td>\n",
              "      <td>li a0 0x010</td>\n",
              "      <td>register PC = 0x8004</td>\n",
              "    </tr>\n",
              "    <tr>\n",
              "      <th>1</th>\n",
              "      <td>pc = 0x8004</td>\n",
              "      <td></td>\n",
              "      <td>register R10 = 0x10; register PC = 0x8008</td>\n",
              "    </tr>\n",
              "    <tr>\n",
              "      <th>2</th>\n",
              "      <td>pc = 0x8008</td>\n",
              "      <td>li a1 0x3</td>\n",
              "      <td>register PC = 0x800c</td>\n",
              "    </tr>\n",
              "    <tr>\n",
              "      <th>3</th>\n",
              "      <td>pc = 0x800c</td>\n",
              "      <td></td>\n",
              "      <td>register R11 = 0x3; register PC = 0x8010</td>\n",
              "    </tr>\n",
              "    <tr>\n",
              "      <th>4</th>\n",
              "      <td>pc = 0x8010</td>\n",
              "      <td>sra a2 a0 a1</td>\n",
              "      <td>register R12 = 0x2; register PC = 0x8014</td>\n",
              "    </tr>\n",
              "    <tr>\n",
              "      <th>5</th>\n",
              "      <td>pc = 0x8014</td>\n",
              "      <td>srai a2 a0 3</td>\n",
              "      <td>register PC = 0x8018</td>\n",
              "    </tr>\n",
              "  </tbody>\n",
              "</table>\n",
              "</div>"
            ],
            "application/vnd.google.colaboratory.module+javascript": "\n      import \"https://ssl.gstatic.com/colaboratory/data_table/881c4a0d49046431/data_table.js\";\n\n      const table = window.createDataTable({\n        data: [[\"pc = 0x8000\",\n\"li a0 0x010\",\n\"register PC = 0x8004\"],\n [\"pc = 0x8004\",\n\"\",\n\"register R10 = 0x10; register PC = 0x8008\"],\n [\"pc = 0x8008\",\n\"li a1 0x3\",\n\"register PC = 0x800c\"],\n [\"pc = 0x800c\",\n\"\",\n\"register R11 = 0x3; register PC = 0x8010\"],\n [\"pc = 0x8010\",\n\"sra a2 a0 a1\",\n\"register R12 = 0x2; register PC = 0x8014\"],\n [\"pc = 0x8014\",\n\"srai a2 a0 3\",\n\"register PC = 0x8018\"]],\n        columns: [[\"string\", \"pc\"], [\"string\", \"instruction\"], [\"string\", \"changes_from_zero_or_current_value\"]],\n        columnOptions: [],\n        rowsPerPage: 20,\n        helpUrl: \"https://colab.research.google.com/notebooks/data_table.ipynb\",\n        suppressOutputScrolling: true,\n        minimumWidth: undefined,\n      });\n\n      function appendQuickchartButton(parentElement) {\n        let quickchartButtonContainerElement = document.createElement('div');\n        quickchartButtonContainerElement.innerHTML = `\n<div id=\"df-7e286078-8953-47d9-9db7-ef3a9fde6a99\">\n  <button class=\"colab-df-quickchart\" onclick=\"quickchart('df-7e286078-8953-47d9-9db7-ef3a9fde6a99')\"\n            title=\"Suggest charts\"\n            style=\"display:none;\">\n    \n<svg xmlns=\"http://www.w3.org/2000/svg\" height=\"24px\"viewBox=\"0 0 24 24\"\n     width=\"24px\">\n    <g>\n        <path d=\"M19 3H5c-1.1 0-2 .9-2 2v14c0 1.1.9 2 2 2h14c1.1 0 2-.9 2-2V5c0-1.1-.9-2-2-2zM9 17H7v-7h2v7zm4 0h-2V7h2v10zm4 0h-2v-4h2v4z\"/>\n    </g>\n</svg>\n  </button>\n  \n<style>\n  .colab-df-quickchart {\n      --bg-color: #E8F0FE;\n      --fill-color: #1967D2;\n      --hover-bg-color: #E2EBFA;\n      --hover-fill-color: #174EA6;\n      --disabled-fill-color: #AAA;\n      --disabled-bg-color: #DDD;\n  }\n\n  [theme=dark] .colab-df-quickchart {\n      --bg-color: #3B4455;\n      --fill-color: #D2E3FC;\n      --hover-bg-color: #434B5C;\n      --hover-fill-color: #FFFFFF;\n      --disabled-bg-color: #3B4455;\n      --disabled-fill-color: #666;\n  }\n\n  .colab-df-quickchart {\n    background-color: var(--bg-color);\n    border: none;\n    border-radius: 50%;\n    cursor: pointer;\n    display: none;\n    fill: var(--fill-color);\n    height: 32px;\n    padding: 0;\n    width: 32px;\n  }\n\n  .colab-df-quickchart:hover {\n    background-color: var(--hover-bg-color);\n    box-shadow: 0 1px 2px rgba(60, 64, 67, 0.3), 0 1px 3px 1px rgba(60, 64, 67, 0.15);\n    fill: var(--button-hover-fill-color);\n  }\n\n  .colab-df-quickchart-complete:disabled,\n  .colab-df-quickchart-complete:disabled:hover {\n    background-color: var(--disabled-bg-color);\n    fill: var(--disabled-fill-color);\n    box-shadow: none;\n  }\n\n  .colab-df-spinner {\n    border: 2px solid var(--fill-color);\n    border-color: transparent;\n    border-bottom-color: var(--fill-color);\n    animation:\n      spin 1s steps(1) infinite;\n  }\n\n  @keyframes spin {\n    0% {\n      border-color: transparent;\n      border-bottom-color: var(--fill-color);\n      border-left-color: var(--fill-color);\n    }\n    20% {\n      border-color: transparent;\n      border-left-color: var(--fill-color);\n      border-top-color: var(--fill-color);\n    }\n    30% {\n      border-color: transparent;\n      border-left-color: var(--fill-color);\n      border-top-color: var(--fill-color);\n      border-right-color: var(--fill-color);\n    }\n    40% {\n      border-color: transparent;\n      border-right-color: var(--fill-color);\n      border-top-color: var(--fill-color);\n    }\n    60% {\n      border-color: transparent;\n      border-right-color: var(--fill-color);\n    }\n    80% {\n      border-color: transparent;\n      border-right-color: var(--fill-color);\n      border-bottom-color: var(--fill-color);\n    }\n    90% {\n      border-color: transparent;\n      border-bottom-color: var(--fill-color);\n    }\n  }\n</style>\n\n  <script>\n    async function quickchart(key) {\n      const quickchartButtonEl =\n        document.querySelector('#' + key + ' button');\n      quickchartButtonEl.disabled = true;  // To prevent multiple clicks.\n      quickchartButtonEl.classList.add('colab-df-spinner');\n      try {\n        const charts = await google.colab.kernel.invokeFunction(\n            'suggestCharts', [key], {});\n      } catch (error) {\n        console.error('Error during call to suggestCharts:', error);\n      }\n      quickchartButtonEl.classList.remove('colab-df-spinner');\n      quickchartButtonEl.classList.add('colab-df-quickchart-complete');\n    }\n    (() => {\n      let quickchartButtonEl =\n        document.querySelector('#df-7e286078-8953-47d9-9db7-ef3a9fde6a99 button');\n      quickchartButtonEl.style.display =\n        google.colab.kernel.accessAllowed ? 'block' : 'none';\n    })();\n  </script>\n</div>`;\n        parentElement.appendChild(quickchartButtonContainerElement);\n      }\n\n      appendQuickchartButton(table);\n    ",
            "text/plain": [
              "<google.colab.data_table.DataTable object>"
            ]
          },
          "metadata": {}
        }
      ]
    }
  ]
}