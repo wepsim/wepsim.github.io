{
  "nbformat": 4,
  "nbformat_minor": 0,
  "metadata": {
    "colab": {
      "provenance": [],
      "collapsed_sections": [
        "dlfv9PEWBam7"
      ],
      "cell_execution_strategy": "setup"
    },
    "kernelspec": {
      "name": "python3",
      "display_name": "Python 3"
    },
    "language_info": {
      "name": "python"
    }
  },
  "cells": [
    {
      "cell_type": "code",
      "source": [
        "# @title Please initialize book to start { vertical-output: true, display-mode: \"form\" }\n",
        "#\n",
        "# Copyright 2015-2024 Felix Garcia Carballeira, Alejandro Calderon Mateos, Javier Prieto Cepeda, Saul Alonso Monsalve, Juan Banga Pardo\n",
        "#\n",
        "# This file is part of WepSIM.\n",
        "#\n",
        "# WepSIM is free software: you can redistribute it and/or modify\n",
        "# it under the terms of the GNU Lesser General Public License as published by\n",
        "# the Free Software Foundation, either version 3 of the License, or\n",
        "# (at your option) any later version.\n",
        "#\n",
        "# WepSIM is distributed in the hope that it will be useful,\n",
        "# but WITHOUT ANY WARRANTY; without even the implied warranty of\n",
        "# MERCHANTABILITY or FITNESS FOR A PARTICULAR PURPOSE.  See the\n",
        "# GNU Lesser General Public License for more details.\n",
        "#\n",
        "# You should have received a copy of the GNU Lesser General Public License\n",
        "# along with WepSIM.  If not, see <http://www.gnu.org/licenses/>.\n",
        "#\n",
        "!echo \"(1/3) Installing pre-requisites...\"\n",
        "!npm install  terser jq jshint yargs clear inquirer >& /dev/null\n",
        "!echo \"(2/3) Downloading WepSIM...\"\n",
        "![ ! -f wepsim-2.3.1.zip ] && wget https://github.com/acaldero/wepsim/releases/download/v2.3.1/wepsim-2.3.1.zip >& /dev/null\n",
        "!rm -fr   wepsim\n",
        "!unzip -o wepsim-2.3.1.zip  >& /dev/null\n",
        "!mv wepsim-2.3.1 wepsim\n",
        "!echo \"(3/3) Done!\"\n",
        "\n",
        "from pathlib import Path\n",
        "import pandas as pd\n",
        "import io\n",
        "from google.colab import data_table\n",
        "\n",
        "def show_results(filename):\n",
        "  df1    = ''\n",
        "  status = 0\n",
        "  try:\n",
        "    df1 = pd.read_csv(filename)\n",
        "    df1.columns = df1.columns.str.strip()\n",
        "    for item in df1.columns[:]:\n",
        "        df1[item].replace(\"\\t\",\"\", inplace=True, regex=True)\n",
        "        df1[item].replace(\"&nbsp;\",\"\", inplace=True, regex=True)\n",
        "    rdf = data_table.DataTable(df1, include_index=False, num_rows_per_page=20)\n",
        "    display(rdf)\n",
        "    status = 1\n",
        "  except:\n",
        "    df1 = Path(filename).read_text()\n",
        "    print(df1)\n",
        "    status = 0\n",
        "  return status, df1\n",
        "\n",
        "\n",
        "# Following code thanks to Rosa Filgueira Vicente (https://colab.research.google.com/github/rosafilgueira/Workflows_Seminar)\n",
        "from google.colab import _message\n",
        "\n",
        "def write_cell_above_to_file(search_term, filename):\n",
        "  cell = get_cell_above(search_term)\n",
        "  code_block = get_cell_code_block(cell)\n",
        "  with open(filename, 'w') as fp:\n",
        "    fp.writelines(code_block)\n",
        "\n",
        "def get_cell_above(search_term):\n",
        "  nb = _message.blocking_request('get_ipynb')\n",
        "  for i, cell in enumerate(nb['ipynb']['cells']):\n",
        "    if search_term in ''.join(cell['source']):\n",
        "      return nb['ipynb']['cells'][i - 1]\n",
        "\n",
        "def get_cell_code_block(cell):\n",
        "  cell_lines = cell['source']\n",
        "  code_block = []\n",
        "  in_block = False\n",
        "  for ln in cell_lines:\n",
        "    if '```' in ln:\n",
        "      in_block = not in_block\n",
        "    else:\n",
        "      if in_block:\n",
        "        code_block.append(ln)\n",
        "  return code_block\n"
      ],
      "metadata": {
        "colab": {
          "base_uri": "https://localhost:8080/"
        },
        "id": "ckdvP8SsEuYa",
        "outputId": "39176161-aac4-4a08-bd29-071f48c707d8"
      },
      "execution_count": 1,
      "outputs": [
        {
          "output_type": "stream",
          "name": "stdout",
          "text": [
            "(1/3) Installing pre-requisites...\n",
            "(2/3) Downloading WepSIM...\n",
            "(3/3) Done!\n"
          ]
        }
      ]
    },
    {
      "cell_type": "markdown",
      "source": [
        "# WepSIM (https://wepsim.github.io/wepsim/)<br> <u>Tutorial for if-then and if-then-else in RISC-V</u>"
      ],
      "metadata": {
        "id": "dlfv9PEWBam7"
      }
    },
    {
      "cell_type": "markdown",
      "source": [
        "# <u>IF-THEN(-ELSE)</u>"
      ],
      "metadata": {
        "id": "biPhAQ66BiLR"
      }
    },
    {
      "cell_type": "markdown",
      "source": [
        "## if-then (full assembly version)\n",
        "\n",
        "* Example:\n",
        "  ```\n",
        "  .text\n",
        "  main:\n",
        "         # int a=1;\n",
        "         # int b=2;\n",
        "         #\n",
        "         li  t1 1\n",
        "         li  t2 2\n",
        "\n",
        "         # // if-then\n",
        "   if_1: # if (a < b)\n",
        "         #\n",
        "         blt t1 t2 then_1\n",
        "         beq x0 x0  end_1\n",
        " then_1: # {\n",
        "         #     a = b;\n",
        "         mv t1 t2\n",
        "         # }\n",
        "  end_1: # <code after if-then...>\n",
        "  ```\n"
      ],
      "metadata": {
        "id": "ifthenelse1"
      }
    },
    {
      "cell_type": "code",
      "source": [
        "#@markdown <font size='4'>Run the cell above</font>\n",
        "search_term = 'id:ifthenelse1'\n",
        "write_cell_above_to_file(search_term, '/tmp/example.asm')\n",
        "\n",
        "!./wepsim/wepsim.sh -a stepbystep -m ep -f ./wepsim/repo/microcode/rv32/ep_base.mc -s /tmp/example.asm > /tmp/result.csv\n",
        "\n",
        "status, df1 = show_results('/tmp/result.csv')\n"
      ],
      "metadata": {
        "id": "aGzG8UmyFoyJ",
        "colab": {
          "base_uri": "https://localhost:8080/",
          "height": 253
        },
        "outputId": "0e224673-ada9-4f32-b0fa-9bb2bda1dc27",
        "cellView": "form"
      },
      "execution_count": 2,
      "outputs": [
        {
          "output_type": "display_data",
          "data": {
            "text/html": [
              "<div>\n",
              "<style scoped>\n",
              "    .dataframe tbody tr th:only-of-type {\n",
              "        vertical-align: middle;\n",
              "    }\n",
              "\n",
              "    .dataframe tbody tr th {\n",
              "        vertical-align: top;\n",
              "    }\n",
              "\n",
              "    .dataframe thead th {\n",
              "        text-align: right;\n",
              "    }\n",
              "</style>\n",
              "<table border=\"1\" class=\"dataframe\">\n",
              "  <thead>\n",
              "    <tr style=\"text-align: right;\">\n",
              "      <th></th>\n",
              "      <th>pc</th>\n",
              "      <th>instruction</th>\n",
              "      <th>changes_from_zero_or_current_value</th>\n",
              "    </tr>\n",
              "  </thead>\n",
              "  <tbody>\n",
              "    <tr>\n",
              "      <th>0</th>\n",
              "      <td>pc = 0x8000</td>\n",
              "      <td>li t1 1</td>\n",
              "      <td>register PC = 0x8004</td>\n",
              "    </tr>\n",
              "    <tr>\n",
              "      <th>1</th>\n",
              "      <td>pc = 0x8004</td>\n",
              "      <td></td>\n",
              "      <td>register R6 = 0x1; register PC = 0x8008</td>\n",
              "    </tr>\n",
              "    <tr>\n",
              "      <th>2</th>\n",
              "      <td>pc = 0x8008</td>\n",
              "      <td>li t2 2</td>\n",
              "      <td>register PC = 0x800c</td>\n",
              "    </tr>\n",
              "    <tr>\n",
              "      <th>3</th>\n",
              "      <td>pc = 0x800c</td>\n",
              "      <td></td>\n",
              "      <td>register R7 = 0x2; register PC = 0x8010</td>\n",
              "    </tr>\n",
              "    <tr>\n",
              "      <th>4</th>\n",
              "      <td>pc = 0x8010</td>\n",
              "      <td>blt t1 t2 then_1</td>\n",
              "      <td>register PC = 0x8018</td>\n",
              "    </tr>\n",
              "    <tr>\n",
              "      <th>5</th>\n",
              "      <td>pc = 0x8018</td>\n",
              "      <td>mv t1 t2</td>\n",
              "      <td>register R6 = 0x2; register PC = 0x801c</td>\n",
              "    </tr>\n",
              "  </tbody>\n",
              "</table>\n",
              "</div>"
            ],
            "application/vnd.google.colaboratory.module+javascript": "\n      import \"https://ssl.gstatic.com/colaboratory/data_table/881c4a0d49046431/data_table.js\";\n\n      const table = window.createDataTable({\n        data: [[\"pc = 0x8000\",\n\"li t1 1\",\n\"register PC = 0x8004\"],\n [\"pc = 0x8004\",\n\"\",\n\"register R6 = 0x1; register PC = 0x8008\"],\n [\"pc = 0x8008\",\n\"li t2 2\",\n\"register PC = 0x800c\"],\n [\"pc = 0x800c\",\n\"\",\n\"register R7 = 0x2; register PC = 0x8010\"],\n [\"pc = 0x8010\",\n\"blt t1 t2 then_1\",\n\"register PC = 0x8018\"],\n [\"pc = 0x8018\",\n\"mv t1 t2\",\n\"register R6 = 0x2; register PC = 0x801c\"]],\n        columns: [[\"string\", \"pc\"], [\"string\", \"instruction\"], [\"string\", \"changes_from_zero_or_current_value\"]],\n        columnOptions: [],\n        rowsPerPage: 20,\n        helpUrl: \"https://colab.research.google.com/notebooks/data_table.ipynb\",\n        suppressOutputScrolling: true,\n        minimumWidth: undefined,\n      });\n\n      function appendQuickchartButton(parentElement) {\n        let quickchartButtonContainerElement = document.createElement('div');\n        quickchartButtonContainerElement.innerHTML = `\n<div id=\"df-80e90ea5-2de7-4bc7-82da-b0a60f9fae41\">\n  <button class=\"colab-df-quickchart\" onclick=\"quickchart('df-80e90ea5-2de7-4bc7-82da-b0a60f9fae41')\"\n            title=\"Suggest charts\"\n            style=\"display:none;\">\n    \n<svg xmlns=\"http://www.w3.org/2000/svg\" height=\"24px\"viewBox=\"0 0 24 24\"\n     width=\"24px\">\n    <g>\n        <path d=\"M19 3H5c-1.1 0-2 .9-2 2v14c0 1.1.9 2 2 2h14c1.1 0 2-.9 2-2V5c0-1.1-.9-2-2-2zM9 17H7v-7h2v7zm4 0h-2V7h2v10zm4 0h-2v-4h2v4z\"/>\n    </g>\n</svg>\n  </button>\n  \n<style>\n  .colab-df-quickchart {\n      --bg-color: #E8F0FE;\n      --fill-color: #1967D2;\n      --hover-bg-color: #E2EBFA;\n      --hover-fill-color: #174EA6;\n      --disabled-fill-color: #AAA;\n      --disabled-bg-color: #DDD;\n  }\n\n  [theme=dark] .colab-df-quickchart {\n      --bg-color: #3B4455;\n      --fill-color: #D2E3FC;\n      --hover-bg-color: #434B5C;\n      --hover-fill-color: #FFFFFF;\n      --disabled-bg-color: #3B4455;\n      --disabled-fill-color: #666;\n  }\n\n  .colab-df-quickchart {\n    background-color: var(--bg-color);\n    border: none;\n    border-radius: 50%;\n    cursor: pointer;\n    display: none;\n    fill: var(--fill-color);\n    height: 32px;\n    padding: 0;\n    width: 32px;\n  }\n\n  .colab-df-quickchart:hover {\n    background-color: var(--hover-bg-color);\n    box-shadow: 0 1px 2px rgba(60, 64, 67, 0.3), 0 1px 3px 1px rgba(60, 64, 67, 0.15);\n    fill: var(--button-hover-fill-color);\n  }\n\n  .colab-df-quickchart-complete:disabled,\n  .colab-df-quickchart-complete:disabled:hover {\n    background-color: var(--disabled-bg-color);\n    fill: var(--disabled-fill-color);\n    box-shadow: none;\n  }\n\n  .colab-df-spinner {\n    border: 2px solid var(--fill-color);\n    border-color: transparent;\n    border-bottom-color: var(--fill-color);\n    animation:\n      spin 1s steps(1) infinite;\n  }\n\n  @keyframes spin {\n    0% {\n      border-color: transparent;\n      border-bottom-color: var(--fill-color);\n      border-left-color: var(--fill-color);\n    }\n    20% {\n      border-color: transparent;\n      border-left-color: var(--fill-color);\n      border-top-color: var(--fill-color);\n    }\n    30% {\n      border-color: transparent;\n      border-left-color: var(--fill-color);\n      border-top-color: var(--fill-color);\n      border-right-color: var(--fill-color);\n    }\n    40% {\n      border-color: transparent;\n      border-right-color: var(--fill-color);\n      border-top-color: var(--fill-color);\n    }\n    60% {\n      border-color: transparent;\n      border-right-color: var(--fill-color);\n    }\n    80% {\n      border-color: transparent;\n      border-right-color: var(--fill-color);\n      border-bottom-color: var(--fill-color);\n    }\n    90% {\n      border-color: transparent;\n      border-bottom-color: var(--fill-color);\n    }\n  }\n</style>\n\n  <script>\n    async function quickchart(key) {\n      const quickchartButtonEl =\n        document.querySelector('#' + key + ' button');\n      quickchartButtonEl.disabled = true;  // To prevent multiple clicks.\n      quickchartButtonEl.classList.add('colab-df-spinner');\n      try {\n        const charts = await google.colab.kernel.invokeFunction(\n            'suggestCharts', [key], {});\n      } catch (error) {\n        console.error('Error during call to suggestCharts:', error);\n      }\n      quickchartButtonEl.classList.remove('colab-df-spinner');\n      quickchartButtonEl.classList.add('colab-df-quickchart-complete');\n    }\n    (() => {\n      let quickchartButtonEl =\n        document.querySelector('#df-80e90ea5-2de7-4bc7-82da-b0a60f9fae41 button');\n      quickchartButtonEl.style.display =\n        google.colab.kernel.accessAllowed ? 'block' : 'none';\n    })();\n  </script>\n</div>`;\n        parentElement.appendChild(quickchartButtonContainerElement);\n      }\n\n      appendQuickchartButton(table);\n    ",
            "text/plain": [
              "<google.colab.data_table.DataTable object>"
            ]
          },
          "metadata": {}
        }
      ]
    },
    {
      "cell_type": "markdown",
      "source": [
        "## if-then (compact assembly version)\n",
        "\n",
        "* Example:\n",
        "  ```\n",
        "  .text\n",
        "  main:\n",
        "         # int a=1;\n",
        "         # int b=2;\n",
        "         #\n",
        "         li  t1 1\n",
        "         li  t2 2\n",
        "\n",
        "         # // if-then\n",
        "   if_2: # if (a < b)\n",
        "         bge t1 t2 end_2\n",
        "#then_2: # {\n",
        "         #     a = b;\n",
        "         mv t1 t2\n",
        "         # }\n",
        "  end_2: # <after if code...>\n",
        "  ```\n"
      ],
      "metadata": {
        "id": "ifthenelse2"
      }
    },
    {
      "cell_type": "code",
      "source": [
        "#@markdown <font size='4'>Run the cell above</font>\n",
        "search_term = 'id:ifthenelse2'\n",
        "write_cell_above_to_file(search_term, '/tmp/example.asm')\n",
        "\n",
        "!./wepsim/wepsim.sh -a stepbystep -m ep -f ./wepsim/repo/microcode/rv32/ep_base.mc -s /tmp/example.asm > /tmp/result.csv\n",
        "\n",
        "status, df1 = show_results('/tmp/result.csv')\n"
      ],
      "metadata": {
        "id": "aGzG8UmyFoy2",
        "colab": {
          "base_uri": "https://localhost:8080/",
          "height": 253
        },
        "outputId": "420c916b-5ad6-4513-e668-b48f41a46911",
        "cellView": "form"
      },
      "execution_count": 3,
      "outputs": [
        {
          "output_type": "display_data",
          "data": {
            "text/html": [
              "<div>\n",
              "<style scoped>\n",
              "    .dataframe tbody tr th:only-of-type {\n",
              "        vertical-align: middle;\n",
              "    }\n",
              "\n",
              "    .dataframe tbody tr th {\n",
              "        vertical-align: top;\n",
              "    }\n",
              "\n",
              "    .dataframe thead th {\n",
              "        text-align: right;\n",
              "    }\n",
              "</style>\n",
              "<table border=\"1\" class=\"dataframe\">\n",
              "  <thead>\n",
              "    <tr style=\"text-align: right;\">\n",
              "      <th></th>\n",
              "      <th>pc</th>\n",
              "      <th>instruction</th>\n",
              "      <th>changes_from_zero_or_current_value</th>\n",
              "    </tr>\n",
              "  </thead>\n",
              "  <tbody>\n",
              "    <tr>\n",
              "      <th>0</th>\n",
              "      <td>pc = 0x8000</td>\n",
              "      <td>li t1 1</td>\n",
              "      <td>register PC = 0x8004</td>\n",
              "    </tr>\n",
              "    <tr>\n",
              "      <th>1</th>\n",
              "      <td>pc = 0x8004</td>\n",
              "      <td></td>\n",
              "      <td>register R6 = 0x1; register PC = 0x8008</td>\n",
              "    </tr>\n",
              "    <tr>\n",
              "      <th>2</th>\n",
              "      <td>pc = 0x8008</td>\n",
              "      <td>li t2 2</td>\n",
              "      <td>register PC = 0x800c</td>\n",
              "    </tr>\n",
              "    <tr>\n",
              "      <th>3</th>\n",
              "      <td>pc = 0x800c</td>\n",
              "      <td></td>\n",
              "      <td>register R7 = 0x2; register PC = 0x8010</td>\n",
              "    </tr>\n",
              "    <tr>\n",
              "      <th>4</th>\n",
              "      <td>pc = 0x8010</td>\n",
              "      <td>bge t1 t2 end_2</td>\n",
              "      <td>register PC = 0x8014</td>\n",
              "    </tr>\n",
              "    <tr>\n",
              "      <th>5</th>\n",
              "      <td>pc = 0x8014</td>\n",
              "      <td>mv t1 t2</td>\n",
              "      <td>register R6 = 0x2; register PC = 0x8018</td>\n",
              "    </tr>\n",
              "  </tbody>\n",
              "</table>\n",
              "</div>"
            ],
            "application/vnd.google.colaboratory.module+javascript": "\n      import \"https://ssl.gstatic.com/colaboratory/data_table/881c4a0d49046431/data_table.js\";\n\n      const table = window.createDataTable({\n        data: [[\"pc = 0x8000\",\n\"li t1 1\",\n\"register PC = 0x8004\"],\n [\"pc = 0x8004\",\n\"\",\n\"register R6 = 0x1; register PC = 0x8008\"],\n [\"pc = 0x8008\",\n\"li t2 2\",\n\"register PC = 0x800c\"],\n [\"pc = 0x800c\",\n\"\",\n\"register R7 = 0x2; register PC = 0x8010\"],\n [\"pc = 0x8010\",\n\"bge t1 t2 end_2\",\n\"register PC = 0x8014\"],\n [\"pc = 0x8014\",\n\"mv t1 t2\",\n\"register R6 = 0x2; register PC = 0x8018\"]],\n        columns: [[\"string\", \"pc\"], [\"string\", \"instruction\"], [\"string\", \"changes_from_zero_or_current_value\"]],\n        columnOptions: [],\n        rowsPerPage: 20,\n        helpUrl: \"https://colab.research.google.com/notebooks/data_table.ipynb\",\n        suppressOutputScrolling: true,\n        minimumWidth: undefined,\n      });\n\n      function appendQuickchartButton(parentElement) {\n        let quickchartButtonContainerElement = document.createElement('div');\n        quickchartButtonContainerElement.innerHTML = `\n<div id=\"df-4d8af2e6-2bd4-4ab1-b18f-0efde021b742\">\n  <button class=\"colab-df-quickchart\" onclick=\"quickchart('df-4d8af2e6-2bd4-4ab1-b18f-0efde021b742')\"\n            title=\"Suggest charts\"\n            style=\"display:none;\">\n    \n<svg xmlns=\"http://www.w3.org/2000/svg\" height=\"24px\"viewBox=\"0 0 24 24\"\n     width=\"24px\">\n    <g>\n        <path d=\"M19 3H5c-1.1 0-2 .9-2 2v14c0 1.1.9 2 2 2h14c1.1 0 2-.9 2-2V5c0-1.1-.9-2-2-2zM9 17H7v-7h2v7zm4 0h-2V7h2v10zm4 0h-2v-4h2v4z\"/>\n    </g>\n</svg>\n  </button>\n  \n<style>\n  .colab-df-quickchart {\n      --bg-color: #E8F0FE;\n      --fill-color: #1967D2;\n      --hover-bg-color: #E2EBFA;\n      --hover-fill-color: #174EA6;\n      --disabled-fill-color: #AAA;\n      --disabled-bg-color: #DDD;\n  }\n\n  [theme=dark] .colab-df-quickchart {\n      --bg-color: #3B4455;\n      --fill-color: #D2E3FC;\n      --hover-bg-color: #434B5C;\n      --hover-fill-color: #FFFFFF;\n      --disabled-bg-color: #3B4455;\n      --disabled-fill-color: #666;\n  }\n\n  .colab-df-quickchart {\n    background-color: var(--bg-color);\n    border: none;\n    border-radius: 50%;\n    cursor: pointer;\n    display: none;\n    fill: var(--fill-color);\n    height: 32px;\n    padding: 0;\n    width: 32px;\n  }\n\n  .colab-df-quickchart:hover {\n    background-color: var(--hover-bg-color);\n    box-shadow: 0 1px 2px rgba(60, 64, 67, 0.3), 0 1px 3px 1px rgba(60, 64, 67, 0.15);\n    fill: var(--button-hover-fill-color);\n  }\n\n  .colab-df-quickchart-complete:disabled,\n  .colab-df-quickchart-complete:disabled:hover {\n    background-color: var(--disabled-bg-color);\n    fill: var(--disabled-fill-color);\n    box-shadow: none;\n  }\n\n  .colab-df-spinner {\n    border: 2px solid var(--fill-color);\n    border-color: transparent;\n    border-bottom-color: var(--fill-color);\n    animation:\n      spin 1s steps(1) infinite;\n  }\n\n  @keyframes spin {\n    0% {\n      border-color: transparent;\n      border-bottom-color: var(--fill-color);\n      border-left-color: var(--fill-color);\n    }\n    20% {\n      border-color: transparent;\n      border-left-color: var(--fill-color);\n      border-top-color: var(--fill-color);\n    }\n    30% {\n      border-color: transparent;\n      border-left-color: var(--fill-color);\n      border-top-color: var(--fill-color);\n      border-right-color: var(--fill-color);\n    }\n    40% {\n      border-color: transparent;\n      border-right-color: var(--fill-color);\n      border-top-color: var(--fill-color);\n    }\n    60% {\n      border-color: transparent;\n      border-right-color: var(--fill-color);\n    }\n    80% {\n      border-color: transparent;\n      border-right-color: var(--fill-color);\n      border-bottom-color: var(--fill-color);\n    }\n    90% {\n      border-color: transparent;\n      border-bottom-color: var(--fill-color);\n    }\n  }\n</style>\n\n  <script>\n    async function quickchart(key) {\n      const quickchartButtonEl =\n        document.querySelector('#' + key + ' button');\n      quickchartButtonEl.disabled = true;  // To prevent multiple clicks.\n      quickchartButtonEl.classList.add('colab-df-spinner');\n      try {\n        const charts = await google.colab.kernel.invokeFunction(\n            'suggestCharts', [key], {});\n      } catch (error) {\n        console.error('Error during call to suggestCharts:', error);\n      }\n      quickchartButtonEl.classList.remove('colab-df-spinner');\n      quickchartButtonEl.classList.add('colab-df-quickchart-complete');\n    }\n    (() => {\n      let quickchartButtonEl =\n        document.querySelector('#df-4d8af2e6-2bd4-4ab1-b18f-0efde021b742 button');\n      quickchartButtonEl.style.display =\n        google.colab.kernel.accessAllowed ? 'block' : 'none';\n    })();\n  </script>\n</div>`;\n        parentElement.appendChild(quickchartButtonContainerElement);\n      }\n\n      appendQuickchartButton(table);\n    ",
            "text/plain": [
              "<google.colab.data_table.DataTable object>"
            ]
          },
          "metadata": {}
        }
      ]
    },
    {
      "cell_type": "markdown",
      "source": [
        "## if-then-else (compact assembly version)\n",
        "\n",
        "* Example:\n",
        "  ```\n",
        "  .text\n",
        "  main:\n",
        "         # int a=1;\n",
        "         # int b=2;\n",
        "         #\n",
        "         li  t1 1\n",
        "         li  t2 2\n",
        "\n",
        "      # // if-then-else\n",
        "    if_3: # if (a < b)\n",
        "          bge t1 t2 end_3\n",
        "  then_3: # {\n",
        "          #    // action1\n",
        "          # <assembly for action 1>\n",
        "          # }\n",
        "          beq x0 x0 end_3\n",
        "          # {\n",
        "  else_3: #     // action 2\n",
        "          # <assembly for action 2>\n",
        "          # }\n",
        "        # beq x0 x0 end_3\n",
        "\n",
        "   end_3: # <after if code...>\n",
        "  ```"
      ],
      "metadata": {
        "id": "ifthenelse3"
      }
    },
    {
      "cell_type": "code",
      "source": [
        "#@markdown <font size='4'>Run the cell above</font>\n",
        "search_term = 'id:ifthenelse3'\n",
        "write_cell_above_to_file(search_term, '/tmp/example.asm')\n",
        "\n",
        "!./wepsim/wepsim.sh -a stepbystep -m ep -f ./wepsim/repo/microcode/rv32/ep_base.mc -s /tmp/example.asm > /tmp/result.csv\n",
        "\n",
        "status, df1 = show_results('/tmp/result.csv')\n"
      ],
      "metadata": {
        "id": "aGzG8UmyFoy3",
        "colab": {
          "base_uri": "https://localhost:8080/",
          "height": 253
        },
        "outputId": "4d23e01a-1b42-4466-d737-8b69b2a83765",
        "cellView": "form"
      },
      "execution_count": 4,
      "outputs": [
        {
          "output_type": "display_data",
          "data": {
            "text/html": [
              "<div>\n",
              "<style scoped>\n",
              "    .dataframe tbody tr th:only-of-type {\n",
              "        vertical-align: middle;\n",
              "    }\n",
              "\n",
              "    .dataframe tbody tr th {\n",
              "        vertical-align: top;\n",
              "    }\n",
              "\n",
              "    .dataframe thead th {\n",
              "        text-align: right;\n",
              "    }\n",
              "</style>\n",
              "<table border=\"1\" class=\"dataframe\">\n",
              "  <thead>\n",
              "    <tr style=\"text-align: right;\">\n",
              "      <th></th>\n",
              "      <th>pc</th>\n",
              "      <th>instruction</th>\n",
              "      <th>changes_from_zero_or_current_value</th>\n",
              "    </tr>\n",
              "  </thead>\n",
              "  <tbody>\n",
              "    <tr>\n",
              "      <th>0</th>\n",
              "      <td>pc = 0x8000</td>\n",
              "      <td>li t1 1</td>\n",
              "      <td>register PC = 0x8004</td>\n",
              "    </tr>\n",
              "    <tr>\n",
              "      <th>1</th>\n",
              "      <td>pc = 0x8004</td>\n",
              "      <td></td>\n",
              "      <td>register R6 = 0x1; register PC = 0x8008</td>\n",
              "    </tr>\n",
              "    <tr>\n",
              "      <th>2</th>\n",
              "      <td>pc = 0x8008</td>\n",
              "      <td>li t2 2</td>\n",
              "      <td>register PC = 0x800c</td>\n",
              "    </tr>\n",
              "    <tr>\n",
              "      <th>3</th>\n",
              "      <td>pc = 0x800c</td>\n",
              "      <td></td>\n",
              "      <td>register R7 = 0x2; register PC = 0x8010</td>\n",
              "    </tr>\n",
              "    <tr>\n",
              "      <th>4</th>\n",
              "      <td>pc = 0x8010</td>\n",
              "      <td>bge t1 t2 end_3</td>\n",
              "      <td>register PC = 0x8014</td>\n",
              "    </tr>\n",
              "    <tr>\n",
              "      <th>5</th>\n",
              "      <td>pc = 0x8014</td>\n",
              "      <td>beq x0 x0 end_3</td>\n",
              "      <td>register PC = 0x8018</td>\n",
              "    </tr>\n",
              "  </tbody>\n",
              "</table>\n",
              "</div>"
            ],
            "application/vnd.google.colaboratory.module+javascript": "\n      import \"https://ssl.gstatic.com/colaboratory/data_table/881c4a0d49046431/data_table.js\";\n\n      const table = window.createDataTable({\n        data: [[\"pc = 0x8000\",\n\"li t1 1\",\n\"register PC = 0x8004\"],\n [\"pc = 0x8004\",\n\"\",\n\"register R6 = 0x1; register PC = 0x8008\"],\n [\"pc = 0x8008\",\n\"li t2 2\",\n\"register PC = 0x800c\"],\n [\"pc = 0x800c\",\n\"\",\n\"register R7 = 0x2; register PC = 0x8010\"],\n [\"pc = 0x8010\",\n\"bge t1 t2 end_3\",\n\"register PC = 0x8014\"],\n [\"pc = 0x8014\",\n\"beq x0 x0 end_3\",\n\"register PC = 0x8018\"]],\n        columns: [[\"string\", \"pc\"], [\"string\", \"instruction\"], [\"string\", \"changes_from_zero_or_current_value\"]],\n        columnOptions: [],\n        rowsPerPage: 20,\n        helpUrl: \"https://colab.research.google.com/notebooks/data_table.ipynb\",\n        suppressOutputScrolling: true,\n        minimumWidth: undefined,\n      });\n\n      function appendQuickchartButton(parentElement) {\n        let quickchartButtonContainerElement = document.createElement('div');\n        quickchartButtonContainerElement.innerHTML = `\n<div id=\"df-45eedbd6-456e-4e3f-ae3f-461bdcacdf11\">\n  <button class=\"colab-df-quickchart\" onclick=\"quickchart('df-45eedbd6-456e-4e3f-ae3f-461bdcacdf11')\"\n            title=\"Suggest charts\"\n            style=\"display:none;\">\n    \n<svg xmlns=\"http://www.w3.org/2000/svg\" height=\"24px\"viewBox=\"0 0 24 24\"\n     width=\"24px\">\n    <g>\n        <path d=\"M19 3H5c-1.1 0-2 .9-2 2v14c0 1.1.9 2 2 2h14c1.1 0 2-.9 2-2V5c0-1.1-.9-2-2-2zM9 17H7v-7h2v7zm4 0h-2V7h2v10zm4 0h-2v-4h2v4z\"/>\n    </g>\n</svg>\n  </button>\n  \n<style>\n  .colab-df-quickchart {\n      --bg-color: #E8F0FE;\n      --fill-color: #1967D2;\n      --hover-bg-color: #E2EBFA;\n      --hover-fill-color: #174EA6;\n      --disabled-fill-color: #AAA;\n      --disabled-bg-color: #DDD;\n  }\n\n  [theme=dark] .colab-df-quickchart {\n      --bg-color: #3B4455;\n      --fill-color: #D2E3FC;\n      --hover-bg-color: #434B5C;\n      --hover-fill-color: #FFFFFF;\n      --disabled-bg-color: #3B4455;\n      --disabled-fill-color: #666;\n  }\n\n  .colab-df-quickchart {\n    background-color: var(--bg-color);\n    border: none;\n    border-radius: 50%;\n    cursor: pointer;\n    display: none;\n    fill: var(--fill-color);\n    height: 32px;\n    padding: 0;\n    width: 32px;\n  }\n\n  .colab-df-quickchart:hover {\n    background-color: var(--hover-bg-color);\n    box-shadow: 0 1px 2px rgba(60, 64, 67, 0.3), 0 1px 3px 1px rgba(60, 64, 67, 0.15);\n    fill: var(--button-hover-fill-color);\n  }\n\n  .colab-df-quickchart-complete:disabled,\n  .colab-df-quickchart-complete:disabled:hover {\n    background-color: var(--disabled-bg-color);\n    fill: var(--disabled-fill-color);\n    box-shadow: none;\n  }\n\n  .colab-df-spinner {\n    border: 2px solid var(--fill-color);\n    border-color: transparent;\n    border-bottom-color: var(--fill-color);\n    animation:\n      spin 1s steps(1) infinite;\n  }\n\n  @keyframes spin {\n    0% {\n      border-color: transparent;\n      border-bottom-color: var(--fill-color);\n      border-left-color: var(--fill-color);\n    }\n    20% {\n      border-color: transparent;\n      border-left-color: var(--fill-color);\n      border-top-color: var(--fill-color);\n    }\n    30% {\n      border-color: transparent;\n      border-left-color: var(--fill-color);\n      border-top-color: var(--fill-color);\n      border-right-color: var(--fill-color);\n    }\n    40% {\n      border-color: transparent;\n      border-right-color: var(--fill-color);\n      border-top-color: var(--fill-color);\n    }\n    60% {\n      border-color: transparent;\n      border-right-color: var(--fill-color);\n    }\n    80% {\n      border-color: transparent;\n      border-right-color: var(--fill-color);\n      border-bottom-color: var(--fill-color);\n    }\n    90% {\n      border-color: transparent;\n      border-bottom-color: var(--fill-color);\n    }\n  }\n</style>\n\n  <script>\n    async function quickchart(key) {\n      const quickchartButtonEl =\n        document.querySelector('#' + key + ' button');\n      quickchartButtonEl.disabled = true;  // To prevent multiple clicks.\n      quickchartButtonEl.classList.add('colab-df-spinner');\n      try {\n        const charts = await google.colab.kernel.invokeFunction(\n            'suggestCharts', [key], {});\n      } catch (error) {\n        console.error('Error during call to suggestCharts:', error);\n      }\n      quickchartButtonEl.classList.remove('colab-df-spinner');\n      quickchartButtonEl.classList.add('colab-df-quickchart-complete');\n    }\n    (() => {\n      let quickchartButtonEl =\n        document.querySelector('#df-45eedbd6-456e-4e3f-ae3f-461bdcacdf11 button');\n      quickchartButtonEl.style.display =\n        google.colab.kernel.accessAllowed ? 'block' : 'none';\n    })();\n  </script>\n</div>`;\n        parentElement.appendChild(quickchartButtonContainerElement);\n      }\n\n      appendQuickchartButton(table);\n    ",
            "text/plain": [
              "<google.colab.data_table.DataTable object>"
            ]
          },
          "metadata": {}
        }
      ]
    }
  ]
}
