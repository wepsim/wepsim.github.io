{
  "nbformat": 4,
  "nbformat_minor": 0,
  "metadata": {
    "colab": {
      "provenance": [],
      "cell_execution_strategy": "setup"
    },
    "kernelspec": {
      "name": "python3",
      "display_name": "Python 3"
    },
    "language_info": {
      "name": "python"
    }
  },
  "cells": [
    {
      "cell_type": "markdown",
      "source": [
        "# WepSIM (https://wepsim.github.io/wepsim/)<br> <u>Tutorial for the basic arithmetic instructions in MIPS</u>"
      ],
      "metadata": {
        "id": "dlfv9PEWBam7"
      }
    },
    {
      "cell_type": "markdown",
      "source": [
        "* **Please run next code cell first to start tutorial**\n"
      ],
      "metadata": {
        "id": "6MY9YLFDG2IC"
      }
    },
    {
      "cell_type": "code",
      "source": [
        "# @title { vertical-output: true, display-mode: \"form\" }\n",
        "#\n",
        "# Copyright 2015-2024 Felix Garcia Carballeira, Alejandro Calderon Mateos, Javier Prieto Cepeda, Saul Alonso Monsalve, Juan Banga Pardo\n",
        "#\n",
        "# This file is part of WepSIM.\n",
        "#\n",
        "# WepSIM is free software: you can redistribute it and/or modify\n",
        "# it under the terms of the GNU Lesser General Public License as published by\n",
        "# the Free Software Foundation, either version 3 of the License, or\n",
        "# (at your option) any later version.\n",
        "#\n",
        "# WepSIM is distributed in the hope that it will be useful,\n",
        "# but WITHOUT ANY WARRANTY; without even the implied warranty of\n",
        "# MERCHANTABILITY or FITNESS FOR A PARTICULAR PURPOSE.  See the\n",
        "# GNU Lesser General Public License for more details.\n",
        "#\n",
        "# You should have received a copy of the GNU Lesser General Public License\n",
        "# along with WepSIM.  If not, see <http://www.gnu.org/licenses/>.\n",
        "#\n",
        "!echo \"(1/3) Installing pre-requisites...\"\n",
        "!npm install  terser jq jshint yargs clear inquirer >& /dev/null\n",
        "!pip install lzstring\n",
        "!echo \"(2/3) Downloading WepSIM...\"\n",
        "![ ! -f wepsim-2.3.1.zip ] && wget https://github.com/acaldero/wepsim/releases/download/v2.3.1/wepsim-2.3.1.zip >& /dev/null\n",
        "!rm -fr   wepsim\n",
        "!unzip -o wepsim-2.3.1.zip  >& /dev/null\n",
        "!mv wepsim-2.3.1 wepsim\n",
        "!echo \"(3/3) Done!\"\n",
        "\n",
        "from pathlib import Path\n",
        "import pandas as pd\n",
        "import io\n",
        "import lzstring\n",
        "from IPython.display import IFrame\n",
        "from google.colab import data_table\n",
        "\n",
        "def show_results(filename):\n",
        "  df1    = ''\n",
        "  status = 0\n",
        "  try:\n",
        "    df1 = pd.read_csv(filename)\n",
        "    df1.columns = df1.columns.str.strip()\n",
        "    for item in df1.columns[:]:\n",
        "        df1[item].replace(\"\\t\",\"\", inplace=True, regex=True)\n",
        "        df1[item].replace(\"&nbsp;\",\"\", inplace=True, regex=True)\n",
        "    rdf = data_table.DataTable(df1, include_index=False, num_rows_per_page=20)\n",
        "    display(rdf)\n",
        "    status = 1\n",
        "  except:\n",
        "    df1 = Path(filename).read_text()\n",
        "    print(df1)\n",
        "    status = 0\n",
        "  return status, df1\n",
        "\n",
        "def get_lz(filename):\n",
        "  try:\n",
        "    with open(filename,'r',encoding='utf-8') as f:\n",
        "        cell_str = f.readlines()\n",
        "        cell_str = ''.join(cell_str)\n",
        "    x = lzstring.LZString()\n",
        "    cell_lz = x.compressToBase64(cell_str)\n",
        "  except:\n",
        "    cell_lz = ''\n",
        "  return cell_lz\n",
        "\n",
        "def get_ws_url(asm, cpu):\n",
        "  url = 'https://wepsim.github.io/wepsim/ws_dist/?'\n",
        "  url = url + 'mode=ep&'\n",
        "  url = url + 'notify=false&'\n",
        "  url = url + 'simulator=assembly:simulator&'\n",
        "  url = url + 'examples_set=' + cpu + '&'\n",
        "  url = url + 'example=11&'\n",
        "  url = url + 'asm=' + asm\n",
        "  return url\n",
        "\n",
        "def show_asm_in_ws(filename, cpu):\n",
        "  try:\n",
        "    lzasm = get_lz(filename)\n",
        "    url   = get_ws_url(lzasm, cpu)\n",
        "    display(IFrame(src=url, width=\"100%\", height=700))\n",
        "    status = 1\n",
        "  except:\n",
        "    status = 0\n",
        "  return status\n",
        "\n",
        "\n",
        "# Following code thanks to Rosa Filgueira Vicente\n",
        "# (https://colab.research.google.com/github/rosafilgueira/Workflows_Seminar)\n",
        "from google.colab import _message\n",
        "\n",
        "def write_cell_above_to_file(search_term, filename):\n",
        "  cell = get_cell_above(search_term)\n",
        "  code_block = get_cell_code_block(cell['source'])\n",
        "  with open(filename, 'w') as fp:\n",
        "    fp.writelines(code_block)\n",
        "\n",
        "def get_cell_above(search_term):\n",
        "  nb = _message.blocking_request('get_ipynb')\n",
        "  for i, cell in enumerate(nb['ipynb']['cells']):\n",
        "    if search_term in ''.join(cell['source']):\n",
        "      return nb['ipynb']['cells'][i - 1]\n",
        "\n",
        "def get_cell_code_block(cell_lines):\n",
        "  code_block = []\n",
        "  in_block = False\n",
        "  for ln in cell_lines:\n",
        "    if '```' in ln:\n",
        "       in_block = not in_block\n",
        "       continue\n",
        "    if in_block:\n",
        "       code_block.append(ln)\n",
        "  return code_block\n"
      ],
      "metadata": {
        "colab": {
          "base_uri": "https://localhost:8080/"
        },
        "id": "ckdvP8SsEuYa",
        "outputId": "aebd1cc7-56a3-41a8-ae40-202f44f6e749"
      },
      "execution_count": 1,
      "outputs": [
        {
          "output_type": "stream",
          "name": "stdout",
          "text": [
            "(1/3) Installing pre-requisites...\n",
            "Collecting lzstring\n",
            "  Downloading lzstring-1.0.4.tar.gz (4.3 kB)\n",
            "  Preparing metadata (setup.py) ... \u001b[?25l\u001b[?25hdone\n",
            "Requirement already satisfied: future>=0.14.0 in /usr/local/lib/python3.10/dist-packages (from lzstring) (0.18.3)\n",
            "Building wheels for collected packages: lzstring\n",
            "  Building wheel for lzstring (setup.py) ... \u001b[?25l\u001b[?25hdone\n",
            "  Created wheel for lzstring: filename=lzstring-1.0.4-py2.py3-none-any.whl size=4568 sha256=0b797be74c6e43d0be97a1486d861ac2fb2887c2a661354fcf7f9f6644c13741\n",
            "  Stored in directory: /root/.cache/pip/wheels/aa/25/dc/ef10d6c8d762029393d3ef1710c63a7d6714bf1db32d04f3ad\n",
            "Successfully built lzstring\n",
            "Installing collected packages: lzstring\n",
            "Successfully installed lzstring-1.0.4\n",
            "(2/3) Downloading WepSIM...\n",
            "(3/3) Done!\n"
          ]
        }
      ]
    },
    {
      "cell_type": "markdown",
      "source": [
        "# <u>Load and copy instructions</u>\n",
        "\n",
        "To test arithmetic instructions we are going to need numbers to operate with.<br>\n",
        "Examples for arithmetic instructions start by loading two numbers in two registers, then the arithmetic instruction is apply to this pair of numbers.\n",
        "\n",
        "So, how can we have the numbers in the registers?\n"
      ],
      "metadata": {
        "id": "IUn6v7nlv-5h"
      }
    },
    {
      "cell_type": "markdown",
      "source": [
        "## Load immediate: li\n",
        "\n",
        "* The \"li\" instruction is used to load an immediate value into a register.\n",
        "\n",
        "* Example:\n",
        "  ```python\n",
        "  .text\n",
        "  main:\n",
        "      li    $a0, 3\n",
        "      li    $a1, 2\n",
        "  ```\n"
      ],
      "metadata": {
        "id": "sk5aR77BwUMP"
      }
    },
    {
      "cell_type": "code",
      "source": [
        "#@markdown <font size='4'>Run the cell above</font>\n",
        "try_in_wepsim = False # @param {type:\"boolean\"}\n",
        "\n",
        "search_term = 'id:li1'\n",
        "write_cell_above_to_file(search_term, '/tmp/example.asm')\n",
        "\n",
        "!./wepsim/wepsim.sh -a stepbystep -m ep \\\n",
        "!                   -f ./wepsim/repo/microcode/mips/ep_base.mc \\\n",
        "!                   -s /tmp/example.asm > /tmp/result.csv\n",
        "\n",
        "show_results('/tmp/result.csv')\n",
        "\n",
        "if try_in_wepsim:\n",
        "  show_asm_in_ws('/tmp/example.asm','MIPS')\n"
      ],
      "metadata": {
        "colab": {
          "base_uri": "https://localhost:8080/",
          "height": 167
        },
        "cellView": "form",
        "id": "p__lVnVywQ_u",
        "outputId": "faa23cfc-f3be-42b2-81aa-89d680db1e2d"
      },
      "execution_count": 2,
      "outputs": [
        {
          "output_type": "display_data",
          "data": {
            "text/html": [
              "<div>\n",
              "<style scoped>\n",
              "    .dataframe tbody tr th:only-of-type {\n",
              "        vertical-align: middle;\n",
              "    }\n",
              "\n",
              "    .dataframe tbody tr th {\n",
              "        vertical-align: top;\n",
              "    }\n",
              "\n",
              "    .dataframe thead th {\n",
              "        text-align: right;\n",
              "    }\n",
              "</style>\n",
              "<table border=\"1\" class=\"dataframe\">\n",
              "  <thead>\n",
              "    <tr style=\"text-align: right;\">\n",
              "      <th></th>\n",
              "      <th>pc</th>\n",
              "      <th>instruction</th>\n",
              "      <th>changes_from_zero_or_current_value</th>\n",
              "    </tr>\n",
              "  </thead>\n",
              "  <tbody>\n",
              "    <tr>\n",
              "      <th>0</th>\n",
              "      <td>pc = 0x8000</td>\n",
              "      <td>li $a0 3</td>\n",
              "      <td>register R4 = 0x3; register R29 = 0x100000; re...</td>\n",
              "    </tr>\n",
              "    <tr>\n",
              "      <th>1</th>\n",
              "      <td>pc = 0x8004</td>\n",
              "      <td>li $a1 2</td>\n",
              "      <td>register R5 = 0x2; register PC = 0x8008</td>\n",
              "    </tr>\n",
              "  </tbody>\n",
              "</table>\n",
              "</div>"
            ],
            "application/vnd.google.colaboratory.module+javascript": "\n      import \"https://ssl.gstatic.com/colaboratory/data_table/881c4a0d49046431/data_table.js\";\n\n      const table = window.createDataTable({\n        data: [[\"pc = 0x8000\",\n\"li $a0 3\",\n\"register R4 = 0x3; register R29 = 0x100000; register PC = 0x8004\"],\n [\"pc = 0x8004\",\n\"li $a1 2\",\n\"register R5 = 0x2; register PC = 0x8008\"]],\n        columns: [[\"string\", \"pc\"], [\"string\", \"instruction\"], [\"string\", \"changes_from_zero_or_current_value\"]],\n        columnOptions: [],\n        rowsPerPage: 20,\n        helpUrl: \"https://colab.research.google.com/notebooks/data_table.ipynb\",\n        suppressOutputScrolling: true,\n        minimumWidth: undefined,\n      });\n\n      function appendQuickchartButton(parentElement) {\n        let quickchartButtonContainerElement = document.createElement('div');\n        quickchartButtonContainerElement.innerHTML = `\n<div id=\"df-20751678-9f82-4f99-8617-ac2caf5f8267\">\n  <button class=\"colab-df-quickchart\" onclick=\"quickchart('df-20751678-9f82-4f99-8617-ac2caf5f8267')\"\n            title=\"Suggest charts\"\n            style=\"display:none;\">\n    \n<svg xmlns=\"http://www.w3.org/2000/svg\" height=\"24px\"viewBox=\"0 0 24 24\"\n     width=\"24px\">\n    <g>\n        <path d=\"M19 3H5c-1.1 0-2 .9-2 2v14c0 1.1.9 2 2 2h14c1.1 0 2-.9 2-2V5c0-1.1-.9-2-2-2zM9 17H7v-7h2v7zm4 0h-2V7h2v10zm4 0h-2v-4h2v4z\"/>\n    </g>\n</svg>\n  </button>\n  \n<style>\n  .colab-df-quickchart {\n      --bg-color: #E8F0FE;\n      --fill-color: #1967D2;\n      --hover-bg-color: #E2EBFA;\n      --hover-fill-color: #174EA6;\n      --disabled-fill-color: #AAA;\n      --disabled-bg-color: #DDD;\n  }\n\n  [theme=dark] .colab-df-quickchart {\n      --bg-color: #3B4455;\n      --fill-color: #D2E3FC;\n      --hover-bg-color: #434B5C;\n      --hover-fill-color: #FFFFFF;\n      --disabled-bg-color: #3B4455;\n      --disabled-fill-color: #666;\n  }\n\n  .colab-df-quickchart {\n    background-color: var(--bg-color);\n    border: none;\n    border-radius: 50%;\n    cursor: pointer;\n    display: none;\n    fill: var(--fill-color);\n    height: 32px;\n    padding: 0;\n    width: 32px;\n  }\n\n  .colab-df-quickchart:hover {\n    background-color: var(--hover-bg-color);\n    box-shadow: 0 1px 2px rgba(60, 64, 67, 0.3), 0 1px 3px 1px rgba(60, 64, 67, 0.15);\n    fill: var(--button-hover-fill-color);\n  }\n\n  .colab-df-quickchart-complete:disabled,\n  .colab-df-quickchart-complete:disabled:hover {\n    background-color: var(--disabled-bg-color);\n    fill: var(--disabled-fill-color);\n    box-shadow: none;\n  }\n\n  .colab-df-spinner {\n    border: 2px solid var(--fill-color);\n    border-color: transparent;\n    border-bottom-color: var(--fill-color);\n    animation:\n      spin 1s steps(1) infinite;\n  }\n\n  @keyframes spin {\n    0% {\n      border-color: transparent;\n      border-bottom-color: var(--fill-color);\n      border-left-color: var(--fill-color);\n    }\n    20% {\n      border-color: transparent;\n      border-left-color: var(--fill-color);\n      border-top-color: var(--fill-color);\n    }\n    30% {\n      border-color: transparent;\n      border-left-color: var(--fill-color);\n      border-top-color: var(--fill-color);\n      border-right-color: var(--fill-color);\n    }\n    40% {\n      border-color: transparent;\n      border-right-color: var(--fill-color);\n      border-top-color: var(--fill-color);\n    }\n    60% {\n      border-color: transparent;\n      border-right-color: var(--fill-color);\n    }\n    80% {\n      border-color: transparent;\n      border-right-color: var(--fill-color);\n      border-bottom-color: var(--fill-color);\n    }\n    90% {\n      border-color: transparent;\n      border-bottom-color: var(--fill-color);\n    }\n  }\n</style>\n\n  <script>\n    async function quickchart(key) {\n      const quickchartButtonEl =\n        document.querySelector('#' + key + ' button');\n      quickchartButtonEl.disabled = true;  // To prevent multiple clicks.\n      quickchartButtonEl.classList.add('colab-df-spinner');\n      try {\n        const charts = await google.colab.kernel.invokeFunction(\n            'suggestCharts', [key], {});\n      } catch (error) {\n        console.error('Error during call to suggestCharts:', error);\n      }\n      quickchartButtonEl.classList.remove('colab-df-spinner');\n      quickchartButtonEl.classList.add('colab-df-quickchart-complete');\n    }\n    (() => {\n      let quickchartButtonEl =\n        document.querySelector('#df-20751678-9f82-4f99-8617-ac2caf5f8267 button');\n      quickchartButtonEl.style.display =\n        google.colab.kernel.accessAllowed ? 'block' : 'none';\n    })();\n  </script>\n</div>`;\n        parentElement.appendChild(quickchartButtonContainerElement);\n      }\n\n      appendQuickchartButton(table);\n    ",
            "text/plain": [
              "<google.colab.data_table.DataTable object>"
            ]
          },
          "metadata": {}
        }
      ]
    },
    {
      "cell_type": "markdown",
      "source": [
        "## Copy value: mv\n",
        "\n",
        "* The \"mv\" instruction is used to copy the immediate value stored in a register into another register.\n",
        "\n",
        "* Example:\n",
        "  ```python\n",
        "  .text\n",
        "  main:\n",
        "      li    $a0, 3\n",
        "      li    $a1, 2\n",
        "      move  $a0, $a1\n",
        "  ```\n"
      ],
      "metadata": {
        "id": "cGNWolMh0K4G"
      }
    },
    {
      "cell_type": "code",
      "source": [
        "#@markdown <font size='4'>Run the cell above</font>\n",
        "try_in_wepsim = False # @param {type:\"boolean\"}\n",
        "\n",
        "search_term = 'id:move1'\n",
        "write_cell_above_to_file(search_term, '/tmp/example.asm')\n",
        "\n",
        "!./wepsim/wepsim.sh -a stepbystep -m ep \\\n",
        "!                   -f ./wepsim/repo/microcode/mips/ep_base.mc \\\n",
        "!                   -s /tmp/example.asm > /tmp/result.csv\n",
        "\n",
        "status, df1 = show_results('/tmp/result.csv')\n",
        "\n",
        "if try_in_wepsim:\n",
        "  show_asm_in_ws('/tmp/example.asm','MIPS')\n"
      ],
      "metadata": {
        "colab": {
          "base_uri": "https://localhost:8080/",
          "height": 189
        },
        "cellView": "form",
        "id": "nIU0DACN0Rij",
        "outputId": "2895bbc0-f577-4fb8-aec8-6e484e2cde15"
      },
      "execution_count": 3,
      "outputs": [
        {
          "output_type": "display_data",
          "data": {
            "text/html": [
              "<div>\n",
              "<style scoped>\n",
              "    .dataframe tbody tr th:only-of-type {\n",
              "        vertical-align: middle;\n",
              "    }\n",
              "\n",
              "    .dataframe tbody tr th {\n",
              "        vertical-align: top;\n",
              "    }\n",
              "\n",
              "    .dataframe thead th {\n",
              "        text-align: right;\n",
              "    }\n",
              "</style>\n",
              "<table border=\"1\" class=\"dataframe\">\n",
              "  <thead>\n",
              "    <tr style=\"text-align: right;\">\n",
              "      <th></th>\n",
              "      <th>pc</th>\n",
              "      <th>instruction</th>\n",
              "      <th>changes_from_zero_or_current_value</th>\n",
              "    </tr>\n",
              "  </thead>\n",
              "  <tbody>\n",
              "    <tr>\n",
              "      <th>0</th>\n",
              "      <td>pc = 0x8000</td>\n",
              "      <td>li $a0 3</td>\n",
              "      <td>register R4 = 0x3; register R29 = 0x100000; re...</td>\n",
              "    </tr>\n",
              "    <tr>\n",
              "      <th>1</th>\n",
              "      <td>pc = 0x8004</td>\n",
              "      <td>li $a1 2</td>\n",
              "      <td>register R5 = 0x2; register PC = 0x8008</td>\n",
              "    </tr>\n",
              "    <tr>\n",
              "      <th>2</th>\n",
              "      <td>pc = 0x8008</td>\n",
              "      <td>move $a0 $a1</td>\n",
              "      <td>register R4 = 0x2; register PC = 0x800c</td>\n",
              "    </tr>\n",
              "  </tbody>\n",
              "</table>\n",
              "</div>"
            ],
            "application/vnd.google.colaboratory.module+javascript": "\n      import \"https://ssl.gstatic.com/colaboratory/data_table/881c4a0d49046431/data_table.js\";\n\n      const table = window.createDataTable({\n        data: [[\"pc = 0x8000\",\n\"li $a0 3\",\n\"register R4 = 0x3; register R29 = 0x100000; register PC = 0x8004\"],\n [\"pc = 0x8004\",\n\"li $a1 2\",\n\"register R5 = 0x2; register PC = 0x8008\"],\n [\"pc = 0x8008\",\n\"move $a0 $a1\",\n\"register R4 = 0x2; register PC = 0x800c\"]],\n        columns: [[\"string\", \"pc\"], [\"string\", \"instruction\"], [\"string\", \"changes_from_zero_or_current_value\"]],\n        columnOptions: [],\n        rowsPerPage: 20,\n        helpUrl: \"https://colab.research.google.com/notebooks/data_table.ipynb\",\n        suppressOutputScrolling: true,\n        minimumWidth: undefined,\n      });\n\n      function appendQuickchartButton(parentElement) {\n        let quickchartButtonContainerElement = document.createElement('div');\n        quickchartButtonContainerElement.innerHTML = `\n<div id=\"df-870cf6e1-1f05-479d-acbe-2dcb97ef605e\">\n  <button class=\"colab-df-quickchart\" onclick=\"quickchart('df-870cf6e1-1f05-479d-acbe-2dcb97ef605e')\"\n            title=\"Suggest charts\"\n            style=\"display:none;\">\n    \n<svg xmlns=\"http://www.w3.org/2000/svg\" height=\"24px\"viewBox=\"0 0 24 24\"\n     width=\"24px\">\n    <g>\n        <path d=\"M19 3H5c-1.1 0-2 .9-2 2v14c0 1.1.9 2 2 2h14c1.1 0 2-.9 2-2V5c0-1.1-.9-2-2-2zM9 17H7v-7h2v7zm4 0h-2V7h2v10zm4 0h-2v-4h2v4z\"/>\n    </g>\n</svg>\n  </button>\n  \n<style>\n  .colab-df-quickchart {\n      --bg-color: #E8F0FE;\n      --fill-color: #1967D2;\n      --hover-bg-color: #E2EBFA;\n      --hover-fill-color: #174EA6;\n      --disabled-fill-color: #AAA;\n      --disabled-bg-color: #DDD;\n  }\n\n  [theme=dark] .colab-df-quickchart {\n      --bg-color: #3B4455;\n      --fill-color: #D2E3FC;\n      --hover-bg-color: #434B5C;\n      --hover-fill-color: #FFFFFF;\n      --disabled-bg-color: #3B4455;\n      --disabled-fill-color: #666;\n  }\n\n  .colab-df-quickchart {\n    background-color: var(--bg-color);\n    border: none;\n    border-radius: 50%;\n    cursor: pointer;\n    display: none;\n    fill: var(--fill-color);\n    height: 32px;\n    padding: 0;\n    width: 32px;\n  }\n\n  .colab-df-quickchart:hover {\n    background-color: var(--hover-bg-color);\n    box-shadow: 0 1px 2px rgba(60, 64, 67, 0.3), 0 1px 3px 1px rgba(60, 64, 67, 0.15);\n    fill: var(--button-hover-fill-color);\n  }\n\n  .colab-df-quickchart-complete:disabled,\n  .colab-df-quickchart-complete:disabled:hover {\n    background-color: var(--disabled-bg-color);\n    fill: var(--disabled-fill-color);\n    box-shadow: none;\n  }\n\n  .colab-df-spinner {\n    border: 2px solid var(--fill-color);\n    border-color: transparent;\n    border-bottom-color: var(--fill-color);\n    animation:\n      spin 1s steps(1) infinite;\n  }\n\n  @keyframes spin {\n    0% {\n      border-color: transparent;\n      border-bottom-color: var(--fill-color);\n      border-left-color: var(--fill-color);\n    }\n    20% {\n      border-color: transparent;\n      border-left-color: var(--fill-color);\n      border-top-color: var(--fill-color);\n    }\n    30% {\n      border-color: transparent;\n      border-left-color: var(--fill-color);\n      border-top-color: var(--fill-color);\n      border-right-color: var(--fill-color);\n    }\n    40% {\n      border-color: transparent;\n      border-right-color: var(--fill-color);\n      border-top-color: var(--fill-color);\n    }\n    60% {\n      border-color: transparent;\n      border-right-color: var(--fill-color);\n    }\n    80% {\n      border-color: transparent;\n      border-right-color: var(--fill-color);\n      border-bottom-color: var(--fill-color);\n    }\n    90% {\n      border-color: transparent;\n      border-bottom-color: var(--fill-color);\n    }\n  }\n</style>\n\n  <script>\n    async function quickchart(key) {\n      const quickchartButtonEl =\n        document.querySelector('#' + key + ' button');\n      quickchartButtonEl.disabled = true;  // To prevent multiple clicks.\n      quickchartButtonEl.classList.add('colab-df-spinner');\n      try {\n        const charts = await google.colab.kernel.invokeFunction(\n            'suggestCharts', [key], {});\n      } catch (error) {\n        console.error('Error during call to suggestCharts:', error);\n      }\n      quickchartButtonEl.classList.remove('colab-df-spinner');\n      quickchartButtonEl.classList.add('colab-df-quickchart-complete');\n    }\n    (() => {\n      let quickchartButtonEl =\n        document.querySelector('#df-870cf6e1-1f05-479d-acbe-2dcb97ef605e button');\n      quickchartButtonEl.style.display =\n        google.colab.kernel.accessAllowed ? 'block' : 'none';\n    })();\n  </script>\n</div>`;\n        parentElement.appendChild(quickchartButtonContainerElement);\n      }\n\n      appendQuickchartButton(table);\n    ",
            "text/plain": [
              "<google.colab.data_table.DataTable object>"
            ]
          },
          "metadata": {}
        }
      ]
    },
    {
      "cell_type": "markdown",
      "source": [
        "# <u>Arithmetic instructions</u>\n",
        "\n",
        "In general, binaries arithmetic instructions take two numbers and apply some mathematical arithmetic to this two numbers, saving the result in a CPU register. For unaries arithmetic instructions is similar but only take one number to work with."
      ],
      "metadata": {
        "id": "biPhAQ66BiLR"
      }
    },
    {
      "cell_type": "markdown",
      "source": [
        "## Add two integers: add, addi\n",
        "\n",
        "* \"add\" adds the content of two CPU registers (could be the same CPU register twice) and save the result into a CPU register (could be the same as either operands). The content is going to be interpreted as signed integers.\n",
        "* \"addi\" adds the content of one CPU register with one immediate value, saving the result in a CPU register (could be the same as the operand).\n",
        "\n",
        "* Example:\n",
        "  ```python\n",
        "  .text\n",
        "  main:\n",
        "      li      $a0, 3\n",
        "      li      $a1, 2\n",
        "      add     $a2, $a0, $a1   # $a2 = 3 + 2\n",
        "      addi    $a2, $a0, 10    # $a2 = 3 + 10\n",
        "  ```\n"
      ],
      "metadata": {
        "id": "addaddi1"
      }
    },
    {
      "cell_type": "code",
      "source": [
        "#@markdown <font size='4'>Run the cell above</font>\n",
        "try_in_wepsim = False # @param {type:\"boolean\"}\n",
        "\n",
        "search_term = 'id:addaddi1'\n",
        "write_cell_above_to_file(search_term, '/tmp/example.asm')\n",
        "\n",
        "!./wepsim/wepsim.sh -a stepbystep -m ep -f ./wepsim/repo/microcode/mips/ep_base.mc -s /tmp/example.asm > /tmp/result.csv\n",
        "\n",
        "status, df1 = show_results('/tmp/result.csv')\n",
        "\n",
        "if try_in_wepsim:\n",
        "  show_asm_in_ws('/tmp/example.asm','MIPS')\n"
      ],
      "metadata": {
        "id": "aGzG8UmyFoyJ",
        "colab": {
          "base_uri": "https://localhost:8080/",
          "height": 210
        },
        "outputId": "e6dbce4b-ab83-477d-f1f5-723792eba506",
        "cellView": "form"
      },
      "execution_count": 4,
      "outputs": [
        {
          "output_type": "display_data",
          "data": {
            "text/html": [
              "<div>\n",
              "<style scoped>\n",
              "    .dataframe tbody tr th:only-of-type {\n",
              "        vertical-align: middle;\n",
              "    }\n",
              "\n",
              "    .dataframe tbody tr th {\n",
              "        vertical-align: top;\n",
              "    }\n",
              "\n",
              "    .dataframe thead th {\n",
              "        text-align: right;\n",
              "    }\n",
              "</style>\n",
              "<table border=\"1\" class=\"dataframe\">\n",
              "  <thead>\n",
              "    <tr style=\"text-align: right;\">\n",
              "      <th></th>\n",
              "      <th>pc</th>\n",
              "      <th>instruction</th>\n",
              "      <th>changes_from_zero_or_current_value</th>\n",
              "    </tr>\n",
              "  </thead>\n",
              "  <tbody>\n",
              "    <tr>\n",
              "      <th>0</th>\n",
              "      <td>pc = 0x8000</td>\n",
              "      <td>li $a0 3</td>\n",
              "      <td>register R4 = 0x3; register R29 = 0x100000; re...</td>\n",
              "    </tr>\n",
              "    <tr>\n",
              "      <th>1</th>\n",
              "      <td>pc = 0x8004</td>\n",
              "      <td>li $a1 2</td>\n",
              "      <td>register R5 = 0x2; register PC = 0x8008</td>\n",
              "    </tr>\n",
              "    <tr>\n",
              "      <th>2</th>\n",
              "      <td>pc = 0x8008</td>\n",
              "      <td>add $a2 $a0 $a1</td>\n",
              "      <td>register R6 = 0x5; register PC = 0x800c</td>\n",
              "    </tr>\n",
              "    <tr>\n",
              "      <th>3</th>\n",
              "      <td>pc = 0x800c</td>\n",
              "      <td>addi $a2 $a0 10</td>\n",
              "      <td>register R6 = 0xd; register PC = 0x8010</td>\n",
              "    </tr>\n",
              "  </tbody>\n",
              "</table>\n",
              "</div>"
            ],
            "application/vnd.google.colaboratory.module+javascript": "\n      import \"https://ssl.gstatic.com/colaboratory/data_table/881c4a0d49046431/data_table.js\";\n\n      const table = window.createDataTable({\n        data: [[\"pc = 0x8000\",\n\"li $a0 3\",\n\"register R4 = 0x3; register R29 = 0x100000; register PC = 0x8004\"],\n [\"pc = 0x8004\",\n\"li $a1 2\",\n\"register R5 = 0x2; register PC = 0x8008\"],\n [\"pc = 0x8008\",\n\"add $a2 $a0 $a1\",\n\"register R6 = 0x5; register PC = 0x800c\"],\n [\"pc = 0x800c\",\n\"addi $a2 $a0 10\",\n\"register R6 = 0xd; register PC = 0x8010\"]],\n        columns: [[\"string\", \"pc\"], [\"string\", \"instruction\"], [\"string\", \"changes_from_zero_or_current_value\"]],\n        columnOptions: [],\n        rowsPerPage: 20,\n        helpUrl: \"https://colab.research.google.com/notebooks/data_table.ipynb\",\n        suppressOutputScrolling: true,\n        minimumWidth: undefined,\n      });\n\n      function appendQuickchartButton(parentElement) {\n        let quickchartButtonContainerElement = document.createElement('div');\n        quickchartButtonContainerElement.innerHTML = `\n<div id=\"df-57c20358-d4c8-407f-b2c1-47a72cba4f19\">\n  <button class=\"colab-df-quickchart\" onclick=\"quickchart('df-57c20358-d4c8-407f-b2c1-47a72cba4f19')\"\n            title=\"Suggest charts\"\n            style=\"display:none;\">\n    \n<svg xmlns=\"http://www.w3.org/2000/svg\" height=\"24px\"viewBox=\"0 0 24 24\"\n     width=\"24px\">\n    <g>\n        <path d=\"M19 3H5c-1.1 0-2 .9-2 2v14c0 1.1.9 2 2 2h14c1.1 0 2-.9 2-2V5c0-1.1-.9-2-2-2zM9 17H7v-7h2v7zm4 0h-2V7h2v10zm4 0h-2v-4h2v4z\"/>\n    </g>\n</svg>\n  </button>\n  \n<style>\n  .colab-df-quickchart {\n      --bg-color: #E8F0FE;\n      --fill-color: #1967D2;\n      --hover-bg-color: #E2EBFA;\n      --hover-fill-color: #174EA6;\n      --disabled-fill-color: #AAA;\n      --disabled-bg-color: #DDD;\n  }\n\n  [theme=dark] .colab-df-quickchart {\n      --bg-color: #3B4455;\n      --fill-color: #D2E3FC;\n      --hover-bg-color: #434B5C;\n      --hover-fill-color: #FFFFFF;\n      --disabled-bg-color: #3B4455;\n      --disabled-fill-color: #666;\n  }\n\n  .colab-df-quickchart {\n    background-color: var(--bg-color);\n    border: none;\n    border-radius: 50%;\n    cursor: pointer;\n    display: none;\n    fill: var(--fill-color);\n    height: 32px;\n    padding: 0;\n    width: 32px;\n  }\n\n  .colab-df-quickchart:hover {\n    background-color: var(--hover-bg-color);\n    box-shadow: 0 1px 2px rgba(60, 64, 67, 0.3), 0 1px 3px 1px rgba(60, 64, 67, 0.15);\n    fill: var(--button-hover-fill-color);\n  }\n\n  .colab-df-quickchart-complete:disabled,\n  .colab-df-quickchart-complete:disabled:hover {\n    background-color: var(--disabled-bg-color);\n    fill: var(--disabled-fill-color);\n    box-shadow: none;\n  }\n\n  .colab-df-spinner {\n    border: 2px solid var(--fill-color);\n    border-color: transparent;\n    border-bottom-color: var(--fill-color);\n    animation:\n      spin 1s steps(1) infinite;\n  }\n\n  @keyframes spin {\n    0% {\n      border-color: transparent;\n      border-bottom-color: var(--fill-color);\n      border-left-color: var(--fill-color);\n    }\n    20% {\n      border-color: transparent;\n      border-left-color: var(--fill-color);\n      border-top-color: var(--fill-color);\n    }\n    30% {\n      border-color: transparent;\n      border-left-color: var(--fill-color);\n      border-top-color: var(--fill-color);\n      border-right-color: var(--fill-color);\n    }\n    40% {\n      border-color: transparent;\n      border-right-color: var(--fill-color);\n      border-top-color: var(--fill-color);\n    }\n    60% {\n      border-color: transparent;\n      border-right-color: var(--fill-color);\n    }\n    80% {\n      border-color: transparent;\n      border-right-color: var(--fill-color);\n      border-bottom-color: var(--fill-color);\n    }\n    90% {\n      border-color: transparent;\n      border-bottom-color: var(--fill-color);\n    }\n  }\n</style>\n\n  <script>\n    async function quickchart(key) {\n      const quickchartButtonEl =\n        document.querySelector('#' + key + ' button');\n      quickchartButtonEl.disabled = true;  // To prevent multiple clicks.\n      quickchartButtonEl.classList.add('colab-df-spinner');\n      try {\n        const charts = await google.colab.kernel.invokeFunction(\n            'suggestCharts', [key], {});\n      } catch (error) {\n        console.error('Error during call to suggestCharts:', error);\n      }\n      quickchartButtonEl.classList.remove('colab-df-spinner');\n      quickchartButtonEl.classList.add('colab-df-quickchart-complete');\n    }\n    (() => {\n      let quickchartButtonEl =\n        document.querySelector('#df-57c20358-d4c8-407f-b2c1-47a72cba4f19 button');\n      quickchartButtonEl.style.display =\n        google.colab.kernel.accessAllowed ? 'block' : 'none';\n    })();\n  </script>\n</div>`;\n        parentElement.appendChild(quickchartButtonContainerElement);\n      }\n\n      appendQuickchartButton(table);\n    ",
            "text/plain": [
              "<google.colab.data_table.DataTable object>"
            ]
          },
          "metadata": {}
        }
      ]
    },
    {
      "cell_type": "markdown",
      "source": [
        "## Subtract: sub\n",
        "\n",
        "* \"sub\" substracts the content of two CPU registers (could be the same CPU register twice) and save the result into a CPU register (could be the same as either operands). The content is going to be interpreted as signed integers.\n",
        "\n",
        "* Example:\n",
        "  ```\n",
        "  .text\n",
        "  main:\n",
        "    li      $a0, 0\n",
        "    li      $a1, 2\n",
        "    sub     $a3, $a1, $a0   # $a2 = 0 - 2\n",
        "    sub     $a2, $a0, $a1   # $a2 = 0 - 2\n",
        "  ```\n"
      ],
      "metadata": {
        "id": "sub1"
      }
    },
    {
      "cell_type": "code",
      "source": [
        "#@markdown <font size='4'>Run the cell above</font>\n",
        "try_in_wepsim = False # @param {type:\"boolean\"}\n",
        "\n",
        "search_term = 'id:sub1'\n",
        "write_cell_above_to_file(search_term, '/tmp/example.asm')\n",
        "\n",
        "!./wepsim/wepsim.sh -a stepbystep -m ep -f ./wepsim/repo/microcode/mips/ep_base.mc -s /tmp/example.asm > /tmp/result.csv\n",
        "\n",
        "status, df1 = show_results('/tmp/result.csv')\n",
        "\n",
        "if try_in_wepsim:\n",
        "  show_asm_in_ws('/tmp/example.asm','MIPS')\n"
      ],
      "metadata": {
        "id": "aGzG8UmyFoy2",
        "colab": {
          "base_uri": "https://localhost:8080/",
          "height": 210
        },
        "outputId": "e35849a9-5b1d-4562-c1f9-f703073a5652",
        "cellView": "form"
      },
      "execution_count": 5,
      "outputs": [
        {
          "output_type": "display_data",
          "data": {
            "text/html": [
              "<div>\n",
              "<style scoped>\n",
              "    .dataframe tbody tr th:only-of-type {\n",
              "        vertical-align: middle;\n",
              "    }\n",
              "\n",
              "    .dataframe tbody tr th {\n",
              "        vertical-align: top;\n",
              "    }\n",
              "\n",
              "    .dataframe thead th {\n",
              "        text-align: right;\n",
              "    }\n",
              "</style>\n",
              "<table border=\"1\" class=\"dataframe\">\n",
              "  <thead>\n",
              "    <tr style=\"text-align: right;\">\n",
              "      <th></th>\n",
              "      <th>pc</th>\n",
              "      <th>instruction</th>\n",
              "      <th>changes_from_zero_or_current_value</th>\n",
              "    </tr>\n",
              "  </thead>\n",
              "  <tbody>\n",
              "    <tr>\n",
              "      <th>0</th>\n",
              "      <td>pc = 0x8000</td>\n",
              "      <td>li $a0 0</td>\n",
              "      <td>register PC = 0x8004</td>\n",
              "    </tr>\n",
              "    <tr>\n",
              "      <th>1</th>\n",
              "      <td>pc = 0x8004</td>\n",
              "      <td>li $a1 2</td>\n",
              "      <td>register R5 = 0x2; register R29 = 0x100000; re...</td>\n",
              "    </tr>\n",
              "    <tr>\n",
              "      <th>2</th>\n",
              "      <td>pc = 0x8008</td>\n",
              "      <td>sub $a3 $a1 $a0</td>\n",
              "      <td>register R7 = 0x2; register PC = 0x800c</td>\n",
              "    </tr>\n",
              "    <tr>\n",
              "      <th>3</th>\n",
              "      <td>pc = 0x800c</td>\n",
              "      <td>sub $a2 $a0 $a1</td>\n",
              "      <td>register R6 = 0xfffffffe; register PC = 0x8010...</td>\n",
              "    </tr>\n",
              "  </tbody>\n",
              "</table>\n",
              "</div>"
            ],
            "application/vnd.google.colaboratory.module+javascript": "\n      import \"https://ssl.gstatic.com/colaboratory/data_table/881c4a0d49046431/data_table.js\";\n\n      const table = window.createDataTable({\n        data: [[\"pc = 0x8000\",\n\"li $a0 0\",\n\"register PC = 0x8004\"],\n [\"pc = 0x8004\",\n\"li $a1 2\",\n\"register R5 = 0x2; register R29 = 0x100000; register PC = 0x8008\"],\n [\"pc = 0x8008\",\n\"sub $a3 $a1 $a0\",\n\"register R7 = 0x2; register PC = 0x800c\"],\n [\"pc = 0x800c\",\n\"sub $a2 $a0 $a1\",\n\"register R6 = 0xfffffffe; register PC = 0x8010; register SR = 0x60000000\"]],\n        columns: [[\"string\", \"pc\"], [\"string\", \"instruction\"], [\"string\", \"changes_from_zero_or_current_value\"]],\n        columnOptions: [],\n        rowsPerPage: 20,\n        helpUrl: \"https://colab.research.google.com/notebooks/data_table.ipynb\",\n        suppressOutputScrolling: true,\n        minimumWidth: undefined,\n      });\n\n      function appendQuickchartButton(parentElement) {\n        let quickchartButtonContainerElement = document.createElement('div');\n        quickchartButtonContainerElement.innerHTML = `\n<div id=\"df-29b1d43b-5299-4178-81c2-6e99c5b76ff8\">\n  <button class=\"colab-df-quickchart\" onclick=\"quickchart('df-29b1d43b-5299-4178-81c2-6e99c5b76ff8')\"\n            title=\"Suggest charts\"\n            style=\"display:none;\">\n    \n<svg xmlns=\"http://www.w3.org/2000/svg\" height=\"24px\"viewBox=\"0 0 24 24\"\n     width=\"24px\">\n    <g>\n        <path d=\"M19 3H5c-1.1 0-2 .9-2 2v14c0 1.1.9 2 2 2h14c1.1 0 2-.9 2-2V5c0-1.1-.9-2-2-2zM9 17H7v-7h2v7zm4 0h-2V7h2v10zm4 0h-2v-4h2v4z\"/>\n    </g>\n</svg>\n  </button>\n  \n<style>\n  .colab-df-quickchart {\n      --bg-color: #E8F0FE;\n      --fill-color: #1967D2;\n      --hover-bg-color: #E2EBFA;\n      --hover-fill-color: #174EA6;\n      --disabled-fill-color: #AAA;\n      --disabled-bg-color: #DDD;\n  }\n\n  [theme=dark] .colab-df-quickchart {\n      --bg-color: #3B4455;\n      --fill-color: #D2E3FC;\n      --hover-bg-color: #434B5C;\n      --hover-fill-color: #FFFFFF;\n      --disabled-bg-color: #3B4455;\n      --disabled-fill-color: #666;\n  }\n\n  .colab-df-quickchart {\n    background-color: var(--bg-color);\n    border: none;\n    border-radius: 50%;\n    cursor: pointer;\n    display: none;\n    fill: var(--fill-color);\n    height: 32px;\n    padding: 0;\n    width: 32px;\n  }\n\n  .colab-df-quickchart:hover {\n    background-color: var(--hover-bg-color);\n    box-shadow: 0 1px 2px rgba(60, 64, 67, 0.3), 0 1px 3px 1px rgba(60, 64, 67, 0.15);\n    fill: var(--button-hover-fill-color);\n  }\n\n  .colab-df-quickchart-complete:disabled,\n  .colab-df-quickchart-complete:disabled:hover {\n    background-color: var(--disabled-bg-color);\n    fill: var(--disabled-fill-color);\n    box-shadow: none;\n  }\n\n  .colab-df-spinner {\n    border: 2px solid var(--fill-color);\n    border-color: transparent;\n    border-bottom-color: var(--fill-color);\n    animation:\n      spin 1s steps(1) infinite;\n  }\n\n  @keyframes spin {\n    0% {\n      border-color: transparent;\n      border-bottom-color: var(--fill-color);\n      border-left-color: var(--fill-color);\n    }\n    20% {\n      border-color: transparent;\n      border-left-color: var(--fill-color);\n      border-top-color: var(--fill-color);\n    }\n    30% {\n      border-color: transparent;\n      border-left-color: var(--fill-color);\n      border-top-color: var(--fill-color);\n      border-right-color: var(--fill-color);\n    }\n    40% {\n      border-color: transparent;\n      border-right-color: var(--fill-color);\n      border-top-color: var(--fill-color);\n    }\n    60% {\n      border-color: transparent;\n      border-right-color: var(--fill-color);\n    }\n    80% {\n      border-color: transparent;\n      border-right-color: var(--fill-color);\n      border-bottom-color: var(--fill-color);\n    }\n    90% {\n      border-color: transparent;\n      border-bottom-color: var(--fill-color);\n    }\n  }\n</style>\n\n  <script>\n    async function quickchart(key) {\n      const quickchartButtonEl =\n        document.querySelector('#' + key + ' button');\n      quickchartButtonEl.disabled = true;  // To prevent multiple clicks.\n      quickchartButtonEl.classList.add('colab-df-spinner');\n      try {\n        const charts = await google.colab.kernel.invokeFunction(\n            'suggestCharts', [key], {});\n      } catch (error) {\n        console.error('Error during call to suggestCharts:', error);\n      }\n      quickchartButtonEl.classList.remove('colab-df-spinner');\n      quickchartButtonEl.classList.add('colab-df-quickchart-complete');\n    }\n    (() => {\n      let quickchartButtonEl =\n        document.querySelector('#df-29b1d43b-5299-4178-81c2-6e99c5b76ff8 button');\n      quickchartButtonEl.style.display =\n        google.colab.kernel.accessAllowed ? 'block' : 'none';\n    })();\n  </script>\n</div>`;\n        parentElement.appendChild(quickchartButtonContainerElement);\n      }\n\n      appendQuickchartButton(table);\n    ",
            "text/plain": [
              "<google.colab.data_table.DataTable object>"
            ]
          },
          "metadata": {}
        }
      ]
    },
    {
      "cell_type": "markdown",
      "source": [
        "## Multiply: mul\n",
        "\n",
        "* \"mul\" multiplies the content of two CPU registers (could be the same CPU register twice) and save the result into a CPU register (could be the same as either operands). The content is going to be interpreted as signed integers.\n",
        "  * Be careful with possible overflow: the result could be outside the representation rage used by the CPU.\n",
        "\n",
        "* Example:\n",
        "  ```\n",
        "  .text\n",
        "  main:\n",
        "    li      $a0, 5\n",
        "    li      $a1, 2\n",
        "    mul     $a2, $a0, $a1   # $a2 = 5 * 2\n",
        "    li      $a0, 0xA000\n",
        "    li      $a1, 0xA000\n",
        "    mul     $a3, $a0, $a1   # $a2 = ...\n",
        "  ```"
      ],
      "metadata": {
        "id": "mul1"
      }
    },
    {
      "cell_type": "code",
      "source": [
        "#@markdown <font size='4'>Run the cell above</font>\n",
        "try_in_wepsim = False # @param {type:\"boolean\"}\n",
        "\n",
        "search_term = 'id:mul1'\n",
        "write_cell_above_to_file(search_term, '/tmp/example.asm')\n",
        "\n",
        "!./wepsim/wepsim.sh -a stepbystep -m ep -f ./wepsim/repo/microcode/mips/ep_base.mc -s /tmp/example.asm > /tmp/result.csv\n",
        "\n",
        "status, df1 = show_results('/tmp/result.csv')\n",
        "\n",
        "if try_in_wepsim:\n",
        "  show_asm_in_ws('/tmp/example.asm','MIPS')\n"
      ],
      "metadata": {
        "id": "aGzG8UmyFoy3",
        "colab": {
          "base_uri": "https://localhost:8080/",
          "height": 253
        },
        "outputId": "3b35a080-7afb-49de-c191-79d7a3d5e2ed",
        "cellView": "form"
      },
      "execution_count": 18,
      "outputs": [
        {
          "output_type": "display_data",
          "data": {
            "text/html": [
              "<div>\n",
              "<style scoped>\n",
              "    .dataframe tbody tr th:only-of-type {\n",
              "        vertical-align: middle;\n",
              "    }\n",
              "\n",
              "    .dataframe tbody tr th {\n",
              "        vertical-align: top;\n",
              "    }\n",
              "\n",
              "    .dataframe thead th {\n",
              "        text-align: right;\n",
              "    }\n",
              "</style>\n",
              "<table border=\"1\" class=\"dataframe\">\n",
              "  <thead>\n",
              "    <tr style=\"text-align: right;\">\n",
              "      <th></th>\n",
              "      <th>pc</th>\n",
              "      <th>instruction</th>\n",
              "      <th>changes_from_zero_or_current_value</th>\n",
              "    </tr>\n",
              "  </thead>\n",
              "  <tbody>\n",
              "    <tr>\n",
              "      <th>0</th>\n",
              "      <td>pc = 0x8000</td>\n",
              "      <td>li $a0 5</td>\n",
              "      <td>register R4 = 0x5; register R29 = 0x100000; re...</td>\n",
              "    </tr>\n",
              "    <tr>\n",
              "      <th>1</th>\n",
              "      <td>pc = 0x8004</td>\n",
              "      <td>li $a1 2</td>\n",
              "      <td>register R5 = 0x2; register PC = 0x8008</td>\n",
              "    </tr>\n",
              "    <tr>\n",
              "      <th>2</th>\n",
              "      <td>pc = 0x8008</td>\n",
              "      <td>mul $a2 $a0 $a1</td>\n",
              "      <td>register R6 = 0xa; register PC = 0x800c</td>\n",
              "    </tr>\n",
              "    <tr>\n",
              "      <th>3</th>\n",
              "      <td>pc = 0x800c</td>\n",
              "      <td>li $a0 0xA000</td>\n",
              "      <td>register R4 = 0xffffa000; register PC = 0x8010</td>\n",
              "    </tr>\n",
              "    <tr>\n",
              "      <th>4</th>\n",
              "      <td>pc = 0x8010</td>\n",
              "      <td>li $a1 0xA000</td>\n",
              "      <td>register R5 = 0xffffa000; register PC = 0x8014</td>\n",
              "    </tr>\n",
              "    <tr>\n",
              "      <th>5</th>\n",
              "      <td>pc = 0x8014</td>\n",
              "      <td>mul $a3 $a0 $a1</td>\n",
              "      <td>register R7 = 0x24000000; register PC = 0x8018...</td>\n",
              "    </tr>\n",
              "  </tbody>\n",
              "</table>\n",
              "</div>"
            ],
            "application/vnd.google.colaboratory.module+javascript": "\n      import \"https://ssl.gstatic.com/colaboratory/data_table/881c4a0d49046431/data_table.js\";\n\n      const table = window.createDataTable({\n        data: [[\"pc = 0x8000\",\n\"li $a0 5\",\n\"register R4 = 0x5; register R29 = 0x100000; register PC = 0x8004\"],\n [\"pc = 0x8004\",\n\"li $a1 2\",\n\"register R5 = 0x2; register PC = 0x8008\"],\n [\"pc = 0x8008\",\n\"mul $a2 $a0 $a1\",\n\"register R6 = 0xa; register PC = 0x800c\"],\n [\"pc = 0x800c\",\n\"li $a0 0xA000\",\n\"register R4 = 0xffffa000; register PC = 0x8010\"],\n [\"pc = 0x8010\",\n\"li $a1 0xA000\",\n\"register R5 = 0xffffa000; register PC = 0x8014\"],\n [\"pc = 0x8014\",\n\"mul $a3 $a0 $a1\",\n\"register R7 = 0x24000000; register PC = 0x8018; register SR = 0x40000000\"]],\n        columns: [[\"string\", \"pc\"], [\"string\", \"instruction\"], [\"string\", \"changes_from_zero_or_current_value\"]],\n        columnOptions: [],\n        rowsPerPage: 20,\n        helpUrl: \"https://colab.research.google.com/notebooks/data_table.ipynb\",\n        suppressOutputScrolling: true,\n        minimumWidth: undefined,\n      });\n\n      function appendQuickchartButton(parentElement) {\n        let quickchartButtonContainerElement = document.createElement('div');\n        quickchartButtonContainerElement.innerHTML = `\n<div id=\"df-85fda937-8c19-4eea-8c19-6928b89e90b9\">\n  <button class=\"colab-df-quickchart\" onclick=\"quickchart('df-85fda937-8c19-4eea-8c19-6928b89e90b9')\"\n            title=\"Suggest charts\"\n            style=\"display:none;\">\n    \n<svg xmlns=\"http://www.w3.org/2000/svg\" height=\"24px\"viewBox=\"0 0 24 24\"\n     width=\"24px\">\n    <g>\n        <path d=\"M19 3H5c-1.1 0-2 .9-2 2v14c0 1.1.9 2 2 2h14c1.1 0 2-.9 2-2V5c0-1.1-.9-2-2-2zM9 17H7v-7h2v7zm4 0h-2V7h2v10zm4 0h-2v-4h2v4z\"/>\n    </g>\n</svg>\n  </button>\n  \n<style>\n  .colab-df-quickchart {\n      --bg-color: #E8F0FE;\n      --fill-color: #1967D2;\n      --hover-bg-color: #E2EBFA;\n      --hover-fill-color: #174EA6;\n      --disabled-fill-color: #AAA;\n      --disabled-bg-color: #DDD;\n  }\n\n  [theme=dark] .colab-df-quickchart {\n      --bg-color: #3B4455;\n      --fill-color: #D2E3FC;\n      --hover-bg-color: #434B5C;\n      --hover-fill-color: #FFFFFF;\n      --disabled-bg-color: #3B4455;\n      --disabled-fill-color: #666;\n  }\n\n  .colab-df-quickchart {\n    background-color: var(--bg-color);\n    border: none;\n    border-radius: 50%;\n    cursor: pointer;\n    display: none;\n    fill: var(--fill-color);\n    height: 32px;\n    padding: 0;\n    width: 32px;\n  }\n\n  .colab-df-quickchart:hover {\n    background-color: var(--hover-bg-color);\n    box-shadow: 0 1px 2px rgba(60, 64, 67, 0.3), 0 1px 3px 1px rgba(60, 64, 67, 0.15);\n    fill: var(--button-hover-fill-color);\n  }\n\n  .colab-df-quickchart-complete:disabled,\n  .colab-df-quickchart-complete:disabled:hover {\n    background-color: var(--disabled-bg-color);\n    fill: var(--disabled-fill-color);\n    box-shadow: none;\n  }\n\n  .colab-df-spinner {\n    border: 2px solid var(--fill-color);\n    border-color: transparent;\n    border-bottom-color: var(--fill-color);\n    animation:\n      spin 1s steps(1) infinite;\n  }\n\n  @keyframes spin {\n    0% {\n      border-color: transparent;\n      border-bottom-color: var(--fill-color);\n      border-left-color: var(--fill-color);\n    }\n    20% {\n      border-color: transparent;\n      border-left-color: var(--fill-color);\n      border-top-color: var(--fill-color);\n    }\n    30% {\n      border-color: transparent;\n      border-left-color: var(--fill-color);\n      border-top-color: var(--fill-color);\n      border-right-color: var(--fill-color);\n    }\n    40% {\n      border-color: transparent;\n      border-right-color: var(--fill-color);\n      border-top-color: var(--fill-color);\n    }\n    60% {\n      border-color: transparent;\n      border-right-color: var(--fill-color);\n    }\n    80% {\n      border-color: transparent;\n      border-right-color: var(--fill-color);\n      border-bottom-color: var(--fill-color);\n    }\n    90% {\n      border-color: transparent;\n      border-bottom-color: var(--fill-color);\n    }\n  }\n</style>\n\n  <script>\n    async function quickchart(key) {\n      const quickchartButtonEl =\n        document.querySelector('#' + key + ' button');\n      quickchartButtonEl.disabled = true;  // To prevent multiple clicks.\n      quickchartButtonEl.classList.add('colab-df-spinner');\n      try {\n        const charts = await google.colab.kernel.invokeFunction(\n            'suggestCharts', [key], {});\n      } catch (error) {\n        console.error('Error during call to suggestCharts:', error);\n      }\n      quickchartButtonEl.classList.remove('colab-df-spinner');\n      quickchartButtonEl.classList.add('colab-df-quickchart-complete');\n    }\n    (() => {\n      let quickchartButtonEl =\n        document.querySelector('#df-85fda937-8c19-4eea-8c19-6928b89e90b9 button');\n      quickchartButtonEl.style.display =\n        google.colab.kernel.accessAllowed ? 'block' : 'none';\n    })();\n  </script>\n</div>`;\n        parentElement.appendChild(quickchartButtonContainerElement);\n      }\n\n      appendQuickchartButton(table);\n    ",
            "text/plain": [
              "<google.colab.data_table.DataTable object>"
            ]
          },
          "metadata": {}
        }
      ]
    },
    {
      "cell_type": "markdown",
      "source": [
        "## Divide Signed: div\n",
        "\n",
        "* \"div\" divides the content of two CPU registers (could be the same CPU register twice) and save the result into a CPU register (could be the same as either operands). The content is going to be interpreted as signed integers.\n",
        "  * Be careful with possible exception: divide by zero.\n",
        "\n",
        "* Example:\n",
        "  ```\n",
        "  .text\n",
        "  main:\n",
        "    li      $a0, 6\n",
        "    li      $a1, 2\n",
        "    div     $a2, $a0, $a1   # $a2 = 6 / 2\n",
        "  ```"
      ],
      "metadata": {
        "id": "div1"
      }
    },
    {
      "cell_type": "code",
      "source": [
        "#@markdown <font size='4'>Run the cell above</font>\n",
        "try_in_wepsim = False # @param {type:\"boolean\"}\n",
        "\n",
        "search_term = 'id:div1'\n",
        "write_cell_above_to_file(search_term, '/tmp/example.asm')\n",
        "\n",
        "!./wepsim/wepsim.sh -a stepbystep -m ep -f ./wepsim/repo/microcode/mips/ep_base.mc -s /tmp/example.asm > /tmp/result.csv\n",
        "\n",
        "status, df1 = show_results('/tmp/result.csv')\n",
        "\n",
        "if try_in_wepsim:\n",
        "  show_asm_in_ws('/tmp/example.asm','MIPS')\n"
      ],
      "metadata": {
        "id": "aGzG8UmyFoy5",
        "colab": {
          "base_uri": "https://localhost:8080/",
          "height": 189
        },
        "outputId": "532d9776-e108-4632-eda0-1497ba42117e",
        "cellView": "form"
      },
      "execution_count": 7,
      "outputs": [
        {
          "output_type": "display_data",
          "data": {
            "text/html": [
              "<div>\n",
              "<style scoped>\n",
              "    .dataframe tbody tr th:only-of-type {\n",
              "        vertical-align: middle;\n",
              "    }\n",
              "\n",
              "    .dataframe tbody tr th {\n",
              "        vertical-align: top;\n",
              "    }\n",
              "\n",
              "    .dataframe thead th {\n",
              "        text-align: right;\n",
              "    }\n",
              "</style>\n",
              "<table border=\"1\" class=\"dataframe\">\n",
              "  <thead>\n",
              "    <tr style=\"text-align: right;\">\n",
              "      <th></th>\n",
              "      <th>pc</th>\n",
              "      <th>instruction</th>\n",
              "      <th>changes_from_zero_or_current_value</th>\n",
              "    </tr>\n",
              "  </thead>\n",
              "  <tbody>\n",
              "    <tr>\n",
              "      <th>0</th>\n",
              "      <td>pc = 0x8000</td>\n",
              "      <td>li $a0 6</td>\n",
              "      <td>register R4 = 0x6; register R29 = 0x100000; re...</td>\n",
              "    </tr>\n",
              "    <tr>\n",
              "      <th>1</th>\n",
              "      <td>pc = 0x8004</td>\n",
              "      <td>li $a1 2</td>\n",
              "      <td>register R5 = 0x2; register PC = 0x8008</td>\n",
              "    </tr>\n",
              "    <tr>\n",
              "      <th>2</th>\n",
              "      <td>pc = 0x8008</td>\n",
              "      <td>div $a2 $a0 $a1</td>\n",
              "      <td>register R6 = 0x3; register PC = 0x800c</td>\n",
              "    </tr>\n",
              "  </tbody>\n",
              "</table>\n",
              "</div>"
            ],
            "application/vnd.google.colaboratory.module+javascript": "\n      import \"https://ssl.gstatic.com/colaboratory/data_table/881c4a0d49046431/data_table.js\";\n\n      const table = window.createDataTable({\n        data: [[\"pc = 0x8000\",\n\"li $a0 6\",\n\"register R4 = 0x6; register R29 = 0x100000; register PC = 0x8004\"],\n [\"pc = 0x8004\",\n\"li $a1 2\",\n\"register R5 = 0x2; register PC = 0x8008\"],\n [\"pc = 0x8008\",\n\"div $a2 $a0 $a1\",\n\"register R6 = 0x3; register PC = 0x800c\"]],\n        columns: [[\"string\", \"pc\"], [\"string\", \"instruction\"], [\"string\", \"changes_from_zero_or_current_value\"]],\n        columnOptions: [],\n        rowsPerPage: 20,\n        helpUrl: \"https://colab.research.google.com/notebooks/data_table.ipynb\",\n        suppressOutputScrolling: true,\n        minimumWidth: undefined,\n      });\n\n      function appendQuickchartButton(parentElement) {\n        let quickchartButtonContainerElement = document.createElement('div');\n        quickchartButtonContainerElement.innerHTML = `\n<div id=\"df-fdf43581-8564-4f6a-ac96-d095eaf34b71\">\n  <button class=\"colab-df-quickchart\" onclick=\"quickchart('df-fdf43581-8564-4f6a-ac96-d095eaf34b71')\"\n            title=\"Suggest charts\"\n            style=\"display:none;\">\n    \n<svg xmlns=\"http://www.w3.org/2000/svg\" height=\"24px\"viewBox=\"0 0 24 24\"\n     width=\"24px\">\n    <g>\n        <path d=\"M19 3H5c-1.1 0-2 .9-2 2v14c0 1.1.9 2 2 2h14c1.1 0 2-.9 2-2V5c0-1.1-.9-2-2-2zM9 17H7v-7h2v7zm4 0h-2V7h2v10zm4 0h-2v-4h2v4z\"/>\n    </g>\n</svg>\n  </button>\n  \n<style>\n  .colab-df-quickchart {\n      --bg-color: #E8F0FE;\n      --fill-color: #1967D2;\n      --hover-bg-color: #E2EBFA;\n      --hover-fill-color: #174EA6;\n      --disabled-fill-color: #AAA;\n      --disabled-bg-color: #DDD;\n  }\n\n  [theme=dark] .colab-df-quickchart {\n      --bg-color: #3B4455;\n      --fill-color: #D2E3FC;\n      --hover-bg-color: #434B5C;\n      --hover-fill-color: #FFFFFF;\n      --disabled-bg-color: #3B4455;\n      --disabled-fill-color: #666;\n  }\n\n  .colab-df-quickchart {\n    background-color: var(--bg-color);\n    border: none;\n    border-radius: 50%;\n    cursor: pointer;\n    display: none;\n    fill: var(--fill-color);\n    height: 32px;\n    padding: 0;\n    width: 32px;\n  }\n\n  .colab-df-quickchart:hover {\n    background-color: var(--hover-bg-color);\n    box-shadow: 0 1px 2px rgba(60, 64, 67, 0.3), 0 1px 3px 1px rgba(60, 64, 67, 0.15);\n    fill: var(--button-hover-fill-color);\n  }\n\n  .colab-df-quickchart-complete:disabled,\n  .colab-df-quickchart-complete:disabled:hover {\n    background-color: var(--disabled-bg-color);\n    fill: var(--disabled-fill-color);\n    box-shadow: none;\n  }\n\n  .colab-df-spinner {\n    border: 2px solid var(--fill-color);\n    border-color: transparent;\n    border-bottom-color: var(--fill-color);\n    animation:\n      spin 1s steps(1) infinite;\n  }\n\n  @keyframes spin {\n    0% {\n      border-color: transparent;\n      border-bottom-color: var(--fill-color);\n      border-left-color: var(--fill-color);\n    }\n    20% {\n      border-color: transparent;\n      border-left-color: var(--fill-color);\n      border-top-color: var(--fill-color);\n    }\n    30% {\n      border-color: transparent;\n      border-left-color: var(--fill-color);\n      border-top-color: var(--fill-color);\n      border-right-color: var(--fill-color);\n    }\n    40% {\n      border-color: transparent;\n      border-right-color: var(--fill-color);\n      border-top-color: var(--fill-color);\n    }\n    60% {\n      border-color: transparent;\n      border-right-color: var(--fill-color);\n    }\n    80% {\n      border-color: transparent;\n      border-right-color: var(--fill-color);\n      border-bottom-color: var(--fill-color);\n    }\n    90% {\n      border-color: transparent;\n      border-bottom-color: var(--fill-color);\n    }\n  }\n</style>\n\n  <script>\n    async function quickchart(key) {\n      const quickchartButtonEl =\n        document.querySelector('#' + key + ' button');\n      quickchartButtonEl.disabled = true;  // To prevent multiple clicks.\n      quickchartButtonEl.classList.add('colab-df-spinner');\n      try {\n        const charts = await google.colab.kernel.invokeFunction(\n            'suggestCharts', [key], {});\n      } catch (error) {\n        console.error('Error during call to suggestCharts:', error);\n      }\n      quickchartButtonEl.classList.remove('colab-df-spinner');\n      quickchartButtonEl.classList.add('colab-df-quickchart-complete');\n    }\n    (() => {\n      let quickchartButtonEl =\n        document.querySelector('#df-fdf43581-8564-4f6a-ac96-d095eaf34b71 button');\n      quickchartButtonEl.style.display =\n        google.colab.kernel.accessAllowed ? 'block' : 'none';\n    })();\n  </script>\n</div>`;\n        parentElement.appendChild(quickchartButtonContainerElement);\n      }\n\n      appendQuickchartButton(table);\n    ",
            "text/plain": [
              "<google.colab.data_table.DataTable object>"
            ]
          },
          "metadata": {}
        }
      ]
    },
    {
      "cell_type": "markdown",
      "source": [
        "## Remainder Signed: rem\n",
        "\n",
        "* \"rem\" divides the content of two CPU registers (could be the same CPU register twice) and save the reminder result of the division into a CPU register (could be the same as either operands). The content of the two CPU registers is going to be interpreted as signed integers.\n",
        "  * Be careful with possible exception: divide by zero, again.\n",
        "\n",
        "* Example:\n",
        "  ```\n",
        "  .text\n",
        "  main:\n",
        "    li      $a0, 5\n",
        "    li      $a1, 2\n",
        "    rem     $a2, $a0, $a1   # $a2 = 5 % 2\n",
        "  ```"
      ],
      "metadata": {
        "id": "rem1"
      }
    },
    {
      "cell_type": "code",
      "source": [
        "#@markdown <font size='4'>Run the cell above</font>\n",
        "try_in_wepsim = False # @param {type:\"boolean\"}\n",
        "\n",
        "search_term = 'id:rem1'\n",
        "write_cell_above_to_file(search_term, '/tmp/example.asm')\n",
        "\n",
        "!./wepsim/wepsim.sh -a stepbystep -m ep -f ./wepsim/repo/microcode/mips/ep_base.mc -s /tmp/example.asm > /tmp/result.csv\n",
        "\n",
        "status, df1 = show_results('/tmp/result.csv')\n",
        "\n",
        "if try_in_wepsim:\n",
        "  show_asm_in_ws('/tmp/example.asm','MIPS')\n"
      ],
      "metadata": {
        "id": "aGzG8UmyFoy6",
        "colab": {
          "base_uri": "https://localhost:8080/",
          "height": 189
        },
        "outputId": "24e5ed57-554c-4410-ffb0-dd9a160b06c6",
        "cellView": "form"
      },
      "execution_count": 8,
      "outputs": [
        {
          "output_type": "display_data",
          "data": {
            "text/html": [
              "<div>\n",
              "<style scoped>\n",
              "    .dataframe tbody tr th:only-of-type {\n",
              "        vertical-align: middle;\n",
              "    }\n",
              "\n",
              "    .dataframe tbody tr th {\n",
              "        vertical-align: top;\n",
              "    }\n",
              "\n",
              "    .dataframe thead th {\n",
              "        text-align: right;\n",
              "    }\n",
              "</style>\n",
              "<table border=\"1\" class=\"dataframe\">\n",
              "  <thead>\n",
              "    <tr style=\"text-align: right;\">\n",
              "      <th></th>\n",
              "      <th>pc</th>\n",
              "      <th>instruction</th>\n",
              "      <th>changes_from_zero_or_current_value</th>\n",
              "    </tr>\n",
              "  </thead>\n",
              "  <tbody>\n",
              "    <tr>\n",
              "      <th>0</th>\n",
              "      <td>pc = 0x8000</td>\n",
              "      <td>li $a0 5</td>\n",
              "      <td>register R4 = 0x5; register R29 = 0x100000; re...</td>\n",
              "    </tr>\n",
              "    <tr>\n",
              "      <th>1</th>\n",
              "      <td>pc = 0x8004</td>\n",
              "      <td>li $a1 2</td>\n",
              "      <td>register R5 = 0x2; register PC = 0x8008</td>\n",
              "    </tr>\n",
              "    <tr>\n",
              "      <th>2</th>\n",
              "      <td>pc = 0x8008</td>\n",
              "      <td>rem $a2 $a0 $a1</td>\n",
              "      <td>register R6 = 0x1; register PC = 0x800c</td>\n",
              "    </tr>\n",
              "  </tbody>\n",
              "</table>\n",
              "</div>"
            ],
            "application/vnd.google.colaboratory.module+javascript": "\n      import \"https://ssl.gstatic.com/colaboratory/data_table/881c4a0d49046431/data_table.js\";\n\n      const table = window.createDataTable({\n        data: [[\"pc = 0x8000\",\n\"li $a0 5\",\n\"register R4 = 0x5; register R29 = 0x100000; register PC = 0x8004\"],\n [\"pc = 0x8004\",\n\"li $a1 2\",\n\"register R5 = 0x2; register PC = 0x8008\"],\n [\"pc = 0x8008\",\n\"rem $a2 $a0 $a1\",\n\"register R6 = 0x1; register PC = 0x800c\"]],\n        columns: [[\"string\", \"pc\"], [\"string\", \"instruction\"], [\"string\", \"changes_from_zero_or_current_value\"]],\n        columnOptions: [],\n        rowsPerPage: 20,\n        helpUrl: \"https://colab.research.google.com/notebooks/data_table.ipynb\",\n        suppressOutputScrolling: true,\n        minimumWidth: undefined,\n      });\n\n      function appendQuickchartButton(parentElement) {\n        let quickchartButtonContainerElement = document.createElement('div');\n        quickchartButtonContainerElement.innerHTML = `\n<div id=\"df-71fbb2e1-6a5d-4fc1-99ca-ab0eae1e2c3d\">\n  <button class=\"colab-df-quickchart\" onclick=\"quickchart('df-71fbb2e1-6a5d-4fc1-99ca-ab0eae1e2c3d')\"\n            title=\"Suggest charts\"\n            style=\"display:none;\">\n    \n<svg xmlns=\"http://www.w3.org/2000/svg\" height=\"24px\"viewBox=\"0 0 24 24\"\n     width=\"24px\">\n    <g>\n        <path d=\"M19 3H5c-1.1 0-2 .9-2 2v14c0 1.1.9 2 2 2h14c1.1 0 2-.9 2-2V5c0-1.1-.9-2-2-2zM9 17H7v-7h2v7zm4 0h-2V7h2v10zm4 0h-2v-4h2v4z\"/>\n    </g>\n</svg>\n  </button>\n  \n<style>\n  .colab-df-quickchart {\n      --bg-color: #E8F0FE;\n      --fill-color: #1967D2;\n      --hover-bg-color: #E2EBFA;\n      --hover-fill-color: #174EA6;\n      --disabled-fill-color: #AAA;\n      --disabled-bg-color: #DDD;\n  }\n\n  [theme=dark] .colab-df-quickchart {\n      --bg-color: #3B4455;\n      --fill-color: #D2E3FC;\n      --hover-bg-color: #434B5C;\n      --hover-fill-color: #FFFFFF;\n      --disabled-bg-color: #3B4455;\n      --disabled-fill-color: #666;\n  }\n\n  .colab-df-quickchart {\n    background-color: var(--bg-color);\n    border: none;\n    border-radius: 50%;\n    cursor: pointer;\n    display: none;\n    fill: var(--fill-color);\n    height: 32px;\n    padding: 0;\n    width: 32px;\n  }\n\n  .colab-df-quickchart:hover {\n    background-color: var(--hover-bg-color);\n    box-shadow: 0 1px 2px rgba(60, 64, 67, 0.3), 0 1px 3px 1px rgba(60, 64, 67, 0.15);\n    fill: var(--button-hover-fill-color);\n  }\n\n  .colab-df-quickchart-complete:disabled,\n  .colab-df-quickchart-complete:disabled:hover {\n    background-color: var(--disabled-bg-color);\n    fill: var(--disabled-fill-color);\n    box-shadow: none;\n  }\n\n  .colab-df-spinner {\n    border: 2px solid var(--fill-color);\n    border-color: transparent;\n    border-bottom-color: var(--fill-color);\n    animation:\n      spin 1s steps(1) infinite;\n  }\n\n  @keyframes spin {\n    0% {\n      border-color: transparent;\n      border-bottom-color: var(--fill-color);\n      border-left-color: var(--fill-color);\n    }\n    20% {\n      border-color: transparent;\n      border-left-color: var(--fill-color);\n      border-top-color: var(--fill-color);\n    }\n    30% {\n      border-color: transparent;\n      border-left-color: var(--fill-color);\n      border-top-color: var(--fill-color);\n      border-right-color: var(--fill-color);\n    }\n    40% {\n      border-color: transparent;\n      border-right-color: var(--fill-color);\n      border-top-color: var(--fill-color);\n    }\n    60% {\n      border-color: transparent;\n      border-right-color: var(--fill-color);\n    }\n    80% {\n      border-color: transparent;\n      border-right-color: var(--fill-color);\n      border-bottom-color: var(--fill-color);\n    }\n    90% {\n      border-color: transparent;\n      border-bottom-color: var(--fill-color);\n    }\n  }\n</style>\n\n  <script>\n    async function quickchart(key) {\n      const quickchartButtonEl =\n        document.querySelector('#' + key + ' button');\n      quickchartButtonEl.disabled = true;  // To prevent multiple clicks.\n      quickchartButtonEl.classList.add('colab-df-spinner');\n      try {\n        const charts = await google.colab.kernel.invokeFunction(\n            'suggestCharts', [key], {});\n      } catch (error) {\n        console.error('Error during call to suggestCharts:', error);\n      }\n      quickchartButtonEl.classList.remove('colab-df-spinner');\n      quickchartButtonEl.classList.add('colab-df-quickchart-complete');\n    }\n    (() => {\n      let quickchartButtonEl =\n        document.querySelector('#df-71fbb2e1-6a5d-4fc1-99ca-ab0eae1e2c3d button');\n      quickchartButtonEl.style.display =\n        google.colab.kernel.accessAllowed ? 'block' : 'none';\n    })();\n  </script>\n</div>`;\n        parentElement.appendChild(quickchartButtonContainerElement);\n      }\n\n      appendQuickchartButton(table);\n    ",
            "text/plain": [
              "<google.colab.data_table.DataTable object>"
            ]
          },
          "metadata": {}
        }
      ]
    },
    {
      "cell_type": "markdown",
      "source": [
        "# Logic instructions"
      ],
      "metadata": {
        "id": "xpUuX-N3R2WB"
      }
    },
    {
      "cell_type": "markdown",
      "source": [
        "## Or: or, ori\n",
        "\n",
        "* Example:\n",
        "  ```\n",
        "  .text\n",
        "  main:\n",
        "    li      $a0, 0xF875\n",
        "    li      $a1, 0x00FF\n",
        "    or      $a2, $a0, $a1    # $a2 = 0xF875 | 0x00FF\n",
        "    ori     $a3, $a0, 0xFF   # $a2 = 0xF875 | 0x00FF\n",
        "  ```"
      ],
      "metadata": {
        "id": "or1"
      }
    },
    {
      "cell_type": "code",
      "source": [
        "#@markdown <font size='4'>Run the cell above</font>\n",
        "try_in_wepsim = False # @param {type:\"boolean\"}\n",
        "\n",
        "search_term = 'id:or1'\n",
        "write_cell_above_to_file(search_term, '/tmp/example.asm')\n",
        "\n",
        "!./wepsim/wepsim.sh -a stepbystep -m ep -f ./wepsim/repo/microcode/mips/ep_base.mc -s /tmp/example.asm > /tmp/result.csv\n",
        "\n",
        "status, df1 = show_results('/tmp/result.csv')\n",
        "\n",
        "if try_in_wepsim:\n",
        "  show_asm_in_ws('/tmp/example.asm','MIPS')\n"
      ],
      "metadata": {
        "id": "aGzG8UmyFoy7",
        "colab": {
          "base_uri": "https://localhost:8080/",
          "height": 210
        },
        "outputId": "ecf34b26-e42d-4659-a555-f3b25a44fe69",
        "cellView": "form"
      },
      "execution_count": 9,
      "outputs": [
        {
          "output_type": "display_data",
          "data": {
            "text/html": [
              "<div>\n",
              "<style scoped>\n",
              "    .dataframe tbody tr th:only-of-type {\n",
              "        vertical-align: middle;\n",
              "    }\n",
              "\n",
              "    .dataframe tbody tr th {\n",
              "        vertical-align: top;\n",
              "    }\n",
              "\n",
              "    .dataframe thead th {\n",
              "        text-align: right;\n",
              "    }\n",
              "</style>\n",
              "<table border=\"1\" class=\"dataframe\">\n",
              "  <thead>\n",
              "    <tr style=\"text-align: right;\">\n",
              "      <th></th>\n",
              "      <th>pc</th>\n",
              "      <th>instruction</th>\n",
              "      <th>changes_from_zero_or_current_value</th>\n",
              "    </tr>\n",
              "  </thead>\n",
              "  <tbody>\n",
              "    <tr>\n",
              "      <th>0</th>\n",
              "      <td>pc = 0x8000</td>\n",
              "      <td>li $a0 0xF875</td>\n",
              "      <td>register R4 = 0xfffff875; register R29 = 0x100...</td>\n",
              "    </tr>\n",
              "    <tr>\n",
              "      <th>1</th>\n",
              "      <td>pc = 0x8004</td>\n",
              "      <td>li $a1 0x00FF</td>\n",
              "      <td>register R5 = 0xff; register PC = 0x8008</td>\n",
              "    </tr>\n",
              "    <tr>\n",
              "      <th>2</th>\n",
              "      <td>pc = 0x8008</td>\n",
              "      <td>or $a2 $a0 $a1</td>\n",
              "      <td>register R6 = 0xfffff8ff; register PC = 0x800c...</td>\n",
              "    </tr>\n",
              "    <tr>\n",
              "      <th>3</th>\n",
              "      <td>pc = 0x800c</td>\n",
              "      <td>ori $a3 $a0 0xFF</td>\n",
              "      <td>register R7 = 0xfffff8ff; register PC = 0x8010</td>\n",
              "    </tr>\n",
              "  </tbody>\n",
              "</table>\n",
              "</div>"
            ],
            "application/vnd.google.colaboratory.module+javascript": "\n      import \"https://ssl.gstatic.com/colaboratory/data_table/881c4a0d49046431/data_table.js\";\n\n      const table = window.createDataTable({\n        data: [[\"pc = 0x8000\",\n\"li $a0 0xF875\",\n\"register R4 = 0xfffff875; register R29 = 0x100000; register PC = 0x8004\"],\n [\"pc = 0x8004\",\n\"li $a1 0x00FF\",\n\"register R5 = 0xff; register PC = 0x8008\"],\n [\"pc = 0x8008\",\n\"or $a2 $a0 $a1\",\n\"register R6 = 0xfffff8ff; register PC = 0x800c; register SR = 0x20000000\"],\n [\"pc = 0x800c\",\n\"ori $a3 $a0 0xFF\",\n\"register R7 = 0xfffff8ff; register PC = 0x8010\"]],\n        columns: [[\"string\", \"pc\"], [\"string\", \"instruction\"], [\"string\", \"changes_from_zero_or_current_value\"]],\n        columnOptions: [],\n        rowsPerPage: 20,\n        helpUrl: \"https://colab.research.google.com/notebooks/data_table.ipynb\",\n        suppressOutputScrolling: true,\n        minimumWidth: undefined,\n      });\n\n      function appendQuickchartButton(parentElement) {\n        let quickchartButtonContainerElement = document.createElement('div');\n        quickchartButtonContainerElement.innerHTML = `\n<div id=\"df-4aeaebe5-9817-4e63-8974-451c3aca4de1\">\n  <button class=\"colab-df-quickchart\" onclick=\"quickchart('df-4aeaebe5-9817-4e63-8974-451c3aca4de1')\"\n            title=\"Suggest charts\"\n            style=\"display:none;\">\n    \n<svg xmlns=\"http://www.w3.org/2000/svg\" height=\"24px\"viewBox=\"0 0 24 24\"\n     width=\"24px\">\n    <g>\n        <path d=\"M19 3H5c-1.1 0-2 .9-2 2v14c0 1.1.9 2 2 2h14c1.1 0 2-.9 2-2V5c0-1.1-.9-2-2-2zM9 17H7v-7h2v7zm4 0h-2V7h2v10zm4 0h-2v-4h2v4z\"/>\n    </g>\n</svg>\n  </button>\n  \n<style>\n  .colab-df-quickchart {\n      --bg-color: #E8F0FE;\n      --fill-color: #1967D2;\n      --hover-bg-color: #E2EBFA;\n      --hover-fill-color: #174EA6;\n      --disabled-fill-color: #AAA;\n      --disabled-bg-color: #DDD;\n  }\n\n  [theme=dark] .colab-df-quickchart {\n      --bg-color: #3B4455;\n      --fill-color: #D2E3FC;\n      --hover-bg-color: #434B5C;\n      --hover-fill-color: #FFFFFF;\n      --disabled-bg-color: #3B4455;\n      --disabled-fill-color: #666;\n  }\n\n  .colab-df-quickchart {\n    background-color: var(--bg-color);\n    border: none;\n    border-radius: 50%;\n    cursor: pointer;\n    display: none;\n    fill: var(--fill-color);\n    height: 32px;\n    padding: 0;\n    width: 32px;\n  }\n\n  .colab-df-quickchart:hover {\n    background-color: var(--hover-bg-color);\n    box-shadow: 0 1px 2px rgba(60, 64, 67, 0.3), 0 1px 3px 1px rgba(60, 64, 67, 0.15);\n    fill: var(--button-hover-fill-color);\n  }\n\n  .colab-df-quickchart-complete:disabled,\n  .colab-df-quickchart-complete:disabled:hover {\n    background-color: var(--disabled-bg-color);\n    fill: var(--disabled-fill-color);\n    box-shadow: none;\n  }\n\n  .colab-df-spinner {\n    border: 2px solid var(--fill-color);\n    border-color: transparent;\n    border-bottom-color: var(--fill-color);\n    animation:\n      spin 1s steps(1) infinite;\n  }\n\n  @keyframes spin {\n    0% {\n      border-color: transparent;\n      border-bottom-color: var(--fill-color);\n      border-left-color: var(--fill-color);\n    }\n    20% {\n      border-color: transparent;\n      border-left-color: var(--fill-color);\n      border-top-color: var(--fill-color);\n    }\n    30% {\n      border-color: transparent;\n      border-left-color: var(--fill-color);\n      border-top-color: var(--fill-color);\n      border-right-color: var(--fill-color);\n    }\n    40% {\n      border-color: transparent;\n      border-right-color: var(--fill-color);\n      border-top-color: var(--fill-color);\n    }\n    60% {\n      border-color: transparent;\n      border-right-color: var(--fill-color);\n    }\n    80% {\n      border-color: transparent;\n      border-right-color: var(--fill-color);\n      border-bottom-color: var(--fill-color);\n    }\n    90% {\n      border-color: transparent;\n      border-bottom-color: var(--fill-color);\n    }\n  }\n</style>\n\n  <script>\n    async function quickchart(key) {\n      const quickchartButtonEl =\n        document.querySelector('#' + key + ' button');\n      quickchartButtonEl.disabled = true;  // To prevent multiple clicks.\n      quickchartButtonEl.classList.add('colab-df-spinner');\n      try {\n        const charts = await google.colab.kernel.invokeFunction(\n            'suggestCharts', [key], {});\n      } catch (error) {\n        console.error('Error during call to suggestCharts:', error);\n      }\n      quickchartButtonEl.classList.remove('colab-df-spinner');\n      quickchartButtonEl.classList.add('colab-df-quickchart-complete');\n    }\n    (() => {\n      let quickchartButtonEl =\n        document.querySelector('#df-4aeaebe5-9817-4e63-8974-451c3aca4de1 button');\n      quickchartButtonEl.style.display =\n        google.colab.kernel.accessAllowed ? 'block' : 'none';\n    })();\n  </script>\n</div>`;\n        parentElement.appendChild(quickchartButtonContainerElement);\n      }\n\n      appendQuickchartButton(table);\n    ",
            "text/plain": [
              "<google.colab.data_table.DataTable object>"
            ]
          },
          "metadata": {}
        }
      ]
    },
    {
      "cell_type": "markdown",
      "source": [
        "## And: and, andi\n",
        "\n",
        "* Example:\n",
        "  ```\n",
        "  .text\n",
        "  main:\n",
        "    li      $a0, 0xF875\n",
        "    li      $a1, 0x00FF\n",
        "    and     $a2, $a0, $a1    # $a2 = 0xF875 & 0x00FF\n",
        "    andi    $a3, $a0, 0xFF   # $a2 = 0xF875 & 0x00FF\n",
        "  ```"
      ],
      "metadata": {
        "id": "and1"
      }
    },
    {
      "cell_type": "code",
      "source": [
        "#@markdown <font size='4'>Run the cell above</font>\n",
        "try_in_wepsim = False # @param {type:\"boolean\"}\n",
        "\n",
        "search_term = 'id:and1'\n",
        "write_cell_above_to_file(search_term, '/tmp/example.asm')\n",
        "\n",
        "!./wepsim/wepsim.sh -a stepbystep -m ep -f ./wepsim/repo/microcode/mips/ep_base.mc -s /tmp/example.asm > /tmp/result.csv\n",
        "\n",
        "status, df1 = show_results('/tmp/result.csv')\n",
        "\n",
        "if try_in_wepsim:\n",
        "  show_asm_in_ws('/tmp/example.asm','MIPS')\n"
      ],
      "metadata": {
        "id": "aGzG8UmyFoy8",
        "colab": {
          "base_uri": "https://localhost:8080/",
          "height": 210
        },
        "outputId": "08fe1b80-0792-4d38-b5b5-0061ff3ea97f",
        "cellView": "form"
      },
      "execution_count": 10,
      "outputs": [
        {
          "output_type": "display_data",
          "data": {
            "text/html": [
              "<div>\n",
              "<style scoped>\n",
              "    .dataframe tbody tr th:only-of-type {\n",
              "        vertical-align: middle;\n",
              "    }\n",
              "\n",
              "    .dataframe tbody tr th {\n",
              "        vertical-align: top;\n",
              "    }\n",
              "\n",
              "    .dataframe thead th {\n",
              "        text-align: right;\n",
              "    }\n",
              "</style>\n",
              "<table border=\"1\" class=\"dataframe\">\n",
              "  <thead>\n",
              "    <tr style=\"text-align: right;\">\n",
              "      <th></th>\n",
              "      <th>pc</th>\n",
              "      <th>instruction</th>\n",
              "      <th>changes_from_zero_or_current_value</th>\n",
              "    </tr>\n",
              "  </thead>\n",
              "  <tbody>\n",
              "    <tr>\n",
              "      <th>0</th>\n",
              "      <td>pc = 0x8000</td>\n",
              "      <td>li $a0 0xF875</td>\n",
              "      <td>register R4 = 0xfffff875; register R29 = 0x100...</td>\n",
              "    </tr>\n",
              "    <tr>\n",
              "      <th>1</th>\n",
              "      <td>pc = 0x8004</td>\n",
              "      <td>li $a1 0x00FF</td>\n",
              "      <td>register R5 = 0xff; register PC = 0x8008</td>\n",
              "    </tr>\n",
              "    <tr>\n",
              "      <th>2</th>\n",
              "      <td>pc = 0x8008</td>\n",
              "      <td>and $a2 $a0 $a1</td>\n",
              "      <td>register R6 = 0x75; register PC = 0x800c</td>\n",
              "    </tr>\n",
              "    <tr>\n",
              "      <th>3</th>\n",
              "      <td>pc = 0x800c</td>\n",
              "      <td>andi $a3 $a0 0xFF</td>\n",
              "      <td>register R7 = 0x75; register PC = 0x8010</td>\n",
              "    </tr>\n",
              "  </tbody>\n",
              "</table>\n",
              "</div>"
            ],
            "application/vnd.google.colaboratory.module+javascript": "\n      import \"https://ssl.gstatic.com/colaboratory/data_table/881c4a0d49046431/data_table.js\";\n\n      const table = window.createDataTable({\n        data: [[\"pc = 0x8000\",\n\"li $a0 0xF875\",\n\"register R4 = 0xfffff875; register R29 = 0x100000; register PC = 0x8004\"],\n [\"pc = 0x8004\",\n\"li $a1 0x00FF\",\n\"register R5 = 0xff; register PC = 0x8008\"],\n [\"pc = 0x8008\",\n\"and $a2 $a0 $a1\",\n\"register R6 = 0x75; register PC = 0x800c\"],\n [\"pc = 0x800c\",\n\"andi $a3 $a0 0xFF\",\n\"register R7 = 0x75; register PC = 0x8010\"]],\n        columns: [[\"string\", \"pc\"], [\"string\", \"instruction\"], [\"string\", \"changes_from_zero_or_current_value\"]],\n        columnOptions: [],\n        rowsPerPage: 20,\n        helpUrl: \"https://colab.research.google.com/notebooks/data_table.ipynb\",\n        suppressOutputScrolling: true,\n        minimumWidth: undefined,\n      });\n\n      function appendQuickchartButton(parentElement) {\n        let quickchartButtonContainerElement = document.createElement('div');\n        quickchartButtonContainerElement.innerHTML = `\n<div id=\"df-a17570b3-ecb3-4cfb-88ac-1e6beb6b107f\">\n  <button class=\"colab-df-quickchart\" onclick=\"quickchart('df-a17570b3-ecb3-4cfb-88ac-1e6beb6b107f')\"\n            title=\"Suggest charts\"\n            style=\"display:none;\">\n    \n<svg xmlns=\"http://www.w3.org/2000/svg\" height=\"24px\"viewBox=\"0 0 24 24\"\n     width=\"24px\">\n    <g>\n        <path d=\"M19 3H5c-1.1 0-2 .9-2 2v14c0 1.1.9 2 2 2h14c1.1 0 2-.9 2-2V5c0-1.1-.9-2-2-2zM9 17H7v-7h2v7zm4 0h-2V7h2v10zm4 0h-2v-4h2v4z\"/>\n    </g>\n</svg>\n  </button>\n  \n<style>\n  .colab-df-quickchart {\n      --bg-color: #E8F0FE;\n      --fill-color: #1967D2;\n      --hover-bg-color: #E2EBFA;\n      --hover-fill-color: #174EA6;\n      --disabled-fill-color: #AAA;\n      --disabled-bg-color: #DDD;\n  }\n\n  [theme=dark] .colab-df-quickchart {\n      --bg-color: #3B4455;\n      --fill-color: #D2E3FC;\n      --hover-bg-color: #434B5C;\n      --hover-fill-color: #FFFFFF;\n      --disabled-bg-color: #3B4455;\n      --disabled-fill-color: #666;\n  }\n\n  .colab-df-quickchart {\n    background-color: var(--bg-color);\n    border: none;\n    border-radius: 50%;\n    cursor: pointer;\n    display: none;\n    fill: var(--fill-color);\n    height: 32px;\n    padding: 0;\n    width: 32px;\n  }\n\n  .colab-df-quickchart:hover {\n    background-color: var(--hover-bg-color);\n    box-shadow: 0 1px 2px rgba(60, 64, 67, 0.3), 0 1px 3px 1px rgba(60, 64, 67, 0.15);\n    fill: var(--button-hover-fill-color);\n  }\n\n  .colab-df-quickchart-complete:disabled,\n  .colab-df-quickchart-complete:disabled:hover {\n    background-color: var(--disabled-bg-color);\n    fill: var(--disabled-fill-color);\n    box-shadow: none;\n  }\n\n  .colab-df-spinner {\n    border: 2px solid var(--fill-color);\n    border-color: transparent;\n    border-bottom-color: var(--fill-color);\n    animation:\n      spin 1s steps(1) infinite;\n  }\n\n  @keyframes spin {\n    0% {\n      border-color: transparent;\n      border-bottom-color: var(--fill-color);\n      border-left-color: var(--fill-color);\n    }\n    20% {\n      border-color: transparent;\n      border-left-color: var(--fill-color);\n      border-top-color: var(--fill-color);\n    }\n    30% {\n      border-color: transparent;\n      border-left-color: var(--fill-color);\n      border-top-color: var(--fill-color);\n      border-right-color: var(--fill-color);\n    }\n    40% {\n      border-color: transparent;\n      border-right-color: var(--fill-color);\n      border-top-color: var(--fill-color);\n    }\n    60% {\n      border-color: transparent;\n      border-right-color: var(--fill-color);\n    }\n    80% {\n      border-color: transparent;\n      border-right-color: var(--fill-color);\n      border-bottom-color: var(--fill-color);\n    }\n    90% {\n      border-color: transparent;\n      border-bottom-color: var(--fill-color);\n    }\n  }\n</style>\n\n  <script>\n    async function quickchart(key) {\n      const quickchartButtonEl =\n        document.querySelector('#' + key + ' button');\n      quickchartButtonEl.disabled = true;  // To prevent multiple clicks.\n      quickchartButtonEl.classList.add('colab-df-spinner');\n      try {\n        const charts = await google.colab.kernel.invokeFunction(\n            'suggestCharts', [key], {});\n      } catch (error) {\n        console.error('Error during call to suggestCharts:', error);\n      }\n      quickchartButtonEl.classList.remove('colab-df-spinner');\n      quickchartButtonEl.classList.add('colab-df-quickchart-complete');\n    }\n    (() => {\n      let quickchartButtonEl =\n        document.querySelector('#df-a17570b3-ecb3-4cfb-88ac-1e6beb6b107f button');\n      quickchartButtonEl.style.display =\n        google.colab.kernel.accessAllowed ? 'block' : 'none';\n    })();\n  </script>\n</div>`;\n        parentElement.appendChild(quickchartButtonContainerElement);\n      }\n\n      appendQuickchartButton(table);\n    ",
            "text/plain": [
              "<google.colab.data_table.DataTable object>"
            ]
          },
          "metadata": {}
        }
      ]
    },
    {
      "cell_type": "markdown",
      "source": [
        "## Xor: xor, xori\n",
        "\n",
        "* Example:\n",
        "  ```\n",
        "  .text\n",
        "  main:\n",
        "    li      $a0, 0xF875\n",
        "    li      $a1, 0x00FF\n",
        "    xor     $a2, $a0, $a1   # $a2 = 0xF875 ^ 0x00FF\n",
        "    xori    $a3, $a0, 0xFF  # $a2 = 0xF875 ^ 0x00FF\n",
        "  ```"
      ],
      "metadata": {
        "id": "xor1"
      }
    },
    {
      "cell_type": "code",
      "source": [
        "#@markdown <font size='4'>Run the cell above</font>\n",
        "try_in_wepsim = False # @param {type:\"boolean\"}\n",
        "\n",
        "search_term = 'id:xor1'\n",
        "write_cell_above_to_file(search_term, '/tmp/example.asm')\n",
        "\n",
        "!./wepsim/wepsim.sh -a stepbystep -m ep -f ./wepsim/repo/microcode/mips/ep_base.mc -s /tmp/example.asm > /tmp/result.csv\n",
        "\n",
        "status, df1 = show_results('/tmp/result.csv')\n",
        "\n",
        "if try_in_wepsim:\n",
        "  show_asm_in_ws('/tmp/example.asm','MIPS')\n"
      ],
      "metadata": {
        "id": "aGzG8UmyFoy9",
        "colab": {
          "base_uri": "https://localhost:8080/",
          "height": 210
        },
        "outputId": "0d1e60df-4073-49d3-ced0-5106841f48a1",
        "cellView": "form"
      },
      "execution_count": 11,
      "outputs": [
        {
          "output_type": "display_data",
          "data": {
            "text/html": [
              "<div>\n",
              "<style scoped>\n",
              "    .dataframe tbody tr th:only-of-type {\n",
              "        vertical-align: middle;\n",
              "    }\n",
              "\n",
              "    .dataframe tbody tr th {\n",
              "        vertical-align: top;\n",
              "    }\n",
              "\n",
              "    .dataframe thead th {\n",
              "        text-align: right;\n",
              "    }\n",
              "</style>\n",
              "<table border=\"1\" class=\"dataframe\">\n",
              "  <thead>\n",
              "    <tr style=\"text-align: right;\">\n",
              "      <th></th>\n",
              "      <th>pc</th>\n",
              "      <th>instruction</th>\n",
              "      <th>changes_from_zero_or_current_value</th>\n",
              "    </tr>\n",
              "  </thead>\n",
              "  <tbody>\n",
              "    <tr>\n",
              "      <th>0</th>\n",
              "      <td>pc = 0x8000</td>\n",
              "      <td>li $a0 0xF875</td>\n",
              "      <td>register R4 = 0xfffff875; register R29 = 0x100...</td>\n",
              "    </tr>\n",
              "    <tr>\n",
              "      <th>1</th>\n",
              "      <td>pc = 0x8004</td>\n",
              "      <td>li $a1 0x00FF</td>\n",
              "      <td>register R5 = 0xff; register PC = 0x8008</td>\n",
              "    </tr>\n",
              "    <tr>\n",
              "      <th>2</th>\n",
              "      <td>pc = 0x8008</td>\n",
              "      <td>xor $a2 $a0 $a1</td>\n",
              "      <td>register R6 = 0xfffff88a; register PC = 0x800c...</td>\n",
              "    </tr>\n",
              "    <tr>\n",
              "      <th>3</th>\n",
              "      <td>pc = 0x800c</td>\n",
              "      <td>xori $a3 $a0 0xFF</td>\n",
              "      <td>register R7 = 0xfffff88a; register PC = 0x8010</td>\n",
              "    </tr>\n",
              "  </tbody>\n",
              "</table>\n",
              "</div>"
            ],
            "application/vnd.google.colaboratory.module+javascript": "\n      import \"https://ssl.gstatic.com/colaboratory/data_table/881c4a0d49046431/data_table.js\";\n\n      const table = window.createDataTable({\n        data: [[\"pc = 0x8000\",\n\"li $a0 0xF875\",\n\"register R4 = 0xfffff875; register R29 = 0x100000; register PC = 0x8004\"],\n [\"pc = 0x8004\",\n\"li $a1 0x00FF\",\n\"register R5 = 0xff; register PC = 0x8008\"],\n [\"pc = 0x8008\",\n\"xor $a2 $a0 $a1\",\n\"register R6 = 0xfffff88a; register PC = 0x800c; register SR = 0x20000000\"],\n [\"pc = 0x800c\",\n\"xori $a3 $a0 0xFF\",\n\"register R7 = 0xfffff88a; register PC = 0x8010\"]],\n        columns: [[\"string\", \"pc\"], [\"string\", \"instruction\"], [\"string\", \"changes_from_zero_or_current_value\"]],\n        columnOptions: [],\n        rowsPerPage: 20,\n        helpUrl: \"https://colab.research.google.com/notebooks/data_table.ipynb\",\n        suppressOutputScrolling: true,\n        minimumWidth: undefined,\n      });\n\n      function appendQuickchartButton(parentElement) {\n        let quickchartButtonContainerElement = document.createElement('div');\n        quickchartButtonContainerElement.innerHTML = `\n<div id=\"df-e4a55bc3-8904-494c-8410-abca85054dd1\">\n  <button class=\"colab-df-quickchart\" onclick=\"quickchart('df-e4a55bc3-8904-494c-8410-abca85054dd1')\"\n            title=\"Suggest charts\"\n            style=\"display:none;\">\n    \n<svg xmlns=\"http://www.w3.org/2000/svg\" height=\"24px\"viewBox=\"0 0 24 24\"\n     width=\"24px\">\n    <g>\n        <path d=\"M19 3H5c-1.1 0-2 .9-2 2v14c0 1.1.9 2 2 2h14c1.1 0 2-.9 2-2V5c0-1.1-.9-2-2-2zM9 17H7v-7h2v7zm4 0h-2V7h2v10zm4 0h-2v-4h2v4z\"/>\n    </g>\n</svg>\n  </button>\n  \n<style>\n  .colab-df-quickchart {\n      --bg-color: #E8F0FE;\n      --fill-color: #1967D2;\n      --hover-bg-color: #E2EBFA;\n      --hover-fill-color: #174EA6;\n      --disabled-fill-color: #AAA;\n      --disabled-bg-color: #DDD;\n  }\n\n  [theme=dark] .colab-df-quickchart {\n      --bg-color: #3B4455;\n      --fill-color: #D2E3FC;\n      --hover-bg-color: #434B5C;\n      --hover-fill-color: #FFFFFF;\n      --disabled-bg-color: #3B4455;\n      --disabled-fill-color: #666;\n  }\n\n  .colab-df-quickchart {\n    background-color: var(--bg-color);\n    border: none;\n    border-radius: 50%;\n    cursor: pointer;\n    display: none;\n    fill: var(--fill-color);\n    height: 32px;\n    padding: 0;\n    width: 32px;\n  }\n\n  .colab-df-quickchart:hover {\n    background-color: var(--hover-bg-color);\n    box-shadow: 0 1px 2px rgba(60, 64, 67, 0.3), 0 1px 3px 1px rgba(60, 64, 67, 0.15);\n    fill: var(--button-hover-fill-color);\n  }\n\n  .colab-df-quickchart-complete:disabled,\n  .colab-df-quickchart-complete:disabled:hover {\n    background-color: var(--disabled-bg-color);\n    fill: var(--disabled-fill-color);\n    box-shadow: none;\n  }\n\n  .colab-df-spinner {\n    border: 2px solid var(--fill-color);\n    border-color: transparent;\n    border-bottom-color: var(--fill-color);\n    animation:\n      spin 1s steps(1) infinite;\n  }\n\n  @keyframes spin {\n    0% {\n      border-color: transparent;\n      border-bottom-color: var(--fill-color);\n      border-left-color: var(--fill-color);\n    }\n    20% {\n      border-color: transparent;\n      border-left-color: var(--fill-color);\n      border-top-color: var(--fill-color);\n    }\n    30% {\n      border-color: transparent;\n      border-left-color: var(--fill-color);\n      border-top-color: var(--fill-color);\n      border-right-color: var(--fill-color);\n    }\n    40% {\n      border-color: transparent;\n      border-right-color: var(--fill-color);\n      border-top-color: var(--fill-color);\n    }\n    60% {\n      border-color: transparent;\n      border-right-color: var(--fill-color);\n    }\n    80% {\n      border-color: transparent;\n      border-right-color: var(--fill-color);\n      border-bottom-color: var(--fill-color);\n    }\n    90% {\n      border-color: transparent;\n      border-bottom-color: var(--fill-color);\n    }\n  }\n</style>\n\n  <script>\n    async function quickchart(key) {\n      const quickchartButtonEl =\n        document.querySelector('#' + key + ' button');\n      quickchartButtonEl.disabled = true;  // To prevent multiple clicks.\n      quickchartButtonEl.classList.add('colab-df-spinner');\n      try {\n        const charts = await google.colab.kernel.invokeFunction(\n            'suggestCharts', [key], {});\n      } catch (error) {\n        console.error('Error during call to suggestCharts:', error);\n      }\n      quickchartButtonEl.classList.remove('colab-df-spinner');\n      quickchartButtonEl.classList.add('colab-df-quickchart-complete');\n    }\n    (() => {\n      let quickchartButtonEl =\n        document.querySelector('#df-e4a55bc3-8904-494c-8410-abca85054dd1 button');\n      quickchartButtonEl.style.display =\n        google.colab.kernel.accessAllowed ? 'block' : 'none';\n    })();\n  </script>\n</div>`;\n        parentElement.appendChild(quickchartButtonContainerElement);\n      }\n\n      appendQuickchartButton(table);\n    ",
            "text/plain": [
              "<google.colab.data_table.DataTable object>"
            ]
          },
          "metadata": {}
        }
      ]
    },
    {
      "cell_type": "markdown",
      "source": [
        "## Shift Right Logical: srl\n",
        "\n",
        "* Example:\n",
        "  ```\n",
        "  .text\n",
        "  main:\n",
        "    li      $a0, 0x010\n",
        "    srl     $a2, $a0, 0x3   # $a2 = 0x010 >> 3\n",
        "  ```"
      ],
      "metadata": {
        "id": "srl1"
      }
    },
    {
      "cell_type": "code",
      "source": [
        "#@markdown <font size='4'>Run the cell above</font>\n",
        "try_in_wepsim = False # @param {type:\"boolean\"}\n",
        "\n",
        "search_term = 'id:srl1'\n",
        "write_cell_above_to_file(search_term, '/tmp/example.asm')\n",
        "\n",
        "!./wepsim/wepsim.sh -a stepbystep -m ep -f ./wepsim/repo/microcode/mips/ep_base.mc -s /tmp/example.asm > /tmp/result.csv\n",
        "\n",
        "status, df1 = show_results('/tmp/result.csv')\n",
        "\n",
        "if try_in_wepsim:\n",
        "  show_asm_in_ws('/tmp/example.asm','MIPS')\n"
      ],
      "metadata": {
        "id": "aGzG8UmyFoyB",
        "colab": {
          "base_uri": "https://localhost:8080/",
          "height": 167
        },
        "outputId": "4bad406f-00fa-4ae6-e8c4-707eb6c0d6ba",
        "cellView": "form"
      },
      "execution_count": 20,
      "outputs": [
        {
          "output_type": "display_data",
          "data": {
            "text/html": [
              "<div>\n",
              "<style scoped>\n",
              "    .dataframe tbody tr th:only-of-type {\n",
              "        vertical-align: middle;\n",
              "    }\n",
              "\n",
              "    .dataframe tbody tr th {\n",
              "        vertical-align: top;\n",
              "    }\n",
              "\n",
              "    .dataframe thead th {\n",
              "        text-align: right;\n",
              "    }\n",
              "</style>\n",
              "<table border=\"1\" class=\"dataframe\">\n",
              "  <thead>\n",
              "    <tr style=\"text-align: right;\">\n",
              "      <th></th>\n",
              "      <th>pc</th>\n",
              "      <th>instruction</th>\n",
              "      <th>changes_from_zero_or_current_value</th>\n",
              "    </tr>\n",
              "  </thead>\n",
              "  <tbody>\n",
              "    <tr>\n",
              "      <th>0</th>\n",
              "      <td>pc = 0x8000</td>\n",
              "      <td>li $a0 0x010</td>\n",
              "      <td>register R4 = 0x10; register R29 = 0x100000; r...</td>\n",
              "    </tr>\n",
              "    <tr>\n",
              "      <th>1</th>\n",
              "      <td>pc = 0x8004</td>\n",
              "      <td>srl $a2 $a0 0x3</td>\n",
              "      <td>register R6 = 0x2; register PC = 0x8008; regis...</td>\n",
              "    </tr>\n",
              "  </tbody>\n",
              "</table>\n",
              "</div>"
            ],
            "application/vnd.google.colaboratory.module+javascript": "\n      import \"https://ssl.gstatic.com/colaboratory/data_table/881c4a0d49046431/data_table.js\";\n\n      const table = window.createDataTable({\n        data: [[\"pc = 0x8000\",\n\"li $a0 0x010\",\n\"register R4 = 0x10; register R29 = 0x100000; register PC = 0x8004\"],\n [\"pc = 0x8004\",\n\"srl $a2 $a0 0x3\",\n\"register R6 = 0x2; register PC = 0x8008; register SR = 0x10000000\"]],\n        columns: [[\"string\", \"pc\"], [\"string\", \"instruction\"], [\"string\", \"changes_from_zero_or_current_value\"]],\n        columnOptions: [],\n        rowsPerPage: 20,\n        helpUrl: \"https://colab.research.google.com/notebooks/data_table.ipynb\",\n        suppressOutputScrolling: true,\n        minimumWidth: undefined,\n      });\n\n      function appendQuickchartButton(parentElement) {\n        let quickchartButtonContainerElement = document.createElement('div');\n        quickchartButtonContainerElement.innerHTML = `\n<div id=\"df-7451c8b3-c894-417c-a7ea-eaf3506696a4\">\n  <button class=\"colab-df-quickchart\" onclick=\"quickchart('df-7451c8b3-c894-417c-a7ea-eaf3506696a4')\"\n            title=\"Suggest charts\"\n            style=\"display:none;\">\n    \n<svg xmlns=\"http://www.w3.org/2000/svg\" height=\"24px\"viewBox=\"0 0 24 24\"\n     width=\"24px\">\n    <g>\n        <path d=\"M19 3H5c-1.1 0-2 .9-2 2v14c0 1.1.9 2 2 2h14c1.1 0 2-.9 2-2V5c0-1.1-.9-2-2-2zM9 17H7v-7h2v7zm4 0h-2V7h2v10zm4 0h-2v-4h2v4z\"/>\n    </g>\n</svg>\n  </button>\n  \n<style>\n  .colab-df-quickchart {\n      --bg-color: #E8F0FE;\n      --fill-color: #1967D2;\n      --hover-bg-color: #E2EBFA;\n      --hover-fill-color: #174EA6;\n      --disabled-fill-color: #AAA;\n      --disabled-bg-color: #DDD;\n  }\n\n  [theme=dark] .colab-df-quickchart {\n      --bg-color: #3B4455;\n      --fill-color: #D2E3FC;\n      --hover-bg-color: #434B5C;\n      --hover-fill-color: #FFFFFF;\n      --disabled-bg-color: #3B4455;\n      --disabled-fill-color: #666;\n  }\n\n  .colab-df-quickchart {\n    background-color: var(--bg-color);\n    border: none;\n    border-radius: 50%;\n    cursor: pointer;\n    display: none;\n    fill: var(--fill-color);\n    height: 32px;\n    padding: 0;\n    width: 32px;\n  }\n\n  .colab-df-quickchart:hover {\n    background-color: var(--hover-bg-color);\n    box-shadow: 0 1px 2px rgba(60, 64, 67, 0.3), 0 1px 3px 1px rgba(60, 64, 67, 0.15);\n    fill: var(--button-hover-fill-color);\n  }\n\n  .colab-df-quickchart-complete:disabled,\n  .colab-df-quickchart-complete:disabled:hover {\n    background-color: var(--disabled-bg-color);\n    fill: var(--disabled-fill-color);\n    box-shadow: none;\n  }\n\n  .colab-df-spinner {\n    border: 2px solid var(--fill-color);\n    border-color: transparent;\n    border-bottom-color: var(--fill-color);\n    animation:\n      spin 1s steps(1) infinite;\n  }\n\n  @keyframes spin {\n    0% {\n      border-color: transparent;\n      border-bottom-color: var(--fill-color);\n      border-left-color: var(--fill-color);\n    }\n    20% {\n      border-color: transparent;\n      border-left-color: var(--fill-color);\n      border-top-color: var(--fill-color);\n    }\n    30% {\n      border-color: transparent;\n      border-left-color: var(--fill-color);\n      border-top-color: var(--fill-color);\n      border-right-color: var(--fill-color);\n    }\n    40% {\n      border-color: transparent;\n      border-right-color: var(--fill-color);\n      border-top-color: var(--fill-color);\n    }\n    60% {\n      border-color: transparent;\n      border-right-color: var(--fill-color);\n    }\n    80% {\n      border-color: transparent;\n      border-right-color: var(--fill-color);\n      border-bottom-color: var(--fill-color);\n    }\n    90% {\n      border-color: transparent;\n      border-bottom-color: var(--fill-color);\n    }\n  }\n</style>\n\n  <script>\n    async function quickchart(key) {\n      const quickchartButtonEl =\n        document.querySelector('#' + key + ' button');\n      quickchartButtonEl.disabled = true;  // To prevent multiple clicks.\n      quickchartButtonEl.classList.add('colab-df-spinner');\n      try {\n        const charts = await google.colab.kernel.invokeFunction(\n            'suggestCharts', [key], {});\n      } catch (error) {\n        console.error('Error during call to suggestCharts:', error);\n      }\n      quickchartButtonEl.classList.remove('colab-df-spinner');\n      quickchartButtonEl.classList.add('colab-df-quickchart-complete');\n    }\n    (() => {\n      let quickchartButtonEl =\n        document.querySelector('#df-7451c8b3-c894-417c-a7ea-eaf3506696a4 button');\n      quickchartButtonEl.style.display =\n        google.colab.kernel.accessAllowed ? 'block' : 'none';\n    })();\n  </script>\n</div>`;\n        parentElement.appendChild(quickchartButtonContainerElement);\n      }\n\n      appendQuickchartButton(table);\n    ",
            "text/plain": [
              "<google.colab.data_table.DataTable object>"
            ]
          },
          "metadata": {}
        }
      ]
    },
    {
      "cell_type": "markdown",
      "source": [
        "# Shift instructions"
      ],
      "metadata": {
        "id": "lx-0HxmxSzoC"
      }
    },
    {
      "cell_type": "markdown",
      "source": [
        "## Shift Left Logical: sll\n",
        "\n",
        "* Example:\n",
        "  ```\n",
        "  .text\n",
        "  main:\n",
        "    li      $a0, 0x010\n",
        "    li      $a1, 0x3\n",
        "    sll     $a2, $a0, 3   # $a2 = 0x010 << 3\n",
        "  ```"
      ],
      "metadata": {
        "id": "sll1"
      }
    },
    {
      "cell_type": "code",
      "source": [
        "#@markdown <font size='4'>Run the cell above</font>\n",
        "try_in_wepsim = False # @param {type:\"boolean\"}\n",
        "\n",
        "search_term = 'id:sll1'\n",
        "write_cell_above_to_file(search_term, '/tmp/example.asm')\n",
        "\n",
        "!./wepsim/wepsim.sh -a stepbystep -m ep -f ./wepsim/repo/microcode/mips/ep_base.mc -s /tmp/example.asm > /tmp/result.csv\n",
        "\n",
        "status, df1 = show_results('/tmp/result.csv')\n"
      ],
      "metadata": {
        "id": "aGzG8UmyFoyC",
        "colab": {
          "base_uri": "https://localhost:8080/",
          "height": 189
        },
        "outputId": "41ecad82-b43b-49a9-bf04-5ab11d28f62a",
        "cellView": "form"
      },
      "execution_count": 21,
      "outputs": [
        {
          "output_type": "display_data",
          "data": {
            "text/html": [
              "<div>\n",
              "<style scoped>\n",
              "    .dataframe tbody tr th:only-of-type {\n",
              "        vertical-align: middle;\n",
              "    }\n",
              "\n",
              "    .dataframe tbody tr th {\n",
              "        vertical-align: top;\n",
              "    }\n",
              "\n",
              "    .dataframe thead th {\n",
              "        text-align: right;\n",
              "    }\n",
              "</style>\n",
              "<table border=\"1\" class=\"dataframe\">\n",
              "  <thead>\n",
              "    <tr style=\"text-align: right;\">\n",
              "      <th></th>\n",
              "      <th>pc</th>\n",
              "      <th>instruction</th>\n",
              "      <th>changes_from_zero_or_current_value</th>\n",
              "    </tr>\n",
              "  </thead>\n",
              "  <tbody>\n",
              "    <tr>\n",
              "      <th>0</th>\n",
              "      <td>pc = 0x8000</td>\n",
              "      <td>li $a0 0x010</td>\n",
              "      <td>register R4 = 0x10; register R29 = 0x100000; r...</td>\n",
              "    </tr>\n",
              "    <tr>\n",
              "      <th>1</th>\n",
              "      <td>pc = 0x8004</td>\n",
              "      <td>li $a1 0x3</td>\n",
              "      <td>register R5 = 0x3; register PC = 0x8008</td>\n",
              "    </tr>\n",
              "    <tr>\n",
              "      <th>2</th>\n",
              "      <td>pc = 0x8008</td>\n",
              "      <td>sll $a2 $a0 3</td>\n",
              "      <td>register R6 = 0x80; register PC = 0x800c; regi...</td>\n",
              "    </tr>\n",
              "  </tbody>\n",
              "</table>\n",
              "</div>"
            ],
            "application/vnd.google.colaboratory.module+javascript": "\n      import \"https://ssl.gstatic.com/colaboratory/data_table/881c4a0d49046431/data_table.js\";\n\n      const table = window.createDataTable({\n        data: [[\"pc = 0x8000\",\n\"li $a0 0x010\",\n\"register R4 = 0x10; register R29 = 0x100000; register PC = 0x8004\"],\n [\"pc = 0x8004\",\n\"li $a1 0x3\",\n\"register R5 = 0x3; register PC = 0x8008\"],\n [\"pc = 0x8008\",\n\"sll $a2 $a0 3\",\n\"register R6 = 0x80; register PC = 0x800c; register SR = 0x10000000\"]],\n        columns: [[\"string\", \"pc\"], [\"string\", \"instruction\"], [\"string\", \"changes_from_zero_or_current_value\"]],\n        columnOptions: [],\n        rowsPerPage: 20,\n        helpUrl: \"https://colab.research.google.com/notebooks/data_table.ipynb\",\n        suppressOutputScrolling: true,\n        minimumWidth: undefined,\n      });\n\n      function appendQuickchartButton(parentElement) {\n        let quickchartButtonContainerElement = document.createElement('div');\n        quickchartButtonContainerElement.innerHTML = `\n<div id=\"df-214f15b4-605e-4f2f-8c70-65cf852ed2c5\">\n  <button class=\"colab-df-quickchart\" onclick=\"quickchart('df-214f15b4-605e-4f2f-8c70-65cf852ed2c5')\"\n            title=\"Suggest charts\"\n            style=\"display:none;\">\n    \n<svg xmlns=\"http://www.w3.org/2000/svg\" height=\"24px\"viewBox=\"0 0 24 24\"\n     width=\"24px\">\n    <g>\n        <path d=\"M19 3H5c-1.1 0-2 .9-2 2v14c0 1.1.9 2 2 2h14c1.1 0 2-.9 2-2V5c0-1.1-.9-2-2-2zM9 17H7v-7h2v7zm4 0h-2V7h2v10zm4 0h-2v-4h2v4z\"/>\n    </g>\n</svg>\n  </button>\n  \n<style>\n  .colab-df-quickchart {\n      --bg-color: #E8F0FE;\n      --fill-color: #1967D2;\n      --hover-bg-color: #E2EBFA;\n      --hover-fill-color: #174EA6;\n      --disabled-fill-color: #AAA;\n      --disabled-bg-color: #DDD;\n  }\n\n  [theme=dark] .colab-df-quickchart {\n      --bg-color: #3B4455;\n      --fill-color: #D2E3FC;\n      --hover-bg-color: #434B5C;\n      --hover-fill-color: #FFFFFF;\n      --disabled-bg-color: #3B4455;\n      --disabled-fill-color: #666;\n  }\n\n  .colab-df-quickchart {\n    background-color: var(--bg-color);\n    border: none;\n    border-radius: 50%;\n    cursor: pointer;\n    display: none;\n    fill: var(--fill-color);\n    height: 32px;\n    padding: 0;\n    width: 32px;\n  }\n\n  .colab-df-quickchart:hover {\n    background-color: var(--hover-bg-color);\n    box-shadow: 0 1px 2px rgba(60, 64, 67, 0.3), 0 1px 3px 1px rgba(60, 64, 67, 0.15);\n    fill: var(--button-hover-fill-color);\n  }\n\n  .colab-df-quickchart-complete:disabled,\n  .colab-df-quickchart-complete:disabled:hover {\n    background-color: var(--disabled-bg-color);\n    fill: var(--disabled-fill-color);\n    box-shadow: none;\n  }\n\n  .colab-df-spinner {\n    border: 2px solid var(--fill-color);\n    border-color: transparent;\n    border-bottom-color: var(--fill-color);\n    animation:\n      spin 1s steps(1) infinite;\n  }\n\n  @keyframes spin {\n    0% {\n      border-color: transparent;\n      border-bottom-color: var(--fill-color);\n      border-left-color: var(--fill-color);\n    }\n    20% {\n      border-color: transparent;\n      border-left-color: var(--fill-color);\n      border-top-color: var(--fill-color);\n    }\n    30% {\n      border-color: transparent;\n      border-left-color: var(--fill-color);\n      border-top-color: var(--fill-color);\n      border-right-color: var(--fill-color);\n    }\n    40% {\n      border-color: transparent;\n      border-right-color: var(--fill-color);\n      border-top-color: var(--fill-color);\n    }\n    60% {\n      border-color: transparent;\n      border-right-color: var(--fill-color);\n    }\n    80% {\n      border-color: transparent;\n      border-right-color: var(--fill-color);\n      border-bottom-color: var(--fill-color);\n    }\n    90% {\n      border-color: transparent;\n      border-bottom-color: var(--fill-color);\n    }\n  }\n</style>\n\n  <script>\n    async function quickchart(key) {\n      const quickchartButtonEl =\n        document.querySelector('#' + key + ' button');\n      quickchartButtonEl.disabled = true;  // To prevent multiple clicks.\n      quickchartButtonEl.classList.add('colab-df-spinner');\n      try {\n        const charts = await google.colab.kernel.invokeFunction(\n            'suggestCharts', [key], {});\n      } catch (error) {\n        console.error('Error during call to suggestCharts:', error);\n      }\n      quickchartButtonEl.classList.remove('colab-df-spinner');\n      quickchartButtonEl.classList.add('colab-df-quickchart-complete');\n    }\n    (() => {\n      let quickchartButtonEl =\n        document.querySelector('#df-214f15b4-605e-4f2f-8c70-65cf852ed2c5 button');\n      quickchartButtonEl.style.display =\n        google.colab.kernel.accessAllowed ? 'block' : 'none';\n    })();\n  </script>\n</div>`;\n        parentElement.appendChild(quickchartButtonContainerElement);\n      }\n\n      appendQuickchartButton(table);\n    ",
            "text/plain": [
              "<google.colab.data_table.DataTable object>"
            ]
          },
          "metadata": {}
        }
      ]
    }
  ]
}