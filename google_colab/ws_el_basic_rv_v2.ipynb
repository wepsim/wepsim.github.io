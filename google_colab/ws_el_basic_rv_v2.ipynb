{
  "nbformat": 4,
  "nbformat_minor": 0,
  "metadata": {
    "colab": {
      "provenance": [],
      "collapsed_sections": [],
      "cell_execution_strategy": "setup"
    },
    "kernelspec": {
      "name": "python3",
      "display_name": "Python 3"
    },
    "language_info": {
      "name": "python"
    }
  },
  "cells": [
    {
      "cell_type": "markdown",
      "source": [
        "# WepSIM (https://wepsim.github.io/wepsim/)<br> <u>Tutorial for the basic arithmetic instructions in RISC-V</u>"
      ],
      "metadata": {
        "id": "dlfv9PEWBam7"
      }
    },
    {
      "cell_type": "markdown",
      "source": [
        "* **Please run next code cell first to start tutorial**\n"
      ],
      "metadata": {
        "id": "6MY9YLFDG2IC"
      }
    },
    {
      "cell_type": "code",
      "source": [
        "# @title { vertical-output: true, display-mode: \"form\" }\n",
        "#\n",
        "# Copyright 2015-2024 Felix Garcia Carballeira, Alejandro Calderon Mateos, Javier Prieto Cepeda, Saul Alonso Monsalve, Juan Banga Pardo\n",
        "#\n",
        "# This file is part of WepSIM.\n",
        "#\n",
        "# WepSIM is free software: you can redistribute it and/or modify\n",
        "# it under the terms of the GNU Lesser General Public License as published by\n",
        "# the Free Software Foundation, either version 3 of the License, or\n",
        "# (at your option) any later version.\n",
        "#\n",
        "# WepSIM is distributed in the hope that it will be useful,\n",
        "# but WITHOUT ANY WARRANTY; without even the implied warranty of\n",
        "# MERCHANTABILITY or FITNESS FOR A PARTICULAR PURPOSE.  See the\n",
        "# GNU Lesser General Public License for more details.\n",
        "#\n",
        "# You should have received a copy of the GNU Lesser General Public License\n",
        "# along with WepSIM.  If not, see <http://www.gnu.org/licenses/>.\n",
        "#\n",
        "!echo \"(1/3) Installing pre-requisites...\"\n",
        "!npm install  terser jq jshint yargs clear inquirer >& /dev/null\n",
        "!pip install lzstring\n",
        "!echo \"(2/3) Downloading WepSIM...\"\n",
        "![ ! -f wepsim-2.3.1.zip ] && wget https://github.com/acaldero/wepsim/releases/download/v2.3.1/wepsim-2.3.1.zip >& /dev/null\n",
        "!rm -fr   wepsim\n",
        "!unzip -o wepsim-2.3.1.zip  >& /dev/null\n",
        "!mv wepsim-2.3.1 wepsim\n",
        "!echo \"(3/3) Done!\"\n",
        "\n",
        "from pathlib import Path\n",
        "import pandas as pd\n",
        "import io\n",
        "import lzstring\n",
        "from IPython.display import IFrame\n",
        "from google.colab import data_table\n",
        "\n",
        "def show_results(filename):\n",
        "  df1    = ''\n",
        "  status = 0\n",
        "  try:\n",
        "    df1 = pd.read_csv(filename)\n",
        "    df1.columns = df1.columns.str.strip()\n",
        "    for item in df1.columns[:]:\n",
        "        df1[item].replace(\"\\t\",\"\", inplace=True, regex=True)\n",
        "        df1[item].replace(\"&nbsp;\",\"\", inplace=True, regex=True)\n",
        "    rdf = data_table.DataTable(df1, include_index=False, num_rows_per_page=20)\n",
        "    display(rdf)\n",
        "    status = 1\n",
        "  except:\n",
        "    df1 = Path(filename).read_text()\n",
        "    print(df1)\n",
        "    status = 0\n",
        "  return status, df1\n",
        "\n",
        "def get_lz(filename):\n",
        "  try:\n",
        "    with open(filename,'r',encoding='utf-8') as f:\n",
        "        cell_str = f.readlines()\n",
        "        cell_str = ''.join(cell_str)\n",
        "    x = lzstring.LZString()\n",
        "    cell_lz = x.compressToBase64(cell_str)\n",
        "  except:\n",
        "    cell_lz = ''\n",
        "  return cell_lz\n",
        "\n",
        "def get_ws_url(asm, cpu):\n",
        "  url = 'https://wepsim.github.io/wepsim/ws_dist/?'\n",
        "  url = url + 'mode=ep&'\n",
        "  url = url + 'notify=false&'\n",
        "  url = url + 'simulator=assembly:simulator&'\n",
        "  url = url + 'examples_set=' + cpu + '&'\n",
        "  url = url + 'example=11&'\n",
        "  url = url + 'asm=' + asm\n",
        "  return url\n",
        "\n",
        "def show_asm_in_ws(filename, cpu):\n",
        "  try:\n",
        "    lzasm = get_lz(filename)\n",
        "    url   = get_ws_url(lzasm, cpu)\n",
        "    display(IFrame(src=url, width=\"100%\", height=700))\n",
        "    status = 1\n",
        "  except:\n",
        "    status = 0\n",
        "  return status\n",
        "\n",
        "\n",
        "# Following code thanks to Rosa Filgueira Vicente\n",
        "# (https://colab.research.google.com/github/rosafilgueira/Workflows_Seminar)\n",
        "from google.colab import _message\n",
        "\n",
        "def write_cell_above_to_file(search_term, filename):\n",
        "  cell = get_cell_above(search_term)\n",
        "  code_block = get_cell_code_block(cell['source'])\n",
        "  with open(filename, 'w') as fp:\n",
        "    fp.writelines(code_block)\n",
        "\n",
        "def get_cell_above(search_term):\n",
        "  nb = _message.blocking_request('get_ipynb')\n",
        "  for i, cell in enumerate(nb['ipynb']['cells']):\n",
        "    if search_term in ''.join(cell['source']):\n",
        "      return nb['ipynb']['cells'][i - 1]\n",
        "\n",
        "def get_cell_code_block(cell_lines):\n",
        "  code_block = []\n",
        "  in_block = False\n",
        "  for ln in cell_lines:\n",
        "    if '```' in ln:\n",
        "       in_block = not in_block\n",
        "       continue\n",
        "    if in_block:\n",
        "       code_block.append(ln)\n",
        "  return code_block\n"
      ],
      "metadata": {
        "colab": {
          "base_uri": "https://localhost:8080/"
        },
        "id": "ckdvP8SsEuYa",
        "outputId": "2c6bf8f3-cf58-4b6f-de81-7bf7a989cccd"
      },
      "execution_count": 33,
      "outputs": [
        {
          "output_type": "stream",
          "name": "stdout",
          "text": [
            "(1/3) Installing pre-requisites...\n",
            "Requirement already satisfied: lzstring in /usr/local/lib/python3.10/dist-packages (1.0.4)\n",
            "Requirement already satisfied: future>=0.14.0 in /usr/local/lib/python3.10/dist-packages (from lzstring) (0.18.3)\n",
            "(2/3) Downloading WepSIM...\n",
            "(3/3) Done!\n"
          ]
        }
      ]
    },
    {
      "cell_type": "markdown",
      "source": [
        "# <u>Load and copy instructions</u>\n",
        "\n",
        "To test arithmetic instructions we are going to need numbers to operate with.<br>\n",
        "Examples for arithmetic instructions start by loading two numbers in two registers, then the arithmetic instruction is apply to this pair of numbers.\n",
        "\n",
        "So, how can we have the numbers in the registers?\n"
      ],
      "metadata": {
        "id": "IUn6v7nlv-5h"
      }
    },
    {
      "cell_type": "markdown",
      "source": [
        "## Load immediate: li\n",
        "\n",
        "* The \"li\" instruction is used to load an immediate value into a register.\n",
        "\n",
        "* Example:\n",
        "  ```python\n",
        "  .text\n",
        "  main:\n",
        "      li      a0, 3\n",
        "      li      a1, 2\n",
        "  ```\n"
      ],
      "metadata": {
        "id": "sk5aR77BwUMP"
      }
    },
    {
      "cell_type": "code",
      "source": [
        "#@markdown <font size='4'>Run the cell above</font>\n",
        "try_in_wepsim = False # @param {type:\"boolean\"}\n",
        "\n",
        "search_term = 'id:li1'\n",
        "write_cell_above_to_file(search_term, '/tmp/example.asm')\n",
        "\n",
        "!./wepsim/wepsim.sh -a stepbystep -m ep \\\n",
        "!                   -f ./wepsim/repo/microcode/rv32/ep_base.mc \\\n",
        "!                   -s /tmp/example.asm > /tmp/result.csv\n",
        "\n",
        "show_results('/tmp/result.csv')\n",
        "\n",
        "if try_in_wepsim:\n",
        "  show_asm_in_ws('/tmp/example.asm','RISCV')\n"
      ],
      "metadata": {
        "colab": {
          "base_uri": "https://localhost:8080/",
          "height": 210
        },
        "cellView": "form",
        "id": "p__lVnVywQ_u",
        "outputId": "28c4e043-914c-4407-8474-0682783eea5a"
      },
      "execution_count": 38,
      "outputs": [
        {
          "output_type": "display_data",
          "data": {
            "text/html": [
              "<div>\n",
              "<style scoped>\n",
              "    .dataframe tbody tr th:only-of-type {\n",
              "        vertical-align: middle;\n",
              "    }\n",
              "\n",
              "    .dataframe tbody tr th {\n",
              "        vertical-align: top;\n",
              "    }\n",
              "\n",
              "    .dataframe thead th {\n",
              "        text-align: right;\n",
              "    }\n",
              "</style>\n",
              "<table border=\"1\" class=\"dataframe\">\n",
              "  <thead>\n",
              "    <tr style=\"text-align: right;\">\n",
              "      <th></th>\n",
              "      <th>pc</th>\n",
              "      <th>instruction</th>\n",
              "      <th>changes_from_zero_or_current_value</th>\n",
              "    </tr>\n",
              "  </thead>\n",
              "  <tbody>\n",
              "    <tr>\n",
              "      <th>0</th>\n",
              "      <td>pc = 0x8000</td>\n",
              "      <td>li a0 3</td>\n",
              "      <td>register PC = 0x8004</td>\n",
              "    </tr>\n",
              "    <tr>\n",
              "      <th>1</th>\n",
              "      <td>pc = 0x8004</td>\n",
              "      <td></td>\n",
              "      <td>register R10 = 0x3; register PC = 0x8008</td>\n",
              "    </tr>\n",
              "    <tr>\n",
              "      <th>2</th>\n",
              "      <td>pc = 0x8008</td>\n",
              "      <td>li a1 2</td>\n",
              "      <td>register PC = 0x800c</td>\n",
              "    </tr>\n",
              "    <tr>\n",
              "      <th>3</th>\n",
              "      <td>pc = 0x800c</td>\n",
              "      <td></td>\n",
              "      <td>register R11 = 0x2; register PC = 0x8010</td>\n",
              "    </tr>\n",
              "  </tbody>\n",
              "</table>\n",
              "</div>"
            ],
            "application/vnd.google.colaboratory.module+javascript": "\n      import \"https://ssl.gstatic.com/colaboratory/data_table/881c4a0d49046431/data_table.js\";\n\n      const table = window.createDataTable({\n        data: [[\"pc = 0x8000\",\n\"li a0 3\",\n\"register PC = 0x8004\"],\n [\"pc = 0x8004\",\n\"\",\n\"register R10 = 0x3; register PC = 0x8008\"],\n [\"pc = 0x8008\",\n\"li a1 2\",\n\"register PC = 0x800c\"],\n [\"pc = 0x800c\",\n\"\",\n\"register R11 = 0x2; register PC = 0x8010\"]],\n        columns: [[\"string\", \"pc\"], [\"string\", \"instruction\"], [\"string\", \"changes_from_zero_or_current_value\"]],\n        columnOptions: [],\n        rowsPerPage: 20,\n        helpUrl: \"https://colab.research.google.com/notebooks/data_table.ipynb\",\n        suppressOutputScrolling: true,\n        minimumWidth: undefined,\n      });\n\n      function appendQuickchartButton(parentElement) {\n        let quickchartButtonContainerElement = document.createElement('div');\n        quickchartButtonContainerElement.innerHTML = `\n<div id=\"df-4838cb16-4871-4050-8238-34b0cedce1d6\">\n  <button class=\"colab-df-quickchart\" onclick=\"quickchart('df-4838cb16-4871-4050-8238-34b0cedce1d6')\"\n            title=\"Suggest charts\"\n            style=\"display:none;\">\n    \n<svg xmlns=\"http://www.w3.org/2000/svg\" height=\"24px\"viewBox=\"0 0 24 24\"\n     width=\"24px\">\n    <g>\n        <path d=\"M19 3H5c-1.1 0-2 .9-2 2v14c0 1.1.9 2 2 2h14c1.1 0 2-.9 2-2V5c0-1.1-.9-2-2-2zM9 17H7v-7h2v7zm4 0h-2V7h2v10zm4 0h-2v-4h2v4z\"/>\n    </g>\n</svg>\n  </button>\n  \n<style>\n  .colab-df-quickchart {\n      --bg-color: #E8F0FE;\n      --fill-color: #1967D2;\n      --hover-bg-color: #E2EBFA;\n      --hover-fill-color: #174EA6;\n      --disabled-fill-color: #AAA;\n      --disabled-bg-color: #DDD;\n  }\n\n  [theme=dark] .colab-df-quickchart {\n      --bg-color: #3B4455;\n      --fill-color: #D2E3FC;\n      --hover-bg-color: #434B5C;\n      --hover-fill-color: #FFFFFF;\n      --disabled-bg-color: #3B4455;\n      --disabled-fill-color: #666;\n  }\n\n  .colab-df-quickchart {\n    background-color: var(--bg-color);\n    border: none;\n    border-radius: 50%;\n    cursor: pointer;\n    display: none;\n    fill: var(--fill-color);\n    height: 32px;\n    padding: 0;\n    width: 32px;\n  }\n\n  .colab-df-quickchart:hover {\n    background-color: var(--hover-bg-color);\n    box-shadow: 0 1px 2px rgba(60, 64, 67, 0.3), 0 1px 3px 1px rgba(60, 64, 67, 0.15);\n    fill: var(--button-hover-fill-color);\n  }\n\n  .colab-df-quickchart-complete:disabled,\n  .colab-df-quickchart-complete:disabled:hover {\n    background-color: var(--disabled-bg-color);\n    fill: var(--disabled-fill-color);\n    box-shadow: none;\n  }\n\n  .colab-df-spinner {\n    border: 2px solid var(--fill-color);\n    border-color: transparent;\n    border-bottom-color: var(--fill-color);\n    animation:\n      spin 1s steps(1) infinite;\n  }\n\n  @keyframes spin {\n    0% {\n      border-color: transparent;\n      border-bottom-color: var(--fill-color);\n      border-left-color: var(--fill-color);\n    }\n    20% {\n      border-color: transparent;\n      border-left-color: var(--fill-color);\n      border-top-color: var(--fill-color);\n    }\n    30% {\n      border-color: transparent;\n      border-left-color: var(--fill-color);\n      border-top-color: var(--fill-color);\n      border-right-color: var(--fill-color);\n    }\n    40% {\n      border-color: transparent;\n      border-right-color: var(--fill-color);\n      border-top-color: var(--fill-color);\n    }\n    60% {\n      border-color: transparent;\n      border-right-color: var(--fill-color);\n    }\n    80% {\n      border-color: transparent;\n      border-right-color: var(--fill-color);\n      border-bottom-color: var(--fill-color);\n    }\n    90% {\n      border-color: transparent;\n      border-bottom-color: var(--fill-color);\n    }\n  }\n</style>\n\n  <script>\n    async function quickchart(key) {\n      const quickchartButtonEl =\n        document.querySelector('#' + key + ' button');\n      quickchartButtonEl.disabled = true;  // To prevent multiple clicks.\n      quickchartButtonEl.classList.add('colab-df-spinner');\n      try {\n        const charts = await google.colab.kernel.invokeFunction(\n            'suggestCharts', [key], {});\n      } catch (error) {\n        console.error('Error during call to suggestCharts:', error);\n      }\n      quickchartButtonEl.classList.remove('colab-df-spinner');\n      quickchartButtonEl.classList.add('colab-df-quickchart-complete');\n    }\n    (() => {\n      let quickchartButtonEl =\n        document.querySelector('#df-4838cb16-4871-4050-8238-34b0cedce1d6 button');\n      quickchartButtonEl.style.display =\n        google.colab.kernel.accessAllowed ? 'block' : 'none';\n    })();\n  </script>\n</div>`;\n        parentElement.appendChild(quickchartButtonContainerElement);\n      }\n\n      appendQuickchartButton(table);\n    ",
            "text/plain": [
              "<google.colab.data_table.DataTable object>"
            ]
          },
          "metadata": {}
        }
      ]
    },
    {
      "cell_type": "markdown",
      "source": [
        "## Copy value: mv\n",
        "\n",
        "* The \"mv\" instruction is used to copy the immediate value stored in a register into another register.\n",
        "\n",
        "* Example:\n",
        "  ```python\n",
        "  .text\n",
        "  main:\n",
        "      li    a0, 3\n",
        "      li    a1, 2\n",
        "      mv    a0, a1\n",
        "  ```\n"
      ],
      "metadata": {
        "id": "cGNWolMh0K4G"
      }
    },
    {
      "cell_type": "code",
      "source": [
        "#@markdown <font size='4'>Run the cell above</font>\n",
        "try_in_wepsim = False # @param {type:\"boolean\"}\n",
        "\n",
        "search_term = 'id:move1'\n",
        "write_cell_above_to_file(search_term, '/tmp/example.asm')\n",
        "\n",
        "!./wepsim/wepsim.sh -a stepbystep -m ep \\\n",
        "!                   -f ./wepsim/repo/microcode/rv32/ep_base.mc \\\n",
        "!                   -s /tmp/example.asm > /tmp/result.csv\n",
        "\n",
        "status, df1 = show_results('/tmp/result.csv')\n",
        "\n",
        "if try_in_wepsim:\n",
        "  show_asm_in_ws('/tmp/example.asm','RISCV')\n"
      ],
      "metadata": {
        "colab": {
          "base_uri": "https://localhost:8080/",
          "height": 232
        },
        "cellView": "form",
        "id": "nIU0DACN0Rij",
        "outputId": "2a424c82-148b-4ba7-8222-cbef6ce441b6"
      },
      "execution_count": null,
      "outputs": [
        {
          "output_type": "display_data",
          "data": {
            "text/html": [
              "<div>\n",
              "<style scoped>\n",
              "    .dataframe tbody tr th:only-of-type {\n",
              "        vertical-align: middle;\n",
              "    }\n",
              "\n",
              "    .dataframe tbody tr th {\n",
              "        vertical-align: top;\n",
              "    }\n",
              "\n",
              "    .dataframe thead th {\n",
              "        text-align: right;\n",
              "    }\n",
              "</style>\n",
              "<table border=\"1\" class=\"dataframe\">\n",
              "  <thead>\n",
              "    <tr style=\"text-align: right;\">\n",
              "      <th></th>\n",
              "      <th>pc</th>\n",
              "      <th>instruction</th>\n",
              "      <th>changes_from_zero_or_current_value</th>\n",
              "    </tr>\n",
              "  </thead>\n",
              "  <tbody>\n",
              "    <tr>\n",
              "      <th>0</th>\n",
              "      <td>pc = 0x8000</td>\n",
              "      <td>li a0 3</td>\n",
              "      <td>register PC = 0x8004</td>\n",
              "    </tr>\n",
              "    <tr>\n",
              "      <th>1</th>\n",
              "      <td>pc = 0x8004</td>\n",
              "      <td></td>\n",
              "      <td>register R10 = 0x3; register PC = 0x8008</td>\n",
              "    </tr>\n",
              "    <tr>\n",
              "      <th>2</th>\n",
              "      <td>pc = 0x8008</td>\n",
              "      <td>li a1 2</td>\n",
              "      <td>register PC = 0x800c</td>\n",
              "    </tr>\n",
              "    <tr>\n",
              "      <th>3</th>\n",
              "      <td>pc = 0x800c</td>\n",
              "      <td></td>\n",
              "      <td>register R11 = 0x2; register PC = 0x8010</td>\n",
              "    </tr>\n",
              "    <tr>\n",
              "      <th>4</th>\n",
              "      <td>pc = 0x8010</td>\n",
              "      <td>mv a0 a1</td>\n",
              "      <td>register R10 = 0x2; register PC = 0x8014</td>\n",
              "    </tr>\n",
              "  </tbody>\n",
              "</table>\n",
              "</div>"
            ],
            "application/vnd.google.colaboratory.module+javascript": "\n      import \"https://ssl.gstatic.com/colaboratory/data_table/881c4a0d49046431/data_table.js\";\n\n      const table = window.createDataTable({\n        data: [[\"pc = 0x8000\",\n\"li a0 3\",\n\"register PC = 0x8004\"],\n [\"pc = 0x8004\",\n\"\",\n\"register R10 = 0x3; register PC = 0x8008\"],\n [\"pc = 0x8008\",\n\"li a1 2\",\n\"register PC = 0x800c\"],\n [\"pc = 0x800c\",\n\"\",\n\"register R11 = 0x2; register PC = 0x8010\"],\n [\"pc = 0x8010\",\n\"mv a0 a1\",\n\"register R10 = 0x2; register PC = 0x8014\"]],\n        columns: [[\"string\", \"pc\"], [\"string\", \"instruction\"], [\"string\", \"changes_from_zero_or_current_value\"]],\n        columnOptions: [],\n        rowsPerPage: 20,\n        helpUrl: \"https://colab.research.google.com/notebooks/data_table.ipynb\",\n        suppressOutputScrolling: true,\n        minimumWidth: undefined,\n      });\n\n      function appendQuickchartButton(parentElement) {\n        let quickchartButtonContainerElement = document.createElement('div');\n        quickchartButtonContainerElement.innerHTML = `\n<div id=\"df-9d965fd3-9558-40ea-82f4-b656bfaf15f9\">\n  <button class=\"colab-df-quickchart\" onclick=\"quickchart('df-9d965fd3-9558-40ea-82f4-b656bfaf15f9')\"\n            title=\"Suggest charts\"\n            style=\"display:none;\">\n    \n<svg xmlns=\"http://www.w3.org/2000/svg\" height=\"24px\"viewBox=\"0 0 24 24\"\n     width=\"24px\">\n    <g>\n        <path d=\"M19 3H5c-1.1 0-2 .9-2 2v14c0 1.1.9 2 2 2h14c1.1 0 2-.9 2-2V5c0-1.1-.9-2-2-2zM9 17H7v-7h2v7zm4 0h-2V7h2v10zm4 0h-2v-4h2v4z\"/>\n    </g>\n</svg>\n  </button>\n  \n<style>\n  .colab-df-quickchart {\n      --bg-color: #E8F0FE;\n      --fill-color: #1967D2;\n      --hover-bg-color: #E2EBFA;\n      --hover-fill-color: #174EA6;\n      --disabled-fill-color: #AAA;\n      --disabled-bg-color: #DDD;\n  }\n\n  [theme=dark] .colab-df-quickchart {\n      --bg-color: #3B4455;\n      --fill-color: #D2E3FC;\n      --hover-bg-color: #434B5C;\n      --hover-fill-color: #FFFFFF;\n      --disabled-bg-color: #3B4455;\n      --disabled-fill-color: #666;\n  }\n\n  .colab-df-quickchart {\n    background-color: var(--bg-color);\n    border: none;\n    border-radius: 50%;\n    cursor: pointer;\n    display: none;\n    fill: var(--fill-color);\n    height: 32px;\n    padding: 0;\n    width: 32px;\n  }\n\n  .colab-df-quickchart:hover {\n    background-color: var(--hover-bg-color);\n    box-shadow: 0 1px 2px rgba(60, 64, 67, 0.3), 0 1px 3px 1px rgba(60, 64, 67, 0.15);\n    fill: var(--button-hover-fill-color);\n  }\n\n  .colab-df-quickchart-complete:disabled,\n  .colab-df-quickchart-complete:disabled:hover {\n    background-color: var(--disabled-bg-color);\n    fill: var(--disabled-fill-color);\n    box-shadow: none;\n  }\n\n  .colab-df-spinner {\n    border: 2px solid var(--fill-color);\n    border-color: transparent;\n    border-bottom-color: var(--fill-color);\n    animation:\n      spin 1s steps(1) infinite;\n  }\n\n  @keyframes spin {\n    0% {\n      border-color: transparent;\n      border-bottom-color: var(--fill-color);\n      border-left-color: var(--fill-color);\n    }\n    20% {\n      border-color: transparent;\n      border-left-color: var(--fill-color);\n      border-top-color: var(--fill-color);\n    }\n    30% {\n      border-color: transparent;\n      border-left-color: var(--fill-color);\n      border-top-color: var(--fill-color);\n      border-right-color: var(--fill-color);\n    }\n    40% {\n      border-color: transparent;\n      border-right-color: var(--fill-color);\n      border-top-color: var(--fill-color);\n    }\n    60% {\n      border-color: transparent;\n      border-right-color: var(--fill-color);\n    }\n    80% {\n      border-color: transparent;\n      border-right-color: var(--fill-color);\n      border-bottom-color: var(--fill-color);\n    }\n    90% {\n      border-color: transparent;\n      border-bottom-color: var(--fill-color);\n    }\n  }\n</style>\n\n  <script>\n    async function quickchart(key) {\n      const quickchartButtonEl =\n        document.querySelector('#' + key + ' button');\n      quickchartButtonEl.disabled = true;  // To prevent multiple clicks.\n      quickchartButtonEl.classList.add('colab-df-spinner');\n      try {\n        const charts = await google.colab.kernel.invokeFunction(\n            'suggestCharts', [key], {});\n      } catch (error) {\n        console.error('Error during call to suggestCharts:', error);\n      }\n      quickchartButtonEl.classList.remove('colab-df-spinner');\n      quickchartButtonEl.classList.add('colab-df-quickchart-complete');\n    }\n    (() => {\n      let quickchartButtonEl =\n        document.querySelector('#df-9d965fd3-9558-40ea-82f4-b656bfaf15f9 button');\n      quickchartButtonEl.style.display =\n        google.colab.kernel.accessAllowed ? 'block' : 'none';\n    })();\n  </script>\n</div>`;\n        parentElement.appendChild(quickchartButtonContainerElement);\n      }\n\n      appendQuickchartButton(table);\n    ",
            "text/plain": [
              "<google.colab.data_table.DataTable object>"
            ]
          },
          "metadata": {}
        }
      ]
    },
    {
      "cell_type": "markdown",
      "source": [
        "# <u>Arithmetic instructions</u>\n",
        "\n",
        "In general, binaries arithmetic instructions take two numbers and apply some mathematical arithmetic to this two numbers, saving the result in a CPU register. For unaries arithmetic instructions is similar but only take one number to work with."
      ],
      "metadata": {
        "id": "biPhAQ66BiLR"
      }
    },
    {
      "cell_type": "markdown",
      "source": [
        "## Add two integers: add, addi\n",
        "\n",
        "* \"add\" adds the content of two CPU registers (could be the same CPU register twice) and save the result into a CPU register (could be the same as either operands). The content is going to be interpreted as signed integers.\n",
        "* \"addi\" adds the content of one CPU register with one immediate value, saving the result in a CPU register (could be the same as the operand).\n",
        "\n",
        "* Example:\n",
        "  ```python\n",
        "  .text\n",
        "  main:\n",
        "      li      a0, 3\n",
        "      li      a1, 2\n",
        "      add     a2, a0, a1   # a2 = 3 + 2\n",
        "      addi    a2, a0, 10   # a2 = 3 + 10\n",
        "  ```\n"
      ],
      "metadata": {
        "id": "addaddi1"
      }
    },
    {
      "cell_type": "code",
      "source": [
        "#@markdown <font size='4'>Run the cell above</font>\n",
        "try_in_wepsim = False # @param {type:\"boolean\"}\n",
        "\n",
        "search_term = 'id:addaddi1'\n",
        "write_cell_above_to_file(search_term, '/tmp/example.asm')\n",
        "\n",
        "!./wepsim/wepsim.sh -a stepbystep -m ep -f ./wepsim/repo/microcode/rv32/ep_base.mc -s /tmp/example.asm > /tmp/result.csv\n",
        "\n",
        "status, df1 = show_results('/tmp/result.csv')\n",
        "\n",
        "if try_in_wepsim:\n",
        "  show_asm_in_ws('/tmp/example.asm','RISCV')\n"
      ],
      "metadata": {
        "id": "aGzG8UmyFoyJ",
        "colab": {
          "base_uri": "https://localhost:8080/",
          "height": 253
        },
        "outputId": "543192bd-211c-464b-ef33-5eab98ac0d15",
        "cellView": "form"
      },
      "execution_count": null,
      "outputs": [
        {
          "output_type": "display_data",
          "data": {
            "text/html": [
              "<div>\n",
              "<style scoped>\n",
              "    .dataframe tbody tr th:only-of-type {\n",
              "        vertical-align: middle;\n",
              "    }\n",
              "\n",
              "    .dataframe tbody tr th {\n",
              "        vertical-align: top;\n",
              "    }\n",
              "\n",
              "    .dataframe thead th {\n",
              "        text-align: right;\n",
              "    }\n",
              "</style>\n",
              "<table border=\"1\" class=\"dataframe\">\n",
              "  <thead>\n",
              "    <tr style=\"text-align: right;\">\n",
              "      <th></th>\n",
              "      <th>pc</th>\n",
              "      <th>instruction</th>\n",
              "      <th>changes_from_zero_or_current_value</th>\n",
              "    </tr>\n",
              "  </thead>\n",
              "  <tbody>\n",
              "    <tr>\n",
              "      <th>0</th>\n",
              "      <td>pc = 0x8000</td>\n",
              "      <td>li a0 3</td>\n",
              "      <td>register PC = 0x8004</td>\n",
              "    </tr>\n",
              "    <tr>\n",
              "      <th>1</th>\n",
              "      <td>pc = 0x8004</td>\n",
              "      <td></td>\n",
              "      <td>register R10 = 0x3; register PC = 0x8008</td>\n",
              "    </tr>\n",
              "    <tr>\n",
              "      <th>2</th>\n",
              "      <td>pc = 0x8008</td>\n",
              "      <td>li a1 2</td>\n",
              "      <td>register PC = 0x800c</td>\n",
              "    </tr>\n",
              "    <tr>\n",
              "      <th>3</th>\n",
              "      <td>pc = 0x800c</td>\n",
              "      <td></td>\n",
              "      <td>register R11 = 0x2; register PC = 0x8010</td>\n",
              "    </tr>\n",
              "    <tr>\n",
              "      <th>4</th>\n",
              "      <td>pc = 0x8010</td>\n",
              "      <td>add a2 a0 a1</td>\n",
              "      <td>register R12 = 0x5; register PC = 0x8014</td>\n",
              "    </tr>\n",
              "    <tr>\n",
              "      <th>5</th>\n",
              "      <td>pc = 0x8014</td>\n",
              "      <td>addi a2 a0 10</td>\n",
              "      <td>register R12 = 0xd; register PC = 0x8018</td>\n",
              "    </tr>\n",
              "  </tbody>\n",
              "</table>\n",
              "</div>"
            ],
            "application/vnd.google.colaboratory.module+javascript": "\n      import \"https://ssl.gstatic.com/colaboratory/data_table/881c4a0d49046431/data_table.js\";\n\n      const table = window.createDataTable({\n        data: [[\"pc = 0x8000\",\n\"li a0 3\",\n\"register PC = 0x8004\"],\n [\"pc = 0x8004\",\n\"\",\n\"register R10 = 0x3; register PC = 0x8008\"],\n [\"pc = 0x8008\",\n\"li a1 2\",\n\"register PC = 0x800c\"],\n [\"pc = 0x800c\",\n\"\",\n\"register R11 = 0x2; register PC = 0x8010\"],\n [\"pc = 0x8010\",\n\"add a2 a0 a1\",\n\"register R12 = 0x5; register PC = 0x8014\"],\n [\"pc = 0x8014\",\n\"addi a2 a0 10\",\n\"register R12 = 0xd; register PC = 0x8018\"]],\n        columns: [[\"string\", \"pc\"], [\"string\", \"instruction\"], [\"string\", \"changes_from_zero_or_current_value\"]],\n        columnOptions: [],\n        rowsPerPage: 20,\n        helpUrl: \"https://colab.research.google.com/notebooks/data_table.ipynb\",\n        suppressOutputScrolling: true,\n        minimumWidth: undefined,\n      });\n\n      function appendQuickchartButton(parentElement) {\n        let quickchartButtonContainerElement = document.createElement('div');\n        quickchartButtonContainerElement.innerHTML = `\n<div id=\"df-eddbe599-638d-4f9c-a551-500ea4c39d27\">\n  <button class=\"colab-df-quickchart\" onclick=\"quickchart('df-eddbe599-638d-4f9c-a551-500ea4c39d27')\"\n            title=\"Suggest charts\"\n            style=\"display:none;\">\n    \n<svg xmlns=\"http://www.w3.org/2000/svg\" height=\"24px\"viewBox=\"0 0 24 24\"\n     width=\"24px\">\n    <g>\n        <path d=\"M19 3H5c-1.1 0-2 .9-2 2v14c0 1.1.9 2 2 2h14c1.1 0 2-.9 2-2V5c0-1.1-.9-2-2-2zM9 17H7v-7h2v7zm4 0h-2V7h2v10zm4 0h-2v-4h2v4z\"/>\n    </g>\n</svg>\n  </button>\n  \n<style>\n  .colab-df-quickchart {\n      --bg-color: #E8F0FE;\n      --fill-color: #1967D2;\n      --hover-bg-color: #E2EBFA;\n      --hover-fill-color: #174EA6;\n      --disabled-fill-color: #AAA;\n      --disabled-bg-color: #DDD;\n  }\n\n  [theme=dark] .colab-df-quickchart {\n      --bg-color: #3B4455;\n      --fill-color: #D2E3FC;\n      --hover-bg-color: #434B5C;\n      --hover-fill-color: #FFFFFF;\n      --disabled-bg-color: #3B4455;\n      --disabled-fill-color: #666;\n  }\n\n  .colab-df-quickchart {\n    background-color: var(--bg-color);\n    border: none;\n    border-radius: 50%;\n    cursor: pointer;\n    display: none;\n    fill: var(--fill-color);\n    height: 32px;\n    padding: 0;\n    width: 32px;\n  }\n\n  .colab-df-quickchart:hover {\n    background-color: var(--hover-bg-color);\n    box-shadow: 0 1px 2px rgba(60, 64, 67, 0.3), 0 1px 3px 1px rgba(60, 64, 67, 0.15);\n    fill: var(--button-hover-fill-color);\n  }\n\n  .colab-df-quickchart-complete:disabled,\n  .colab-df-quickchart-complete:disabled:hover {\n    background-color: var(--disabled-bg-color);\n    fill: var(--disabled-fill-color);\n    box-shadow: none;\n  }\n\n  .colab-df-spinner {\n    border: 2px solid var(--fill-color);\n    border-color: transparent;\n    border-bottom-color: var(--fill-color);\n    animation:\n      spin 1s steps(1) infinite;\n  }\n\n  @keyframes spin {\n    0% {\n      border-color: transparent;\n      border-bottom-color: var(--fill-color);\n      border-left-color: var(--fill-color);\n    }\n    20% {\n      border-color: transparent;\n      border-left-color: var(--fill-color);\n      border-top-color: var(--fill-color);\n    }\n    30% {\n      border-color: transparent;\n      border-left-color: var(--fill-color);\n      border-top-color: var(--fill-color);\n      border-right-color: var(--fill-color);\n    }\n    40% {\n      border-color: transparent;\n      border-right-color: var(--fill-color);\n      border-top-color: var(--fill-color);\n    }\n    60% {\n      border-color: transparent;\n      border-right-color: var(--fill-color);\n    }\n    80% {\n      border-color: transparent;\n      border-right-color: var(--fill-color);\n      border-bottom-color: var(--fill-color);\n    }\n    90% {\n      border-color: transparent;\n      border-bottom-color: var(--fill-color);\n    }\n  }\n</style>\n\n  <script>\n    async function quickchart(key) {\n      const quickchartButtonEl =\n        document.querySelector('#' + key + ' button');\n      quickchartButtonEl.disabled = true;  // To prevent multiple clicks.\n      quickchartButtonEl.classList.add('colab-df-spinner');\n      try {\n        const charts = await google.colab.kernel.invokeFunction(\n            'suggestCharts', [key], {});\n      } catch (error) {\n        console.error('Error during call to suggestCharts:', error);\n      }\n      quickchartButtonEl.classList.remove('colab-df-spinner');\n      quickchartButtonEl.classList.add('colab-df-quickchart-complete');\n    }\n    (() => {\n      let quickchartButtonEl =\n        document.querySelector('#df-eddbe599-638d-4f9c-a551-500ea4c39d27 button');\n      quickchartButtonEl.style.display =\n        google.colab.kernel.accessAllowed ? 'block' : 'none';\n    })();\n  </script>\n</div>`;\n        parentElement.appendChild(quickchartButtonContainerElement);\n      }\n\n      appendQuickchartButton(table);\n    ",
            "text/plain": [
              "<google.colab.data_table.DataTable object>"
            ]
          },
          "metadata": {}
        }
      ]
    },
    {
      "cell_type": "markdown",
      "source": [
        "## Subtract: sub\n",
        "\n",
        "* \"sub\" substracts the content of two CPU registers (could be the same CPU register twice) and save the result into a CPU register (could be the same as either operands). The content is going to be interpreted as signed integers.\n",
        "\n",
        "* Example:\n",
        "  ```\n",
        "  .text\n",
        "  main:\n",
        "    li      a0, 0\n",
        "    li      a1, 2\n",
        "    sub     a3, a1, a0   # a2 = 0 - 2\n",
        "    sub     a2, a0, a1   # a2 = 0 - 2\n",
        "  ```\n"
      ],
      "metadata": {
        "id": "sub1"
      }
    },
    {
      "cell_type": "code",
      "source": [
        "#@markdown <font size='4'>Run the cell above</font>\n",
        "try_in_wepsim = False # @param {type:\"boolean\"}\n",
        "\n",
        "search_term = 'id:sub1'\n",
        "write_cell_above_to_file(search_term, '/tmp/example.asm')\n",
        "\n",
        "!./wepsim/wepsim.sh -a stepbystep -m ep -f ./wepsim/repo/microcode/rv32/ep_base.mc -s /tmp/example.asm > /tmp/result.csv\n",
        "\n",
        "status, df1 = show_results('/tmp/result.csv')\n",
        "\n",
        "if try_in_wepsim:\n",
        "  show_asm_in_ws('/tmp/example.asm','RISCV')\n"
      ],
      "metadata": {
        "id": "aGzG8UmyFoy2",
        "colab": {
          "base_uri": "https://localhost:8080/",
          "height": 253
        },
        "outputId": "da5c0dd6-fb09-4537-dd9b-15151e558dfa",
        "cellView": "form"
      },
      "execution_count": null,
      "outputs": [
        {
          "output_type": "display_data",
          "data": {
            "text/html": [
              "<div>\n",
              "<style scoped>\n",
              "    .dataframe tbody tr th:only-of-type {\n",
              "        vertical-align: middle;\n",
              "    }\n",
              "\n",
              "    .dataframe tbody tr th {\n",
              "        vertical-align: top;\n",
              "    }\n",
              "\n",
              "    .dataframe thead th {\n",
              "        text-align: right;\n",
              "    }\n",
              "</style>\n",
              "<table border=\"1\" class=\"dataframe\">\n",
              "  <thead>\n",
              "    <tr style=\"text-align: right;\">\n",
              "      <th></th>\n",
              "      <th>pc</th>\n",
              "      <th>instruction</th>\n",
              "      <th>changes_from_zero_or_current_value</th>\n",
              "    </tr>\n",
              "  </thead>\n",
              "  <tbody>\n",
              "    <tr>\n",
              "      <th>0</th>\n",
              "      <td>pc = 0x8000</td>\n",
              "      <td>li a0 0</td>\n",
              "      <td>register PC = 0x8004</td>\n",
              "    </tr>\n",
              "    <tr>\n",
              "      <th>1</th>\n",
              "      <td>pc = 0x8004</td>\n",
              "      <td></td>\n",
              "      <td>register PC = 0x8008; register SR = 0x10000000</td>\n",
              "    </tr>\n",
              "    <tr>\n",
              "      <th>2</th>\n",
              "      <td>pc = 0x8008</td>\n",
              "      <td>li a1 2</td>\n",
              "      <td>register PC = 0x800c</td>\n",
              "    </tr>\n",
              "    <tr>\n",
              "      <th>3</th>\n",
              "      <td>pc = 0x800c</td>\n",
              "      <td></td>\n",
              "      <td>register R11 = 0x2; register PC = 0x8010</td>\n",
              "    </tr>\n",
              "    <tr>\n",
              "      <th>4</th>\n",
              "      <td>pc = 0x8010</td>\n",
              "      <td>sub a3 a1 a0</td>\n",
              "      <td>register R13 = 0x2; register PC = 0x8014</td>\n",
              "    </tr>\n",
              "    <tr>\n",
              "      <th>5</th>\n",
              "      <td>pc = 0x8014</td>\n",
              "      <td>sub a2 a0 a1</td>\n",
              "      <td>register R12 = 0xfffffffe; register PC = 0x8018</td>\n",
              "    </tr>\n",
              "  </tbody>\n",
              "</table>\n",
              "</div>"
            ],
            "application/vnd.google.colaboratory.module+javascript": "\n      import \"https://ssl.gstatic.com/colaboratory/data_table/881c4a0d49046431/data_table.js\";\n\n      const table = window.createDataTable({\n        data: [[\"pc = 0x8000\",\n\"li a0 0\",\n\"register PC = 0x8004\"],\n [\"pc = 0x8004\",\n\"\",\n\"register PC = 0x8008; register SR = 0x10000000\"],\n [\"pc = 0x8008\",\n\"li a1 2\",\n\"register PC = 0x800c\"],\n [\"pc = 0x800c\",\n\"\",\n\"register R11 = 0x2; register PC = 0x8010\"],\n [\"pc = 0x8010\",\n\"sub a3 a1 a0\",\n\"register R13 = 0x2; register PC = 0x8014\"],\n [\"pc = 0x8014\",\n\"sub a2 a0 a1\",\n\"register R12 = 0xfffffffe; register PC = 0x8018\"]],\n        columns: [[\"string\", \"pc\"], [\"string\", \"instruction\"], [\"string\", \"changes_from_zero_or_current_value\"]],\n        columnOptions: [],\n        rowsPerPage: 20,\n        helpUrl: \"https://colab.research.google.com/notebooks/data_table.ipynb\",\n        suppressOutputScrolling: true,\n        minimumWidth: undefined,\n      });\n\n      function appendQuickchartButton(parentElement) {\n        let quickchartButtonContainerElement = document.createElement('div');\n        quickchartButtonContainerElement.innerHTML = `\n<div id=\"df-3ef2c579-ff9a-486c-81db-3a4bdd98ad06\">\n  <button class=\"colab-df-quickchart\" onclick=\"quickchart('df-3ef2c579-ff9a-486c-81db-3a4bdd98ad06')\"\n            title=\"Suggest charts\"\n            style=\"display:none;\">\n    \n<svg xmlns=\"http://www.w3.org/2000/svg\" height=\"24px\"viewBox=\"0 0 24 24\"\n     width=\"24px\">\n    <g>\n        <path d=\"M19 3H5c-1.1 0-2 .9-2 2v14c0 1.1.9 2 2 2h14c1.1 0 2-.9 2-2V5c0-1.1-.9-2-2-2zM9 17H7v-7h2v7zm4 0h-2V7h2v10zm4 0h-2v-4h2v4z\"/>\n    </g>\n</svg>\n  </button>\n  \n<style>\n  .colab-df-quickchart {\n      --bg-color: #E8F0FE;\n      --fill-color: #1967D2;\n      --hover-bg-color: #E2EBFA;\n      --hover-fill-color: #174EA6;\n      --disabled-fill-color: #AAA;\n      --disabled-bg-color: #DDD;\n  }\n\n  [theme=dark] .colab-df-quickchart {\n      --bg-color: #3B4455;\n      --fill-color: #D2E3FC;\n      --hover-bg-color: #434B5C;\n      --hover-fill-color: #FFFFFF;\n      --disabled-bg-color: #3B4455;\n      --disabled-fill-color: #666;\n  }\n\n  .colab-df-quickchart {\n    background-color: var(--bg-color);\n    border: none;\n    border-radius: 50%;\n    cursor: pointer;\n    display: none;\n    fill: var(--fill-color);\n    height: 32px;\n    padding: 0;\n    width: 32px;\n  }\n\n  .colab-df-quickchart:hover {\n    background-color: var(--hover-bg-color);\n    box-shadow: 0 1px 2px rgba(60, 64, 67, 0.3), 0 1px 3px 1px rgba(60, 64, 67, 0.15);\n    fill: var(--button-hover-fill-color);\n  }\n\n  .colab-df-quickchart-complete:disabled,\n  .colab-df-quickchart-complete:disabled:hover {\n    background-color: var(--disabled-bg-color);\n    fill: var(--disabled-fill-color);\n    box-shadow: none;\n  }\n\n  .colab-df-spinner {\n    border: 2px solid var(--fill-color);\n    border-color: transparent;\n    border-bottom-color: var(--fill-color);\n    animation:\n      spin 1s steps(1) infinite;\n  }\n\n  @keyframes spin {\n    0% {\n      border-color: transparent;\n      border-bottom-color: var(--fill-color);\n      border-left-color: var(--fill-color);\n    }\n    20% {\n      border-color: transparent;\n      border-left-color: var(--fill-color);\n      border-top-color: var(--fill-color);\n    }\n    30% {\n      border-color: transparent;\n      border-left-color: var(--fill-color);\n      border-top-color: var(--fill-color);\n      border-right-color: var(--fill-color);\n    }\n    40% {\n      border-color: transparent;\n      border-right-color: var(--fill-color);\n      border-top-color: var(--fill-color);\n    }\n    60% {\n      border-color: transparent;\n      border-right-color: var(--fill-color);\n    }\n    80% {\n      border-color: transparent;\n      border-right-color: var(--fill-color);\n      border-bottom-color: var(--fill-color);\n    }\n    90% {\n      border-color: transparent;\n      border-bottom-color: var(--fill-color);\n    }\n  }\n</style>\n\n  <script>\n    async function quickchart(key) {\n      const quickchartButtonEl =\n        document.querySelector('#' + key + ' button');\n      quickchartButtonEl.disabled = true;  // To prevent multiple clicks.\n      quickchartButtonEl.classList.add('colab-df-spinner');\n      try {\n        const charts = await google.colab.kernel.invokeFunction(\n            'suggestCharts', [key], {});\n      } catch (error) {\n        console.error('Error during call to suggestCharts:', error);\n      }\n      quickchartButtonEl.classList.remove('colab-df-spinner');\n      quickchartButtonEl.classList.add('colab-df-quickchart-complete');\n    }\n    (() => {\n      let quickchartButtonEl =\n        document.querySelector('#df-3ef2c579-ff9a-486c-81db-3a4bdd98ad06 button');\n      quickchartButtonEl.style.display =\n        google.colab.kernel.accessAllowed ? 'block' : 'none';\n    })();\n  </script>\n</div>`;\n        parentElement.appendChild(quickchartButtonContainerElement);\n      }\n\n      appendQuickchartButton(table);\n    ",
            "text/plain": [
              "<google.colab.data_table.DataTable object>"
            ]
          },
          "metadata": {}
        }
      ]
    },
    {
      "cell_type": "markdown",
      "source": [
        "## Multiply: mul\n",
        "\n",
        "* \"mul\" multiplies the content of two CPU registers (could be the same CPU register twice) and save the result into a CPU register (could be the same as either operands). The content is going to be interpreted as signed integers.\n",
        "  * Be careful with possible overflow: the result could be outside the representation rage used by the CPU.\n",
        "\n",
        "* Example:\n",
        "  ```\n",
        "  .text\n",
        "  main:\n",
        "    li      a0, 5\n",
        "    li      a1, 2\n",
        "    mul     a2, a0, a1   # a2 = 5 * 2\n",
        "    li      a0, 0x10000000\n",
        "    li      a1, 0x10000000\n",
        "    mul     a3, a0, a1   # a2 = ...\n",
        "  ```"
      ],
      "metadata": {
        "id": "mul1"
      }
    },
    {
      "cell_type": "code",
      "source": [
        "#@markdown <font size='4'>Run the cell above</font>\n",
        "try_in_wepsim = False # @param {type:\"boolean\"}\n",
        "\n",
        "search_term = 'id:mul1'\n",
        "write_cell_above_to_file(search_term, '/tmp/example.asm')\n",
        "\n",
        "!./wepsim/wepsim.sh -a stepbystep -m ep -f ./wepsim/repo/microcode/rv32/ep_base.mc -s /tmp/example.asm > /tmp/result.csv\n",
        "\n",
        "status, df1 = show_results('/tmp/result.csv')\n",
        "\n",
        "if try_in_wepsim:\n",
        "  show_asm_in_ws('/tmp/example.asm','RISCV')\n"
      ],
      "metadata": {
        "id": "aGzG8UmyFoy3",
        "colab": {
          "base_uri": "https://localhost:8080/",
          "height": 339
        },
        "outputId": "2b9bb848-56a0-4013-e2cd-e77c4eb395d9",
        "cellView": "form"
      },
      "execution_count": null,
      "outputs": [
        {
          "output_type": "display_data",
          "data": {
            "text/html": [
              "<div>\n",
              "<style scoped>\n",
              "    .dataframe tbody tr th:only-of-type {\n",
              "        vertical-align: middle;\n",
              "    }\n",
              "\n",
              "    .dataframe tbody tr th {\n",
              "        vertical-align: top;\n",
              "    }\n",
              "\n",
              "    .dataframe thead th {\n",
              "        text-align: right;\n",
              "    }\n",
              "</style>\n",
              "<table border=\"1\" class=\"dataframe\">\n",
              "  <thead>\n",
              "    <tr style=\"text-align: right;\">\n",
              "      <th></th>\n",
              "      <th>pc</th>\n",
              "      <th>instruction</th>\n",
              "      <th>changes_from_zero_or_current_value</th>\n",
              "    </tr>\n",
              "  </thead>\n",
              "  <tbody>\n",
              "    <tr>\n",
              "      <th>0</th>\n",
              "      <td>pc = 0x8000</td>\n",
              "      <td>li a0 5</td>\n",
              "      <td>register PC = 0x8004</td>\n",
              "    </tr>\n",
              "    <tr>\n",
              "      <th>1</th>\n",
              "      <td>pc = 0x8004</td>\n",
              "      <td></td>\n",
              "      <td>register R10 = 0x5; register PC = 0x8008</td>\n",
              "    </tr>\n",
              "    <tr>\n",
              "      <th>2</th>\n",
              "      <td>pc = 0x8008</td>\n",
              "      <td>li a1 2</td>\n",
              "      <td>register PC = 0x800c</td>\n",
              "    </tr>\n",
              "    <tr>\n",
              "      <th>3</th>\n",
              "      <td>pc = 0x800c</td>\n",
              "      <td></td>\n",
              "      <td>register R11 = 0x2; register PC = 0x8010</td>\n",
              "    </tr>\n",
              "    <tr>\n",
              "      <th>4</th>\n",
              "      <td>pc = 0x8010</td>\n",
              "      <td>mul a2 a0 a1</td>\n",
              "      <td>register R12 = 0xa; register PC = 0x8014</td>\n",
              "    </tr>\n",
              "    <tr>\n",
              "      <th>5</th>\n",
              "      <td>pc = 0x8014</td>\n",
              "      <td>li a0 0x10000000</td>\n",
              "      <td>register R10 = 0x10000000; register PC = 0x8018</td>\n",
              "    </tr>\n",
              "    <tr>\n",
              "      <th>6</th>\n",
              "      <td>pc = 0x8018</td>\n",
              "      <td></td>\n",
              "      <td>register PC = 0x801c</td>\n",
              "    </tr>\n",
              "    <tr>\n",
              "      <th>7</th>\n",
              "      <td>pc = 0x801c</td>\n",
              "      <td>li a1 0x10000000</td>\n",
              "      <td>register R11 = 0x10000000; register PC = 0x8020</td>\n",
              "    </tr>\n",
              "    <tr>\n",
              "      <th>8</th>\n",
              "      <td>pc = 0x8020</td>\n",
              "      <td></td>\n",
              "      <td>register PC = 0x8024</td>\n",
              "    </tr>\n",
              "    <tr>\n",
              "      <th>9</th>\n",
              "      <td>pc = 0x8024</td>\n",
              "      <td>mul a3 a0 a1</td>\n",
              "      <td>register PC = 0x8028</td>\n",
              "    </tr>\n",
              "  </tbody>\n",
              "</table>\n",
              "</div>"
            ],
            "application/vnd.google.colaboratory.module+javascript": "\n      import \"https://ssl.gstatic.com/colaboratory/data_table/881c4a0d49046431/data_table.js\";\n\n      const table = window.createDataTable({\n        data: [[\"pc = 0x8000\",\n\"li a0 5\",\n\"register PC = 0x8004\"],\n [\"pc = 0x8004\",\n\"\",\n\"register R10 = 0x5; register PC = 0x8008\"],\n [\"pc = 0x8008\",\n\"li a1 2\",\n\"register PC = 0x800c\"],\n [\"pc = 0x800c\",\n\"\",\n\"register R11 = 0x2; register PC = 0x8010\"],\n [\"pc = 0x8010\",\n\"mul a2 a0 a1\",\n\"register R12 = 0xa; register PC = 0x8014\"],\n [\"pc = 0x8014\",\n\"li a0 0x10000000\",\n\"register R10 = 0x10000000; register PC = 0x8018\"],\n [\"pc = 0x8018\",\n\"\",\n\"register PC = 0x801c\"],\n [\"pc = 0x801c\",\n\"li a1 0x10000000\",\n\"register R11 = 0x10000000; register PC = 0x8020\"],\n [\"pc = 0x8020\",\n\"\",\n\"register PC = 0x8024\"],\n [\"pc = 0x8024\",\n\"mul a3 a0 a1\",\n\"register PC = 0x8028\"]],\n        columns: [[\"string\", \"pc\"], [\"string\", \"instruction\"], [\"string\", \"changes_from_zero_or_current_value\"]],\n        columnOptions: [],\n        rowsPerPage: 20,\n        helpUrl: \"https://colab.research.google.com/notebooks/data_table.ipynb\",\n        suppressOutputScrolling: true,\n        minimumWidth: undefined,\n      });\n\n      function appendQuickchartButton(parentElement) {\n        let quickchartButtonContainerElement = document.createElement('div');\n        quickchartButtonContainerElement.innerHTML = `\n<div id=\"df-98707e8b-3e2d-4d13-ae3c-0d73ff8f21a0\">\n  <button class=\"colab-df-quickchart\" onclick=\"quickchart('df-98707e8b-3e2d-4d13-ae3c-0d73ff8f21a0')\"\n            title=\"Suggest charts\"\n            style=\"display:none;\">\n    \n<svg xmlns=\"http://www.w3.org/2000/svg\" height=\"24px\"viewBox=\"0 0 24 24\"\n     width=\"24px\">\n    <g>\n        <path d=\"M19 3H5c-1.1 0-2 .9-2 2v14c0 1.1.9 2 2 2h14c1.1 0 2-.9 2-2V5c0-1.1-.9-2-2-2zM9 17H7v-7h2v7zm4 0h-2V7h2v10zm4 0h-2v-4h2v4z\"/>\n    </g>\n</svg>\n  </button>\n  \n<style>\n  .colab-df-quickchart {\n      --bg-color: #E8F0FE;\n      --fill-color: #1967D2;\n      --hover-bg-color: #E2EBFA;\n      --hover-fill-color: #174EA6;\n      --disabled-fill-color: #AAA;\n      --disabled-bg-color: #DDD;\n  }\n\n  [theme=dark] .colab-df-quickchart {\n      --bg-color: #3B4455;\n      --fill-color: #D2E3FC;\n      --hover-bg-color: #434B5C;\n      --hover-fill-color: #FFFFFF;\n      --disabled-bg-color: #3B4455;\n      --disabled-fill-color: #666;\n  }\n\n  .colab-df-quickchart {\n    background-color: var(--bg-color);\n    border: none;\n    border-radius: 50%;\n    cursor: pointer;\n    display: none;\n    fill: var(--fill-color);\n    height: 32px;\n    padding: 0;\n    width: 32px;\n  }\n\n  .colab-df-quickchart:hover {\n    background-color: var(--hover-bg-color);\n    box-shadow: 0 1px 2px rgba(60, 64, 67, 0.3), 0 1px 3px 1px rgba(60, 64, 67, 0.15);\n    fill: var(--button-hover-fill-color);\n  }\n\n  .colab-df-quickchart-complete:disabled,\n  .colab-df-quickchart-complete:disabled:hover {\n    background-color: var(--disabled-bg-color);\n    fill: var(--disabled-fill-color);\n    box-shadow: none;\n  }\n\n  .colab-df-spinner {\n    border: 2px solid var(--fill-color);\n    border-color: transparent;\n    border-bottom-color: var(--fill-color);\n    animation:\n      spin 1s steps(1) infinite;\n  }\n\n  @keyframes spin {\n    0% {\n      border-color: transparent;\n      border-bottom-color: var(--fill-color);\n      border-left-color: var(--fill-color);\n    }\n    20% {\n      border-color: transparent;\n      border-left-color: var(--fill-color);\n      border-top-color: var(--fill-color);\n    }\n    30% {\n      border-color: transparent;\n      border-left-color: var(--fill-color);\n      border-top-color: var(--fill-color);\n      border-right-color: var(--fill-color);\n    }\n    40% {\n      border-color: transparent;\n      border-right-color: var(--fill-color);\n      border-top-color: var(--fill-color);\n    }\n    60% {\n      border-color: transparent;\n      border-right-color: var(--fill-color);\n    }\n    80% {\n      border-color: transparent;\n      border-right-color: var(--fill-color);\n      border-bottom-color: var(--fill-color);\n    }\n    90% {\n      border-color: transparent;\n      border-bottom-color: var(--fill-color);\n    }\n  }\n</style>\n\n  <script>\n    async function quickchart(key) {\n      const quickchartButtonEl =\n        document.querySelector('#' + key + ' button');\n      quickchartButtonEl.disabled = true;  // To prevent multiple clicks.\n      quickchartButtonEl.classList.add('colab-df-spinner');\n      try {\n        const charts = await google.colab.kernel.invokeFunction(\n            'suggestCharts', [key], {});\n      } catch (error) {\n        console.error('Error during call to suggestCharts:', error);\n      }\n      quickchartButtonEl.classList.remove('colab-df-spinner');\n      quickchartButtonEl.classList.add('colab-df-quickchart-complete');\n    }\n    (() => {\n      let quickchartButtonEl =\n        document.querySelector('#df-98707e8b-3e2d-4d13-ae3c-0d73ff8f21a0 button');\n      quickchartButtonEl.style.display =\n        google.colab.kernel.accessAllowed ? 'block' : 'none';\n    })();\n  </script>\n</div>`;\n        parentElement.appendChild(quickchartButtonContainerElement);\n      }\n\n      appendQuickchartButton(table);\n    ",
            "text/plain": [
              "<google.colab.data_table.DataTable object>"
            ]
          },
          "metadata": {}
        }
      ]
    },
    {
      "cell_type": "markdown",
      "source": [
        "## Divide Signed: div\n",
        "\n",
        "* \"div\" divides the content of two CPU registers (could be the same CPU register twice) and save the result into a CPU register (could be the same as either operands). The content is going to be interpreted as signed integers.\n",
        "  * Be careful with possible exception: divide by zero.\n",
        "\n",
        "* Example:\n",
        "  ```\n",
        "  .text\n",
        "  main:\n",
        "    li      a0, 6\n",
        "    li      a1, 2\n",
        "    div     a2, a0, a1   # a2 = 6 / 2\n",
        "  ```"
      ],
      "metadata": {
        "id": "div1"
      }
    },
    {
      "cell_type": "code",
      "source": [
        "#@markdown <font size='4'>Run the cell above</font>\n",
        "try_in_wepsim = False # @param {type:\"boolean\"}\n",
        "\n",
        "search_term = 'id:div1'\n",
        "write_cell_above_to_file(search_term, '/tmp/example.asm')\n",
        "\n",
        "!./wepsim/wepsim.sh -a stepbystep -m ep -f ./wepsim/repo/microcode/rv32/ep_base.mc -s /tmp/example.asm > /tmp/result.csv\n",
        "\n",
        "status, df1 = show_results('/tmp/result.csv')\n",
        "\n",
        "if try_in_wepsim:\n",
        "  show_asm_in_ws('/tmp/example.asm','RISCV')\n"
      ],
      "metadata": {
        "id": "aGzG8UmyFoy5",
        "colab": {
          "base_uri": "https://localhost:8080/",
          "height": 232
        },
        "outputId": "54d41f6a-badb-4ad2-f3d8-2265a8941fa6",
        "cellView": "form"
      },
      "execution_count": null,
      "outputs": [
        {
          "output_type": "display_data",
          "data": {
            "text/html": [
              "<div>\n",
              "<style scoped>\n",
              "    .dataframe tbody tr th:only-of-type {\n",
              "        vertical-align: middle;\n",
              "    }\n",
              "\n",
              "    .dataframe tbody tr th {\n",
              "        vertical-align: top;\n",
              "    }\n",
              "\n",
              "    .dataframe thead th {\n",
              "        text-align: right;\n",
              "    }\n",
              "</style>\n",
              "<table border=\"1\" class=\"dataframe\">\n",
              "  <thead>\n",
              "    <tr style=\"text-align: right;\">\n",
              "      <th></th>\n",
              "      <th>pc</th>\n",
              "      <th>instruction</th>\n",
              "      <th>changes_from_zero_or_current_value</th>\n",
              "    </tr>\n",
              "  </thead>\n",
              "  <tbody>\n",
              "    <tr>\n",
              "      <th>0</th>\n",
              "      <td>pc = 0x8000</td>\n",
              "      <td>li a0 6</td>\n",
              "      <td>register PC = 0x8004</td>\n",
              "    </tr>\n",
              "    <tr>\n",
              "      <th>1</th>\n",
              "      <td>pc = 0x8004</td>\n",
              "      <td></td>\n",
              "      <td>register R10 = 0x6; register PC = 0x8008</td>\n",
              "    </tr>\n",
              "    <tr>\n",
              "      <th>2</th>\n",
              "      <td>pc = 0x8008</td>\n",
              "      <td>li a1 2</td>\n",
              "      <td>register PC = 0x800c</td>\n",
              "    </tr>\n",
              "    <tr>\n",
              "      <th>3</th>\n",
              "      <td>pc = 0x800c</td>\n",
              "      <td></td>\n",
              "      <td>register R11 = 0x2; register PC = 0x8010</td>\n",
              "    </tr>\n",
              "    <tr>\n",
              "      <th>4</th>\n",
              "      <td>pc = 0x8010</td>\n",
              "      <td>div a2 a0 a1</td>\n",
              "      <td>register R12 = 0x3; register PC = 0x8014</td>\n",
              "    </tr>\n",
              "  </tbody>\n",
              "</table>\n",
              "</div>"
            ],
            "application/vnd.google.colaboratory.module+javascript": "\n      import \"https://ssl.gstatic.com/colaboratory/data_table/881c4a0d49046431/data_table.js\";\n\n      const table = window.createDataTable({\n        data: [[\"pc = 0x8000\",\n\"li a0 6\",\n\"register PC = 0x8004\"],\n [\"pc = 0x8004\",\n\"\",\n\"register R10 = 0x6; register PC = 0x8008\"],\n [\"pc = 0x8008\",\n\"li a1 2\",\n\"register PC = 0x800c\"],\n [\"pc = 0x800c\",\n\"\",\n\"register R11 = 0x2; register PC = 0x8010\"],\n [\"pc = 0x8010\",\n\"div a2 a0 a1\",\n\"register R12 = 0x3; register PC = 0x8014\"]],\n        columns: [[\"string\", \"pc\"], [\"string\", \"instruction\"], [\"string\", \"changes_from_zero_or_current_value\"]],\n        columnOptions: [],\n        rowsPerPage: 20,\n        helpUrl: \"https://colab.research.google.com/notebooks/data_table.ipynb\",\n        suppressOutputScrolling: true,\n        minimumWidth: undefined,\n      });\n\n      function appendQuickchartButton(parentElement) {\n        let quickchartButtonContainerElement = document.createElement('div');\n        quickchartButtonContainerElement.innerHTML = `\n<div id=\"df-82c2f162-d9d7-4e6a-b9d0-c992b6c59ce0\">\n  <button class=\"colab-df-quickchart\" onclick=\"quickchart('df-82c2f162-d9d7-4e6a-b9d0-c992b6c59ce0')\"\n            title=\"Suggest charts\"\n            style=\"display:none;\">\n    \n<svg xmlns=\"http://www.w3.org/2000/svg\" height=\"24px\"viewBox=\"0 0 24 24\"\n     width=\"24px\">\n    <g>\n        <path d=\"M19 3H5c-1.1 0-2 .9-2 2v14c0 1.1.9 2 2 2h14c1.1 0 2-.9 2-2V5c0-1.1-.9-2-2-2zM9 17H7v-7h2v7zm4 0h-2V7h2v10zm4 0h-2v-4h2v4z\"/>\n    </g>\n</svg>\n  </button>\n  \n<style>\n  .colab-df-quickchart {\n      --bg-color: #E8F0FE;\n      --fill-color: #1967D2;\n      --hover-bg-color: #E2EBFA;\n      --hover-fill-color: #174EA6;\n      --disabled-fill-color: #AAA;\n      --disabled-bg-color: #DDD;\n  }\n\n  [theme=dark] .colab-df-quickchart {\n      --bg-color: #3B4455;\n      --fill-color: #D2E3FC;\n      --hover-bg-color: #434B5C;\n      --hover-fill-color: #FFFFFF;\n      --disabled-bg-color: #3B4455;\n      --disabled-fill-color: #666;\n  }\n\n  .colab-df-quickchart {\n    background-color: var(--bg-color);\n    border: none;\n    border-radius: 50%;\n    cursor: pointer;\n    display: none;\n    fill: var(--fill-color);\n    height: 32px;\n    padding: 0;\n    width: 32px;\n  }\n\n  .colab-df-quickchart:hover {\n    background-color: var(--hover-bg-color);\n    box-shadow: 0 1px 2px rgba(60, 64, 67, 0.3), 0 1px 3px 1px rgba(60, 64, 67, 0.15);\n    fill: var(--button-hover-fill-color);\n  }\n\n  .colab-df-quickchart-complete:disabled,\n  .colab-df-quickchart-complete:disabled:hover {\n    background-color: var(--disabled-bg-color);\n    fill: var(--disabled-fill-color);\n    box-shadow: none;\n  }\n\n  .colab-df-spinner {\n    border: 2px solid var(--fill-color);\n    border-color: transparent;\n    border-bottom-color: var(--fill-color);\n    animation:\n      spin 1s steps(1) infinite;\n  }\n\n  @keyframes spin {\n    0% {\n      border-color: transparent;\n      border-bottom-color: var(--fill-color);\n      border-left-color: var(--fill-color);\n    }\n    20% {\n      border-color: transparent;\n      border-left-color: var(--fill-color);\n      border-top-color: var(--fill-color);\n    }\n    30% {\n      border-color: transparent;\n      border-left-color: var(--fill-color);\n      border-top-color: var(--fill-color);\n      border-right-color: var(--fill-color);\n    }\n    40% {\n      border-color: transparent;\n      border-right-color: var(--fill-color);\n      border-top-color: var(--fill-color);\n    }\n    60% {\n      border-color: transparent;\n      border-right-color: var(--fill-color);\n    }\n    80% {\n      border-color: transparent;\n      border-right-color: var(--fill-color);\n      border-bottom-color: var(--fill-color);\n    }\n    90% {\n      border-color: transparent;\n      border-bottom-color: var(--fill-color);\n    }\n  }\n</style>\n\n  <script>\n    async function quickchart(key) {\n      const quickchartButtonEl =\n        document.querySelector('#' + key + ' button');\n      quickchartButtonEl.disabled = true;  // To prevent multiple clicks.\n      quickchartButtonEl.classList.add('colab-df-spinner');\n      try {\n        const charts = await google.colab.kernel.invokeFunction(\n            'suggestCharts', [key], {});\n      } catch (error) {\n        console.error('Error during call to suggestCharts:', error);\n      }\n      quickchartButtonEl.classList.remove('colab-df-spinner');\n      quickchartButtonEl.classList.add('colab-df-quickchart-complete');\n    }\n    (() => {\n      let quickchartButtonEl =\n        document.querySelector('#df-82c2f162-d9d7-4e6a-b9d0-c992b6c59ce0 button');\n      quickchartButtonEl.style.display =\n        google.colab.kernel.accessAllowed ? 'block' : 'none';\n    })();\n  </script>\n</div>`;\n        parentElement.appendChild(quickchartButtonContainerElement);\n      }\n\n      appendQuickchartButton(table);\n    ",
            "text/plain": [
              "<google.colab.data_table.DataTable object>"
            ]
          },
          "metadata": {}
        }
      ]
    },
    {
      "cell_type": "markdown",
      "source": [
        "## Remainder Signed: rem\n",
        "\n",
        "* \"rem\" divides the content of two CPU registers (could be the same CPU register twice) and save the reminder result of the division into a CPU register (could be the same as either operands). The content of the two CPU registers is going to be interpreted as signed integers.\n",
        "  * Be careful with possible exception: divide by zero, again.\n",
        "\n",
        "* Example:\n",
        "  ```\n",
        "  .text\n",
        "  main:\n",
        "    li      a0, 5\n",
        "    li      a1, 2\n",
        "    rem     a2, a0, a1   # a2 = 5 % 2\n",
        "  ```"
      ],
      "metadata": {
        "id": "rem1"
      }
    },
    {
      "cell_type": "code",
      "source": [
        "#@markdown <font size='4'>Run the cell above</font>\n",
        "try_in_wepsim = False # @param {type:\"boolean\"}\n",
        "\n",
        "search_term = 'id:rem1'\n",
        "write_cell_above_to_file(search_term, '/tmp/example.asm')\n",
        "\n",
        "!./wepsim/wepsim.sh -a stepbystep -m ep -f ./wepsim/repo/microcode/rv32/ep_base.mc -s /tmp/example.asm > /tmp/result.csv\n",
        "\n",
        "status, df1 = show_results('/tmp/result.csv')\n",
        "\n",
        "if try_in_wepsim:\n",
        "  show_asm_in_ws('/tmp/example.asm','RISCV')\n"
      ],
      "metadata": {
        "id": "aGzG8UmyFoy6",
        "colab": {
          "base_uri": "https://localhost:8080/",
          "height": 232
        },
        "outputId": "2609da16-5dea-458b-ff0c-5c1ad05f3693",
        "cellView": "form"
      },
      "execution_count": null,
      "outputs": [
        {
          "output_type": "display_data",
          "data": {
            "text/html": [
              "<div>\n",
              "<style scoped>\n",
              "    .dataframe tbody tr th:only-of-type {\n",
              "        vertical-align: middle;\n",
              "    }\n",
              "\n",
              "    .dataframe tbody tr th {\n",
              "        vertical-align: top;\n",
              "    }\n",
              "\n",
              "    .dataframe thead th {\n",
              "        text-align: right;\n",
              "    }\n",
              "</style>\n",
              "<table border=\"1\" class=\"dataframe\">\n",
              "  <thead>\n",
              "    <tr style=\"text-align: right;\">\n",
              "      <th></th>\n",
              "      <th>pc</th>\n",
              "      <th>instruction</th>\n",
              "      <th>changes_from_zero_or_current_value</th>\n",
              "    </tr>\n",
              "  </thead>\n",
              "  <tbody>\n",
              "    <tr>\n",
              "      <th>0</th>\n",
              "      <td>pc = 0x8000</td>\n",
              "      <td>li a0 5</td>\n",
              "      <td>register PC = 0x8004</td>\n",
              "    </tr>\n",
              "    <tr>\n",
              "      <th>1</th>\n",
              "      <td>pc = 0x8004</td>\n",
              "      <td></td>\n",
              "      <td>register R10 = 0x5; register PC = 0x8008</td>\n",
              "    </tr>\n",
              "    <tr>\n",
              "      <th>2</th>\n",
              "      <td>pc = 0x8008</td>\n",
              "      <td>li a1 2</td>\n",
              "      <td>register PC = 0x800c</td>\n",
              "    </tr>\n",
              "    <tr>\n",
              "      <th>3</th>\n",
              "      <td>pc = 0x800c</td>\n",
              "      <td></td>\n",
              "      <td>register R11 = 0x2; register PC = 0x8010</td>\n",
              "    </tr>\n",
              "    <tr>\n",
              "      <th>4</th>\n",
              "      <td>pc = 0x8010</td>\n",
              "      <td>rem a2 a0 a1</td>\n",
              "      <td>register R12 = 0x1; register PC = 0x8014</td>\n",
              "    </tr>\n",
              "  </tbody>\n",
              "</table>\n",
              "</div>"
            ],
            "application/vnd.google.colaboratory.module+javascript": "\n      import \"https://ssl.gstatic.com/colaboratory/data_table/881c4a0d49046431/data_table.js\";\n\n      const table = window.createDataTable({\n        data: [[\"pc = 0x8000\",\n\"li a0 5\",\n\"register PC = 0x8004\"],\n [\"pc = 0x8004\",\n\"\",\n\"register R10 = 0x5; register PC = 0x8008\"],\n [\"pc = 0x8008\",\n\"li a1 2\",\n\"register PC = 0x800c\"],\n [\"pc = 0x800c\",\n\"\",\n\"register R11 = 0x2; register PC = 0x8010\"],\n [\"pc = 0x8010\",\n\"rem a2 a0 a1\",\n\"register R12 = 0x1; register PC = 0x8014\"]],\n        columns: [[\"string\", \"pc\"], [\"string\", \"instruction\"], [\"string\", \"changes_from_zero_or_current_value\"]],\n        columnOptions: [],\n        rowsPerPage: 20,\n        helpUrl: \"https://colab.research.google.com/notebooks/data_table.ipynb\",\n        suppressOutputScrolling: true,\n        minimumWidth: undefined,\n      });\n\n      function appendQuickchartButton(parentElement) {\n        let quickchartButtonContainerElement = document.createElement('div');\n        quickchartButtonContainerElement.innerHTML = `\n<div id=\"df-a0ad40bc-860b-476e-b58c-f159beaefa7d\">\n  <button class=\"colab-df-quickchart\" onclick=\"quickchart('df-a0ad40bc-860b-476e-b58c-f159beaefa7d')\"\n            title=\"Suggest charts\"\n            style=\"display:none;\">\n    \n<svg xmlns=\"http://www.w3.org/2000/svg\" height=\"24px\"viewBox=\"0 0 24 24\"\n     width=\"24px\">\n    <g>\n        <path d=\"M19 3H5c-1.1 0-2 .9-2 2v14c0 1.1.9 2 2 2h14c1.1 0 2-.9 2-2V5c0-1.1-.9-2-2-2zM9 17H7v-7h2v7zm4 0h-2V7h2v10zm4 0h-2v-4h2v4z\"/>\n    </g>\n</svg>\n  </button>\n  \n<style>\n  .colab-df-quickchart {\n      --bg-color: #E8F0FE;\n      --fill-color: #1967D2;\n      --hover-bg-color: #E2EBFA;\n      --hover-fill-color: #174EA6;\n      --disabled-fill-color: #AAA;\n      --disabled-bg-color: #DDD;\n  }\n\n  [theme=dark] .colab-df-quickchart {\n      --bg-color: #3B4455;\n      --fill-color: #D2E3FC;\n      --hover-bg-color: #434B5C;\n      --hover-fill-color: #FFFFFF;\n      --disabled-bg-color: #3B4455;\n      --disabled-fill-color: #666;\n  }\n\n  .colab-df-quickchart {\n    background-color: var(--bg-color);\n    border: none;\n    border-radius: 50%;\n    cursor: pointer;\n    display: none;\n    fill: var(--fill-color);\n    height: 32px;\n    padding: 0;\n    width: 32px;\n  }\n\n  .colab-df-quickchart:hover {\n    background-color: var(--hover-bg-color);\n    box-shadow: 0 1px 2px rgba(60, 64, 67, 0.3), 0 1px 3px 1px rgba(60, 64, 67, 0.15);\n    fill: var(--button-hover-fill-color);\n  }\n\n  .colab-df-quickchart-complete:disabled,\n  .colab-df-quickchart-complete:disabled:hover {\n    background-color: var(--disabled-bg-color);\n    fill: var(--disabled-fill-color);\n    box-shadow: none;\n  }\n\n  .colab-df-spinner {\n    border: 2px solid var(--fill-color);\n    border-color: transparent;\n    border-bottom-color: var(--fill-color);\n    animation:\n      spin 1s steps(1) infinite;\n  }\n\n  @keyframes spin {\n    0% {\n      border-color: transparent;\n      border-bottom-color: var(--fill-color);\n      border-left-color: var(--fill-color);\n    }\n    20% {\n      border-color: transparent;\n      border-left-color: var(--fill-color);\n      border-top-color: var(--fill-color);\n    }\n    30% {\n      border-color: transparent;\n      border-left-color: var(--fill-color);\n      border-top-color: var(--fill-color);\n      border-right-color: var(--fill-color);\n    }\n    40% {\n      border-color: transparent;\n      border-right-color: var(--fill-color);\n      border-top-color: var(--fill-color);\n    }\n    60% {\n      border-color: transparent;\n      border-right-color: var(--fill-color);\n    }\n    80% {\n      border-color: transparent;\n      border-right-color: var(--fill-color);\n      border-bottom-color: var(--fill-color);\n    }\n    90% {\n      border-color: transparent;\n      border-bottom-color: var(--fill-color);\n    }\n  }\n</style>\n\n  <script>\n    async function quickchart(key) {\n      const quickchartButtonEl =\n        document.querySelector('#' + key + ' button');\n      quickchartButtonEl.disabled = true;  // To prevent multiple clicks.\n      quickchartButtonEl.classList.add('colab-df-spinner');\n      try {\n        const charts = await google.colab.kernel.invokeFunction(\n            'suggestCharts', [key], {});\n      } catch (error) {\n        console.error('Error during call to suggestCharts:', error);\n      }\n      quickchartButtonEl.classList.remove('colab-df-spinner');\n      quickchartButtonEl.classList.add('colab-df-quickchart-complete');\n    }\n    (() => {\n      let quickchartButtonEl =\n        document.querySelector('#df-a0ad40bc-860b-476e-b58c-f159beaefa7d button');\n      quickchartButtonEl.style.display =\n        google.colab.kernel.accessAllowed ? 'block' : 'none';\n    })();\n  </script>\n</div>`;\n        parentElement.appendChild(quickchartButtonContainerElement);\n      }\n\n      appendQuickchartButton(table);\n    ",
            "text/plain": [
              "<google.colab.data_table.DataTable object>"
            ]
          },
          "metadata": {}
        }
      ]
    },
    {
      "cell_type": "markdown",
      "source": [
        "# Logic instructions"
      ],
      "metadata": {
        "id": "xpUuX-N3R2WB"
      }
    },
    {
      "cell_type": "markdown",
      "source": [
        "## Or: or, ori\n",
        "\n",
        "* Example:\n",
        "  ```\n",
        "  .text\n",
        "  main:\n",
        "    li      a0, 0xF875\n",
        "    li      a1, 0x00FF\n",
        "    or      a2, a0, a1    # a2 = 0xF875 | 0x00FF\n",
        "    ori     a3, a0, 0xFF  # a2 = 0xF875 | 0x00FF\n",
        "  ```"
      ],
      "metadata": {
        "id": "or1"
      }
    },
    {
      "cell_type": "code",
      "source": [
        "#@markdown <font size='4'>Run the cell above</font>\n",
        "try_in_wepsim = False # @param {type:\"boolean\"}\n",
        "\n",
        "search_term = 'id:or1'\n",
        "write_cell_above_to_file(search_term, '/tmp/example.asm')\n",
        "\n",
        "!./wepsim/wepsim.sh -a stepbystep -m ep -f ./wepsim/repo/microcode/rv32/ep_base.mc -s /tmp/example.asm > /tmp/result.csv\n",
        "\n",
        "status, df1 = show_results('/tmp/result.csv')\n",
        "\n",
        "if try_in_wepsim:\n",
        "  show_asm_in_ws('/tmp/example.asm','RISCV')\n"
      ],
      "metadata": {
        "id": "aGzG8UmyFoy7",
        "colab": {
          "base_uri": "https://localhost:8080/",
          "height": 253
        },
        "outputId": "109375de-c9f9-412b-f6d2-49efce4a5cb7",
        "cellView": "form"
      },
      "execution_count": null,
      "outputs": [
        {
          "output_type": "display_data",
          "data": {
            "text/html": [
              "<div>\n",
              "<style scoped>\n",
              "    .dataframe tbody tr th:only-of-type {\n",
              "        vertical-align: middle;\n",
              "    }\n",
              "\n",
              "    .dataframe tbody tr th {\n",
              "        vertical-align: top;\n",
              "    }\n",
              "\n",
              "    .dataframe thead th {\n",
              "        text-align: right;\n",
              "    }\n",
              "</style>\n",
              "<table border=\"1\" class=\"dataframe\">\n",
              "  <thead>\n",
              "    <tr style=\"text-align: right;\">\n",
              "      <th></th>\n",
              "      <th>pc</th>\n",
              "      <th>instruction</th>\n",
              "      <th>changes_from_zero_or_current_value</th>\n",
              "    </tr>\n",
              "  </thead>\n",
              "  <tbody>\n",
              "    <tr>\n",
              "      <th>0</th>\n",
              "      <td>pc = 0x8000</td>\n",
              "      <td>li a0 0xF875</td>\n",
              "      <td>register R10 = 0xf000; register PC = 0x8004</td>\n",
              "    </tr>\n",
              "    <tr>\n",
              "      <th>1</th>\n",
              "      <td>pc = 0x8004</td>\n",
              "      <td></td>\n",
              "      <td>register R10 = 0xf875; register PC = 0x8008</td>\n",
              "    </tr>\n",
              "    <tr>\n",
              "      <th>2</th>\n",
              "      <td>pc = 0x8008</td>\n",
              "      <td>li a1 0x00FF</td>\n",
              "      <td>register PC = 0x800c</td>\n",
              "    </tr>\n",
              "    <tr>\n",
              "      <th>3</th>\n",
              "      <td>pc = 0x800c</td>\n",
              "      <td></td>\n",
              "      <td>register R11 = 0xff; register PC = 0x8010</td>\n",
              "    </tr>\n",
              "    <tr>\n",
              "      <th>4</th>\n",
              "      <td>pc = 0x8010</td>\n",
              "      <td>or a2 a0 a1</td>\n",
              "      <td>register R12 = 0xf8ff; register PC = 0x8014</td>\n",
              "    </tr>\n",
              "    <tr>\n",
              "      <th>5</th>\n",
              "      <td>pc = 0x8014</td>\n",
              "      <td>ori a3 a0 0xFF</td>\n",
              "      <td>register R13 = 0xf8ff; register PC = 0x8018</td>\n",
              "    </tr>\n",
              "  </tbody>\n",
              "</table>\n",
              "</div>"
            ],
            "application/vnd.google.colaboratory.module+javascript": "\n      import \"https://ssl.gstatic.com/colaboratory/data_table/881c4a0d49046431/data_table.js\";\n\n      const table = window.createDataTable({\n        data: [[\"pc = 0x8000\",\n\"li a0 0xF875\",\n\"register R10 = 0xf000; register PC = 0x8004\"],\n [\"pc = 0x8004\",\n\"\",\n\"register R10 = 0xf875; register PC = 0x8008\"],\n [\"pc = 0x8008\",\n\"li a1 0x00FF\",\n\"register PC = 0x800c\"],\n [\"pc = 0x800c\",\n\"\",\n\"register R11 = 0xff; register PC = 0x8010\"],\n [\"pc = 0x8010\",\n\"or a2 a0 a1\",\n\"register R12 = 0xf8ff; register PC = 0x8014\"],\n [\"pc = 0x8014\",\n\"ori a3 a0 0xFF\",\n\"register R13 = 0xf8ff; register PC = 0x8018\"]],\n        columns: [[\"string\", \"pc\"], [\"string\", \"instruction\"], [\"string\", \"changes_from_zero_or_current_value\"]],\n        columnOptions: [],\n        rowsPerPage: 20,\n        helpUrl: \"https://colab.research.google.com/notebooks/data_table.ipynb\",\n        suppressOutputScrolling: true,\n        minimumWidth: undefined,\n      });\n\n      function appendQuickchartButton(parentElement) {\n        let quickchartButtonContainerElement = document.createElement('div');\n        quickchartButtonContainerElement.innerHTML = `\n<div id=\"df-08392c1f-668e-40ca-80a7-46cc59000dbd\">\n  <button class=\"colab-df-quickchart\" onclick=\"quickchart('df-08392c1f-668e-40ca-80a7-46cc59000dbd')\"\n            title=\"Suggest charts\"\n            style=\"display:none;\">\n    \n<svg xmlns=\"http://www.w3.org/2000/svg\" height=\"24px\"viewBox=\"0 0 24 24\"\n     width=\"24px\">\n    <g>\n        <path d=\"M19 3H5c-1.1 0-2 .9-2 2v14c0 1.1.9 2 2 2h14c1.1 0 2-.9 2-2V5c0-1.1-.9-2-2-2zM9 17H7v-7h2v7zm4 0h-2V7h2v10zm4 0h-2v-4h2v4z\"/>\n    </g>\n</svg>\n  </button>\n  \n<style>\n  .colab-df-quickchart {\n      --bg-color: #E8F0FE;\n      --fill-color: #1967D2;\n      --hover-bg-color: #E2EBFA;\n      --hover-fill-color: #174EA6;\n      --disabled-fill-color: #AAA;\n      --disabled-bg-color: #DDD;\n  }\n\n  [theme=dark] .colab-df-quickchart {\n      --bg-color: #3B4455;\n      --fill-color: #D2E3FC;\n      --hover-bg-color: #434B5C;\n      --hover-fill-color: #FFFFFF;\n      --disabled-bg-color: #3B4455;\n      --disabled-fill-color: #666;\n  }\n\n  .colab-df-quickchart {\n    background-color: var(--bg-color);\n    border: none;\n    border-radius: 50%;\n    cursor: pointer;\n    display: none;\n    fill: var(--fill-color);\n    height: 32px;\n    padding: 0;\n    width: 32px;\n  }\n\n  .colab-df-quickchart:hover {\n    background-color: var(--hover-bg-color);\n    box-shadow: 0 1px 2px rgba(60, 64, 67, 0.3), 0 1px 3px 1px rgba(60, 64, 67, 0.15);\n    fill: var(--button-hover-fill-color);\n  }\n\n  .colab-df-quickchart-complete:disabled,\n  .colab-df-quickchart-complete:disabled:hover {\n    background-color: var(--disabled-bg-color);\n    fill: var(--disabled-fill-color);\n    box-shadow: none;\n  }\n\n  .colab-df-spinner {\n    border: 2px solid var(--fill-color);\n    border-color: transparent;\n    border-bottom-color: var(--fill-color);\n    animation:\n      spin 1s steps(1) infinite;\n  }\n\n  @keyframes spin {\n    0% {\n      border-color: transparent;\n      border-bottom-color: var(--fill-color);\n      border-left-color: var(--fill-color);\n    }\n    20% {\n      border-color: transparent;\n      border-left-color: var(--fill-color);\n      border-top-color: var(--fill-color);\n    }\n    30% {\n      border-color: transparent;\n      border-left-color: var(--fill-color);\n      border-top-color: var(--fill-color);\n      border-right-color: var(--fill-color);\n    }\n    40% {\n      border-color: transparent;\n      border-right-color: var(--fill-color);\n      border-top-color: var(--fill-color);\n    }\n    60% {\n      border-color: transparent;\n      border-right-color: var(--fill-color);\n    }\n    80% {\n      border-color: transparent;\n      border-right-color: var(--fill-color);\n      border-bottom-color: var(--fill-color);\n    }\n    90% {\n      border-color: transparent;\n      border-bottom-color: var(--fill-color);\n    }\n  }\n</style>\n\n  <script>\n    async function quickchart(key) {\n      const quickchartButtonEl =\n        document.querySelector('#' + key + ' button');\n      quickchartButtonEl.disabled = true;  // To prevent multiple clicks.\n      quickchartButtonEl.classList.add('colab-df-spinner');\n      try {\n        const charts = await google.colab.kernel.invokeFunction(\n            'suggestCharts', [key], {});\n      } catch (error) {\n        console.error('Error during call to suggestCharts:', error);\n      }\n      quickchartButtonEl.classList.remove('colab-df-spinner');\n      quickchartButtonEl.classList.add('colab-df-quickchart-complete');\n    }\n    (() => {\n      let quickchartButtonEl =\n        document.querySelector('#df-08392c1f-668e-40ca-80a7-46cc59000dbd button');\n      quickchartButtonEl.style.display =\n        google.colab.kernel.accessAllowed ? 'block' : 'none';\n    })();\n  </script>\n</div>`;\n        parentElement.appendChild(quickchartButtonContainerElement);\n      }\n\n      appendQuickchartButton(table);\n    ",
            "text/plain": [
              "<google.colab.data_table.DataTable object>"
            ]
          },
          "metadata": {}
        }
      ]
    },
    {
      "cell_type": "markdown",
      "source": [
        "## And: and, andi\n",
        "\n",
        "* Example:\n",
        "  ```\n",
        "  .text\n",
        "  main:\n",
        "    li      a0, 0xF875\n",
        "    li      a1, 0x00FF\n",
        "    and     a2, a0, a1    # a2 = 0xF875 & 0x00FF\n",
        "    andi    a3, a0, 0xFF  # a2 = 0xF875 & 0x00FF\n",
        "  ```"
      ],
      "metadata": {
        "id": "and1"
      }
    },
    {
      "cell_type": "code",
      "source": [
        "#@markdown <font size='4'>Run the cell above</font>\n",
        "try_in_wepsim = False # @param {type:\"boolean\"}\n",
        "\n",
        "search_term = 'id:and1'\n",
        "write_cell_above_to_file(search_term, '/tmp/example.asm')\n",
        "\n",
        "!./wepsim/wepsim.sh -a stepbystep -m ep -f ./wepsim/repo/microcode/rv32/ep_base.mc -s /tmp/example.asm > /tmp/result.csv\n",
        "\n",
        "status, df1 = show_results('/tmp/result.csv')\n",
        "\n",
        "if try_in_wepsim:\n",
        "  show_asm_in_ws('/tmp/example.asm','RISCV')\n"
      ],
      "metadata": {
        "id": "aGzG8UmyFoy8",
        "colab": {
          "base_uri": "https://localhost:8080/",
          "height": 253
        },
        "outputId": "b3d50b72-4b65-466b-8616-cca0e5ebd8c7",
        "cellView": "form"
      },
      "execution_count": null,
      "outputs": [
        {
          "output_type": "display_data",
          "data": {
            "text/html": [
              "<div>\n",
              "<style scoped>\n",
              "    .dataframe tbody tr th:only-of-type {\n",
              "        vertical-align: middle;\n",
              "    }\n",
              "\n",
              "    .dataframe tbody tr th {\n",
              "        vertical-align: top;\n",
              "    }\n",
              "\n",
              "    .dataframe thead th {\n",
              "        text-align: right;\n",
              "    }\n",
              "</style>\n",
              "<table border=\"1\" class=\"dataframe\">\n",
              "  <thead>\n",
              "    <tr style=\"text-align: right;\">\n",
              "      <th></th>\n",
              "      <th>pc</th>\n",
              "      <th>instruction</th>\n",
              "      <th>changes_from_zero_or_current_value</th>\n",
              "    </tr>\n",
              "  </thead>\n",
              "  <tbody>\n",
              "    <tr>\n",
              "      <th>0</th>\n",
              "      <td>pc = 0x8000</td>\n",
              "      <td>li a0 0xF875</td>\n",
              "      <td>register R10 = 0xf000; register PC = 0x8004</td>\n",
              "    </tr>\n",
              "    <tr>\n",
              "      <th>1</th>\n",
              "      <td>pc = 0x8004</td>\n",
              "      <td></td>\n",
              "      <td>register R10 = 0xf875; register PC = 0x8008</td>\n",
              "    </tr>\n",
              "    <tr>\n",
              "      <th>2</th>\n",
              "      <td>pc = 0x8008</td>\n",
              "      <td>li a1 0x00FF</td>\n",
              "      <td>register PC = 0x800c</td>\n",
              "    </tr>\n",
              "    <tr>\n",
              "      <th>3</th>\n",
              "      <td>pc = 0x800c</td>\n",
              "      <td></td>\n",
              "      <td>register R11 = 0xff; register PC = 0x8010</td>\n",
              "    </tr>\n",
              "    <tr>\n",
              "      <th>4</th>\n",
              "      <td>pc = 0x8010</td>\n",
              "      <td>and a2 a0 a1</td>\n",
              "      <td>register R12 = 0x75; register PC = 0x8014</td>\n",
              "    </tr>\n",
              "    <tr>\n",
              "      <th>5</th>\n",
              "      <td>pc = 0x8014</td>\n",
              "      <td>andi a3 a0 0xFF</td>\n",
              "      <td>register R13 = 0xf974; register PC = 0x8018</td>\n",
              "    </tr>\n",
              "  </tbody>\n",
              "</table>\n",
              "</div>"
            ],
            "application/vnd.google.colaboratory.module+javascript": "\n      import \"https://ssl.gstatic.com/colaboratory/data_table/881c4a0d49046431/data_table.js\";\n\n      const table = window.createDataTable({\n        data: [[\"pc = 0x8000\",\n\"li a0 0xF875\",\n\"register R10 = 0xf000; register PC = 0x8004\"],\n [\"pc = 0x8004\",\n\"\",\n\"register R10 = 0xf875; register PC = 0x8008\"],\n [\"pc = 0x8008\",\n\"li a1 0x00FF\",\n\"register PC = 0x800c\"],\n [\"pc = 0x800c\",\n\"\",\n\"register R11 = 0xff; register PC = 0x8010\"],\n [\"pc = 0x8010\",\n\"and a2 a0 a1\",\n\"register R12 = 0x75; register PC = 0x8014\"],\n [\"pc = 0x8014\",\n\"andi a3 a0 0xFF\",\n\"register R13 = 0xf974; register PC = 0x8018\"]],\n        columns: [[\"string\", \"pc\"], [\"string\", \"instruction\"], [\"string\", \"changes_from_zero_or_current_value\"]],\n        columnOptions: [],\n        rowsPerPage: 20,\n        helpUrl: \"https://colab.research.google.com/notebooks/data_table.ipynb\",\n        suppressOutputScrolling: true,\n        minimumWidth: undefined,\n      });\n\n      function appendQuickchartButton(parentElement) {\n        let quickchartButtonContainerElement = document.createElement('div');\n        quickchartButtonContainerElement.innerHTML = `\n<div id=\"df-0eec6846-5f56-4a98-a398-13ee6034925c\">\n  <button class=\"colab-df-quickchart\" onclick=\"quickchart('df-0eec6846-5f56-4a98-a398-13ee6034925c')\"\n            title=\"Suggest charts\"\n            style=\"display:none;\">\n    \n<svg xmlns=\"http://www.w3.org/2000/svg\" height=\"24px\"viewBox=\"0 0 24 24\"\n     width=\"24px\">\n    <g>\n        <path d=\"M19 3H5c-1.1 0-2 .9-2 2v14c0 1.1.9 2 2 2h14c1.1 0 2-.9 2-2V5c0-1.1-.9-2-2-2zM9 17H7v-7h2v7zm4 0h-2V7h2v10zm4 0h-2v-4h2v4z\"/>\n    </g>\n</svg>\n  </button>\n  \n<style>\n  .colab-df-quickchart {\n      --bg-color: #E8F0FE;\n      --fill-color: #1967D2;\n      --hover-bg-color: #E2EBFA;\n      --hover-fill-color: #174EA6;\n      --disabled-fill-color: #AAA;\n      --disabled-bg-color: #DDD;\n  }\n\n  [theme=dark] .colab-df-quickchart {\n      --bg-color: #3B4455;\n      --fill-color: #D2E3FC;\n      --hover-bg-color: #434B5C;\n      --hover-fill-color: #FFFFFF;\n      --disabled-bg-color: #3B4455;\n      --disabled-fill-color: #666;\n  }\n\n  .colab-df-quickchart {\n    background-color: var(--bg-color);\n    border: none;\n    border-radius: 50%;\n    cursor: pointer;\n    display: none;\n    fill: var(--fill-color);\n    height: 32px;\n    padding: 0;\n    width: 32px;\n  }\n\n  .colab-df-quickchart:hover {\n    background-color: var(--hover-bg-color);\n    box-shadow: 0 1px 2px rgba(60, 64, 67, 0.3), 0 1px 3px 1px rgba(60, 64, 67, 0.15);\n    fill: var(--button-hover-fill-color);\n  }\n\n  .colab-df-quickchart-complete:disabled,\n  .colab-df-quickchart-complete:disabled:hover {\n    background-color: var(--disabled-bg-color);\n    fill: var(--disabled-fill-color);\n    box-shadow: none;\n  }\n\n  .colab-df-spinner {\n    border: 2px solid var(--fill-color);\n    border-color: transparent;\n    border-bottom-color: var(--fill-color);\n    animation:\n      spin 1s steps(1) infinite;\n  }\n\n  @keyframes spin {\n    0% {\n      border-color: transparent;\n      border-bottom-color: var(--fill-color);\n      border-left-color: var(--fill-color);\n    }\n    20% {\n      border-color: transparent;\n      border-left-color: var(--fill-color);\n      border-top-color: var(--fill-color);\n    }\n    30% {\n      border-color: transparent;\n      border-left-color: var(--fill-color);\n      border-top-color: var(--fill-color);\n      border-right-color: var(--fill-color);\n    }\n    40% {\n      border-color: transparent;\n      border-right-color: var(--fill-color);\n      border-top-color: var(--fill-color);\n    }\n    60% {\n      border-color: transparent;\n      border-right-color: var(--fill-color);\n    }\n    80% {\n      border-color: transparent;\n      border-right-color: var(--fill-color);\n      border-bottom-color: var(--fill-color);\n    }\n    90% {\n      border-color: transparent;\n      border-bottom-color: var(--fill-color);\n    }\n  }\n</style>\n\n  <script>\n    async function quickchart(key) {\n      const quickchartButtonEl =\n        document.querySelector('#' + key + ' button');\n      quickchartButtonEl.disabled = true;  // To prevent multiple clicks.\n      quickchartButtonEl.classList.add('colab-df-spinner');\n      try {\n        const charts = await google.colab.kernel.invokeFunction(\n            'suggestCharts', [key], {});\n      } catch (error) {\n        console.error('Error during call to suggestCharts:', error);\n      }\n      quickchartButtonEl.classList.remove('colab-df-spinner');\n      quickchartButtonEl.classList.add('colab-df-quickchart-complete');\n    }\n    (() => {\n      let quickchartButtonEl =\n        document.querySelector('#df-0eec6846-5f56-4a98-a398-13ee6034925c button');\n      quickchartButtonEl.style.display =\n        google.colab.kernel.accessAllowed ? 'block' : 'none';\n    })();\n  </script>\n</div>`;\n        parentElement.appendChild(quickchartButtonContainerElement);\n      }\n\n      appendQuickchartButton(table);\n    ",
            "text/plain": [
              "<google.colab.data_table.DataTable object>"
            ]
          },
          "metadata": {}
        }
      ]
    },
    {
      "cell_type": "markdown",
      "source": [
        "## Xor: xor, xori\n",
        "\n",
        "* Example:\n",
        "  ```\n",
        "  .text\n",
        "  main:\n",
        "    li      a0, 0xF875\n",
        "    li      a1, 0x00FF\n",
        "    xor     a2, a0, a1    # a2 = 0xF875 ^ 0x00FF\n",
        "    xori    a3, a0, 0xFF  # a2 = 0xF875 ^ 0x00FF\n",
        "  ```"
      ],
      "metadata": {
        "id": "xor1"
      }
    },
    {
      "cell_type": "code",
      "source": [
        "#@markdown <font size='4'>Run the cell above</font>\n",
        "try_in_wepsim = False # @param {type:\"boolean\"}\n",
        "\n",
        "search_term = 'id:xor1'\n",
        "write_cell_above_to_file(search_term, '/tmp/example.asm')\n",
        "\n",
        "!./wepsim/wepsim.sh -a stepbystep -m ep -f ./wepsim/repo/microcode/rv32/ep_base.mc -s /tmp/example.asm > /tmp/result.csv\n",
        "\n",
        "status, df1 = show_results('/tmp/result.csv')\n",
        "\n",
        "if try_in_wepsim:\n",
        "  show_asm_in_ws('/tmp/example.asm','RISCV')\n"
      ],
      "metadata": {
        "id": "aGzG8UmyFoy9",
        "colab": {
          "base_uri": "https://localhost:8080/",
          "height": 253
        },
        "outputId": "dfaaf777-1fd2-4915-e158-814a4966397d",
        "cellView": "form"
      },
      "execution_count": null,
      "outputs": [
        {
          "output_type": "display_data",
          "data": {
            "text/html": [
              "<div>\n",
              "<style scoped>\n",
              "    .dataframe tbody tr th:only-of-type {\n",
              "        vertical-align: middle;\n",
              "    }\n",
              "\n",
              "    .dataframe tbody tr th {\n",
              "        vertical-align: top;\n",
              "    }\n",
              "\n",
              "    .dataframe thead th {\n",
              "        text-align: right;\n",
              "    }\n",
              "</style>\n",
              "<table border=\"1\" class=\"dataframe\">\n",
              "  <thead>\n",
              "    <tr style=\"text-align: right;\">\n",
              "      <th></th>\n",
              "      <th>pc</th>\n",
              "      <th>instruction</th>\n",
              "      <th>changes_from_zero_or_current_value</th>\n",
              "    </tr>\n",
              "  </thead>\n",
              "  <tbody>\n",
              "    <tr>\n",
              "      <th>0</th>\n",
              "      <td>pc = 0x8000</td>\n",
              "      <td>li a0 0xF875</td>\n",
              "      <td>register R10 = 0xf000; register PC = 0x8004</td>\n",
              "    </tr>\n",
              "    <tr>\n",
              "      <th>1</th>\n",
              "      <td>pc = 0x8004</td>\n",
              "      <td></td>\n",
              "      <td>register R10 = 0xf875; register PC = 0x8008</td>\n",
              "    </tr>\n",
              "    <tr>\n",
              "      <th>2</th>\n",
              "      <td>pc = 0x8008</td>\n",
              "      <td>li a1 0x00FF</td>\n",
              "      <td>register PC = 0x800c</td>\n",
              "    </tr>\n",
              "    <tr>\n",
              "      <th>3</th>\n",
              "      <td>pc = 0x800c</td>\n",
              "      <td></td>\n",
              "      <td>register R11 = 0xff; register PC = 0x8010</td>\n",
              "    </tr>\n",
              "    <tr>\n",
              "      <th>4</th>\n",
              "      <td>pc = 0x8010</td>\n",
              "      <td>xor a2 a0 a1</td>\n",
              "      <td>register R12 = 0xf88a; register PC = 0x8014</td>\n",
              "    </tr>\n",
              "    <tr>\n",
              "      <th>5</th>\n",
              "      <td>pc = 0x8014</td>\n",
              "      <td>xori a3 a0 0xFF</td>\n",
              "      <td>register R13 = 0xf88a; register PC = 0x8018</td>\n",
              "    </tr>\n",
              "  </tbody>\n",
              "</table>\n",
              "</div>"
            ],
            "application/vnd.google.colaboratory.module+javascript": "\n      import \"https://ssl.gstatic.com/colaboratory/data_table/881c4a0d49046431/data_table.js\";\n\n      const table = window.createDataTable({\n        data: [[\"pc = 0x8000\",\n\"li a0 0xF875\",\n\"register R10 = 0xf000; register PC = 0x8004\"],\n [\"pc = 0x8004\",\n\"\",\n\"register R10 = 0xf875; register PC = 0x8008\"],\n [\"pc = 0x8008\",\n\"li a1 0x00FF\",\n\"register PC = 0x800c\"],\n [\"pc = 0x800c\",\n\"\",\n\"register R11 = 0xff; register PC = 0x8010\"],\n [\"pc = 0x8010\",\n\"xor a2 a0 a1\",\n\"register R12 = 0xf88a; register PC = 0x8014\"],\n [\"pc = 0x8014\",\n\"xori a3 a0 0xFF\",\n\"register R13 = 0xf88a; register PC = 0x8018\"]],\n        columns: [[\"string\", \"pc\"], [\"string\", \"instruction\"], [\"string\", \"changes_from_zero_or_current_value\"]],\n        columnOptions: [],\n        rowsPerPage: 20,\n        helpUrl: \"https://colab.research.google.com/notebooks/data_table.ipynb\",\n        suppressOutputScrolling: true,\n        minimumWidth: undefined,\n      });\n\n      function appendQuickchartButton(parentElement) {\n        let quickchartButtonContainerElement = document.createElement('div');\n        quickchartButtonContainerElement.innerHTML = `\n<div id=\"df-660cae90-0118-4945-b4fe-dba367ca049d\">\n  <button class=\"colab-df-quickchart\" onclick=\"quickchart('df-660cae90-0118-4945-b4fe-dba367ca049d')\"\n            title=\"Suggest charts\"\n            style=\"display:none;\">\n    \n<svg xmlns=\"http://www.w3.org/2000/svg\" height=\"24px\"viewBox=\"0 0 24 24\"\n     width=\"24px\">\n    <g>\n        <path d=\"M19 3H5c-1.1 0-2 .9-2 2v14c0 1.1.9 2 2 2h14c1.1 0 2-.9 2-2V5c0-1.1-.9-2-2-2zM9 17H7v-7h2v7zm4 0h-2V7h2v10zm4 0h-2v-4h2v4z\"/>\n    </g>\n</svg>\n  </button>\n  \n<style>\n  .colab-df-quickchart {\n      --bg-color: #E8F0FE;\n      --fill-color: #1967D2;\n      --hover-bg-color: #E2EBFA;\n      --hover-fill-color: #174EA6;\n      --disabled-fill-color: #AAA;\n      --disabled-bg-color: #DDD;\n  }\n\n  [theme=dark] .colab-df-quickchart {\n      --bg-color: #3B4455;\n      --fill-color: #D2E3FC;\n      --hover-bg-color: #434B5C;\n      --hover-fill-color: #FFFFFF;\n      --disabled-bg-color: #3B4455;\n      --disabled-fill-color: #666;\n  }\n\n  .colab-df-quickchart {\n    background-color: var(--bg-color);\n    border: none;\n    border-radius: 50%;\n    cursor: pointer;\n    display: none;\n    fill: var(--fill-color);\n    height: 32px;\n    padding: 0;\n    width: 32px;\n  }\n\n  .colab-df-quickchart:hover {\n    background-color: var(--hover-bg-color);\n    box-shadow: 0 1px 2px rgba(60, 64, 67, 0.3), 0 1px 3px 1px rgba(60, 64, 67, 0.15);\n    fill: var(--button-hover-fill-color);\n  }\n\n  .colab-df-quickchart-complete:disabled,\n  .colab-df-quickchart-complete:disabled:hover {\n    background-color: var(--disabled-bg-color);\n    fill: var(--disabled-fill-color);\n    box-shadow: none;\n  }\n\n  .colab-df-spinner {\n    border: 2px solid var(--fill-color);\n    border-color: transparent;\n    border-bottom-color: var(--fill-color);\n    animation:\n      spin 1s steps(1) infinite;\n  }\n\n  @keyframes spin {\n    0% {\n      border-color: transparent;\n      border-bottom-color: var(--fill-color);\n      border-left-color: var(--fill-color);\n    }\n    20% {\n      border-color: transparent;\n      border-left-color: var(--fill-color);\n      border-top-color: var(--fill-color);\n    }\n    30% {\n      border-color: transparent;\n      border-left-color: var(--fill-color);\n      border-top-color: var(--fill-color);\n      border-right-color: var(--fill-color);\n    }\n    40% {\n      border-color: transparent;\n      border-right-color: var(--fill-color);\n      border-top-color: var(--fill-color);\n    }\n    60% {\n      border-color: transparent;\n      border-right-color: var(--fill-color);\n    }\n    80% {\n      border-color: transparent;\n      border-right-color: var(--fill-color);\n      border-bottom-color: var(--fill-color);\n    }\n    90% {\n      border-color: transparent;\n      border-bottom-color: var(--fill-color);\n    }\n  }\n</style>\n\n  <script>\n    async function quickchart(key) {\n      const quickchartButtonEl =\n        document.querySelector('#' + key + ' button');\n      quickchartButtonEl.disabled = true;  // To prevent multiple clicks.\n      quickchartButtonEl.classList.add('colab-df-spinner');\n      try {\n        const charts = await google.colab.kernel.invokeFunction(\n            'suggestCharts', [key], {});\n      } catch (error) {\n        console.error('Error during call to suggestCharts:', error);\n      }\n      quickchartButtonEl.classList.remove('colab-df-spinner');\n      quickchartButtonEl.classList.add('colab-df-quickchart-complete');\n    }\n    (() => {\n      let quickchartButtonEl =\n        document.querySelector('#df-660cae90-0118-4945-b4fe-dba367ca049d button');\n      quickchartButtonEl.style.display =\n        google.colab.kernel.accessAllowed ? 'block' : 'none';\n    })();\n  </script>\n</div>`;\n        parentElement.appendChild(quickchartButtonContainerElement);\n      }\n\n      appendQuickchartButton(table);\n    ",
            "text/plain": [
              "<google.colab.data_table.DataTable object>"
            ]
          },
          "metadata": {}
        }
      ]
    },
    {
      "cell_type": "markdown",
      "source": [
        "## Shift Right Logical: srl, srli\n",
        "\n",
        "* Example:\n",
        "  ```\n",
        "  .text\n",
        "  main:\n",
        "    li      a0, 0x010\n",
        "    li      a1, 0x3\n",
        "    srl     a2, a0, a1   # a2 = 0x010 >> 3\n",
        "    srli    a2, a0, 3    # a2 = 0x010 >> 3\n",
        "  ```"
      ],
      "metadata": {
        "id": "srl1"
      }
    },
    {
      "cell_type": "code",
      "source": [
        "#@markdown <font size='4'>Run the cell above</font>\n",
        "try_in_wepsim = False # @param {type:\"boolean\"}\n",
        "\n",
        "search_term = 'id:srl1'\n",
        "write_cell_above_to_file(search_term, '/tmp/example.asm')\n",
        "\n",
        "!./wepsim/wepsim.sh -a stepbystep -m ep -f ./wepsim/repo/microcode/rv32/ep_base.mc -s /tmp/example.asm > /tmp/result.csv\n",
        "\n",
        "status, df1 = show_results('/tmp/result.csv')\n",
        "\n",
        "if try_in_wepsim:\n",
        "  show_asm_in_ws('/tmp/example.asm','RISCV')\n"
      ],
      "metadata": {
        "id": "aGzG8UmyFoyB",
        "colab": {
          "base_uri": "https://localhost:8080/",
          "height": 253
        },
        "outputId": "5a563150-7994-42fa-cdde-00b63d414894",
        "cellView": "form"
      },
      "execution_count": null,
      "outputs": [
        {
          "output_type": "display_data",
          "data": {
            "text/html": [
              "<div>\n",
              "<style scoped>\n",
              "    .dataframe tbody tr th:only-of-type {\n",
              "        vertical-align: middle;\n",
              "    }\n",
              "\n",
              "    .dataframe tbody tr th {\n",
              "        vertical-align: top;\n",
              "    }\n",
              "\n",
              "    .dataframe thead th {\n",
              "        text-align: right;\n",
              "    }\n",
              "</style>\n",
              "<table border=\"1\" class=\"dataframe\">\n",
              "  <thead>\n",
              "    <tr style=\"text-align: right;\">\n",
              "      <th></th>\n",
              "      <th>pc</th>\n",
              "      <th>instruction</th>\n",
              "      <th>changes_from_zero_or_current_value</th>\n",
              "    </tr>\n",
              "  </thead>\n",
              "  <tbody>\n",
              "    <tr>\n",
              "      <th>0</th>\n",
              "      <td>pc = 0x8000</td>\n",
              "      <td>li a0 0x010</td>\n",
              "      <td>register PC = 0x8004</td>\n",
              "    </tr>\n",
              "    <tr>\n",
              "      <th>1</th>\n",
              "      <td>pc = 0x8004</td>\n",
              "      <td></td>\n",
              "      <td>register R10 = 0x10; register PC = 0x8008</td>\n",
              "    </tr>\n",
              "    <tr>\n",
              "      <th>2</th>\n",
              "      <td>pc = 0x8008</td>\n",
              "      <td>li a1 0x3</td>\n",
              "      <td>register PC = 0x800c</td>\n",
              "    </tr>\n",
              "    <tr>\n",
              "      <th>3</th>\n",
              "      <td>pc = 0x800c</td>\n",
              "      <td></td>\n",
              "      <td>register R11 = 0x3; register PC = 0x8010</td>\n",
              "    </tr>\n",
              "    <tr>\n",
              "      <th>4</th>\n",
              "      <td>pc = 0x8010</td>\n",
              "      <td>srl a2 a0 a1</td>\n",
              "      <td>register R12 = 0x2; register PC = 0x8014</td>\n",
              "    </tr>\n",
              "    <tr>\n",
              "      <th>5</th>\n",
              "      <td>pc = 0x8014</td>\n",
              "      <td>srli a2 a0 3</td>\n",
              "      <td>register PC = 0x8018</td>\n",
              "    </tr>\n",
              "  </tbody>\n",
              "</table>\n",
              "</div>"
            ],
            "application/vnd.google.colaboratory.module+javascript": "\n      import \"https://ssl.gstatic.com/colaboratory/data_table/881c4a0d49046431/data_table.js\";\n\n      const table = window.createDataTable({\n        data: [[\"pc = 0x8000\",\n\"li a0 0x010\",\n\"register PC = 0x8004\"],\n [\"pc = 0x8004\",\n\"\",\n\"register R10 = 0x10; register PC = 0x8008\"],\n [\"pc = 0x8008\",\n\"li a1 0x3\",\n\"register PC = 0x800c\"],\n [\"pc = 0x800c\",\n\"\",\n\"register R11 = 0x3; register PC = 0x8010\"],\n [\"pc = 0x8010\",\n\"srl a2 a0 a1\",\n\"register R12 = 0x2; register PC = 0x8014\"],\n [\"pc = 0x8014\",\n\"srli a2 a0 3\",\n\"register PC = 0x8018\"]],\n        columns: [[\"string\", \"pc\"], [\"string\", \"instruction\"], [\"string\", \"changes_from_zero_or_current_value\"]],\n        columnOptions: [],\n        rowsPerPage: 20,\n        helpUrl: \"https://colab.research.google.com/notebooks/data_table.ipynb\",\n        suppressOutputScrolling: true,\n        minimumWidth: undefined,\n      });\n\n      function appendQuickchartButton(parentElement) {\n        let quickchartButtonContainerElement = document.createElement('div');\n        quickchartButtonContainerElement.innerHTML = `\n<div id=\"df-aa5f07d3-dfda-4fa8-bb8a-78a3e9c9b26f\">\n  <button class=\"colab-df-quickchart\" onclick=\"quickchart('df-aa5f07d3-dfda-4fa8-bb8a-78a3e9c9b26f')\"\n            title=\"Suggest charts\"\n            style=\"display:none;\">\n    \n<svg xmlns=\"http://www.w3.org/2000/svg\" height=\"24px\"viewBox=\"0 0 24 24\"\n     width=\"24px\">\n    <g>\n        <path d=\"M19 3H5c-1.1 0-2 .9-2 2v14c0 1.1.9 2 2 2h14c1.1 0 2-.9 2-2V5c0-1.1-.9-2-2-2zM9 17H7v-7h2v7zm4 0h-2V7h2v10zm4 0h-2v-4h2v4z\"/>\n    </g>\n</svg>\n  </button>\n  \n<style>\n  .colab-df-quickchart {\n      --bg-color: #E8F0FE;\n      --fill-color: #1967D2;\n      --hover-bg-color: #E2EBFA;\n      --hover-fill-color: #174EA6;\n      --disabled-fill-color: #AAA;\n      --disabled-bg-color: #DDD;\n  }\n\n  [theme=dark] .colab-df-quickchart {\n      --bg-color: #3B4455;\n      --fill-color: #D2E3FC;\n      --hover-bg-color: #434B5C;\n      --hover-fill-color: #FFFFFF;\n      --disabled-bg-color: #3B4455;\n      --disabled-fill-color: #666;\n  }\n\n  .colab-df-quickchart {\n    background-color: var(--bg-color);\n    border: none;\n    border-radius: 50%;\n    cursor: pointer;\n    display: none;\n    fill: var(--fill-color);\n    height: 32px;\n    padding: 0;\n    width: 32px;\n  }\n\n  .colab-df-quickchart:hover {\n    background-color: var(--hover-bg-color);\n    box-shadow: 0 1px 2px rgba(60, 64, 67, 0.3), 0 1px 3px 1px rgba(60, 64, 67, 0.15);\n    fill: var(--button-hover-fill-color);\n  }\n\n  .colab-df-quickchart-complete:disabled,\n  .colab-df-quickchart-complete:disabled:hover {\n    background-color: var(--disabled-bg-color);\n    fill: var(--disabled-fill-color);\n    box-shadow: none;\n  }\n\n  .colab-df-spinner {\n    border: 2px solid var(--fill-color);\n    border-color: transparent;\n    border-bottom-color: var(--fill-color);\n    animation:\n      spin 1s steps(1) infinite;\n  }\n\n  @keyframes spin {\n    0% {\n      border-color: transparent;\n      border-bottom-color: var(--fill-color);\n      border-left-color: var(--fill-color);\n    }\n    20% {\n      border-color: transparent;\n      border-left-color: var(--fill-color);\n      border-top-color: var(--fill-color);\n    }\n    30% {\n      border-color: transparent;\n      border-left-color: var(--fill-color);\n      border-top-color: var(--fill-color);\n      border-right-color: var(--fill-color);\n    }\n    40% {\n      border-color: transparent;\n      border-right-color: var(--fill-color);\n      border-top-color: var(--fill-color);\n    }\n    60% {\n      border-color: transparent;\n      border-right-color: var(--fill-color);\n    }\n    80% {\n      border-color: transparent;\n      border-right-color: var(--fill-color);\n      border-bottom-color: var(--fill-color);\n    }\n    90% {\n      border-color: transparent;\n      border-bottom-color: var(--fill-color);\n    }\n  }\n</style>\n\n  <script>\n    async function quickchart(key) {\n      const quickchartButtonEl =\n        document.querySelector('#' + key + ' button');\n      quickchartButtonEl.disabled = true;  // To prevent multiple clicks.\n      quickchartButtonEl.classList.add('colab-df-spinner');\n      try {\n        const charts = await google.colab.kernel.invokeFunction(\n            'suggestCharts', [key], {});\n      } catch (error) {\n        console.error('Error during call to suggestCharts:', error);\n      }\n      quickchartButtonEl.classList.remove('colab-df-spinner');\n      quickchartButtonEl.classList.add('colab-df-quickchart-complete');\n    }\n    (() => {\n      let quickchartButtonEl =\n        document.querySelector('#df-aa5f07d3-dfda-4fa8-bb8a-78a3e9c9b26f button');\n      quickchartButtonEl.style.display =\n        google.colab.kernel.accessAllowed ? 'block' : 'none';\n    })();\n  </script>\n</div>`;\n        parentElement.appendChild(quickchartButtonContainerElement);\n      }\n\n      appendQuickchartButton(table);\n    ",
            "text/plain": [
              "<google.colab.data_table.DataTable object>"
            ]
          },
          "metadata": {}
        }
      ]
    },
    {
      "cell_type": "markdown",
      "source": [
        "# Shift instructions"
      ],
      "metadata": {
        "id": "lx-0HxmxSzoC"
      }
    },
    {
      "cell_type": "markdown",
      "source": [
        "## Shift Left Logical: sll, slli\n",
        "\n",
        "* Example:\n",
        "  ```\n",
        "  .text\n",
        "  main:\n",
        "    li      a0, 0x010\n",
        "    li      a1, 0x3\n",
        "    sll     a2, a0, a1   # a2 = 0x010 << 3\n",
        "    slli    a2, a0, 3    # a2 = 0x010 << 3\n",
        "  ```"
      ],
      "metadata": {
        "id": "sll1"
      }
    },
    {
      "cell_type": "code",
      "source": [
        "#@markdown <font size='4'>Run the cell above</font>\n",
        "try_in_wepsim = False # @param {type:\"boolean\"}\n",
        "\n",
        "search_term = 'id:sll1'\n",
        "write_cell_above_to_file(search_term, '/tmp/example.asm')\n",
        "\n",
        "!./wepsim/wepsim.sh -a stepbystep -m ep -f ./wepsim/repo/microcode/rv32/ep_base.mc -s /tmp/example.asm > /tmp/result.csv\n",
        "\n",
        "status, df1 = show_results('/tmp/result.csv')\n"
      ],
      "metadata": {
        "id": "aGzG8UmyFoyC",
        "colab": {
          "base_uri": "https://localhost:8080/",
          "height": 253
        },
        "outputId": "9793fe3a-ff36-47db-f394-334a7d174fed",
        "cellView": "form"
      },
      "execution_count": null,
      "outputs": [
        {
          "output_type": "display_data",
          "data": {
            "text/html": [
              "<div>\n",
              "<style scoped>\n",
              "    .dataframe tbody tr th:only-of-type {\n",
              "        vertical-align: middle;\n",
              "    }\n",
              "\n",
              "    .dataframe tbody tr th {\n",
              "        vertical-align: top;\n",
              "    }\n",
              "\n",
              "    .dataframe thead th {\n",
              "        text-align: right;\n",
              "    }\n",
              "</style>\n",
              "<table border=\"1\" class=\"dataframe\">\n",
              "  <thead>\n",
              "    <tr style=\"text-align: right;\">\n",
              "      <th></th>\n",
              "      <th>pc</th>\n",
              "      <th>instruction</th>\n",
              "      <th>changes_from_zero_or_current_value</th>\n",
              "    </tr>\n",
              "  </thead>\n",
              "  <tbody>\n",
              "    <tr>\n",
              "      <th>0</th>\n",
              "      <td>pc = 0x8000</td>\n",
              "      <td>li a0 0x010</td>\n",
              "      <td>register PC = 0x8004</td>\n",
              "    </tr>\n",
              "    <tr>\n",
              "      <th>1</th>\n",
              "      <td>pc = 0x8004</td>\n",
              "      <td></td>\n",
              "      <td>register R10 = 0x10; register PC = 0x8008</td>\n",
              "    </tr>\n",
              "    <tr>\n",
              "      <th>2</th>\n",
              "      <td>pc = 0x8008</td>\n",
              "      <td>li a1 0x3</td>\n",
              "      <td>register PC = 0x800c</td>\n",
              "    </tr>\n",
              "    <tr>\n",
              "      <th>3</th>\n",
              "      <td>pc = 0x800c</td>\n",
              "      <td></td>\n",
              "      <td>register R11 = 0x3; register PC = 0x8010</td>\n",
              "    </tr>\n",
              "    <tr>\n",
              "      <th>4</th>\n",
              "      <td>pc = 0x8010</td>\n",
              "      <td>sll a2 a0 a1</td>\n",
              "      <td>register R12 = 0x80; register PC = 0x8014</td>\n",
              "    </tr>\n",
              "    <tr>\n",
              "      <th>5</th>\n",
              "      <td>pc = 0x8014</td>\n",
              "      <td>slli a2 a0 3</td>\n",
              "      <td>register PC = 0x8018</td>\n",
              "    </tr>\n",
              "  </tbody>\n",
              "</table>\n",
              "</div>"
            ],
            "application/vnd.google.colaboratory.module+javascript": "\n      import \"https://ssl.gstatic.com/colaboratory/data_table/881c4a0d49046431/data_table.js\";\n\n      const table = window.createDataTable({\n        data: [[\"pc = 0x8000\",\n\"li a0 0x010\",\n\"register PC = 0x8004\"],\n [\"pc = 0x8004\",\n\"\",\n\"register R10 = 0x10; register PC = 0x8008\"],\n [\"pc = 0x8008\",\n\"li a1 0x3\",\n\"register PC = 0x800c\"],\n [\"pc = 0x800c\",\n\"\",\n\"register R11 = 0x3; register PC = 0x8010\"],\n [\"pc = 0x8010\",\n\"sll a2 a0 a1\",\n\"register R12 = 0x80; register PC = 0x8014\"],\n [\"pc = 0x8014\",\n\"slli a2 a0 3\",\n\"register PC = 0x8018\"]],\n        columns: [[\"string\", \"pc\"], [\"string\", \"instruction\"], [\"string\", \"changes_from_zero_or_current_value\"]],\n        columnOptions: [],\n        rowsPerPage: 20,\n        helpUrl: \"https://colab.research.google.com/notebooks/data_table.ipynb\",\n        suppressOutputScrolling: true,\n        minimumWidth: undefined,\n      });\n\n      function appendQuickchartButton(parentElement) {\n        let quickchartButtonContainerElement = document.createElement('div');\n        quickchartButtonContainerElement.innerHTML = `\n<div id=\"df-52ac5c4a-28ab-48d7-aaa0-90ab3dd5f5a1\">\n  <button class=\"colab-df-quickchart\" onclick=\"quickchart('df-52ac5c4a-28ab-48d7-aaa0-90ab3dd5f5a1')\"\n            title=\"Suggest charts\"\n            style=\"display:none;\">\n    \n<svg xmlns=\"http://www.w3.org/2000/svg\" height=\"24px\"viewBox=\"0 0 24 24\"\n     width=\"24px\">\n    <g>\n        <path d=\"M19 3H5c-1.1 0-2 .9-2 2v14c0 1.1.9 2 2 2h14c1.1 0 2-.9 2-2V5c0-1.1-.9-2-2-2zM9 17H7v-7h2v7zm4 0h-2V7h2v10zm4 0h-2v-4h2v4z\"/>\n    </g>\n</svg>\n  </button>\n  \n<style>\n  .colab-df-quickchart {\n      --bg-color: #E8F0FE;\n      --fill-color: #1967D2;\n      --hover-bg-color: #E2EBFA;\n      --hover-fill-color: #174EA6;\n      --disabled-fill-color: #AAA;\n      --disabled-bg-color: #DDD;\n  }\n\n  [theme=dark] .colab-df-quickchart {\n      --bg-color: #3B4455;\n      --fill-color: #D2E3FC;\n      --hover-bg-color: #434B5C;\n      --hover-fill-color: #FFFFFF;\n      --disabled-bg-color: #3B4455;\n      --disabled-fill-color: #666;\n  }\n\n  .colab-df-quickchart {\n    background-color: var(--bg-color);\n    border: none;\n    border-radius: 50%;\n    cursor: pointer;\n    display: none;\n    fill: var(--fill-color);\n    height: 32px;\n    padding: 0;\n    width: 32px;\n  }\n\n  .colab-df-quickchart:hover {\n    background-color: var(--hover-bg-color);\n    box-shadow: 0 1px 2px rgba(60, 64, 67, 0.3), 0 1px 3px 1px rgba(60, 64, 67, 0.15);\n    fill: var(--button-hover-fill-color);\n  }\n\n  .colab-df-quickchart-complete:disabled,\n  .colab-df-quickchart-complete:disabled:hover {\n    background-color: var(--disabled-bg-color);\n    fill: var(--disabled-fill-color);\n    box-shadow: none;\n  }\n\n  .colab-df-spinner {\n    border: 2px solid var(--fill-color);\n    border-color: transparent;\n    border-bottom-color: var(--fill-color);\n    animation:\n      spin 1s steps(1) infinite;\n  }\n\n  @keyframes spin {\n    0% {\n      border-color: transparent;\n      border-bottom-color: var(--fill-color);\n      border-left-color: var(--fill-color);\n    }\n    20% {\n      border-color: transparent;\n      border-left-color: var(--fill-color);\n      border-top-color: var(--fill-color);\n    }\n    30% {\n      border-color: transparent;\n      border-left-color: var(--fill-color);\n      border-top-color: var(--fill-color);\n      border-right-color: var(--fill-color);\n    }\n    40% {\n      border-color: transparent;\n      border-right-color: var(--fill-color);\n      border-top-color: var(--fill-color);\n    }\n    60% {\n      border-color: transparent;\n      border-right-color: var(--fill-color);\n    }\n    80% {\n      border-color: transparent;\n      border-right-color: var(--fill-color);\n      border-bottom-color: var(--fill-color);\n    }\n    90% {\n      border-color: transparent;\n      border-bottom-color: var(--fill-color);\n    }\n  }\n</style>\n\n  <script>\n    async function quickchart(key) {\n      const quickchartButtonEl =\n        document.querySelector('#' + key + ' button');\n      quickchartButtonEl.disabled = true;  // To prevent multiple clicks.\n      quickchartButtonEl.classList.add('colab-df-spinner');\n      try {\n        const charts = await google.colab.kernel.invokeFunction(\n            'suggestCharts', [key], {});\n      } catch (error) {\n        console.error('Error during call to suggestCharts:', error);\n      }\n      quickchartButtonEl.classList.remove('colab-df-spinner');\n      quickchartButtonEl.classList.add('colab-df-quickchart-complete');\n    }\n    (() => {\n      let quickchartButtonEl =\n        document.querySelector('#df-52ac5c4a-28ab-48d7-aaa0-90ab3dd5f5a1 button');\n      quickchartButtonEl.style.display =\n        google.colab.kernel.accessAllowed ? 'block' : 'none';\n    })();\n  </script>\n</div>`;\n        parentElement.appendChild(quickchartButtonContainerElement);\n      }\n\n      appendQuickchartButton(table);\n    ",
            "text/plain": [
              "<google.colab.data_table.DataTable object>"
            ]
          },
          "metadata": {}
        }
      ]
    },
    {
      "cell_type": "markdown",
      "source": [
        "## Shift Right Arithmetic: sra, srai\n",
        "\n",
        "* Example:\n",
        "  ```\n",
        "  .text\n",
        "  main:\n",
        "    li      a0, 0x010\n",
        "    li      a1, 0x3\n",
        "    sra     a2, a0, a1   # a2 = 0x010 >> 3\n",
        "    srai    a2, a0, 3    # a2 = 0x010 >> 3\n",
        "  ```"
      ],
      "metadata": {
        "id": "sra1"
      }
    },
    {
      "cell_type": "code",
      "source": [
        "#@markdown <font size='4'>Run the cell above</font>\n",
        "try_in_wepsim = False # @param {type:\"boolean\"}\n",
        "\n",
        "search_term = 'id:sra1'\n",
        "write_cell_above_to_file(search_term, '/tmp/example.asm')\n",
        "\n",
        "!./wepsim/wepsim.sh -a stepbystep -m ep -f ./wepsim/repo/microcode/rv32/ep_base.mc -s /tmp/example.asm > /tmp/result.csv\n",
        "\n",
        "status, df1 = show_results('/tmp/result.csv')\n"
      ],
      "metadata": {
        "id": "aGzG8UmyFoyD",
        "colab": {
          "base_uri": "https://localhost:8080/",
          "height": 253
        },
        "outputId": "cd484f30-061e-4333-a8a2-7d55fa7e966e",
        "cellView": "form"
      },
      "execution_count": null,
      "outputs": [
        {
          "output_type": "display_data",
          "data": {
            "text/html": [
              "<div>\n",
              "<style scoped>\n",
              "    .dataframe tbody tr th:only-of-type {\n",
              "        vertical-align: middle;\n",
              "    }\n",
              "\n",
              "    .dataframe tbody tr th {\n",
              "        vertical-align: top;\n",
              "    }\n",
              "\n",
              "    .dataframe thead th {\n",
              "        text-align: right;\n",
              "    }\n",
              "</style>\n",
              "<table border=\"1\" class=\"dataframe\">\n",
              "  <thead>\n",
              "    <tr style=\"text-align: right;\">\n",
              "      <th></th>\n",
              "      <th>pc</th>\n",
              "      <th>instruction</th>\n",
              "      <th>changes_from_zero_or_current_value</th>\n",
              "    </tr>\n",
              "  </thead>\n",
              "  <tbody>\n",
              "    <tr>\n",
              "      <th>0</th>\n",
              "      <td>pc = 0x8000</td>\n",
              "      <td>li a0 0x010</td>\n",
              "      <td>register PC = 0x8004</td>\n",
              "    </tr>\n",
              "    <tr>\n",
              "      <th>1</th>\n",
              "      <td>pc = 0x8004</td>\n",
              "      <td></td>\n",
              "      <td>register R10 = 0x10; register PC = 0x8008</td>\n",
              "    </tr>\n",
              "    <tr>\n",
              "      <th>2</th>\n",
              "      <td>pc = 0x8008</td>\n",
              "      <td>li a1 0x3</td>\n",
              "      <td>register PC = 0x800c</td>\n",
              "    </tr>\n",
              "    <tr>\n",
              "      <th>3</th>\n",
              "      <td>pc = 0x800c</td>\n",
              "      <td></td>\n",
              "      <td>register R11 = 0x3; register PC = 0x8010</td>\n",
              "    </tr>\n",
              "    <tr>\n",
              "      <th>4</th>\n",
              "      <td>pc = 0x8010</td>\n",
              "      <td>sra a2 a0 a1</td>\n",
              "      <td>register R12 = 0x2; register PC = 0x8014</td>\n",
              "    </tr>\n",
              "    <tr>\n",
              "      <th>5</th>\n",
              "      <td>pc = 0x8014</td>\n",
              "      <td>srai a2 a0 3</td>\n",
              "      <td>register PC = 0x8018</td>\n",
              "    </tr>\n",
              "  </tbody>\n",
              "</table>\n",
              "</div>"
            ],
            "application/vnd.google.colaboratory.module+javascript": "\n      import \"https://ssl.gstatic.com/colaboratory/data_table/881c4a0d49046431/data_table.js\";\n\n      const table = window.createDataTable({\n        data: [[\"pc = 0x8000\",\n\"li a0 0x010\",\n\"register PC = 0x8004\"],\n [\"pc = 0x8004\",\n\"\",\n\"register R10 = 0x10; register PC = 0x8008\"],\n [\"pc = 0x8008\",\n\"li a1 0x3\",\n\"register PC = 0x800c\"],\n [\"pc = 0x800c\",\n\"\",\n\"register R11 = 0x3; register PC = 0x8010\"],\n [\"pc = 0x8010\",\n\"sra a2 a0 a1\",\n\"register R12 = 0x2; register PC = 0x8014\"],\n [\"pc = 0x8014\",\n\"srai a2 a0 3\",\n\"register PC = 0x8018\"]],\n        columns: [[\"string\", \"pc\"], [\"string\", \"instruction\"], [\"string\", \"changes_from_zero_or_current_value\"]],\n        columnOptions: [],\n        rowsPerPage: 20,\n        helpUrl: \"https://colab.research.google.com/notebooks/data_table.ipynb\",\n        suppressOutputScrolling: true,\n        minimumWidth: undefined,\n      });\n\n      function appendQuickchartButton(parentElement) {\n        let quickchartButtonContainerElement = document.createElement('div');\n        quickchartButtonContainerElement.innerHTML = `\n<div id=\"df-50ee9630-cbfe-49ab-af9c-6537df4fb107\">\n  <button class=\"colab-df-quickchart\" onclick=\"quickchart('df-50ee9630-cbfe-49ab-af9c-6537df4fb107')\"\n            title=\"Suggest charts\"\n            style=\"display:none;\">\n    \n<svg xmlns=\"http://www.w3.org/2000/svg\" height=\"24px\"viewBox=\"0 0 24 24\"\n     width=\"24px\">\n    <g>\n        <path d=\"M19 3H5c-1.1 0-2 .9-2 2v14c0 1.1.9 2 2 2h14c1.1 0 2-.9 2-2V5c0-1.1-.9-2-2-2zM9 17H7v-7h2v7zm4 0h-2V7h2v10zm4 0h-2v-4h2v4z\"/>\n    </g>\n</svg>\n  </button>\n  \n<style>\n  .colab-df-quickchart {\n      --bg-color: #E8F0FE;\n      --fill-color: #1967D2;\n      --hover-bg-color: #E2EBFA;\n      --hover-fill-color: #174EA6;\n      --disabled-fill-color: #AAA;\n      --disabled-bg-color: #DDD;\n  }\n\n  [theme=dark] .colab-df-quickchart {\n      --bg-color: #3B4455;\n      --fill-color: #D2E3FC;\n      --hover-bg-color: #434B5C;\n      --hover-fill-color: #FFFFFF;\n      --disabled-bg-color: #3B4455;\n      --disabled-fill-color: #666;\n  }\n\n  .colab-df-quickchart {\n    background-color: var(--bg-color);\n    border: none;\n    border-radius: 50%;\n    cursor: pointer;\n    display: none;\n    fill: var(--fill-color);\n    height: 32px;\n    padding: 0;\n    width: 32px;\n  }\n\n  .colab-df-quickchart:hover {\n    background-color: var(--hover-bg-color);\n    box-shadow: 0 1px 2px rgba(60, 64, 67, 0.3), 0 1px 3px 1px rgba(60, 64, 67, 0.15);\n    fill: var(--button-hover-fill-color);\n  }\n\n  .colab-df-quickchart-complete:disabled,\n  .colab-df-quickchart-complete:disabled:hover {\n    background-color: var(--disabled-bg-color);\n    fill: var(--disabled-fill-color);\n    box-shadow: none;\n  }\n\n  .colab-df-spinner {\n    border: 2px solid var(--fill-color);\n    border-color: transparent;\n    border-bottom-color: var(--fill-color);\n    animation:\n      spin 1s steps(1) infinite;\n  }\n\n  @keyframes spin {\n    0% {\n      border-color: transparent;\n      border-bottom-color: var(--fill-color);\n      border-left-color: var(--fill-color);\n    }\n    20% {\n      border-color: transparent;\n      border-left-color: var(--fill-color);\n      border-top-color: var(--fill-color);\n    }\n    30% {\n      border-color: transparent;\n      border-left-color: var(--fill-color);\n      border-top-color: var(--fill-color);\n      border-right-color: var(--fill-color);\n    }\n    40% {\n      border-color: transparent;\n      border-right-color: var(--fill-color);\n      border-top-color: var(--fill-color);\n    }\n    60% {\n      border-color: transparent;\n      border-right-color: var(--fill-color);\n    }\n    80% {\n      border-color: transparent;\n      border-right-color: var(--fill-color);\n      border-bottom-color: var(--fill-color);\n    }\n    90% {\n      border-color: transparent;\n      border-bottom-color: var(--fill-color);\n    }\n  }\n</style>\n\n  <script>\n    async function quickchart(key) {\n      const quickchartButtonEl =\n        document.querySelector('#' + key + ' button');\n      quickchartButtonEl.disabled = true;  // To prevent multiple clicks.\n      quickchartButtonEl.classList.add('colab-df-spinner');\n      try {\n        const charts = await google.colab.kernel.invokeFunction(\n            'suggestCharts', [key], {});\n      } catch (error) {\n        console.error('Error during call to suggestCharts:', error);\n      }\n      quickchartButtonEl.classList.remove('colab-df-spinner');\n      quickchartButtonEl.classList.add('colab-df-quickchart-complete');\n    }\n    (() => {\n      let quickchartButtonEl =\n        document.querySelector('#df-50ee9630-cbfe-49ab-af9c-6537df4fb107 button');\n      quickchartButtonEl.style.display =\n        google.colab.kernel.accessAllowed ? 'block' : 'none';\n    })();\n  </script>\n</div>`;\n        parentElement.appendChild(quickchartButtonContainerElement);\n      }\n\n      appendQuickchartButton(table);\n    ",
            "text/plain": [
              "<google.colab.data_table.DataTable object>"
            ]
          },
          "metadata": {}
        }
      ]
    }
  ]
}